{
  "nbformat": 4,
  "nbformat_minor": 0,
  "metadata": {
    "colab": {
      "provenance": []
    },
    "kernelspec": {
      "name": "python3",
      "display_name": "Python 3"
    },
    "language_info": {
      "name": "python"
    }
  },
  "cells": [
    {
      "cell_type": "code",
      "execution_count": null,
      "metadata": {
        "id": "RTX5EMmzRhGb"
      },
      "outputs": [],
      "source": [
        "# LİSTELERİN ÖZELLİKLERİ\n",
        "#\n",
        "#1. Lists are ordered.\n",
        "[1, 2, 3, 4] == [4, 1, 3, 2] # False\n",
        "\n",
        "#2. Lists can contain any arbitrary objects.\n",
        "a = [21.42, 'foobar', 3, 4, 'bark', False, 3.14159]\n",
        "\n",
        "#3. List elements can be accessed by index.\n",
        "a[1]  # 'foobar'\n",
        "\n",
        "#4. Lists can be nested to arbitrary depth.\n",
        "x = ['a', ['bb', ['ccc', 'ddd'], 'ee', 'ff'], 'g', ['hh', 'ii'], 'j']\n",
        "\n",
        "#5. Lists are mutable.\n",
        "a[2] = 10 # 3 ü 10 yaptık\n",
        "\n",
        "#6. Lists are dynamic.\n",
        "a = ['foo', 'bar', 'baz', 'qux', 'quux', 'corge']\n",
        "a[2:2] = [1, 2, 3]  #extend, append() gibi fonksiyonlara sahip\n",
        "# ['foo', 'bar', 1, 2, 3, 'baz', 'qux', 'quux', 'corge']"
      ]
    },
    {
      "cell_type": "markdown",
      "source": [
        "Bakılabilecek linkler;\n",
        "[Data Structures](https://docs.python.org/3/tutorial/datastructures.html )\n",
        "\n",
        "\n",
        "[Lists_Tuples](https://realpython.com/python-lists-tuples/#lists-are-mutable)\n",
        "\n"
      ],
      "metadata": {
        "id": "EyxGqfPRUjOB"
      }
    },
    {
      "cell_type": "code",
      "source": [
        "# Liste elemanlarına erişim indis ler ile gerçeklrşir;\n",
        "word = ['h', 'a', 'p', 'p', 'y']\n",
        "word[1]  # 1. indisli eleman (2.eleman) döndürülür."
      ],
      "metadata": {
        "colab": {
          "base_uri": "https://localhost:8080/",
          "height": 35
        },
        "id": "ezv_ESxXWE-b",
        "outputId": "ce470455-7263-42d7-b7bc-412f63bdf8aa"
      },
      "execution_count": null,
      "outputs": [
        {
          "output_type": "execute_result",
          "data": {
            "text/plain": [
              "'a'"
            ],
            "application/vnd.google.colaboratory.intrinsic+json": {
              "type": "string"
            }
          },
          "metadata": {},
          "execution_count": 3
        }
      ]
    },
    {
      "cell_type": "code",
      "source": [
        "type(word)"
      ],
      "metadata": {
        "colab": {
          "base_uri": "https://localhost:8080/"
        },
        "id": "7RW0PXwdXvhQ",
        "outputId": "567862d1-0989-47fa-ce46-051ce0d3bd1c"
      },
      "execution_count": null,
      "outputs": [
        {
          "output_type": "execute_result",
          "data": {
            "text/plain": [
              "list"
            ]
          },
          "metadata": {},
          "execution_count": 4
        }
      ]
    },
    {
      "cell_type": "code",
      "source": [
        "type(word[1])"
      ],
      "metadata": {
        "colab": {
          "base_uri": "https://localhost:8080/"
        },
        "id": "aX_YIIDXXyFM",
        "outputId": "5fb03d48-bc9c-4427-8ebe-2a57678e871a"
      },
      "execution_count": null,
      "outputs": [
        {
          "output_type": "execute_result",
          "data": {
            "text/plain": [
              "str"
            ]
          },
          "metadata": {},
          "execution_count": 5
        }
      ]
    },
    {
      "cell_type": "code",
      "source": [
        "#indis:    0       1         2        3       4\n",
        "colors = [\"red\", \"purple\", \"blue\", \"green\", \"yellow\"]\n",
        "#indis:   -5      -4        -3       -2      -1"
      ],
      "metadata": {
        "id": "KvCXRmwFYVoh"
      },
      "execution_count": null,
      "outputs": []
    },
    {
      "cell_type": "code",
      "source": [
        "#\"blue\" datasına erişmek istiyorum. Ne yapabilirim?\n",
        "colors[2]"
      ],
      "metadata": {
        "colab": {
          "base_uri": "https://localhost:8080/",
          "height": 35
        },
        "id": "8W0tjoPFYqGd",
        "outputId": "b7ff39a0-e8f8-4765-8fc8-bd4cee55f7cb"
      },
      "execution_count": null,
      "outputs": [
        {
          "output_type": "execute_result",
          "data": {
            "text/plain": [
              "'blue'"
            ],
            "application/vnd.google.colaboratory.intrinsic+json": {
              "type": "string"
            }
          },
          "metadata": {},
          "execution_count": 7
        }
      ]
    },
    {
      "cell_type": "code",
      "source": [
        "colors[-3]"
      ],
      "metadata": {
        "colab": {
          "base_uri": "https://localhost:8080/",
          "height": 35
        },
        "id": "in1f6OK3YycR",
        "outputId": "50276af0-a94f-4ec1-d49b-22a110a182c4"
      },
      "execution_count": null,
      "outputs": [
        {
          "output_type": "execute_result",
          "data": {
            "text/plain": [
              "'blue'"
            ],
            "application/vnd.google.colaboratory.intrinsic+json": {
              "type": "string"
            }
          },
          "metadata": {},
          "execution_count": 8
        }
      ]
    },
    {
      "cell_type": "code",
      "source": [
        "city = [\"New York\", \"Istanbul\", \"Seoul\", \"Berlin\", \"London\"]\n",
        "city_list = [] # boş bir liste\n",
        "city_list.append(city)  # liste içerisine 1 adet başka bir liste eklendi\n",
        "print(city_list)\n",
        "print(\"city_list'in eleman sayısı..: \", len(city_list))"
      ],
      "metadata": {
        "id": "-vPAj04UZLfF",
        "colab": {
          "base_uri": "https://localhost:8080/"
        },
        "outputId": "389e58b1-69c6-4539-f57e-5791df230266"
      },
      "execution_count": 11,
      "outputs": [
        {
          "output_type": "stream",
          "name": "stdout",
          "text": [
            "[['New York', 'Istanbul', 'Seoul', 'Berlin', 'London']]\n",
            "city_list'in eleman sayısı..:  1\n"
          ]
        }
      ]
    },
    {
      "cell_type": "code",
      "source": [
        "city = [\"New York\", \"Istanbul\", \"Seoul\", \"Berlin\", \"London\"]\n",
        "city_list = [] # boş bir liste\n",
        "city_list.extend(city)\n",
        "print(city_list)\n",
        "print(\"city_list'in eleman sayısı..: \", len(city_list))"
      ],
      "metadata": {
        "colab": {
          "base_uri": "https://localhost:8080/"
        },
        "id": "C7f7I8_OaJOH",
        "outputId": "7156971f-0e24-4b70-9793-db6256d46608"
      },
      "execution_count": 12,
      "outputs": [
        {
          "output_type": "stream",
          "name": "stdout",
          "text": [
            "['New York', 'Istanbul', 'Seoul', 'Berlin', 'London']\n",
            "city_list'in eleman sayısı..:  5\n"
          ]
        }
      ]
    },
    {
      "cell_type": "code",
      "source": [
        "city = [\"New York\", \"Istanbul\", \"Seoul\", \"Berlin\", \"London\"]\n",
        "city_list = [] # boş bir liste\n",
        "city.extend(city_list)\n",
        "print(city)\n",
        "print(\"city'nin eleman sayısı..: \", len(city))"
      ],
      "metadata": {
        "colab": {
          "base_uri": "https://localhost:8080/"
        },
        "id": "VI7SUM76almr",
        "outputId": "2efdfe5d-4db3-475a-8f8a-b4bdb2bca24a"
      },
      "execution_count": 16,
      "outputs": [
        {
          "output_type": "stream",
          "name": "stdout",
          "text": [
            "['New York', 'Istanbul', 'Seoul', 'Berlin', 'London']\n",
            "city'nin eleman sayısı..:  5\n"
          ]
        }
      ]
    },
    {
      "cell_type": "code",
      "source": [
        "city = [\"New York\", \"Istanbul\", \"Seoul\", \"Berlin\", \"London\"]\n",
        "city_list = [[]] # 1 elemanlı liste\n",
        "city.extend(city_list)\n",
        "print(city)\n",
        "print(\"city'nin eleman sayısı..: \", len(city))"
      ],
      "metadata": {
        "colab": {
          "base_uri": "https://localhost:8080/"
        },
        "id": "-4Vc8x0La6GW",
        "outputId": "7f98e672-c3a5-4863-8ffa-1b76b5716cd0"
      },
      "execution_count": 17,
      "outputs": [
        {
          "output_type": "stream",
          "name": "stdout",
          "text": [
            "['New York', 'Istanbul', 'Seoul', 'Berlin', 'London', []]\n",
            "city'nin eleman sayısı..:  6\n"
          ]
        }
      ]
    },
    {
      "cell_type": "code",
      "source": [
        "city_list = [[\"New York\", \"Istanbul\", \"Seoul\", \"Berlin\", \"London\"]]\n",
        "city_list[0]"
      ],
      "metadata": {
        "colab": {
          "base_uri": "https://localhost:8080/"
        },
        "id": "UfpgqSBAbo6b",
        "outputId": "46e19f65-ee72-4131-abb5-b53a7105c2e1"
      },
      "execution_count": 18,
      "outputs": [
        {
          "output_type": "execute_result",
          "data": {
            "text/plain": [
              "['New York', 'Istanbul', 'Seoul', 'Berlin', 'London']"
            ]
          },
          "metadata": {},
          "execution_count": 18
        }
      ]
    },
    {
      "cell_type": "code",
      "source": [
        "# \"Istanbul\" datasına nasıl erişirim?\n",
        "city_list[0][1]"
      ],
      "metadata": {
        "colab": {
          "base_uri": "https://localhost:8080/",
          "height": 35
        },
        "id": "l2UBsvoHbxTe",
        "outputId": "44307dba-2d97-42f9-dfc8-66b30499a694"
      },
      "execution_count": 19,
      "outputs": [
        {
          "output_type": "execute_result",
          "data": {
            "text/plain": [
              "'Istanbul'"
            ],
            "application/vnd.google.colaboratory.intrinsic+json": {
              "type": "string"
            }
          },
          "metadata": {},
          "execution_count": 19
        }
      ]
    },
    {
      "cell_type": "code",
      "source": [
        "city_list[1]"
      ],
      "metadata": {
        "colab": {
          "base_uri": "https://localhost:8080/",
          "height": 181
        },
        "id": "0sy5TaQrcDi-",
        "outputId": "7160f1d0-3f31-45a7-dc86-48e7bdcf6c71"
      },
      "execution_count": 20,
      "outputs": [
        {
          "output_type": "error",
          "ename": "IndexError",
          "evalue": "ignored",
          "traceback": [
            "\u001b[0;31m---------------------------------------------------------------------------\u001b[0m",
            "\u001b[0;31mIndexError\u001b[0m                                Traceback (most recent call last)",
            "\u001b[0;32m<ipython-input-20-57c4122846ca>\u001b[0m in \u001b[0;36m<cell line: 1>\u001b[0;34m()\u001b[0m\n\u001b[0;32m----> 1\u001b[0;31m \u001b[0mcity_list\u001b[0m\u001b[0;34m[\u001b[0m\u001b[0;36m1\u001b[0m\u001b[0;34m]\u001b[0m\u001b[0;34m\u001b[0m\u001b[0;34m\u001b[0m\u001b[0m\n\u001b[0m",
            "\u001b[0;31mIndexError\u001b[0m: list index out of range"
          ]
        }
      ]
    },
    {
      "cell_type": "code",
      "source": [
        "city_list[0][1][3] # \"Istanbul\" sttriginin 3. indisli elemanına 'a' ya erişirim."
      ],
      "metadata": {
        "colab": {
          "base_uri": "https://localhost:8080/",
          "height": 35
        },
        "id": "p-tgt9A6csMq",
        "outputId": "fc941214-1d8d-4c30-cd97-fc8a3b875b14"
      },
      "execution_count": 21,
      "outputs": [
        {
          "output_type": "execute_result",
          "data": {
            "text/plain": [
              "'a'"
            ],
            "application/vnd.google.colaboratory.intrinsic+json": {
              "type": "string"
            }
          },
          "metadata": {},
          "execution_count": 21
        }
      ]
    },
    {
      "cell_type": "code",
      "source": [
        "even_numbers = [2, 4, 6, 8, 10, 12, 14]\n",
        "even_numbers[2:5]  # start=2, stop=5, step=+1"
      ],
      "metadata": {
        "colab": {
          "base_uri": "https://localhost:8080/"
        },
        "id": "D6_cZQJVe82U",
        "outputId": "05d814e7-680d-4b74-eba4-9ee210e8da1f"
      },
      "execution_count": 23,
      "outputs": [
        {
          "output_type": "execute_result",
          "data": {
            "text/plain": [
              "[6, 8, 10]"
            ]
          },
          "metadata": {},
          "execution_count": 23
        }
      ]
    },
    {
      "cell_type": "code",
      "source": [
        "type(even_numbers[2:5])"
      ],
      "metadata": {
        "colab": {
          "base_uri": "https://localhost:8080/"
        },
        "id": "s0_JTzZvfLFs",
        "outputId": "e650d386-ab6f-429d-f0b3-29f30ab54a87"
      },
      "execution_count": 24,
      "outputs": [
        {
          "output_type": "execute_result",
          "data": {
            "text/plain": [
              "list"
            ]
          },
          "metadata": {},
          "execution_count": 24
        }
      ]
    },
    {
      "cell_type": "code",
      "source": [
        "print(range.__doc__)"
      ],
      "metadata": {
        "colab": {
          "base_uri": "https://localhost:8080/"
        },
        "id": "v7-dLa1gfj2M",
        "outputId": "d4a11674-09a5-4933-c49c-2e9070db0488"
      },
      "execution_count": 26,
      "outputs": [
        {
          "output_type": "stream",
          "name": "stdout",
          "text": [
            "range(stop) -> range object\n",
            "range(start, stop[, step]) -> range object\n",
            "\n",
            "Return an object that produces a sequence of integers from start (inclusive)\n",
            "to stop (exclusive) by step.  range(i, j) produces i, i+1, i+2, ..., j-1.\n",
            "start defaults to 0, and stop is omitted!  range(4) produces 0, 1, 2, 3.\n",
            "These are exactly the valid indices for a list of 4 elements.\n",
            "When step is given, it specifies the increment (or decrement).\n"
          ]
        }
      ]
    },
    {
      "cell_type": "code",
      "source": [
        "print(range(2,16,2))  # range nesnesi döner"
      ],
      "metadata": {
        "colab": {
          "base_uri": "https://localhost:8080/"
        },
        "id": "HYUcGRyPf4Qx",
        "outputId": "22cccfaf-d200-4940-c8ec-f9c8985d7197"
      },
      "execution_count": 28,
      "outputs": [
        {
          "output_type": "stream",
          "name": "stdout",
          "text": [
            "range(2, 16, 2)\n"
          ]
        }
      ]
    },
    {
      "cell_type": "code",
      "source": [
        "even_numbers = list(range(2,16,2))    # range nesnesini listeye dönüştürdük...\n",
        "print(even_numbers)"
      ],
      "metadata": {
        "colab": {
          "base_uri": "https://localhost:8080/"
        },
        "id": "nfbH38bDgHIL",
        "outputId": "28e2018c-b88e-4472-ab3f-e048240e097b"
      },
      "execution_count": 30,
      "outputs": [
        {
          "output_type": "stream",
          "name": "stdout",
          "text": [
            "[2, 4, 6, 8, 10, 12, 14]\n"
          ]
        }
      ]
    },
    {
      "cell_type": "code",
      "source": [
        "numbers = list(range(1,11))\n",
        "numbers_odd = numbers[0:11:2]\n",
        "print(numbers_odd)"
      ],
      "metadata": {
        "colab": {
          "base_uri": "https://localhost:8080/"
        },
        "id": "0Or0m03Hj_h1",
        "outputId": "5e5bf69e-ba91-4e2b-9094-0717651ba233"
      },
      "execution_count": 35,
      "outputs": [
        {
          "output_type": "stream",
          "name": "stdout",
          "text": [
            "[1, 3, 5, 7, 9]\n"
          ]
        }
      ]
    },
    {
      "cell_type": "code",
      "source": [
        "numbers = list(range(11))  # 0,1,2,3,4,5,6,7,8,9,10\n",
        "numbers_odd = numbers[1::2]\n",
        "print(numbers_odd)"
      ],
      "metadata": {
        "colab": {
          "base_uri": "https://localhost:8080/"
        },
        "id": "J-48AWtukWQ7",
        "outputId": "97dfac49-1923-4c5b-9d73-5c380ce5545f"
      },
      "execution_count": 38,
      "outputs": [
        {
          "output_type": "stream",
          "name": "stdout",
          "text": [
            "[1, 3, 5, 7, 9]\n"
          ]
        }
      ]
    },
    {
      "cell_type": "code",
      "source": [
        "list(range(1,11))[::2]"
      ],
      "metadata": {
        "colab": {
          "base_uri": "https://localhost:8080/"
        },
        "id": "EGv-UM5rkGqw",
        "outputId": "8f411219-31f3-4dd8-f6ad-fc786a6a6ef7"
      },
      "execution_count": 34,
      "outputs": [
        {
          "output_type": "execute_result",
          "data": {
            "text/plain": [
              "[1, 3, 5, 7, 9]"
            ]
          },
          "metadata": {},
          "execution_count": 34
        }
      ]
    },
    {
      "cell_type": "code",
      "source": [
        "city = [\"New York\", \"Istanbul\", \"Seoul\", \"Berlin\", \"London\"]\n",
        "city_list = city[:]  # tüm elemanlar kopyalanır eşdeğeri: city_list = city.copy()\n",
        "print(city_list)"
      ],
      "metadata": {
        "colab": {
          "base_uri": "https://localhost:8080/"
        },
        "id": "lMYsfx-nk-CA",
        "outputId": "370a308e-1ea6-4808-da15-0c29719f7962"
      },
      "execution_count": 39,
      "outputs": [
        {
          "output_type": "stream",
          "name": "stdout",
          "text": [
            "['New York', 'Istanbul', 'Seoul', 'Berlin', 'London']\n"
          ]
        }
      ]
    },
    {
      "cell_type": "code",
      "source": [
        "print(city == city_list)  # içeriklerini kontrol eder\n",
        "print(city is city_list)  # id'leri kontrol eder"
      ],
      "metadata": {
        "colab": {
          "base_uri": "https://localhost:8080/"
        },
        "id": "eVAHBcDClKG2",
        "outputId": "2d0cdebd-dd3f-407d-ae06-d461d6b06af9"
      },
      "execution_count": 40,
      "outputs": [
        {
          "output_type": "stream",
          "name": "stdout",
          "text": [
            "True\n",
            "False\n"
          ]
        }
      ]
    },
    {
      "cell_type": "code",
      "source": [
        "id(city)"
      ],
      "metadata": {
        "colab": {
          "base_uri": "https://localhost:8080/"
        },
        "id": "keJp5hjFlnfT",
        "outputId": "2e8f7290-f42d-473e-c485-80ab0a735f00"
      },
      "execution_count": 41,
      "outputs": [
        {
          "output_type": "execute_result",
          "data": {
            "text/plain": [
              "135250951287296"
            ]
          },
          "metadata": {},
          "execution_count": 41
        }
      ]
    },
    {
      "cell_type": "code",
      "source": [
        "id(city_list)"
      ],
      "metadata": {
        "colab": {
          "base_uri": "https://localhost:8080/"
        },
        "id": "FeATgobclpVF",
        "outputId": "b043b3ba-62ae-492c-fee6-9b731d81ea0b"
      },
      "execution_count": 42,
      "outputs": [
        {
          "output_type": "execute_result",
          "data": {
            "text/plain": [
              "135250949803520"
            ]
          },
          "metadata": {},
          "execution_count": 42
        }
      ]
    },
    {
      "cell_type": "code",
      "source": [
        "city = [\"New York\", \"Istanbul\", \"Seoul\", \"Berlin\", \"London\"]\n",
        "city[3:]  # start:3"
      ],
      "metadata": {
        "colab": {
          "base_uri": "https://localhost:8080/"
        },
        "id": "gppieS5gmFsE",
        "outputId": "51b4bc2d-843b-4531-9221-0fccbfd89a9e"
      },
      "execution_count": 43,
      "outputs": [
        {
          "output_type": "execute_result",
          "data": {
            "text/plain": [
              "['Berlin', 'London']"
            ]
          },
          "metadata": {},
          "execution_count": 43
        }
      ]
    },
    {
      "cell_type": "code",
      "source": [
        "city[:3]  # stop:3"
      ],
      "metadata": {
        "colab": {
          "base_uri": "https://localhost:8080/"
        },
        "id": "hLKYyBZymY6t",
        "outputId": "522a7fea-228a-4bcf-d538-ec12b535388d"
      },
      "execution_count": 44,
      "outputs": [
        {
          "output_type": "execute_result",
          "data": {
            "text/plain": [
              "['New York', 'Istanbul', 'Seoul']"
            ]
          },
          "metadata": {},
          "execution_count": 44
        }
      ]
    },
    {
      "cell_type": "code",
      "source": [
        "city[::2]"
      ],
      "metadata": {
        "colab": {
          "base_uri": "https://localhost:8080/"
        },
        "id": "P5s6eAOum8bV",
        "outputId": "f296da0c-4c6f-4b2d-f486-8bc63f75fb87"
      },
      "execution_count": 45,
      "outputs": [
        {
          "output_type": "execute_result",
          "data": {
            "text/plain": [
              "['New York', 'Seoul', 'London']"
            ]
          },
          "metadata": {},
          "execution_count": 45
        }
      ]
    },
    {
      "cell_type": "code",
      "source": [
        "mix_list = [1, [1, \"one\", 2, \"two\", 3, \"three\"], 4]\n",
        "mix_list[1][1::2]"
      ],
      "metadata": {
        "colab": {
          "base_uri": "https://localhost:8080/"
        },
        "id": "mki0xjYTnvPk",
        "outputId": "f3b1036d-9c99-4b7e-f339-5a374626f193"
      },
      "execution_count": 46,
      "outputs": [
        {
          "output_type": "execute_result",
          "data": {
            "text/plain": [
              "['one', 'two', 'three']"
            ]
          },
          "metadata": {},
          "execution_count": 46
        }
      ]
    },
    {
      "cell_type": "code",
      "source": [
        "url = \"https://realpython.com\"\n",
        "#com verisine erişmek için kısaca\n",
        "url[-3:]  # son 3 karakteri al diyebiliriz (negatif indis ile)"
      ],
      "metadata": {
        "colab": {
          "base_uri": "https://localhost:8080/",
          "height": 35
        },
        "id": "DExJfYOZo088",
        "outputId": "0221f96c-c405-4194-86a6-dcb9d9b762ea"
      },
      "execution_count": 47,
      "outputs": [
        {
          "output_type": "execute_result",
          "data": {
            "text/plain": [
              "'com'"
            ],
            "application/vnd.google.colaboratory.intrinsic+json": {
              "type": "string"
            }
          },
          "metadata": {},
          "execution_count": 47
        }
      ]
    },
    {
      "cell_type": "code",
      "source": [
        "#negatif indis\n",
        "#         -5           -4        -3        -2        -1\n",
        "city = [\"New York\", \"Istanbul\", \"Seoul\", \"Berlin\", \"London\"]\n",
        "#          0            1         2         3         4\n",
        "city[-4]"
      ],
      "metadata": {
        "colab": {
          "base_uri": "https://localhost:8080/",
          "height": 35
        },
        "id": "9uCbYQFBpan8",
        "outputId": "79bf949b-becd-4619-f51e-29ddf440a3aa"
      },
      "execution_count": 48,
      "outputs": [
        {
          "output_type": "execute_result",
          "data": {
            "text/plain": [
              "'Istanbul'"
            ],
            "application/vnd.google.colaboratory.intrinsic+json": {
              "type": "string"
            }
          },
          "metadata": {},
          "execution_count": 48
        }
      ]
    },
    {
      "cell_type": "code",
      "source": [
        "city = [\"New York\", \"Istanbul\", \"Seoul\", \"Berlin\", \"London\"]\n",
        "city[-3:]  # dilimleme: [-3, -2, -1.indisli elemanlar dilimlenir]"
      ],
      "metadata": {
        "colab": {
          "base_uri": "https://localhost:8080/"
        },
        "id": "3JXqMXk4qRtl",
        "outputId": "75ab8b11-73dd-4d33-bc26-925573f853e4"
      },
      "execution_count": 49,
      "outputs": [
        {
          "output_type": "execute_result",
          "data": {
            "text/plain": [
              "['Seoul', 'Berlin', 'London']"
            ]
          },
          "metadata": {},
          "execution_count": 49
        }
      ]
    },
    {
      "cell_type": "code",
      "source": [
        "city = [\"New York\", \"Istanbul\", \"Seoul\", \"Berlin\", \"London\"]\n",
        "city[:-3]  # eşdeğeri city[0:-3] veya city[0:2]"
      ],
      "metadata": {
        "colab": {
          "base_uri": "https://localhost:8080/"
        },
        "id": "J5nfwQTarKtt",
        "outputId": "144e67c8-1cb0-4fe8-e2bd-5543fff5254d"
      },
      "execution_count": 50,
      "outputs": [
        {
          "output_type": "execute_result",
          "data": {
            "text/plain": [
              "['New York', 'Istanbul']"
            ]
          },
          "metadata": {},
          "execution_count": 50
        }
      ]
    },
    {
      "cell_type": "markdown",
      "source": [
        "Listeyi ters çevirme"
      ],
      "metadata": {
        "id": "lYb-kxVpvAkq"
      }
    },
    {
      "cell_type": "code",
      "source": [
        "# listeyi ters çevirmek için;\n",
        "city = [\"New York\", \"Istanbul\", \"Seoul\", \"Berlin\", \"London\"]\n",
        "city[::-1]"
      ],
      "metadata": {
        "colab": {
          "base_uri": "https://localhost:8080/"
        },
        "id": "oV3YA54nrxf9",
        "outputId": "dfc4d015-8718-45b6-ce81-d076d339e01b"
      },
      "execution_count": 51,
      "outputs": [
        {
          "output_type": "execute_result",
          "data": {
            "text/plain": [
              "['London', 'Berlin', 'Seoul', 'Istanbul', 'New York']"
            ]
          },
          "metadata": {},
          "execution_count": 51
        }
      ]
    },
    {
      "cell_type": "code",
      "source": [
        "# listeyi ters çevirmek için;\n",
        "city = [\"New York\", \"Istanbul\", \"Seoul\", \"Berlin\", \"London\"]\n",
        "city.reverse() # city listesi üzerinde kalıcı değişiklik yapar, orjinal liste bozulur\n",
        "print(city)"
      ],
      "metadata": {
        "colab": {
          "base_uri": "https://localhost:8080/"
        },
        "id": "lU5smZPfr4kn",
        "outputId": "0381c8ca-eec5-4ddc-8755-736a3471978b"
      },
      "execution_count": 52,
      "outputs": [
        {
          "output_type": "stream",
          "name": "stdout",
          "text": [
            "['London', 'Berlin', 'Seoul', 'Istanbul', 'New York']\n"
          ]
        }
      ]
    },
    {
      "cell_type": "code",
      "source": [
        "# listeyi ters çevirmek için;\n",
        "city = [\"New York\", \"Istanbul\", \"Seoul\", \"Berlin\", \"London\"]\n",
        "reverse_city = list(reversed(city))  # orjinal listeyi bozmadan ters çevirmek için kullanılır...\n",
        "print(reverse_city)"
      ],
      "metadata": {
        "colab": {
          "base_uri": "https://localhost:8080/"
        },
        "id": "5fcoRNZ-sHQX",
        "outputId": "9c7290de-d414-4407-d654-db5e3066a59e"
      },
      "execution_count": 55,
      "outputs": [
        {
          "output_type": "stream",
          "name": "stdout",
          "text": [
            "['London', 'Berlin', 'Seoul', 'Istanbul', 'New York']\n"
          ]
        }
      ]
    },
    {
      "cell_type": "code",
      "source": [
        "city = [\"New York\", \"Istanbul\", \"Seoul\", \"Berlin\", \"London\"]\n",
        "city[::-2]  # step negatif ise sondan başa ilerlenir..."
      ],
      "metadata": {
        "colab": {
          "base_uri": "https://localhost:8080/"
        },
        "id": "GAzq9tspv9oW",
        "outputId": "006a1f5d-2a6c-47ef-c5f2-e84deef9a987"
      },
      "execution_count": 56,
      "outputs": [
        {
          "output_type": "execute_result",
          "data": {
            "text/plain": [
              "['London', 'Seoul', 'New York']"
            ]
          },
          "metadata": {},
          "execution_count": 56
        }
      ]
    },
    {
      "cell_type": "markdown",
      "source": [
        "ilerleme yönüne dikkat (step)"
      ],
      "metadata": {
        "id": "kcKX-7N7wyYH"
      }
    },
    {
      "cell_type": "code",
      "source": [
        "#indis      0    1    2    3    4    5    6    7    8    9\n",
        "harfler = [\"a\", \"b\", \"c\", \"d\", \"e\", \"f\", \"g\", \"h\", \"i\", \"j\"]\n",
        "harfler[7:3:-1]"
      ],
      "metadata": {
        "colab": {
          "base_uri": "https://localhost:8080/"
        },
        "id": "4OgsC3jBw2nA",
        "outputId": "8f972bcf-4427-49b0-8475-99c23a370335"
      },
      "execution_count": 66,
      "outputs": [
        {
          "output_type": "execute_result",
          "data": {
            "text/plain": [
              "['h', 'g', 'f', 'e']"
            ]
          },
          "metadata": {},
          "execution_count": 66
        }
      ]
    },
    {
      "cell_type": "code",
      "source": [
        "harfler[2:6:-1]  # ters yönde ilerlerken başlangıç indisi bitiş indisinden büyük olmalı!!!!"
      ],
      "metadata": {
        "colab": {
          "base_uri": "https://localhost:8080/"
        },
        "id": "Szmc753KxLql",
        "outputId": "83121ada-d0fd-4019-f6cd-e72419f566e1"
      },
      "execution_count": 58,
      "outputs": [
        {
          "output_type": "execute_result",
          "data": {
            "text/plain": [
              "[]"
            ]
          },
          "metadata": {},
          "execution_count": 58
        }
      ]
    },
    {
      "cell_type": "code",
      "source": [
        "#liste içerisinde arama\n",
        "\"d\" in harfler"
      ],
      "metadata": {
        "colab": {
          "base_uri": "https://localhost:8080/"
        },
        "id": "0bFM2--yyhLH",
        "outputId": "54a9290c-93d4-4bd9-e29f-aa1839698b10"
      },
      "execution_count": 59,
      "outputs": [
        {
          "output_type": "execute_result",
          "data": {
            "text/plain": [
              "True"
            ]
          },
          "metadata": {},
          "execution_count": 59
        }
      ]
    },
    {
      "cell_type": "code",
      "source": [
        "harfler + [\"k\", \"l\"]"
      ],
      "metadata": {
        "colab": {
          "base_uri": "https://localhost:8080/"
        },
        "id": "Dm2WOcFzyy6I",
        "outputId": "30dd8e8a-cf91-4c45-8c06-8609ab2fc9d9"
      },
      "execution_count": 67,
      "outputs": [
        {
          "output_type": "execute_result",
          "data": {
            "text/plain": [
              "['a', 'b', 'c', 'd', 'e', 'f', 'g', 'h', 'i', 'j', 'k', 'l']"
            ]
          },
          "metadata": {},
          "execution_count": 67
        }
      ]
    },
    {
      "cell_type": "code",
      "source": [
        "harfler.extend([\"m\",\"n\"])\n",
        "print(harfler)"
      ],
      "metadata": {
        "colab": {
          "base_uri": "https://localhost:8080/"
        },
        "id": "LcrtguR1y4U1",
        "outputId": "eb77b7f8-5446-44aa-ccdd-e4cccd0b2a09"
      },
      "execution_count": 68,
      "outputs": [
        {
          "output_type": "stream",
          "name": "stdout",
          "text": [
            "['a', 'b', 'c', 'd', 'e', 'f', 'g', 'h', 'i', 'j', 'm', 'n']\n"
          ]
        }
      ]
    },
    {
      "cell_type": "code",
      "source": [
        "harfler*2  # birleştirme...."
      ],
      "metadata": {
        "colab": {
          "base_uri": "https://localhost:8080/"
        },
        "id": "H3Jfyh7KzSzt",
        "outputId": "6232b40d-68c9-4fdb-dcc1-8ec4d593dc51"
      },
      "execution_count": 69,
      "outputs": [
        {
          "output_type": "execute_result",
          "data": {
            "text/plain": [
              "['a',\n",
              " 'b',\n",
              " 'c',\n",
              " 'd',\n",
              " 'e',\n",
              " 'f',\n",
              " 'g',\n",
              " 'h',\n",
              " 'i',\n",
              " 'j',\n",
              " 'm',\n",
              " 'n',\n",
              " 'a',\n",
              " 'b',\n",
              " 'c',\n",
              " 'd',\n",
              " 'e',\n",
              " 'f',\n",
              " 'g',\n",
              " 'h',\n",
              " 'i',\n",
              " 'j',\n",
              " 'm',\n",
              " 'n']"
            ]
          },
          "metadata": {},
          "execution_count": 69
        }
      ]
    },
    {
      "cell_type": "code",
      "source": [
        "#nested list tanımlamada bir sınır yoktur\n",
        "x = ['a', ['bb', ['ccc', 'ddd'], 'ee', 'ff'], 'g', ['hh', 'ii'], 'j']\n",
        "print(x)"
      ],
      "metadata": {
        "colab": {
          "base_uri": "https://localhost:8080/"
        },
        "id": "D2NN_ksXzuzz",
        "outputId": "416ec099-822e-4293-bfdb-62a9932b5af2"
      },
      "execution_count": 70,
      "outputs": [
        {
          "output_type": "stream",
          "name": "stdout",
          "text": [
            "['a', ['bb', ['ccc', 'ddd'], 'ee', 'ff'], 'g', ['hh', 'ii'], 'j']\n"
          ]
        }
      ]
    },
    {
      "cell_type": "code",
      "source": [
        "# \"ddd\" verisine nasıl erişirim?\n",
        "x[1][1][1]"
      ],
      "metadata": {
        "colab": {
          "base_uri": "https://localhost:8080/",
          "height": 35
        },
        "id": "8lL6tMhez092",
        "outputId": "e5fef041-5c46-43bb-9840-df6338f443f1"
      },
      "execution_count": 71,
      "outputs": [
        {
          "output_type": "execute_result",
          "data": {
            "text/plain": [
              "'ddd'"
            ],
            "application/vnd.google.colaboratory.intrinsic+json": {
              "type": "string"
            }
          },
          "metadata": {},
          "execution_count": 71
        }
      ]
    },
    {
      "cell_type": "markdown",
      "source": [
        "#TUPLEs\n",
        "\n",
        "*  Genelde () parantezi kullanılır\n",
        "*  Tipi: tuple()\n",
        "*  immutable özelliktedir.\n",
        "*  Listelere göre daha hızlıdır\n",
        "*  Listelere göre bellekte daha az yer kaplar\n",
        "*  Virgülle ayrılmış veri yapılarıdır\n",
        "*  v,a,l,u,e bir tuple dır.\n",
        "\n",
        "\n",
        "\n",
        "\n",
        "\n",
        "\n",
        "\n"
      ],
      "metadata": {
        "id": "ByoyahBX1Aft"
      }
    },
    {
      "cell_type": "code",
      "source": [
        "# Boş bir tuple için\n",
        "empty_tuple1 = ()       #????\n",
        "empty_tuple2 = tuple()"
      ],
      "metadata": {
        "id": "JDivQz8r1zkk"
      },
      "execution_count": 72,
      "outputs": []
    },
    {
      "cell_type": "code",
      "source": [
        "type(empty_tuple1)"
      ],
      "metadata": {
        "colab": {
          "base_uri": "https://localhost:8080/"
        },
        "id": "LbFdsS1h2NRY",
        "outputId": "ccfd02b1-b1ed-4af8-dece-35ea78ced107"
      },
      "execution_count": 73,
      "outputs": [
        {
          "output_type": "execute_result",
          "data": {
            "text/plain": [
              "tuple"
            ]
          },
          "metadata": {},
          "execution_count": 73
        }
      ]
    },
    {
      "cell_type": "code",
      "source": [
        "type(empty_tuple2)"
      ],
      "metadata": {
        "colab": {
          "base_uri": "https://localhost:8080/"
        },
        "id": "WQTLqwVd2REW",
        "outputId": "30d32c9c-2172-4a73-833b-fa9c1460736a"
      },
      "execution_count": 74,
      "outputs": [
        {
          "output_type": "execute_result",
          "data": {
            "text/plain": [
              "tuple"
            ]
          },
          "metadata": {},
          "execution_count": 74
        }
      ]
    },
    {
      "cell_type": "code",
      "source": [
        "# , ler önemli\n",
        "empty_tuple1 = (\"ali\")       # Tipi nedir?\n",
        "type(empty_tuple1)"
      ],
      "metadata": {
        "colab": {
          "base_uri": "https://localhost:8080/"
        },
        "id": "_k2WDvVr2UhI",
        "outputId": "28268bd0-3a45-4973-81f2-2c56734c1d9a"
      },
      "execution_count": 77,
      "outputs": [
        {
          "output_type": "execute_result",
          "data": {
            "text/plain": [
              "str"
            ]
          },
          "metadata": {},
          "execution_count": 77
        }
      ]
    },
    {
      "cell_type": "code",
      "source": [
        "# , ler önemli\n",
        "empty_tuple1 = (\"ali\",)       # Tipi nedir?\n",
        "type(empty_tuple1)"
      ],
      "metadata": {
        "colab": {
          "base_uri": "https://localhost:8080/"
        },
        "id": "j1hRygZ_2mkK",
        "outputId": "3f6d151c-3bd0-4dd0-b3f3-07cf9f57de21"
      },
      "execution_count": 78,
      "outputs": [
        {
          "output_type": "execute_result",
          "data": {
            "text/plain": [
              "tuple"
            ]
          },
          "metadata": {},
          "execution_count": 78
        }
      ]
    },
    {
      "cell_type": "code",
      "source": [
        "# , ler önemli: Tuple; Virgülle ayrılmış veri yapılarıdır\n",
        "empty_tuple1 = \"ali\",       # Tipi nedir?\n",
        "type(empty_tuple1)"
      ],
      "metadata": {
        "colab": {
          "base_uri": "https://localhost:8080/"
        },
        "id": "5w49t89k2xVV",
        "outputId": "8e1c15ad-e036-41ff-b42a-694e292aeebe"
      },
      "execution_count": 79,
      "outputs": [
        {
          "output_type": "execute_result",
          "data": {
            "text/plain": [
              "tuple"
            ]
          },
          "metadata": {},
          "execution_count": 79
        }
      ]
    },
    {
      "cell_type": "code",
      "source": [
        "word = ('h', 'a', 'p', 'p', 'y')\n",
        "type(word)"
      ],
      "metadata": {
        "colab": {
          "base_uri": "https://localhost:8080/"
        },
        "id": "_jsIgNXF3SSq",
        "outputId": "a66db049-bc5c-4aa9-e198-25b4d6abcb6a"
      },
      "execution_count": 80,
      "outputs": [
        {
          "output_type": "execute_result",
          "data": {
            "text/plain": [
              "tuple"
            ]
          },
          "metadata": {},
          "execution_count": 80
        }
      ]
    },
    {
      "cell_type": "code",
      "source": [
        "tuple_1 = ('h', 'a', 'p', 'p', 'y')\n",
        "print(tuple_1)\n",
        "\n",
        "word = \"happy\"\n",
        "tuple_2 = tuple(word)\n",
        "print(tuple_2)"
      ],
      "metadata": {
        "colab": {
          "base_uri": "https://localhost:8080/"
        },
        "id": "-iBiOU7L3ZCQ",
        "outputId": "37342a0d-1ad7-4e21-f056-d01de8959e8e"
      },
      "execution_count": 81,
      "outputs": [
        {
          "output_type": "stream",
          "name": "stdout",
          "text": [
            "('h', 'a', 'p', 'p', 'y')\n",
            "('h', 'a', 'p', 'p', 'y')\n"
          ]
        }
      ]
    },
    {
      "cell_type": "code",
      "source": [
        "my_tuple = (\"Solar\")\n",
        "print(my_tuple, type(my_tuple), sep=\"\\n\")"
      ],
      "metadata": {
        "colab": {
          "base_uri": "https://localhost:8080/"
        },
        "id": "VNh5MyMM4Gu-",
        "outputId": "d4645dbb-e944-45f0-ae67-3f74f552ed6e"
      },
      "execution_count": 84,
      "outputs": [
        {
          "output_type": "stream",
          "name": "stdout",
          "text": [
            "Solar\n",
            "<class 'str'>\n"
          ]
        }
      ]
    },
    {
      "cell_type": "code",
      "source": [
        "my_tuple = (\"Solar\",)\n",
        "print(my_tuple, type(my_tuple), sep=\"\\n\")"
      ],
      "metadata": {
        "colab": {
          "base_uri": "https://localhost:8080/"
        },
        "id": "7TpMt9vA4qb_",
        "outputId": "9a61efab-5119-435a-c30b-43cbc4f88542"
      },
      "execution_count": 85,
      "outputs": [
        {
          "output_type": "stream",
          "name": "stdout",
          "text": [
            "('Solar',)\n",
            "<class 'tuple'>\n"
          ]
        }
      ]
    },
    {
      "cell_type": "code",
      "source": [
        "solar = \"Satürn\", \"Earth\", \"Uranus\", \"Venus\"\n",
        "print(solar, type(solar), sep=\"\\n\")"
      ],
      "metadata": {
        "colab": {
          "base_uri": "https://localhost:8080/"
        },
        "id": "M7P-vgpV43oN",
        "outputId": "2a55a1a4-51f3-409f-f43e-5b8935c2673e"
      },
      "execution_count": 86,
      "outputs": [
        {
          "output_type": "stream",
          "name": "stdout",
          "text": [
            "('Satürn', 'Earth', 'Uranus', 'Venus')\n",
            "<class 'tuple'>\n"
          ]
        }
      ]
    },
    {
      "cell_type": "markdown",
      "source": [
        "Tuple -> List dönüşümü"
      ],
      "metadata": {
        "id": "XF_mqU0k5OMo"
      }
    },
    {
      "cell_type": "code",
      "source": [
        "my_tuple = (1, 4, 5, 7, 8, 2, 4, 5)\n",
        "my_list = list(my_tuple)  # list(sarmalına alınan herşey listeye dönüşür)\n",
        "print(my_list)\n",
        "print(type(my_list))"
      ],
      "metadata": {
        "colab": {
          "base_uri": "https://localhost:8080/"
        },
        "id": "tVClC-Cs5Qf5",
        "outputId": "4df6297c-0a71-4579-8085-5910fc49cacc"
      },
      "execution_count": 87,
      "outputs": [
        {
          "output_type": "stream",
          "name": "stdout",
          "text": [
            "[1, 4, 5, 7, 8, 2, 4, 5]\n",
            "<class 'list'>\n"
          ]
        }
      ]
    },
    {
      "cell_type": "markdown",
      "source": [
        "List->Tuple Dönüşümü"
      ],
      "metadata": {
        "id": "OWWqQKhE5sLc"
      }
    },
    {
      "cell_type": "code",
      "source": [
        "my_list = [1, 4, 5, 7, 8, 2, 4, 5]\n",
        "my_tuple = tuple(my_list)  # tuple(sarmalına alınan herşey tuple veri yapısına dönüşür)\n",
        "print(my_tuple)\n",
        "print(type(my_tuple))"
      ],
      "metadata": {
        "colab": {
          "base_uri": "https://localhost:8080/"
        },
        "id": "1T22isSs5yGa",
        "outputId": "53aead31-b5e9-47b6-9bd6-ad82ff389cc6"
      },
      "execution_count": 88,
      "outputs": [
        {
          "output_type": "stream",
          "name": "stdout",
          "text": [
            "(1, 4, 5, 7, 8, 2, 4, 5)\n",
            "<class 'tuple'>\n"
          ]
        }
      ]
    },
    {
      "cell_type": "markdown",
      "source": [
        "String->Tuple Dönüşümü"
      ],
      "metadata": {
        "id": "Ls4UCI4v9Vkc"
      }
    },
    {
      "cell_type": "code",
      "source": [
        "word = \"happy\"\n",
        "my_tuple = tuple(word)\n",
        "print(my_tuple)"
      ],
      "metadata": {
        "colab": {
          "base_uri": "https://localhost:8080/"
        },
        "id": "e4poQRGx9Tj1",
        "outputId": "ee176fbe-44bc-4908-8eaf-be2826f13a25"
      },
      "execution_count": 89,
      "outputs": [
        {
          "output_type": "stream",
          "name": "stdout",
          "text": [
            "('h', 'a', 'p', 'p', 'y')\n"
          ]
        }
      ]
    },
    {
      "cell_type": "code",
      "source": [
        "tuple_1 = 'h', 'a', 'p', 'p', 'y'\n",
        "tuple_2 = 1, 3, 5\n",
        "print(tuple_1)\n",
        "print(type(tuple_1))\n",
        "print(tuple_2)"
      ],
      "metadata": {
        "colab": {
          "base_uri": "https://localhost:8080/"
        },
        "id": "UlxLAF3R9w0r",
        "outputId": "08943783-03c9-4e0f-d5ba-1af863931661"
      },
      "execution_count": 90,
      "outputs": [
        {
          "output_type": "stream",
          "name": "stdout",
          "text": [
            "('h', 'a', 'p', 'p', 'y')\n",
            "<class 'tuple'>\n",
            "(1, 3, 5)\n"
          ]
        }
      ]
    },
    {
      "cell_type": "code",
      "source": [
        "# Tuples are ordered.\n",
        "(1, 3, 4, 6) == (1, 6, 3, 4)"
      ],
      "metadata": {
        "colab": {
          "base_uri": "https://localhost:8080/"
        },
        "id": "A_VZ6fde-lSi",
        "outputId": "d27f8393-cf5b-4ac8-f34e-b56cdc320427"
      },
      "execution_count": 91,
      "outputs": [
        {
          "output_type": "execute_result",
          "data": {
            "text/plain": [
              "False"
            ]
          },
          "metadata": {},
          "execution_count": 91
        }
      ]
    },
    {
      "cell_type": "markdown",
      "source": [
        "Tuple verilerine erişim"
      ],
      "metadata": {
        "id": "Jol0b0Sp_NQ1"
      }
    },
    {
      "cell_type": "code",
      "source": [
        "# Aynı string ve listelerde olduğu gibi index no'lar ile erişebiliriz\n",
        "my_tuple = ('h', 'a', 'p', 'p', 'y')\n",
        "my_tuple[0]"
      ],
      "metadata": {
        "colab": {
          "base_uri": "https://localhost:8080/",
          "height": 35
        },
        "id": "-ecbCgUz_Pcp",
        "outputId": "af739577-b926-4259-d8b9-225704f28dba"
      },
      "execution_count": 92,
      "outputs": [
        {
          "output_type": "execute_result",
          "data": {
            "text/plain": [
              "'h'"
            ],
            "application/vnd.google.colaboratory.intrinsic+json": {
              "type": "string"
            }
          },
          "metadata": {},
          "execution_count": 92
        }
      ]
    },
    {
      "cell_type": "code",
      "source": [
        "my_tuple[5]  # olmayan indis no'ya erişim hatası: IndexError"
      ],
      "metadata": {
        "colab": {
          "base_uri": "https://localhost:8080/",
          "height": 181
        },
        "id": "1c7SJOFS_rL5",
        "outputId": "21907849-087b-4a82-c642-4ea489a56de9"
      },
      "execution_count": 93,
      "outputs": [
        {
          "output_type": "error",
          "ename": "IndexError",
          "evalue": "ignored",
          "traceback": [
            "\u001b[0;31m---------------------------------------------------------------------------\u001b[0m",
            "\u001b[0;31mIndexError\u001b[0m                                Traceback (most recent call last)",
            "\u001b[0;32m<ipython-input-93-166144d9db9f>\u001b[0m in \u001b[0;36m<cell line: 1>\u001b[0;34m()\u001b[0m\n\u001b[0;32m----> 1\u001b[0;31m \u001b[0mmy_tuple\u001b[0m\u001b[0;34m[\u001b[0m\u001b[0;36m5\u001b[0m\u001b[0;34m]\u001b[0m\u001b[0;34m\u001b[0m\u001b[0;34m\u001b[0m\u001b[0m\n\u001b[0m",
            "\u001b[0;31mIndexError\u001b[0m: tuple index out of range"
          ]
        }
      ]
    },
    {
      "cell_type": "code",
      "source": [
        "# tuple is immutable.\n",
        "my_tuple = ('h', 'a', 'p', 'p', 'y')\n",
        "my_tuple[1] = \"e\""
      ],
      "metadata": {
        "colab": {
          "base_uri": "https://localhost:8080/",
          "height": 216
        },
        "id": "M8008PgA_2Rj",
        "outputId": "fe66a2eb-7e3c-44f5-e695-43b22e3fa095"
      },
      "execution_count": 94,
      "outputs": [
        {
          "output_type": "error",
          "ename": "TypeError",
          "evalue": "ignored",
          "traceback": [
            "\u001b[0;31m---------------------------------------------------------------------------\u001b[0m",
            "\u001b[0;31mTypeError\u001b[0m                                 Traceback (most recent call last)",
            "\u001b[0;32m<ipython-input-94-d3c11d26b22e>\u001b[0m in \u001b[0;36m<cell line: 3>\u001b[0;34m()\u001b[0m\n\u001b[1;32m      1\u001b[0m \u001b[0;31m# tuple is immutable.\u001b[0m\u001b[0;34m\u001b[0m\u001b[0;34m\u001b[0m\u001b[0m\n\u001b[1;32m      2\u001b[0m \u001b[0mmy_tuple\u001b[0m \u001b[0;34m=\u001b[0m \u001b[0;34m(\u001b[0m\u001b[0;34m'h'\u001b[0m\u001b[0;34m,\u001b[0m \u001b[0;34m'a'\u001b[0m\u001b[0;34m,\u001b[0m \u001b[0;34m'p'\u001b[0m\u001b[0;34m,\u001b[0m \u001b[0;34m'p'\u001b[0m\u001b[0;34m,\u001b[0m \u001b[0;34m'y'\u001b[0m\u001b[0;34m)\u001b[0m\u001b[0;34m\u001b[0m\u001b[0;34m\u001b[0m\u001b[0m\n\u001b[0;32m----> 3\u001b[0;31m \u001b[0mmy_tuple\u001b[0m\u001b[0;34m[\u001b[0m\u001b[0;36m1\u001b[0m\u001b[0;34m]\u001b[0m \u001b[0;34m=\u001b[0m \u001b[0;34m\"e\"\u001b[0m\u001b[0;34m\u001b[0m\u001b[0;34m\u001b[0m\u001b[0m\n\u001b[0m",
            "\u001b[0;31mTypeError\u001b[0m: 'tuple' object does not support item assignment"
          ]
        }
      ]
    },
    {
      "cell_type": "code",
      "source": [
        "mix_tuple = (3, \"ali\", [2, 5, (\"six\", 6)], (5, \"beş\"))\n",
        "#indis no:   0    1          2                 3\n",
        "# \"six\" datasına nasıl erişirim\n",
        "mix_tuple[2][2][0]"
      ],
      "metadata": {
        "colab": {
          "base_uri": "https://localhost:8080/",
          "height": 35
        },
        "id": "h1KUxeuHAvKN",
        "outputId": "56146d87-db70-4225-c15c-8a0d2d03e2fc"
      },
      "execution_count": 97,
      "outputs": [
        {
          "output_type": "execute_result",
          "data": {
            "text/plain": [
              "'six'"
            ],
            "application/vnd.google.colaboratory.intrinsic+json": {
              "type": "string"
            }
          },
          "metadata": {},
          "execution_count": 97
        }
      ]
    },
    {
      "cell_type": "code",
      "source": [
        "mix_tuple[2][1:3]"
      ],
      "metadata": {
        "colab": {
          "base_uri": "https://localhost:8080/"
        },
        "id": "DwTJ4IY6B56V",
        "outputId": "8e340aba-1643-48db-a33d-a30335e986a2"
      },
      "execution_count": 99,
      "outputs": [
        {
          "output_type": "execute_result",
          "data": {
            "text/plain": [
              "[5, ('six', 6)]"
            ]
          },
          "metadata": {},
          "execution_count": 99
        }
      ]
    },
    {
      "cell_type": "code",
      "source": [
        "type(mix_tuple[2][1:3])"
      ],
      "metadata": {
        "colab": {
          "base_uri": "https://localhost:8080/"
        },
        "id": "5wibxYOHCF3m",
        "outputId": "76b30498-9c1a-4473-f75b-c92327da5f6c"
      },
      "execution_count": 100,
      "outputs": [
        {
          "output_type": "execute_result",
          "data": {
            "text/plain": [
              "list"
            ]
          },
          "metadata": {},
          "execution_count": 100
        }
      ]
    },
    {
      "cell_type": "code",
      "source": [
        "mix_tuple = (3, \"ali\", [2, 5, (\"six\", 6)], (5, \"beş\", \"fairy\"))\n",
        "mix_tuple[3][1:3]"
      ],
      "metadata": {
        "colab": {
          "base_uri": "https://localhost:8080/"
        },
        "id": "j3tgiCfuCb6m",
        "outputId": "6a47a338-a5a4-44f2-e6fd-9c6f513747aa"
      },
      "execution_count": 101,
      "outputs": [
        {
          "output_type": "execute_result",
          "data": {
            "text/plain": [
              "('beş', 'fairy')"
            ]
          },
          "metadata": {},
          "execution_count": 101
        }
      ]
    },
    {
      "cell_type": "code",
      "source": [
        "type(mix_tuple[3][1:3])"
      ],
      "metadata": {
        "colab": {
          "base_uri": "https://localhost:8080/"
        },
        "id": "o30wKWY-CnwJ",
        "outputId": "cdceba8a-4a9e-4d2b-ac8a-8f10d0ce7fac"
      },
      "execution_count": 102,
      "outputs": [
        {
          "output_type": "execute_result",
          "data": {
            "text/plain": [
              "tuple"
            ]
          },
          "metadata": {},
          "execution_count": 102
        }
      ]
    },
    {
      "cell_type": "code",
      "source": [
        "last_item = mix_tuple[-1]\n",
        "print(last_item, type(last_item))"
      ],
      "metadata": {
        "colab": {
          "base_uri": "https://localhost:8080/"
        },
        "id": "0lh1J4AXDIKD",
        "outputId": "3011bd42-55f9-4dc1-8525-cdab7e273c1c"
      },
      "execution_count": 104,
      "outputs": [
        {
          "output_type": "stream",
          "name": "stdout",
          "text": [
            "(5, 'beş', 'fairy') <class 'tuple'>\n"
          ]
        }
      ]
    },
    {
      "cell_type": "code",
      "source": [
        "mix_tuple = (3, \"ali\", [2, 5, (\"six\", 6)], (5, \"fair\"))\n",
        "# \"fair\" i almak için nasıl bir indisleme kullanılır\n",
        "print(mix_tuple[-1][1])\n",
        "#or\n",
        "print(mix_tuple[3][1])"
      ],
      "metadata": {
        "colab": {
          "base_uri": "https://localhost:8080/"
        },
        "id": "Tv6jigz0DeGa",
        "outputId": "8fa0e45b-e63d-4e94-f52f-f1c54a05ec08"
      },
      "execution_count": 105,
      "outputs": [
        {
          "output_type": "stream",
          "name": "stdout",
          "text": [
            "fair\n",
            "fair\n"
          ]
        }
      ]
    }
  ]
}