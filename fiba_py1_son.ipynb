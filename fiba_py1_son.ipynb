{
  "nbformat": 4,
  "nbformat_minor": 0,
  "metadata": {
    "colab": {
      "private_outputs": true,
      "provenance": []
    },
    "kernelspec": {
      "name": "python3",
      "display_name": "Python 3"
    },
    "language_info": {
      "name": "python"
    }
  },
  "cells": [
    {
      "cell_type": "markdown",
      "source": [
        "Resmi python adresi: https://www.python.org/"
      ],
      "metadata": {
        "id": "qgIOMFdRV9Xu"
      }
    },
    {
      "cell_type": "markdown",
      "source": [
        "Ders harici takip edilecek kaynaklar;\n",
        "\n",
        "- https://codescracker.com/exam/showtest.php?subid=10\n",
        "- https://realpython.com/search?kind=quiz&q=quizs\n",
        "- https://www.tutorialspoint.com/python/python_questions_answers.htm\n",
        "- https://pynative.com/\n",
        "- https://www.w3resource.com/python/python-tutorial.php\n",
        "- https://www.codewars.com/collections/basic-python\n",
        "- https://www.hackerrank.com/domains/python\n",
        "- https://edabit.com/challenges/python3\n",
        "- https://rosettacode.org/wiki/Category:Programming_Tasks\n",
        "- https://projecteuler.net/archives"
      ],
      "metadata": {
        "id": "lmz-kGlFBg-V"
      }
    },
    {
      "cell_type": "markdown",
      "source": [
        "Hangi Python Sürümünü Kullanıyorum?"
      ],
      "metadata": {
        "id": "gDetA_FuBWiF"
      }
    },
    {
      "cell_type": "code",
      "execution_count": null,
      "metadata": {
        "id": "gsvmtTGWBroM"
      },
      "outputs": [],
      "source": [
        "!python3 --version"
      ]
    },
    {
      "cell_type": "code",
      "source": [
        "!python3 -V"
      ],
      "metadata": {
        "id": "hUazuju2C0Jn"
      },
      "execution_count": null,
      "outputs": []
    },
    {
      "cell_type": "markdown",
      "source": [
        "Python Sürümleri\n",
        "https://devguide.python.org/versions/"
      ],
      "metadata": {
        "id": "AGVc_85MQL_3"
      }
    },
    {
      "cell_type": "code",
      "source": [
        "# doğrudan çalıştırılan programa script\n",
        "print(\"Merhaba fiba yazılımcıları\")"
      ],
      "metadata": {
        "id": "BQebIel8QKoS"
      },
      "execution_count": null,
      "outputs": []
    },
    {
      "cell_type": "code",
      "source": [
        "# modul import etme\n",
        "import merha\n",
        "merha.selam()"
      ],
      "metadata": {
        "id": "XEDLT9d5WGWK"
      },
      "execution_count": null,
      "outputs": []
    },
    {
      "cell_type": "code",
      "source": [
        "dir(merha)"
      ],
      "metadata": {
        "id": "tm03RqBxXdDZ"
      },
      "execution_count": null,
      "outputs": []
    },
    {
      "cell_type": "markdown",
      "source": [
        "Python kurulumu ile gelen moduller;\n",
        "https://docs.python.org/3/py-modindex.html"
      ],
      "metadata": {
        "id": "wtYJQ991Wv8m"
      }
    },
    {
      "cell_type": "code",
      "source": [
        "import math\n",
        "math.sqrt(4)  #karekok al"
      ],
      "metadata": {
        "id": "Ky4pJ2BvW1Ec"
      },
      "execution_count": null,
      "outputs": []
    },
    {
      "cell_type": "code",
      "source": [
        "# bir modülün içeriğini öğrenme\n",
        "dir(math)"
      ],
      "metadata": {
        "id": "A8RKihVlXTSG"
      },
      "execution_count": null,
      "outputs": []
    },
    {
      "cell_type": "code",
      "source": [
        "# modul ismini kısaltma\n",
        "import math as m\n",
        "m.sqrt(4)"
      ],
      "metadata": {
        "id": "Dv9bukqGXqcn"
      },
      "execution_count": null,
      "outputs": []
    },
    {
      "cell_type": "code",
      "source": [
        "# import pandas as pd\n",
        "# import numpy as np"
      ],
      "metadata": {
        "id": "Ug-ntWwfXw8y"
      },
      "execution_count": null,
      "outputs": []
    },
    {
      "cell_type": "code",
      "source": [
        "# Modulden sadece istenen fonksiyonları alma\n",
        "# from modul_adi import fonksiyon_adi\n",
        "from math import sqrt\n",
        "sqrt(4)"
      ],
      "metadata": {
        "id": "Th8kX9vCYEk-"
      },
      "execution_count": null,
      "outputs": []
    },
    {
      "cell_type": "code",
      "source": [
        "from math import sqrt as kk\n",
        "kk(4)"
      ],
      "metadata": {
        "id": "lhRkoAXwYT-X"
      },
      "execution_count": null,
      "outputs": []
    },
    {
      "cell_type": "code",
      "source": [
        "!pip install text-to-speech"
      ],
      "metadata": {
        "id": "eg72oWCUZGcg"
      },
      "execution_count": null,
      "outputs": []
    },
    {
      "cell_type": "code",
      "source": [
        "from text_to_speech import save\n",
        "\n",
        "text = \"Hello, World! Hi Guys\"\n",
        "language = \"en\"  # Specify the language (IETF language tag)\n",
        "output_file = \"hello_world.mp3\"  # Specify the output file (only accepts .mp3)\n",
        "\n",
        "save(text, language, file=output_file)"
      ],
      "metadata": {
        "id": "VjQMBIvVZYg3"
      },
      "execution_count": null,
      "outputs": []
    },
    {
      "cell_type": "code",
      "source": [
        "from IPython.display import Audio\n",
        "Audio(output_file, autoplay=True)"
      ],
      "metadata": {
        "id": "1rGq48XRZqwB"
      },
      "execution_count": null,
      "outputs": []
    },
    {
      "cell_type": "code",
      "source": [
        "#Alternatifi\n",
        "!pip install gTTS"
      ],
      "metadata": {
        "id": "ZBS8kPxSaCTT"
      },
      "execution_count": null,
      "outputs": []
    },
    {
      "cell_type": "code",
      "source": [
        "from gtts import gTTS\n",
        "\n",
        "text = \"Hello, World! Hi Guys, Fibabank\"\n",
        "tts = gTTS(text)\n",
        "tts.save(\"hello.mp3\")"
      ],
      "metadata": {
        "id": "PL8_zFKgaGGA"
      },
      "execution_count": null,
      "outputs": []
    },
    {
      "cell_type": "code",
      "source": [
        "from IPython.display import Audio\n",
        "Audio(\"hello.mp3\", autoplay=True)"
      ],
      "metadata": {
        "id": "sMnV6e4baLOJ"
      },
      "execution_count": null,
      "outputs": []
    },
    {
      "cell_type": "code",
      "source": [],
      "metadata": {
        "id": "El68duzfbJ8p"
      },
      "execution_count": null,
      "outputs": []
    },
    {
      "cell_type": "code",
      "source": [
        "!pip -V"
      ],
      "metadata": {
        "id": "ka70Os9QbEbB"
      },
      "execution_count": null,
      "outputs": []
    },
    {
      "cell_type": "code",
      "source": [
        "!pip uninstall text-to-speech"
      ],
      "metadata": {
        "id": "C41m9ih3bP3X"
      },
      "execution_count": null,
      "outputs": []
    },
    {
      "cell_type": "code",
      "source": [
        "!pip list"
      ],
      "metadata": {
        "id": "pwg1IkR8bZyd"
      },
      "execution_count": null,
      "outputs": []
    },
    {
      "cell_type": "code",
      "source": [
        "!pip show gTTS  # paket hakkında özet bilgi"
      ],
      "metadata": {
        "id": "eQNygX97bn7r"
      },
      "execution_count": null,
      "outputs": []
    },
    {
      "cell_type": "markdown",
      "source": [
        "**Tırnak Meselesi (Matter of Quotes)**"
      ],
      "metadata": {
        "id": "_umgTSzTH7Oq"
      }
    },
    {
      "cell_type": "markdown",
      "source": [
        "Python da bir sabir mesaj ekrana basılacaksa print deyimi yanında tek tırnak, çift tırnak, 3 tek tırnak veya 3 çift tırnak kullanılabilir..."
      ],
      "metadata": {
        "id": "wNhOlC4WIFFS"
      }
    },
    {
      "cell_type": "code",
      "source": [
        "print('Hello World')"
      ],
      "metadata": {
        "id": "pMkjPItBG-wD"
      },
      "execution_count": null,
      "outputs": []
    },
    {
      "cell_type": "code",
      "source": [
        "print(\"Hello World\")"
      ],
      "metadata": {
        "id": "V0SyHtJQGiTM"
      },
      "execution_count": null,
      "outputs": []
    },
    {
      "cell_type": "code",
      "source": [
        "print(\"\"\"Hello World\"\"\")"
      ],
      "metadata": {
        "id": "gaixG8VdHD5d"
      },
      "execution_count": null,
      "outputs": []
    },
    {
      "cell_type": "code",
      "source": [
        "print('''Hello World''')"
      ],
      "metadata": {
        "id": "H1laQw0UHKZK"
      },
      "execution_count": null,
      "outputs": []
    },
    {
      "cell_type": "code",
      "source": [
        "print(\"I'm happy to learn Python\")"
      ],
      "metadata": {
        "id": "8YkB1vnsIDyr"
      },
      "execution_count": null,
      "outputs": []
    },
    {
      "cell_type": "code",
      "source": [
        "print('I\"m happy to learn Python')"
      ],
      "metadata": {
        "id": "Ww0Uq6UbU5fK"
      },
      "execution_count": null,
      "outputs": []
    },
    {
      "cell_type": "code",
      "source": [
        "print('I\\'m happy to learn Python')"
      ],
      "metadata": {
        "id": "bQIblDYlU_wJ"
      },
      "execution_count": null,
      "outputs": []
    },
    {
      "cell_type": "markdown",
      "source": [
        "Sorun olan örnekler..."
      ],
      "metadata": {
        "id": "Toel2vVwItje"
      }
    },
    {
      "cell_type": "code",
      "source": [
        "print('Hello World\")  #hangi tırnak ile başlandı ise öyle sonlanmalı..."
      ],
      "metadata": {
        "id": "dkfg6JEVIw85"
      },
      "execution_count": null,
      "outputs": []
    },
    {
      "cell_type": "code",
      "source": [
        "print(\"Hello World')"
      ],
      "metadata": {
        "id": "B3xk5QKBJZcG"
      },
      "execution_count": null,
      "outputs": []
    },
    {
      "cell_type": "code",
      "source": [
        "print('Ahmet'Hello World dedi')"
      ],
      "metadata": {
        "id": "SkWF7c5YJdVY"
      },
      "execution_count": null,
      "outputs": []
    },
    {
      "cell_type": "markdown",
      "source": [
        "Tek veya çift tırnaklar tek satırlık mesajlarda kullanılır.."
      ],
      "metadata": {
        "id": "ZDnJbRpWKEe5"
      }
    },
    {
      "cell_type": "markdown",
      "source": [
        "Çok satırlı mesajlar için 3 tek tırnak veya 3 çift tırnak tercih edilmeli..."
      ],
      "metadata": {
        "id": "BcKAW-i1KVdO"
      }
    },
    {
      "cell_type": "code",
      "source": [
        "print(\"\"\" mesajımız:\n",
        "File \"<ipython-input-11-40ac039a7553>\", line 1\n",
        "print('Ahmet'Hello World dedi')\n",
        "            ^\n",
        "SyntaxError: unterminated string literal (detected at line 1)\"\"\")"
      ],
      "metadata": {
        "id": "njSV3LtnJ9Zq"
      },
      "execution_count": null,
      "outputs": []
    },
    {
      "cell_type": "code",
      "source": [
        "print(''' mesajımız:\n",
        "File \"<ipython-input-11-40ac039a7553>\", line 1\n",
        "print('Ahmet'Hello World dedi')\n",
        "            ^\n",
        "SyntaxError: unterminated string literal (detected at line 1)''')"
      ],
      "metadata": {
        "id": "7QPPMUvhKd95"
      },
      "execution_count": null,
      "outputs": []
    },
    {
      "cell_type": "code",
      "source": [
        "print(' mesajımız: \\\n",
        "File \"<ipython-input-11-40ac039a7553>\", line 1 \\\n",
        "\"selam  dedi\" ')"
      ],
      "metadata": {
        "id": "5WX6h8AodGDe"
      },
      "execution_count": null,
      "outputs": []
    },
    {
      "cell_type": "markdown",
      "source": [
        "Tırnak içerisine alınan her türlü veri, **string** tipindedir."
      ],
      "metadata": {
        "id": "4o0btB7WK8Hz"
      }
    },
    {
      "cell_type": "code",
      "source": [
        "print(\"3.14\")  # str: string"
      ],
      "metadata": {
        "id": "W1u6ddKSLJFM"
      },
      "execution_count": null,
      "outputs": []
    },
    {
      "cell_type": "code",
      "source": [
        "print(3.14)   # float"
      ],
      "metadata": {
        "id": "lhQvaD7TLKZt"
      },
      "execution_count": null,
      "outputs": []
    },
    {
      "cell_type": "code",
      "source": [
        "# type deyimi veri tipini gösterir.\n",
        "type(\"3.14\")"
      ],
      "metadata": {
        "id": "pWnWOWK2LPcv"
      },
      "execution_count": null,
      "outputs": []
    },
    {
      "cell_type": "code",
      "source": [
        "type(3.14)"
      ],
      "metadata": {
        "id": "u-d3JlUPLVC_"
      },
      "execution_count": null,
      "outputs": []
    },
    {
      "cell_type": "code",
      "source": [
        "help(print)  # bir deyim/fonksiyon yardım için help kullanılır..."
      ],
      "metadata": {
        "id": "ZujZ1WKad1I5"
      },
      "execution_count": null,
      "outputs": []
    },
    {
      "cell_type": "code",
      "source": [
        "print(\"3.\"+\"14\") # sözel veri"
      ],
      "metadata": {
        "id": "RLLmy9wsLnDJ"
      },
      "execution_count": null,
      "outputs": []
    },
    {
      "cell_type": "code",
      "source": [
        "print(3.+14)  # sayısal veri"
      ],
      "metadata": {
        "id": "JrogJ7zlLsJ7"
      },
      "execution_count": null,
      "outputs": []
    },
    {
      "cell_type": "code",
      "source": [
        "print(\"ali \"*3)  # string birleştirmede : '*', '+'"
      ],
      "metadata": {
        "id": "ebvnuVxueGtp"
      },
      "execution_count": null,
      "outputs": []
    },
    {
      "cell_type": "markdown",
      "source": [
        "Modül, diğer .py dosyaları tarafından import edilmesi (içe aktarılması) amaçlanan bir .py dosyasıdır."
      ],
      "metadata": {
        "id": "diCESTRzCyVm"
      }
    },
    {
      "cell_type": "code",
      "source": [
        "# boş satır bırakır\n",
        "print()\n",
        "print('''')"
      ],
      "metadata": {
        "id": "GEfQdAWuUYl6"
      },
      "execution_count": null,
      "outputs": []
    },
    {
      "cell_type": "code",
      "source": [
        "print(\"1.satır\", \"2.satır\", \"3.satır\", sep=\"-\", end=\"\")\n",
        "print(\"selam\")\n",
        "print('''''')    # boş satır\n",
        "print(\"4.satır\")"
      ],
      "metadata": {
        "id": "S-MivqAWUgwz"
      },
      "execution_count": null,
      "outputs": []
    },
    {
      "cell_type": "code",
      "source": [
        "print(\"müdür\", \"müdür\", \"müdür \", end=\"?\")\n",
        "print(\"müdür\", \"müdür\", \"müdür \", end=\"?\")"
      ],
      "metadata": {
        "id": "lLeXmwOxkwes"
      },
      "execution_count": null,
      "outputs": []
    },
    {
      "cell_type": "code",
      "source": [
        "print(\"müdür \"*3, end=\"?\")"
      ],
      "metadata": {
        "id": "5KumP4Edk16r"
      },
      "execution_count": null,
      "outputs": []
    },
    {
      "cell_type": "markdown",
      "source": [
        "![image.png](data:image/png;base64,iVBORw0KGgoAAAANSUhEUgAABOMAAAFrCAYAAACTw03PAAAABHNCSVQICAgIfAhkiAAAABl0RVh0U29mdHdhcmUAZ25vbWUtc2NyZWVuc2hvdO8Dvz4AAAAtdEVYdENyZWF0aW9uIFRpbWUATW9uIDA3IEFwciAyMDI1IDEyOjM5OjU4IEFNICswM9LOFkcAACAASURBVHic7N19XFf1/f/xB37gI6yPVx9z8pkNpEFeMJvYd5oluUnuG5iSF2iJrtR9w/JqKdbENtEptsS2YRfaJrYlNKUybUK/lX4zLNNNYTogg74Ii4GZnzQ/BR74wO8PLkT8cKVyoT3vtxu37Fy8z/uc8z7nc87rvC/cDMOoQkRERERERERERNpcl47OgIiIiIiIiIiIyDeFgnEiIiIiIiIiIiLtRME4ERERERERERGRdqJgnIiIiIiIiIiISDtRME5ERERERERERKSduHd0BqR5Xbp0wc3NDTc3N4C6/4qIiIiIiIiIyLVFwbhOys3NDZPJpMCbiIiIiIiIiMh1RMG4TkZBOBERERERERGR65eCcZ1Ily5dMJlMHZ0NERERERERERFpIxrAoZNQIE5ERERERERE5PqnmnGdQHOBuKqqKqqqqqisrKSqquqieW5ubpcM8CAiIiIiIiIiIp2TgnEdrLaPOFdqA3CVlZWNrl9VVYXT6QSqg3q1gTkREREREREREel8FIzrQG5ubri7uz4FlZWVdUG2lqoN3JlMJrp0UQtkEREREREREZHORsG4DuSqRlxLasM1x+l0UlVVpVpyIiIiIiIiIiKdjKpPdZDG+nirDcZdKVf9y4mIiIiIiIiISMdSMK6DuGpGejlNU5vidDqvLLBXkcHmhc9xoOKqZamdlZD662iSP+rofFwdJzPf4ci/yy9jnZMc2Z7Eu0WulviS7LQ3OXjyqmTxqric/bw8X5K9ewcHi6/2slfidBPnSkRERERERK4HHRaM+9e//kVOTk5HbR6oDla98cYb/PSnPyUkJISIiAhiYmJISUmhsrKSP//5z4SEhLTJthsLxjV07tw5YmNjmTx5Mtu2bWv1dq4sGJdP6it7Ke70wbgz5KSlkvF5w+lfkJGaypEzHZGnq8x5gv2pxzht9mj9Ou4VlJwo4PT52um57Hoqjq2ZpcA5TmQf49Ov2iLTl+Fy9rNZpZzMOsYJR8Pp5zjxUQ6flrYkjeaWbWwbreQsu/hciYiIiIiIyHWnw/qMq6io4OOPP8bd3Z2AgIB23/6pU6dYvnw5n3zyCcOGDeP222/HMAyOHj3Kxo0bee+99/je977XJtt2FYirqqpy2az03nvv5fPPP2f48OHMnDmTM2fOEBUV1eJt1aZ7XfcdV5FD0uNP4vVKGEE3dnRm2khBBjldh/A/fcv59P0dvL7vGCfspXh19+XWsVOZNLIvl4Svatf5NhyuP91kpf+QIZT26YRdRtbt51VM03mSgzvTcH9wCP0tVzHd9t6GiIiIiIiIXBc67G186NChABw7dgygXQNyFRUVLF++nM8//5x169YxbNiwi+Z/+OGHrFy5kuzs7DbZvqvAmKsabKdOneLAgQOkpqZy9913YzKZeOONN4iKisJsNl+yfGxsLDExMS7TdjVYhFw7TvwzB6/Bc+iLByet/oTOGU//nmDPe4etycm82/8xxtoaW6dh1cbe3DpufLvlvTUu5FlERERERETk+tShVWOGDh2K0+ls94Dcm2++ySeffMKqVasuCcT9+c9/BmDgwIEcPXq0Tbbf2MANDXXv3h2z2czOnTtxc3Pj73//e11+f/nLX16yfHBwsMvttXggh7IckmOiWf3KXvLLbASFDuJMheeF+RX5pK6K5skte8kp60XQ+CWsf2YeI3vWrp/P66uiWf3yXnLOeGL74Xxe+9tygtzPcGDdPOYlpJJzBnoOjGRz2rOEXVSLrYTXF0ey+s0j5HxaBj39GDNxCavj5hDUs4y9jw4m+ru7ObJsUM3yZ0ieOojdEfkkTQQqclg90ovVAJZJJOUnMckTqCjm9UeG8fqJHIqxETR+Cc89P48gS0v2qYTXH59D/JtHyDlRQpmn36Xr19dkWmdI/dUcnnxlLzmfluHpHcnmv/+RST3zSV0bzZOJe8kpKcPzRj+GjX+SPz4/Hb/adJ0nOJrjxaAHq0NUfQcNqwtW9Q28g1tvPMTJz8vBVq9u3EXrNOyArIjU9X+idGIMk28GnKWc+NtGflN0gpMVHvT1v4Pxk0MZ3BPgS7LfTObNjCJOflmK+w1B3L80Et9/buaF1Fzs58HrxgB+NHU6Y2/2amT5qXjuiuPNXj/jidB+NXko5eAf4si57Vc8NMzDRZ6/5OiOZNKOFXH6y1IquloJGD6aYe557D+cQ9GX0M02hLAZUxnRt3r90+83lieg8jPe+f0veBfAYxD3xz7IMA/A+SVHtz/N0bOfcY5u9B34I6ZNHU1/Lxfnt7llXW6j9fshIiIiIiIi17cOb6d22223Ae1bQ+6tt95i4MCB3HnnnZfM+9Of/tTm229pMK5r16784Q9/ICoqik2bNjFw4EBWrFgBuA7GNaZlwbgzpC4ex5Ml80j6+2sEWc6QseNJ5qR9UTO/jAMxk5mfOZk//u9m7uiZz+sxc5g03ZMPUufgRxl7Hx9HdF5k9fyboPhEGTZ34B/xzEv04sn0Yib19+RMXj5c0pz0C3IO5HPHM/l8ENoTSg6w+fE5hE0t44O/zWNYcBDFL39AybJBeANUHOHIscHc8XRNsNB9EE8eOMLy7zdI1r0XIx9N4rkHBuF55gDPzZ5EZNwdZMcFtWCfviAnPYfBcRnsHe8Nnzdcv77m0iom4+0Mhj2dzwcTe8LnZ+DGMg48Ppk5/whjc9pmwvw9OZP+JGMWZlNSAX61V+e/j3HUfSAPeTfYpLOUk8fe4+j5IYz1axDIaWydRnjY7mTa9Dn07WLn2FvJJG2GR34eyk2mc5zIOUm/CUtZPLQ7OErBAgy5j4X/1ZvuXcs5+X4yz29/h4Cl4+nvcnkPKm65iS8PneBL+tEdwPkpJ05+m/796+X7ojyf49PcmnSGdIcvjrBtYzJvf3ciMxZOp/8NpWTv2EjSriPc+j8j8AK6N5YngC7f5u5FjxPWr+Gee+E3+kEm/VdfvEpP8O6fNrP1b748Gd7fxVFqZlmX22j9foiIiIiIiMj1rcvixYvbfCPvvfdek39ffVXde/yxY8c4fvx4m+fn3//+d6NBvz179lzy15EeeOABioqKOHToEJmZmfTv379tNvR5Kpt3+LEkYQkjb/LEs6c3Ix8IY1BtQOjz14nf0ot5Ly5njH9PPG8MYnpCPJNz1/Pch9Xzn0uxseT5mvmePfEb6I0nwLkznPH0xuZdHTjr6e9HT5eZ8MSzT0883cHzppHMezGecbnP8dx+6PnjMIZlpLK3djCGExlkeI5k2E3N7ZgntkGD6OkJnt4jmffYOMrS95LTkn2qWb+nzbs6Tw3Xv+j4tTStnngCnjf2xPPM68S/7Mn851cTNrAnuHvSs08vPBskfeKfOXgE3spN9Voalx9LYvkTv+Q3yTncdE8IgyzNr9Mokxf9hgzhpu4eeFj6Mix8IsNKD/F+Xu18D7y6d8cD8LB4Vf+3e2+6dwXwoO/wYQR8VcSn5xpf3uuWgdxU/BE5tQMcfFHAyS796d+jiTzXpmMCjxuHMWqIFQ9rf/r39ACP7gy+cwjdT/6HT2sGIG4yT43uuwfd+valuwd4dO/Pj8YMpDwvD5eDy7Zm2QbrtWY/RERERERE5PrWYaOpNuaKRv9sITc3txYNaLB//37+8pe/tHl+mtOtWzeGDh3a6Ais//znP+sCmpct7wg5NwYxrLGaVDXz76gf/PK8gzuGFJNzrOTC+q6CY8FLWD3kdSb9cDLRf9hLSVkL82S5gzFBxWQcKwHvcUwKymD329XRuDMHPiD/h3cQ1Mq6nZ42P7w/L+ZMRQv2qbn167uMtPjoCDk972CMfxMZdhZxNAcG3XpxlS6PIZGs+c2vWT7nTkr/+ixJR75sdp0W8+iHn62UkyVfNrJAOacz3+QP6+NY8cuVrPjN6+ScL6eiqUu3+xCG2D4l5+Pq4UhL/6+A0/396VcbeGtBnrvd0I2vv6qXp27d6V76NaWVl5knFzx6WvlW6TlKWxAYa82y9TW9HyIiIiIiInK9c3/mmWfafCN33XVXk/MPHz7M559/zi233MKgQYOaXPZq6NevH5988kmzy23atIlevXpx//33X9XtX63RTT/55BPGjx9PXl4e3/rWt3jxxReZOnXq5SfYMMDU0OU2anb3Y/qfsxnzYTLPPjOfoIQ7eO7tPzKp2SaUnvW26c24iEGs2bGXMxFhfJCew8ixY2pqkTWsS9ZUXhos29p9arj+laRVUZ1ek7n/zxFyGETkd1zMM3nRe8BopoXksOLQMb4cdmd1E9Cm1mlhxsoraTxUX/wOL712gltnzeehm7vjUXqMl+LebSbN7tz6g768/c8cSocNIT/vJH4D+18YAbYleTYBlwSsKq4gTy64e+BOGeVXe9n6mtoPERERERERue51eM24w4cPU1BQwC233ML3v9+ww6+2MXbsWLKysvjwww8bXebNN9/kP//5j8t+5dpCY8G5ffv28etf//qiv9WrVwPV/cZ5eXnx17/+lfHjx/Pwww/jdF5aTadFgT//YQz6/AM+yGtifkkGH3xab1rZB3xwzMagId7gPwi/kgyOfNrI+oD37dNZvf0DngvazXOv5Defp4oMjuT0YtDA6qid9/hIRh5I4rVPM9j7dz/GBNeGsTzx8izjC0fjSV3WPrV1Wv39sJUc4INGKs4BfJqZA4HDmm5uWgn1I0ItWqcp50+Q+2l3+nl3dzm7/ORnnPz2MEbcXN0UFbM7Xi24k3T/wXBuOpHBUfsJcgqt+Ptf6CHtSvPcdJ48cHevoLTVUbPWaI9tiIiIiIiIyPWgQ4NxHRGIAwgPD+fmm29m3bp1/OMf/7honmEYJCUlsWHDBgICApg8efJV376rARUaC5i99957lwTj1qxZA0BJSQm33347P/nJT3jggQf4+uuvOXfu0k6yWhSMu3ES82aeIX5WNK9nllBWUcaZT4spq6g/v5jnHl3D3hNnKPs8h+TF0bwWMI95twM3TmbexHxWP7yG1LwzlJWVUfKvHEoAPs/hwEdnKAPKSnLIKQFPixeUZbD+p5N5sqbpKRVfkLHrdXI+L6PsTA6pMUtIssxhTvCFPMwZn8PmmGfZ+91JjKuNcbn7MSjgC/Zu30tJWRln8nLIb0lgrrl9ak79/F9OWjdNZt7YfNY/up4Dn5ZR9nk+e9M+oC425yziSFYFg4bUb7p5mhPHTnDaUU55eSmn/+99tu0rwm/owJqBEVysY/LkW11LsZ9spNmps5zSL7+kvLycUnsu7ybvIOfGOxnVyFgqHr2/Te/PjnHwRE16FRUtqx1mGcKdgSfZ/+YH5PUcwq21sT6X+9k6TebJZMW7Tyl5/8jhy/PllJ4s4vT5FiRafoJ3t2xmV05p88te7jYuSaeZcyUiIiIiIiLXvA4bTTUzM7NDAnEAZrOZuLg4YmJieOKJJxg2bBg333wzn332GX//+98pLS2ld+/exMbG4u5+9Q9RZWXlJf2/denSxWV/eb/85S8bHTl1/PjxPPHEE5w5c4Z33nmHMWPG0LPnpUMjuOpr7lKejHl6L5vXLWF1xCAiT5TBjTaCfjyvekRUPBnz9G6e/VU00SNt5FTYCBq/hNeT5+EHQE/CEnazPiaa6ODV5Dt6Yvt+JM++Gc+Yj17nyVnxfHCiDG70446I9Tw70xsqjpBz4AOKf3yhE7nSjzYTOSSSnLKeDBo7n80py+v1C+fJmIcj4YersT2/Hu96eZ/0q9W8NjMSv25n6DlwEqtTkpgzsCX73NQ+NaOiuF7+e15GWt5Mev41vng8msigJynGxh0jvWtyBpQcJadyCNO+W2+V8+fI/XA7+5M/41y5O149+zHozp/yUHDv6vmu1qE3Q4KHcHDHRnbZHmdC//rzunHTzVaO7YjjiT9X4H6DlZsCR/M/999J38ay/d27mXZ3Mq9tiSPtK3Dv6kX3G2/l1mYvFQ8GBwfx5vp9dJ84kbp6dy7z3EpN5smLIffcw9E/JRO7vBQv6yBCZ81hlK2ZNCvO8em/T3Dulq9bkIHL3MYlmjpXIiIiIiIicj1wMwzj0mpa7eBf//oXQLsH4uorLy8nNTWV7du3U1JSXR+pR48e/OhHP+LBBx+kR48ezaRw+Tw8PC6ZVlFR4bLWXFO2bt3Kjh07+MEPfsBjjz1Gt27dLprv5ubWJgHFqy+HNSMn88Vvs4lvqlbamdeJHJnEuPTXmH5ju2Wu/XwYzeAYG7v3LsFj99O8ZEzlyYn9W7z6p5exTrsqPcZL6w8xaOEcRtRE4zp9nkVERERERESuog6L0nRkEK6Wh4cH4eHhhIeHt/u2XQ3iYDKZqKhoXUfuM2bMYMaMGY3ON5kut+OwzqWsDDzdS0j91Wpyxj/H5uskEFfyrwxKbxyEn7cnZZ8e4LmnX8fzx6/h5ywiNauCQVP6tzwxZxFHW7tOOykvBw++5OibaZwMnEhkvSaqnTXPIiIiIiIiIm2hwwdw+KZqbKCFqxk8M5lMV2XU1g5XkcHq4F70st3Basc8Nq8a2ZrxUzuxMxxJnEfIkF54eXhhC57HB/7xvLY0CEqOcswYxK2+rUjuctZpD84TpP32Fzz+q9/y9vk7iQwLuDCKamfNs4iIiIiIiEgb6bBmqlIdLHPVn5vT6XTZf1xrdOnS5bqpFSciIiIiIiIicr1QzbgO5HQ6XfYRZzKZriiQdqXri4iIiIiIiIhI21AwroO5aq4K1TXb3N3dW9XMtHawhpaNnioiIiIiIiIiIu1NzVQ7geaalFZWVlJVVVX3V5+bm1vdn4JwIiIiIiIiIiKdW4eNpioX1PYP11hATkE2EREREREREZHrg6I8nURlZSUVFRUdnQ0REREREREREWlDCsZ1IlVVVZSXl1/xSKoiIiIiIiIiItI5KRjXCTmdTioqKlyOtCoiIiIiIiIiItcu9RnXSVVVVdU1W+3SpUvdIA1Aq0ZYFRERERERERGRzkPBuGuAmq2KiIiIiIiIiFwf1ExVRERERERERESknSgYJyIiIiIiIiIi0k4UjBMREREREREREWknCsaJiIiIiIiIiIi0EwXjRERERERERERE2omCcSIiIiIiIiIiIu1EwTgREREREREREZF2omCciIiIiIiIiIhIO1EwTkREREREREREpJ0oGCciIiIiIiIiItJOFIwTERERERERERFpJ+5tkejXX3+Nm5sbXl5el51GVVUVbm5uAGRk/pOU13fyj7//g88+/5yqqir69unDD4f/kKmT7+MHtw65Wlm/7ixdupTnnnuOyspKqqqqqKqqanJ5Nze3ur/58+ezbt26dsqpXOt0zUp7UDkTEREREZFrndtP58x1GZ354wsJl53o2bNnAejRo8dlpwFQXl7O+t8/yyvbUjDKy6FhIMnNja5mM5EPTGPJovl06aKKfg2ZzWagOsjWXCCuVv1lDcNos7y55MwiaVUa3vOjCenT2EJ2Dr68ldMjFxLm356Zu9ocHNwcR8bgWOaONHd0Zq6Kb9Q1W5JO4o5zhDwShm9H5+UyFe/dyE7CmTvG1tFZaZVroZzZ344nLj+E+IeD2nhLDg6+sIz0wWuJHm1p4201IT+VuG3lRC4Nx9fUcdkQEREREbkWdAEYcIs/E+4NZcK9oQy4peOjG5WVlZw/b7Bg8VJeTv5Lg5ctt5o/oKqK8+cNXno5iZ8v/QXl5eVUVlZe/oZLdhIdMYONmVe6B40xyHh2BhHLUiluq000UFvLraqqCnf3CxUhTaaL35ZMJhMmk6lu2dr12pwzl6RHw4lKzq2ZYCf3cAH2pmKAztNk7Usn+2zbZcuxL46I++NId7TdNsCgJDuDwrPtHPBsAx12zdZqWI7O5pK+P5c2PX2nMth7oBCHsy030rZKMvdwKL9Nj9JV1XblzKD48B4yiq5eXs+V5JJ7qj2OrcHp/DzsjWyq4b3MkX+Q9GP2q5+Ns3lkZBe37TUnddrsPDanzZ+TpDPpsHJ2tbTHs4CIiMhlqgnGBTBhXCgTxoUy4JaAjs4TXbp0If53Cbz/wYeM+K/beHrtr/mv24bxLS8vbLa+fOc73nh5eXHbsKGsW/tr7rx9BP/7bjq/e/aFZmtAOI7vJGHZbCLuDSXkJ6FEzFpAXHIGdgCLP8GjxxDo3VZ7ZsZ7yBiCh/vSu6024UJtcK2ioqJumtN5cQTB6XTidDrrlm1JLbqMF2YTcW8IISEhhPwklPDI2USvSWRPYSuCS6be+I8K4a4B7XlEmmf2GUrI6KH4XH5L62+UtrxmATCKObgtgZioCMJDQwgJDWdGVAwJu2oeshuWo+wU4l8+xOmG6eQlMvveWNJdBNCyXphB+FMHr+xASJtqu3J2mv2b49mZ12670m4a3ssK3tpAwt6Cjs3UNej999+ne/fuPPHEE6xcuZJu3bqxb9++VqeTsTmKGRHhhP6k5nfzp1HEPJNEemt+N+nA89jmz0nfbNd3OXOQ/lQEIT/dSFZ7fYNs7FmgNYwsEqPCiXopl4uy7Swg5efhzH4xi2v/k6qIiHSENukz7kpl/vMof9n+Km5uXfD19WF86D2Ejr2b06ft9OxZ3fT1zNmz9OrZE7PZzNF/ZfHhoX+Q/JdtjLvnJwweNNB1wo50Ep5MxD4uhvhfBGEzOThdlEtGiQULgCWQ8PmBbbpvttGzWdimW7hYbVCtqqqKqKgowsLCcHd357333mPDhg18/fXXAEybNo2+ffuSkJCAh4cH7u7udfNcM7CfKsY6LZGUmb7gNHCU5PLeqwkkLCnBvCWG4Ba1mLIyYvpCRlzxnl5dZr8w5j7S0bm4drTZNQtQmkvSsmi2lwYz46E4Fgy20c15juL8DDLPUn3tdtJyJFdXm5az65TuZVdHaWkp58+f58svv6SsrAzDMCgrK2tlKgb2okLMY+NJmROIxenAXpTLh2+nsGlBGunz1xEztpM3GW+H56Rvsuu6nBWlsTPblxGWPaTsm0Hg2A5sVt8a5kBmL51KxpJ4tg7fwOzB1d2KFGyLZ6sxlfiHArk+OhoREZH25g5w/ONcdtVMOP5xbhOLt4/tr+2gwunEDSceJhNOpxOTyUTfvt+uW6bvt79NVVUVTmf1MuUVFZRXVPHqjp38qrEXrpJc8kqDiJw2Al8vACu2ASOwDaiZ70wnbtJWfDdsItKnZlpROombt5J2uBB7KVisNnxGRhKzKAQbYN+/kfjk/eQWnsZuGJit/gRPWcjCKYG4eswoeDmKhYUz2Lk8GJy57FyTwM7sQortDgyTBd8hocxaPJfgq/TV2c3NDbPZTHJyMpMmTaqbHhYWxn333ceYMWMIDAzkL3/5CwCfffYZ7u7u+Pj4EBcX1/INmcxY+gUSNmcq+99KIrcEgv2BfbGEbgsk8fkI6h799scRnuxLwvOR+GIn9fFI9o9OIW5cIw9mZ7PY+eJGUvbnUWxY8B0SwA1nabSfLseBBBY+k0bxWQMsvgRNXED0zCCslyxpkLs7gYTkdPLsBlhshMyPJ3q0FY4lMGOdmWVb5hJounCeswqLcRhmLP2CCJ0yim7H0kg7kEdxqRnb4GBmLY0mpF912hkvxbJxby6Fp+wYJgs2/xGEz5xLxG2X5uRC5nNJ3byJ5L1ZnHZa8Bl+H3PnRxLUxCqdQZtds0Bu8lq2OkKJ3zCXwLqaihYCrDYu1ON1UY7yEpkburX63/0iSNg0m5bX+y0gKWohBQ/tJGZkvWmPLqRg+k5iRtVMcmSQ9ORsco8VYMeK/+Wer1M7iZ71DsF/3EB43bVfQFJUNAUPJREz0kzW5ihid9Xch7wDCX14CXNH1VxVRXuIf2Y7mfmFFDsMzF42/EdPJ3p+GL61bwlOOweTE0jcnUGh3cDiF0QABgyvl49OXv7aspyBQfpToYQ+BWBmxOIkYseebr4clKST8MxW0o/XnBu/COKen93g/u8ga/MSYrPvIm5tJAFmMArTSXxxK3syC3FgpvfQ2axZHY4vYBTuIfGFJNKOFWN42Qi6ZxYLHgrG1pK+2IwCUp6M5h3/GNY/HISlwb0MwL47htC3qv9tGRtLyuIRTd83nbmkrEog7Xj1bxVeNvxvG8PUOTMI7tfIa6izgJQnl7M1sxiH04JtcDDTFy0kzK96ecehROJe2ktWfjEOpxnbuFgSF43olC+1//nPfxg0aBAfffQR//jHP6iqqmLRokV07dqVoqIi+vXr17oEzRYsJsBkweoXRNjDQdw+II6odevZOTie8H40e/zA9XmkJJW4ZZtIL3JgmK34j5xB9KJwAlz8vDqOpZDwwnYO5jswzBZ8xsWw4eGg6nNQcy94dV8WxaVmLN4jmPt0DCHWS5+TmiyvLXzOsR9KIuGlNDLyT2N49cZ/4jI2zKwO+tkPJJLwUhoHCx2YvQMJmb6AuWN9O2VZuRLXazmrZpCxI43z96wg1ieJWck7KRgbedFzXKPl0VnMnhfWk7Q3i+JSMHuPIGp1LGE1h6PZ8uHqWeCSe6mDrFcT2LjjIHl26O0fTMT8uYQPqNkh/0iiZ2awcF0iI56fS2BREvE7YMb66vt53bFqohyLiIg0VBOMy+P4x52nfc6RjEzcqB584P5pEZhMprr+fmr7Maut8WUymbh/2hT+kvIapWVlHMlooiMT7wD8vdLY81YuwRMDmn+Qcxwk/vF4CkZFE//nEfhawL4vnqiXC6r7iTLBufwMsqwRbHw6FJsX2DO3smLVWhL9E1k4tLktlJB1+CuGr9zC7CFWzI4CUp9dTtw6G4nrw7ka3y2rqqqYMmUKkyZNory8vO74VVRUcPvtt/Poo4/Sp0+fupfXyMhISkpK6NmzZ6u3ZZwtIOPVN8j1G8Usn+aXb5lidq6KIaXHbJZtWktAD4OCw2+w6ZnGg8aWITNY88eF2HqAIz+V+GVxJPonEd1wkITCFOI3l3DX2iQ2DLDA2QKKna6jDtXneTobn74bm5dBwdvxRD+zhYA5MaybH4TNVMyeZ5YS/2wqxXxgVQAAIABJREFUQWvDsOKgODsD8z0bSZnii8VpJ2tvIutXRVP8qwQW3ubqibWYnWtiSPWey5qkeHwpYM+LK4ld14uNa8OuSnloK212zTqz2LO3mKCHZtQLxLWQ/2w2bops28EVnGZ87okm+le+WBy5pL24ltgVkPC7yNZ1Yt9nKEE+iRw85iDcu6ZsnM0iqySAUTVf4QMmxLJlpg2L2aB4XwLL123AZ3AcYVbAnkVmkS9RmzYQ3MeMoyidxBVxrEwOIPGhAMAg9+VlxB0IYOHKLQT7mXHkH2Tr7zMoqctE5y9/bVbOADAT/Is0YkfXn9aCxk2nMjhU6MvCLRsItoLjrIHFBBcadhkU7Ihj7eERxDxd8+J2Np34x+Oxj40hfmkQNrOD4lM1Hxjs6cQv2wLTV7BldQCWUwdJXBNH7DYfNk1vpjQ7i9nz1HLSvBcS/3CQyw9CANZxcaQsunhgiabvmyXkZn7F8JVJzB5iqe6HKTmB+CUl8HwMwa5umyYbIYsSCO9jxey0k/HSMmKf2UnQhuoPM6ePHyTLOp0t68Owmh3YHeZOFVwpLy/nr3/9K3/605949913ycrKYt26dXz22WcA7Nmzh9jYWAIDAwkODubBBx/k3nvvrRs0qbWsoyO5b9tcUvcVED7dt9njB67PI33uYtbTdxHTp/o8payJZm3yYBIfbvApwpnF1nXbMabFkzTOF4thp8Beew6KSV0TzRbTDGI2xBLYx4yjqBhzH6BhE/9my2vzzzlG5kain8pg6CMr2DLKF4txmuLS6i4HHJkJRD9bQujSTcQMseDITiFu1XISvROZO6QzlZjLc92Xs1pn09l5wIf7nvfFYokg9KWV7MyMuPCc3ER5tL+1gYRsf2L/GE+QFRxFBRg1gdwWlY9mnwWqfx9jDwcR/XQKI7wNct+KZ+WKBKybYgiuGYvOd8oSog7PZe2zvRme/wbdZiYQUe9Zt6lyLCIi4kqXP76QgKu/jnTys1NQCdZevfjuTdWfvrp06XLRgAL1Bxj4js3Gt7/dBzc3KCr6T+MJW4JZuHYW1n0rifxZDAk7DlLQRK+uxW9tZU+PqUQ/EoxvDzOYzFitLl5vvKzYLDXzb5vBjJHnyDzU0j42POhmtWI2AT18CXsoHJ/jB8m+ir3NhoaG1vURZzKZcHd3x8PDA6fTycSJExk6dGjdvAEDBuDt7c0NN9zQorTzXp5NyE9CCPlJCKGTZhOzwyB4WuhFXwqvSPZOUvJHELU4nEBvC2YvKwEjgxncVE0dixVbzcOTxS+M8OGQne3ifJSeoxwL3n1qzmkPX2xNpevVreY8W/AdG05wn654Dw7CZgG8bIRMHEXv49nk1ntZ6dajNxYz4GUlcFw0yyZAWvIeXHaHfGwnKYXBzH0kBF8LYPElZM4UAo/t5VAn7z+5za5ZRwGFdhv+flexOYuRTuxPavo6rPe38NXLGFalRyDBowKwepkx9wkkfPECgkveICWztT3I+DJquDdZBw7WdTRtHM8m1yeIoJqybO5jqy5LmLGNCmdUn1yy8+slYbZitVZfeJZ+wcyeEkTx4czqwWKMg6Ts+oqQ+QsJGWDFbLZgHRBCsH+943oNlL82K2dXymzF2sMMmLH0qF9WDQp2x7H8LW8WrJ1NUM2s4re2k95vNkvmjMC3hxmzlxVfn+qbT8FbWzk4IIqF4wKwmqprgcyeNoKSfftp+lelmPRnlpNkmsWaRcEuagI3o9n7pgfdrBbMJjBbAwiZH8MM73S27m4sV2as3jW/bWYrQRPC8MnPIru03iJe3bB6UV1zp0fnCazs2rWL/v37M23aNFJTU7nvvvsoKiriv//7v5k5cyYzZ84kLCyMgoICJk6cSFpaGvfffz9+fn7s2rWr+Q245Iu/v5mS/MKa/2/B8XPFZMFW95sWQPg9QRRnZ7v4zXHgKO2KpU/v6qCt2Ypv7YeA7J0kHw9i7tIIgvpZMJvNWP18Xdf2b1F5beo5x8E7r6bBhGgWjq25l/aw4ettBuy8t20P1mnRRAy1YjaZsQ6JZNYY2L83q+WHtpP6ZpSzasV708gbHl4d2DIFEDrBm/Rd6fUGVmi8PJ4vPYfhZcO79v7UzxerCa5a+Sg9SMoOg/sWzWZEv+pnvIBxswi1HmTPRb/lNsIWzcZ730bSvGawYEL9T1RNlWMRERHXOmWfcVVVVdAFvi4tpazsPO7u7o2O7FlVVcX58+c55/iKykpwNjMyo8U/jOjfheHITydtVwrLZ21i8EMriB7XsMmDQd7xQnoPndvKmjVmrN69OV1ymW+vfazYOIf9LDRaraGVPDw8XB4/Nzc3TCbTRR2bt3Twhlr+MxPZNLPmCJXayT20nYTfLyTWuYnYMVfets2el8dpn2D8W3Es7IdT2JicRkbhaTB1o6vhgLEugiMDpjJr9DLio6I4OC6c8HF3E9inhQ9OJiu9e5yjoP6Irtbe9DJKcBhAI7W4Am4bimV3LrlOGNGg5pQ9P4/iU1nE3r+nwbZ8CHRA69+u209bXrONOp5EzEswa3WkiyYnTTAHE7szluAG62S9MIOYKx2h1yuAAD8H7+SdhtvqP6gXkLRgLltrKiCbR8WQsjz4onuO7+i78F6SzkFHCCEWyD2cTbehtTVkHWTtSiRp9yFyT50Hr65w1iCoiZifpY83lrOnsTvBVlRIgeHPVP/Gy/e1UP46pJxdAePYFqIPeTNjUywjetRNJS+vENvgwS5qGxoU5hXiOBRP5KT4i+dYrDicBST9vGE5qm4ClZscQ4YllITnQ1rWnLWBFt8369gYOtRG4vE8HLgI1JQWsOelLWw/kEVJKXTzgtPOAM5fA6MPP/zww9jtF37Df/azn7F9+3befffdi5a77bbbmD17Ni+//DIAp06d4uGHH2bChAmXueV61+flHr+idBI3b2d/diHnnN3oajoH1kDON1zONIKIOXtY+dRcFowM5b6J4YTU/NDa8/M47TOCwT0uSb2B5sprI6vVf87xKiAv38zgCS5qVDkLyMt3kJU9i/CX6k83YOSlXyyzXphB9K6a2qx9QonbspCgy7gW2ss3opwBOHNJe+scY5YG1W3ZNiacwOSd7DkVQngfmiyPtrGziTgQx9yoDEInhBN+TxA2M60uH40qKaTAUcjBJeFsrz/dgEDHxT9+xQfSKehho3f+O+zPDyfCr3abTZRjERGRRrj/7BHXwwl0ZO24fv2+Q/7/5XP27Fkyjx0j+I6RVFRUYDKZLmqK5HQ6cXd3J+PoMb744gsAvmNrWWdrFr9gIhYFE35PIguWxJEyuF4/cbWcBmZT679qmU0e1Q8Dl8NkxmwyMK7iC8v/+3//j6lTp1JRUYHT6cTNzY3y8nI8PT3ZtWsXvXr1IiQkhMrKSvLy8jh9+jQ9ejT7FH4pLysBo+cyO3MPMfszMMaEYDaZMTuNKxtpqjXHsmQncavS8Fm8hi2jbFhMBgfXRbLB5cJWghdtImjiQdJ2pLA2KpnB89cRM6YlDfLMmGlwnkxmumJc2oynPhN0bSpV/9lsrN+/3jWiza5Ziy/ePU5TmO/gkohs6Wly8+EqViK9mImmz2VjapqwX8yX8JWJjKktyl69L22S5zeGu322s2e/nZB7zpF5zGD4I9UP9o698cRsg6iVG4nzt4CRS+Kj0fWamLpgbljWmimbdP7y1x6/DZe43HIAmP1GcR972LouicGrIwmoDdI3c0+zjYtj6yOu+xnyvaQcVV8B3iPvo/eh7cRvDqruK641GW3VffMCs8mjkTkGGS8uZ2NJOLG/iyHQaoaiFBZEZbQmV51CYGAgo0aNol+/fsycOfOieTfccAP+/v4EBgaSlXWlNbUKyMtz4D3Kh8s+fs5cElfEkzEyljVLg7B5gePtWCJ3uF7c954YEkfmkr57J9ufjGT7qBjWzx/R6vLeVHl1mdZFzznN3ZcsBP8ihZiG3Uy4EDgzgcSJNeEgUzd6d+JAXEPXczkzjqWxNz+P4kdDSLooHSh+q4Dwmg+6jZVHS48gZq9PIjTzHXa+uoG5yd7MXhtHuA+0pnw0yRxE1JY4wpp69M1LIi75PPet3cjwA0uIfiqRwRtmE2iGlvy+ioiINNQFYMAt/ky4N5QJ94Yy4Bb/js4T/zX0B9ClC15e32LFqjXkffLJJTUg3NzccHd3JzfvE+J+U/NF1g3+67ZhrdqW2T+IQK8SCi55qzXj3c9G8fHcRqvdXwvc3NzYunUru3btwmw24+7ujslkwtPTk+PHj/PCCy+wa9cuunTpgru7O6+88grvvfcemZnN9a/UGAPD4EIQ02qlm72YksuMxln9/eldmEFGS09CYS65PYYTMspW3XExZixeTYW/wOIzgohF8Wx8xJ+DyWkXNTO92oqzcznt44uPi5cEq58/vQsPknGq7bbfVtrsmjUFEDK6Gwd37CS3NWXIy4LZOHcFQe3e9OphUFzUyqarZzPIyLcQ4H9pOMtitWHzrvlz2STPRsg9gWS9tYfiokN8eHY4I2oGlynOK4QhoYTVBiTNZrq25t2jnz++5lwOZjYeurwWyl/b/TZ0xewFRmnD43OZ5aCWJZDI1QnMsrxBzKqdFDgBzPj4+zTSpKt63uljmTXLukiykXLUzS+c2N9FE7A/lmUv5zb6AcTsZcYwGsy9jPsmOMg6XoLNz8dF4O80eXmnCRgdWv2CD2C5ockPEZ1JYmIiAwcOZNiwYSQmJgKwYsUK7r777ov+nnjiibrlhw0bxsCBA+uWby373i28URhI2BhfWnL8XJ7H0kLySny4657qAAmAxcvs4uNAPT0CCJ4ezYbfzcb81lb2nKq9F2S1oLuM5strs0y++Ps5yM520Q+syRd/H4Psw42X54tYrBeujT6WTtUHoSvfjHJmkPFWOr0e3sqev+256C/t6VDsb6eRVb/suCiPNTnBNjSMuas3EjM8l607MlpWPlryLODtg685i8xjTRR4I5ekZ96g67RoIv0tBEyPYYZ5J+tfyqredlPlWEREpBE1wbgAJowLZcK4UAbc0vFVrKdGTKbS6WTSfeMJHDSICVMeYP5j0Xx0/OO6ZXLzPuGJJ1cwNfJB/u//8qtfwEwmpk2Z1HjCRensfCuDglMODCcY9gIOJieRbgQy1EUMMuCecAKPbyHu5YMUOwwcp3JJP5DVdjVx2kBVVRWGYTB16lRiYmLYt28f77//Pr/5zW8YPXo0Z86cYf/+/cybN49Vq1bxyiuvkJyczG9/+9sWpV/uNDAMA6PUgb0wiz0vx7JhX1dC7qlpjuA/gqGmdLbWHEMMB8VnHU08WJuxeJVQUFhzlAeHM31IFptWbSQ9z1593s7aq5uCutLPFx/7IfYcKq7ZRhO1DM8WkJVnr17OsJNbeBq8utW8jF4dhYf3kFHkwDAcFBxIZP22EoKnhNbUPDJjsUBJYUF1HgaHEu6fy6anEjlY6MBwGjhKcskqrFfi8nYStyyePUVcMi21/rT8VOKWxZFaSLtos2sWM4EzlxDu3E7Mso3sOVaMo7S6vBU31RTcxx/fU4dIO2THMAzseQWtDKpbCBoeSN6uLaQev1DuzjXsR8dwYLcb4DSw5x8kcc1GMvxnEDG0VRurYx0TQcipNLa8/B5fjAyu+eIONh9vOLaHPbVlwWm0rrmfeQSRU7w5+GwcSYcKcBhglNqx17+ZXQPlr+3KmRV/v95k7dtD7lkD42wBuUUOWlwOmmKyEbY8jvtKE4nbXP3i5jt2KiMKE1mxOZ2CszX3xbwCHLXzTm0n7oU95NoNDMOBPT/r4ibxje5GMNFro+i2ayUJB1z/Uvn6+0PmHvYUOTBK7RTkF2O05L7ptJOx7yAFdgPDUUzGq3FsyQ5kyriaZwaLhW6OQgrsAL3x8bGQu38PubX5Nspbdrw6wT0uLCyMo0eP8uGHHxIUVN1xfWJiIrm5uRf9bdu2DYCgoCA+/PBDjh49SlhYWPMbMKqfQTAc2PMzSH0xhoW/zyNo8ZKa0ZSbP34uz6OXDz59Cnnv7SzsNefP0TCQUsdO7rHqewHO6vL3lakbHmaq7wU+GWx8KqX698tp4CjMpdhFkbqi8gqAlbsmhmDsiCfh7VzspWA47OTm26vnTQmBt9YTvzur+hmi1E7BsVZ8JC3NImlFDBsP2C+dtr/eNCOLlFUxJOxrv8+v34hydjadtEPe3DXq0g9U5iEhjDD2kJZp0FR5NIqyyK35omvYCygsMehqMdOi8tGSZwGvEYSP6036C/GkZBZX/z6eLSbr+IWPMLnb4tnuNZUFE2u6ZTH5ErF4BjfsXk9itkHT5ZhOXQ5FRKTjdMo+4wIHD+L+qZNJ/st2tm19ie9+tx8fffQx3/rWt+qWMZs92PXmbgC6du1KeUUFMx6YyqCBAxpN1yg9R8GBraS8WEjxWQOzxYptwAhmrJ1LmKtRwvqFE7sWNr64gbnJxRhevgQO8Oj0X1vrq+0DzjAM1q5dy9q1a13Of/755y+adv78+Ub7Yqpmxurtg7FrIeEvGxgmMxarDZ8Bw4lYG034kNoaPEHM/dUMEp6NZ/Y2O4bJjLWPD0GjfOjmKllTEOHTAli5bgmJT29itr+NsOUJdH15C1ufnEXcKQeGlxVfvyCmuOrDql840YuK2fDCXMJXGWAyY7F6EzTNRaOtov1seWo7WSUODJMF38EhRC2+OqPY1jmbQeLjiWSfMrB4BxLySDxzR9XmxcKIiRGkrYshps9G4if6ErEyDvOLW9jw8wiKHQYWqz8jZsYQ6FO9jmEvIDs7G+96L0V1084C/WqmnS0kOzsP65X2gdZCbXXNAmAJYu76BAJeTeKNZxYSX2THwIzF24fAkcF4uwqeWu8m6uFM1q6LJNQB1gGhRK9eyIhW7JNtwhJiStazaVkk62vvF35BNS8xgNWfod6vkvCzcGIdBuY+/gSNnkvCQyGXX4bMQURMuIHZm78g/HcX+texjI0mujCeLUsiiHcAZjO9vQMJb0U/br7T1xLfI5EtL0aztdCOYbJg7RdA8Kia0d5Mnb/8tWU5C5y+gNA1G1gYkQAWX4JmriBuoqX5ctAS5gAifzGbjEfXsnF4IguHhhCz9jwbX9zCwvtjcZgs2PzDWfL0bIL6hBDz9Hk2vpBEzE/jsBtmrD5BTF0ah29Leg/oF0b0/Eyifh9P+oBYghtmZeQsFh6KY2NUOHFOK/6j5xL7i5bdN8/npbDyZ7EUOMzVv52rFxJWexz8Qply23I2/Twe25+jGfFwDPc9s5GYyI3VfYd5WbANCG22P7uOLmONqaysZPny5WzdupXKykruv/9+EhIScHdvzWNU9e/mubeiCX/VuHAfG3oXURtiCfYx1y3X3PFzfR5DmP2L2cQ/u5ZZ205jAOYeNnxGhlxaK9GRy54XN5CWV4zDWV3GQpYuqGmmV3sv2Mj6RxMpNsxYvQOZujzuQh9Zta60vAKW4QtZtziRDS/HELnODhYbPqOjWLsoGOvwhaxbupVNybHM/n31fcs2OJwlqwOqB/9oTmkJudlZOIaev2Ta6SHnqOsPrNRObnYWxf71pnWA662c2fenkeFzF1Gu7pfmQEJGQuxbB5k7wNxoeSzYl8Lalw9ScNbA7GXDf+Rslk2vbhZtaa58NPYscFHZNBP4UDxxXhtJXDeXxFMO8LLhPyaKlQNsWIt2smkHTF0fcfEo6X4RLJz4Dgtf2Eno7yLwbaocX2PlUERE2ofbT+fMrRpwi39djbjjH+dy/OO8K+oz7uzZ6qfjy+p3jOqHkfKKCv5n7nxKPvuMny94lO/268eQ71/ok6Ts/HlC7hmP3W6nSxcTo++6k9+uewoPd/eLBiS42oz9cUS8GsDG33XefpXq69q1+tGoqqoKd3d3KioqgOqRUysrK+sGazCZqp8waqfVBuLOn3fZHa80y07q45HsH51C3LirOBJoJ9WZr9lrjXEontkv2VjzfGQrB4+5/qmcdRBnOnGTtuK7wUXfqiIiIiIi0mpdAI5/nMeuv6ax669pHP84r6PzRJcuXehqNvPi8xsYeuutRP/iSSKmP8iZL7+sW8YoL8dut2MyuTN1ykR+t+4puprNV/dly2kn93gx9pomSY7CgyRuO4jPyOHXRCCuVm1wrTYQB+B0Oi8aNdXpdNZNq60t15pRVeWbrdNcs9cqo3qQE6MknY2bMxk8PVyBOBdUzkRERERE5Hrg3hajpprN5isO5FRVVeHp2ZWn41YxZfJ9vLcvHc+uFyrAd/UwM/uhnzJ61J0M/+Ftdes03bSylU5lsPOZjaQX2nE4zVi8/QkaG8PKKdfOa/KCBQt47rnn6s5Hc+fFzc0NNzc3TCYT8+bNa48synWiU1yz1yjH/jhmPXMQw+LDiGkrWDjq+q9NeblUzkRERERE5FrnZhiGqj+JiIiIiIiIiIi0A7XbERERERERERERaScKxomIiIiIiIiIiLQTBeNERERERERERETaiYJxIiIiIiIiIiIi7UTBOBERERERERERkXaiYJyIiIiIiIiIiEg7UTBORERERERERESknSgYJyIiIiIiIiIi0k4UjBMREREREREREWknCsaJiIiIiIiIiIi0EwXjRERERERERERE2on74cOHOzoPIiIiIiIiIiIi3whuVVVVVR2dCRERERERERERkW8CNVMVERERERERERFpJwrGiYiIiIiIiIiItBMF40RERERERERERNqJgnEiIiIiIiIiIiLtRME4ERERERERERGRdqJgnIiIiIiIiIiISDtRME5ERERERERERKSdKBgnIiIiIiIiIiLSThSMExERERERERERaScKxomIiIiIiIiIiLQTBeNERERERERERETaiYJxIiIiIiIiIiIi7UTBOBERERERERERkXaiYJyIiIiIiIiIiEg7UTBORERERERERESknSgYJyIiIiIiIiIi0k4UjBMREREREREREWknCsaJiIiIiIiIiIi0EwXjRERERERERERE2omCcSIiIiIiIiIiIu1EwTgREREREREREZF2omCciIiIiIiIiIhIO1EwTkREREREREREpJ0oGCciIiIiIiIiItJO3Ds6A9I6TzzxREdnQUTkuvGb3/ymyfm653YuzZ0vEREREZFrgYJx15AnnnhCLyIiIldRU/dV3XM7H50TEREREbketCoY97Xh5OWD/yaz0M6xf3/BV2UGlU4nXh5u3HpTT8b9oB/ht/Vvo6yKiIiIiIiIiIhc21oVjFv3t1wOF5zmzu9ZOZB7kkpnBZXOSr40Kngvp4h3jxXydVk5D9wZ0Fb5FRERERERERERuWa1Khh3vORLJg79DtN+6ENq5r+xnzOoqnRSVVlZ/VdVSWrGiZYH40r3snzKWg4ZDaabzFj6+jN0TASzHhiFj7k1uXTh8DNM+8UeBv9yNyvuusK0RERE5BpiUPheElu27SXzRAkOLHh/byhjpkUReac3LXnEcHy8iw1PbWLvf3yISnyBKd9xscwnaWxJ3MX+7ELspWDp68/wcbOImjwUq6mZHP5nP0mbU9h7JI+SUrDc6MPQsZFEPTAK76YyeOgZJi5Pw1F/mtmM9UYf/IcEEzJxAmO+Z2nBHsrlyt44k0Vv+rBs2xrGdPJDbfzvSibG7afhY/cl+k9n8x9mYfxpDo+8YmVB8jomWNsoU67KMIDZgnf/wYyaMIvI//bnSg9tXnvsS2sYJRx6LZmUfRnk/acERymYLVa8+w9l1IRIIn/s06J7U1vL+8NMHnnNm8WvriO0Dct3i7ZTU1b8F25j3fjGT2LDa7K99qFTqX3HdnozJX4zUd+/tDQVbn2EOa9Yr4l7V50P1zLxl4cYvmYHy4Z3dGZa4NBaJi4/xPBf72DZ7Y0sUxcPMTM8ehtr/tv1yXC8t5KZv96PwzycZa+uYYzXFebteomPtGWZaIfz16rRVMsrKnhu78fc+7u92M+VUul0XvJ35lxpa5Ks9r1QFjy2mMWPLWbxYwtY8D+RjPFxcGjrShYt30WhszWJOUhbPo5F20tan49r1UfrucPLDTe3xv9uXnzgqm829eFeeAWtIaMCqDhAdIAXNy/e27KVKzJYE+RFr4dTr3q+RETa3Kd7WT87hME2L7y8vLANuoPIX6eSX9aCdctySF54B708vBj3Bxe/VWX5vP6rSO4I6IWXlxe9bIMJmb2evc3+rJ3hwAvzCRliw8vLC68Wr3d9K0ldyaJfJ5P9reFEzFvM4v+ZwGAjk+RfL2L9+5eEABpwkL19JY88tonMr5p4Nf4kmeWPPcNbn1oZ88B8Fj82i3t87Oz/w1IWbcxsOvhxMo2Vj60k+Z8QNDmKxY9FMWGAUf0MlHDo0iCFCz4/jqp5jlrAggcjGTPYQsn7W1g7bw5Lt2a3KI1vDOMQa6fMZFPO1VnXOiSUCeOvwofjdmAeEMr8hQtYUPv34Ci8TWD5/oQL0xYuYMHMYNo7XnWhDNeU4xn34O/M5tX4RSz9U3bzAcT6ruQctwdnIbt+9QjL/3QQw38MsxauYEXsCuY/eA/+pYdIjnuEpdsLLyzf2fenk7mWrsk25yxh17NJ5LXqXboT8x7BPfdNYIStozPSBkwGmf+7F7vLmQ4O7c3E0cyHvcZdL/ERF/vRWcrEZZ6/VtWMm3LbTXzhOE9lVXVNuMrKSp7727+orKz9fyeVlZWtzru533AmhI26eOLkKYRsfIRFr20h6e/3sOz2Ft5RjWxyjhsYP2h1Nq5xngQt2Mzq8d54upjr9d1Bbbt5dz8mr3qWYd8d3LbbERHpaI69RIeO4zn3Sax+fjd32KD4f5/jyVWTGXdqN0cSxri8DwOU/Wsz82dGsxs/erlc4gyvPxzC5DRv5q1KYn1QL0pzd7M+Jppxx8r44MByglz+cpeRsTaMMatKGLN0Na/9ZDCe+TXr5cKR/13CoG/ikE3ObFKSD+G4ZRabn5qOT82DUOiPfTEeWsveN/YSdeeExgOqWGXwAAAgAElEQVQPh19k5dbC/8/e/UdHVd37/3/SxOnkOl6SKHViIZfR0TZTXE2wpCYE+2EirQlfYiGgXxOxjUGp8sMvJujFpFAxkWtJ8EqIihijpYmrQmKFRUI/lOEWIqFYSe4SE6+NhkbvZfxIQ2inH6ZjIt8/Jj8mvyc/mGB9PVyzMDPnx95n73Pm7PfsvQ/Rq59hSWshD7wy0EIean61iwaiWVWQT8qUzrd/kEDE2kyKfvMGx++NJmGQX7Ebdpdz/FwkaVs3k3GDoXtdc85Sthx6g+M/iR2210L4jXZSkn1zkcbycw2Ub8qh9JUcNplLyL/1UugOdAk4VUeDCxKGX9Kvdc2z01g1e5zSdrFdE0uSb6/OT+HgL2vwWOaQsiB6wpIFA9VhSLkjifI1D1D6WhkHF+ST5G8VHksZB0LjG+x624X1RyU8c3ekzwcJJCXPwbz6AcpfK6NmwTrvdeNSz48/OoBRBxJG5gt1Tl5k1ptjaX1rN0W/TuKZVPNEJ2fspttZvmKiE3FxREbZcL5zEMcnKSy+us+H545w8IQH6w2RNH0wio3/o8RHBsrHJVInRlt+Q96a/+rt/6b6pJN3Pz5Le3s7n3d0cOHzDjr69Yhr9wbiOj+/cH4XfHYUJv0Tkwy3wlfnjiJLBmz2BCJ/XU5TQwuer+xhac5BIlfsZPMPe38bu36Tw50FDSRkfI/60n3eiOSOpczbYSbl6Z2s6l7SSf0viyjaW0/LOTBdE03K/Vlk3OyzvXMN7HmplDeONeA8B0wOxzoziYx704juusE+voWF6+uw5+cTc6KI0t800OKC8GnR3HZfFhmxE3PDGxZlJ3neRF1ozcTdlUncBO1dRCRQ3Ecqqfw4iqwDZWR9p/PNm+OhMYLUvZUc3WLHPsi3q2NLPg3zyji6+jQrr1/Zf4EzVZQdOIt9/UG2PWDp3HYcNncdltUVVL2XQ8yMgRLloHhrLREZB6nY2BkMTIhjZnsdEQ+WUfleFjkDrfePrsNEzMIM/mX6bd2BOAAm2/jWNKj582laOxh8GOnXEsgqXknsNAMtrw62Ew/muHQybrJhn+L7vhnbDWZ4pxXnX4ABg3EeTDctYfnXzdhv8P3RMZxvRUXC2604z8KoxuhNtpGWm8WfMh/H8fIuGuYux9aZT88H1ZS+vAfHyZ4htdHfW8Lyu3sPi/WccrB9Rxk17zhp7TBgviGW2zNXsXiGN0H1W+9k7W+s/YbMNBTfyUNVPe837cjkgb1WNhTP4d3i7ex/x4nHYMZ263KyfmLD+VoR2/cep6UVTNcl8uO1K0ma3pMQ7zDeMhwnWrzDeAcYAty9jx1JtDy3nTdONNHaYcJss5OxZhX2azqHZb3SBMDu1fPYHWJnw+vrSAiC1vrdbC+rpv6/Wmj1GHr2cUc04Qy+bviO/sNU/Tm+/qT3kvG3BnY/X8SuY4On0Z8yGrGgSOzfs1La2EBjM1z/60weeA3SikvIuM53QQ/Hn7qTnDdt/DillZd/1b+cuu+O/cnLRS4/z6ettGLAGjnAPbvBSvpTv2JJSDgmw9jq7MjS6aHlt9sp2umg4RMXXGUjYfFyEgdIvz/7bXh+KQ/9xsaGJ6+n+t9KOf6XBPJ3ryM2yP/9jNbAQ8cN8MlxSp/azv7/dNKKichv38by1RnEdl23j21i4c8auG1jFoZdm9j9joGUp3eyPArvui+U4fjPJpwuD4bJkdhuvp3l96VgNQ2+/vz7Yvjd88O0X5/4lf+dTkbIcGM6yw0NbPplEdVzhwloH36c+U/Uk5j/Og/7Dvd783Hm/8zn/a528MYNWN8sovxwE06PgcjoFFY9koH5ZClFL++n/iMXhqts2O/PYtUtPnX9fBOOV0rZdbiBllYPTDZjm307GT9KwTa5c5nByuLcAEMSu9rub3rb46ZrbNgXLycjeZjh7f6U6Qja/K739/DCtl0c+aDz+21uBstH8BuHwfZdoj8o5aCjhcV3Rfb6rPWwg3qiSflGa/9g3HD5qC/izrV7xhYf8afMxlovRpsP1yjrhD/lPwKjLb9Bh6n+7o9/pvDA+5z8uI2Ojg4u+PSG654jzne+uM4XkyYxaRJM4gKTOtrgb6/CZ00jzxHQNVmCpwMMN91GwtUe6h0OenewdHHkcD2eKXNImn8Pm3+WQmQQRP4wn+eezyf9hp4lna9vYnvzt1i8egMb1izG5j5O+VNFOM51LuBpoPTRtRQddhF91zryCzaz4UcJGE6Usja7iPquEbhBYKCV+h2FVIfczrrndvKr59eREFRP+Saf7Q3AebKW2j846RrJ1PZeLbXHmmkb3REauVPFJIZEsPL1OkoeTMQWEUbIFRHYkrOpPOWz3JlaCu+J59qwEEKm2EhcXU7d3pVcGzKT/JMDbLffMFU3daXZzI+5lrCQSd592NPJP9C79Iy4qduxrHs4VkRMar9lRESGsmXLFj755JNBP//kk0/493//93HbnzFpGx+ePUHed/q8bzRCsHHgmEun+I1HOfrzZCyDdZ27Ko2K02c5uMrSf9sYMQ72E5rRTkFtAwc39u6VF2qOILTdzdlLaJxiQMvLEElCahopN/VpgZxvoeUMGCIiMQ8VKJgWS+y04RpJJqxzF5P2A1ufG38XLS1OMJmJHLgbJGAg8uYUFv8wtk/vPA8t/+2EEDORVw2z+yGTlsDtc81w5jhHum4AP9pDTvYW9jgjWbImn2cKNrDKbqLptcd5qKCmZ0jr/1STs2YT+/9sZcnqdWzITifGc5ztj66lfKS/zBvw3mMVH+TKJfmUvFzCurkGGn5dyKacTZS1ziHr6Z2UFGRg/aSabc/s77nX+9TBpjWPs7s5kts703v/90zUv5TTewhw5z7K/q2Mv34vi2de/hUlG1IwN+2hcPMenEDkgnU8c7cNCMf+6HM8t3U5sUHAqXJycrZz/O/RpGfns3ljFuk2FzU7cni8wpuSQdfty9/j60d6B9ZGY00ttU1dd5Jumv9QS+17F+tOspWDW4uom5LCqsc2sO7uaAwNeyjcvHvkZTQKBkPn+dcB1nmJWGnB4WjovZCnnoNvuTDNTOT2JUOVkx95uejlBwbL9UQGeTj+q1KOf9r/6BgmewNxMLY6O5J0et7eTk7BHlq+dhtZ+c+wefVthB8rZHtNny8PP/drMBjgfAtvvHIQ020rWZd9O9agEexn3LWwZ/N2miyLWfXYOtbdYcNzopzHn9jdMx3SV74KuGjYVUr9NUvIemwVidd4j1/RIzmUnzSQcO868vPzyVoQifO3Rawt8BmWNsD635/rR/t15sDfMePRZvR0mLDfn0F0x3Fe3lEzPlMWdLWDX9pOvXU5m0tKeG51LJ63y9n0s7VsqoLbc55j544NpIQ3sOfp7Ti6dtzRwu71a9n0m1auvyOrs60djedwEWsfK+8ZTjtYWfTV0UT5Y2spetND9N1ZbPhpFkusrex/ei2P7x3iLPS3TP1t85+rofCnRVS3RrLk0c1s3rCcObxB4csjGGJviibh2waaHAfpHTlppcbRAN9O4LumPlvzJx/fSB9bfMTfMhtLvRiHfHTzp074W/4jMcryGzQYd/C9/9N/TrjP+88R9/nn7d3/f+HCBa4IMcDn/xc63D2v84dGkyVa32nA2WEg0mKGIBtJ9kh4vxrHKZ+Fzh2h5h0P5tm3ET05nEhLBAbAMCUS63WRhHdf3zy0fDWRDT9NI2l2LAk/yPB+Cbvqqf8v7xKuQ2Xs/sBA7Ip8Vv0wgegZNmKTl7NhRQKm/9lP2SGfounw0Pr1Jay7OwHrlHDCpyeQsbj39gb0zjbS58STXtrs/ft0BSvmzSR1cx3+TDU0pPbzuN3u/q92n2WCAdqoWp9L47wXOXH6LGffKST+j4VkPlbeeYF3Ur56EdkHwsgsP0HDW2WsMJWQ+ZiD00M1Bn3V5JL6YCXGe17kaONpGt6qJHdGMwV3pFN8qmcxd20e2bUx5O06yolDJaQbHeTen4djzAdDRL4MnnvuObKyspg9ezanT5/u9/np06eZPXs2a9asYceOHeOfgHY37rZmakuzyd0F9tWZxA1xjQydOoLey+3gdrXRfKiYFU9WEbFwJenfHGxhI6HTo7D0Cty4qT1wlDZzPPZLpFfchJaXx0Xrp05aTjoozSuk2mVl8d2JY54Yvs9OcH3aivODeqqfz6HoLQPRd6cTO8JOD57GMsoOu4hMXkLsGCdptlojMXQ4cf63B/Bw/Fdl1HtsZDy+jsW3RGObEYv9RxvIWmCm9XAZez7y5qP+Vy9T74lm+RPrWHxrAglzF/PwzzKIDmqhen/9yBPS0Yp5bhaLb4okfEokCXclYQ1y0fB/bCz/iR3r1eGYZyzm9tnheN6vo8nTmY5XS6k5H83yTT3pTbp3AxsWhOOsKmP/p733YfreOpbPtWIODycyNoMls0143v89DeeByZFEmk0QZCD861as08MxAK0tfybcZidj7SpSboklOtbO4uwsbrvaQ8PvaryN6EHW7c3f4+tnegfR/Fom9rj5FNZ7b5baDuSSPMtO9qGLEJDraMHz7XXk35dEws0J2O9aR8ZsE5736zrTOMIyGhEXDe80QVAkkf8CTLOTGGXAeegg9T5zYHlOHOS4y0TsvARMQ5WTH3kJRPkxfTGr7rZheH83OUvvZOmax9nyyh4cb7fg6ju311jqrN/pdFGzdz9OQyw/zl2O/SYbttgklm9YzrfcvcM3fu83COhowjVjHevuSsI+20b4CPYz7jqceGLXkX9vZ9nfvYF1PzTjef8Nqrt+XAgCQ4eLpqBENqxZjP2WWKyTgU/+xGcR0ST9ZB3LkxOIvSkW+93rWD7bhOutg9S7hlg/3I/262DfD+PVZrw6hVV3WXEd2k5p/VhC4z46PLisS8haYMMcbsZ66xLs10Dr+x7mrM4gdno44dNiSU+JxuBq4N3O6ITrzVLK6iFhzWYe7m5rryJ/jR3D+7so65rHdbCy6MN1uIxd7xuwr85n1Q/tJMy2k/boBtKv89Cw30FL/1W8/C3TzrwO1+ZvPbSL463h2FduIO2WaGzRCaSs3kDK110j+DHCxJx5sZg+cnDwfZ+3/8fBwfcNxM6b0/9+xZ98hIwxPuJvmXUeq9HUi7Hno4dfdWIk5X8Ry891qGzwYFx9y9lBe7953+t5v2ueuElMYsGs6eBpgM890OHx/vv3d4dOu+evtJ5z4ep6fdpCw2+KePylejzX3MaS2d6kd/0idvBAT7zRdayGeo+ZhHnDz1Vmm52AbzPIdFUEBjz89W/e06ShvgGPwUrCrN6/T5tmzsFm8ND0TlOvE8p6U3Svg2oKuxKTz/YGYr6rhIqNFhyrU1l5oI3QuQVUPJtM8/pUMnc2D5uHwblxrL7WO2l339cV8ylx9l6WuVnkLbRgBIzT00ibZ6btrRM0tgPOfZTtbSNudQE5SVFYpsew6MkyVlhO+33xdzY2cjo4iuQMO1HTzVi+GUfalkocewtI7W4sumnDTt6zK7BHRxF1cxq5D9oxOk9Qd2oMh0JEvjQWLlzI9OnT+eCDD0hISOjV4+qTTz4hISGBDz74AKvVyoIFC8Z35+115MaEEBJ2LfGPHCXq51XsWzV+83M6VkcQckUY1ybn0Ty3hIO/SGMkExE492aTueMs9vU5JF8iT0qbyPLyvFnI0rSlZK7ZxO6PrWQ8uZmMqHEeGvTpfm/j+idr2fIbF7ErNpP/w8jh1/NN5/u7yflZOc4bMlj3I9uYn6hoCDEBHjweD3Q0UfdOK0z/LrG9ehkYiJ4Vg6mjhXcbXNDR4l3uuu/2DOECmJLC5j372LliFPOLBUXyrRt9KuLkcMKDwGT7FlafHmbhk03Q4eKv5/Gmo97pTUeYNw/eF1hnxRDuaaDupKfXPmL69IIMDw+HDheuIW6uw29ZRf7mdaRM802vmX+ZApz7c/8AyWD8Pb5jSm8oyVv2sW1OA7lLMin/2EjMugrKlropTkun+OQ4/5oZZGVOgm8dNmA2+6RxpGU0CM95n3bAORet/9OA45XHKTrsIvyWJdx2NYAZ+zwbhk9rcLzdtU0P9b87jmvyHBIH6WHkf14CUX7e7dnufoadz28gI9mG6dN6qn9ZxKZ/zWThwqWs3bqHhmG6Zoyozg6Xzo4W3m3ywPQYYnwDHiHRxH679zEd6X5jY32O9wj2M+6CzMQmWHu9Zft2DKYOJ03/1ftgW2f16ak8LYmH/20zD8/1fben7rT+jSHXH237dTzbjJGpq0i5xsn+58fvYQ7WG32+n4LCuXIycJWNaJ8fBQ1hV2LChavzGDW9XY/LYGPOtw0+1woPhhnfJdrgouHt3n2K+pVFHw313u1Fz/T5bgmKJO35fewrTmPQb9+RlumQbX4PDQ0teAxWvtvrqbXhzIntXeeGY5qVRKzJSc2Bnt6/Lb87SENILImzBriRG2E+BjJcfGTEZTaKejEe+ejiV50Yx/35Gmn5NdQ3DD5nnLPtb97hqR3eOeK8c8W1c9kk+Ma0MC77yiQudHgf2HDhwgX+6avBpH53GinfegvOO+Hzz7yvC59B+0eD7QYAz7Et3Ll4S7/3w2eksGHtKqK7fhWeZicxqoztv6um4d5V2II6u/hOW0ziQN0UezFgmtzndA7C5ybXxZ/PuiAkgiv7HquQcK40gevsn/HQtY4Bk2k0rRsjMWsrKPsontS0VCwH9pG1tISKj+djfzCVbLODgnmho9pu3NoKChcNMBYmOJSoq3ovGxUzs9dQphBTGEa3m/MATY00ukOxf8e3UWlm/oKZGA/497Rc89xk4o0ryZ6XTvM9qdjnxhM/w0xMQufp3u5NR2iMnRifhISGhmGkmbPqGScifjCbzRw5coQ5c+bw4YcfEh8fz9GjRwGIj4/nww8/ZPr06Rw5cgSzeZzn1AyOYuWrR5n/6VkaDpVQ+HAy852V7Ptp3KAPcBiJ+EeqOJp2ltPvVFHy80wSF51l32sriBp2426aX13J/PsrCF1TQdl9luFWCJiJLC/Dt9PZ8LNEXOecvPvmG5Q9msm7P9lM/oKRBcuGNDmW5T/bQKurlZZ3jvDG8w+R2ZDF5kftfgVSW98sIuepPTi/kUH+hjSs49A+dZ1rxYMBg8kAtNJ6FgyR5v7puTKM8CAPra2tgHeuOsPXw8fxqZomTL51N6jzbiqkz71Ur6GfnXPmfbSdpfO3D7hVb3q7cmPCdHmfBfyZr6yjleOvvcyu39XR9EkrHg94OjzeSedHNHebv8e3K8+jTG+whcxfVOJMSiZzYTbmAwUkb93HNmc8KxdmEnGojEVTR5LuoZgw/fNQaRxpGQ2sYUcmC/t2hg0yYb31YbJWJHQfsfDZScQ+v4kjvz3OytgEDJ56at5yEX6Lvae9MIa8BKT8uta+LoG01QmkAZ7WFhr+8zhHHNXs31vE2vrTbC5ejm2wPI2ozg6XzlZcfwGDpe/5bvAG7caw3yt7NUtGsJ9xZyai75D/K8MIDwLXORd0p2igtHhoOVxG2d4a6puduM4DHZ7ODhp9g2kDrD/q9us4thkNNtJ/koRj/Xg9zMHQ/9odDIRcgWGAc8B7rFycPuPqfDrw/IG32traq609dL1w8eczHgi5kitH3IN8ZGU6dJvfw1//4oKQKzH1SYdpykA9qIcQEk3SLeE4Du+n/j4b0YYWDjqaCL85g9gQBujpN5J8DGT4+MhIy2zk9WI88tGTXv/qxHjtr48RlZ839jRoMO7zz33niPMG3W654WtsTb8MI+8Cn/ks3A6fn4fPXofzbm9vuM/bvf9eaIcLQ49rNMxIY8PdMT5RVAOmr1uxTulbfb2/iJU+XcP++uXYrN4uvta7EhlZ3HmihZK8PpfkV9MpeNZB1gvJxKzJIf2lRIqfriB7XuaIej90CbHMJO5m/9YccqjpX9s4TwihfSpx6FVmwM9fYqwr2FdroXhLMWU/Tyd/tZtQq530xwooyIjpaaga6d1o/TI+7U9ExmTq1KkcOXKEW265hQ8//JC4OO+jZJqbm7nuuuv4j//4j/EPxAFgxDwjDjMQNzcZe1gitvW5FC89SNb0cdj69BjipgMJdpJnGYmfk0vurnQqlg51891G7aZ0Fm1sZOaTDirWxIxLYHA8TVh5hVuJne29W7An38a3nljKph3bqZ49gqc0Dsdgxtb1PXxrCnbLWjKLiyj9XsIwE3R7aNn7OGuL6zHMXcdza+y9HqQwet5f7AmK5PrIi9zz5GKakcbm+787YKPGdPVYC89Dw46HyKlwYV2QwbqVNsyTvYHLg/+2lvJLaL7FXkxxZK1PpyS5hOK9udiXWsjcuJLiWXkU7Gxk0brx66XrlzGWkfWH68i42afh+lUT5ulWzH3bwJMTSLzZRM2xg9S4Ekg4WcMRl5nb7NFj7kU6kQzhkUTPjSR6bgpJLz3EA6/uYddbGWy4ZaBcjX+dHbTvYkfvpUa2X0O/4KR/+7k4LhssUNr3/aDex9z1ZiFrn3BA9GJ+/Mgcrv+aCUMQtLyew+NVA21vPNuv49dmNMX+mOU3H/E+zOGWfL7l53rjywCmaJY/kd79QKFeTJG9z+N+x3J8jLhMR2vE9dpA9Dw75qr9VJ9YSXR4NTUfhZOwInbA61tg8jHCMhuFgJXHRd/fyMoPhgh9RIaF8MfTbd3zxFmmmHj+7s+Y9NkbXOha6MLnTPLtAff5AK8Ln0Hwvwyd7vDrib3JvyEP4bOTiN2xid8frsd5pob6DhsZ9vH4VdvElVeZoP40f3YBvt2nz3vfM1115fjMLeNupPieLKrMK6jYmAztTirvX0aJexHbto4uEDeujEZCOI+7Tye4tjMjm4vEaE0m69lksp6FtvcclG3JJvf+VJjewLY545heEfnSmzp1Kr/73e/43ve+R3Oz90eDrsDO1Knj1kUEgLb6KqreMWJf2ru3kyU6igh3Bc3NwPRRbtxZS+WB00QkLSLO51d844yZRAW30XiqGYgZZGU3dZtSSf75WdLLD7Jt4aXTI66vgJVXawOON5sw3HgbCdN9b4VM2L4RCW96H+Qwpu5fHU7qf3uclsmxpPT5QcxssxIeVI+zpRWG+LGs9VAhOcX1hKfms/m+6PGbx+7Tg7zxZitcdzsJ04AOM+Fh4PnU6X2ggc+ink+9T0y1TQkHPJgHW+5cKy5MhE8e/Pbb5RqneYkIxxwGnP8q4VG2wYccjUVHAwcPO2HGcjasTul9DzbibPh7fMfBqXIy7y+BhSUU3BUKZxxkL82jeU4ejjWBDMSNTxmZIqOJ7fuglQEZiL11DuGHDnLwWCumt4/guiaFxHHJciDKz0XLsSMcb/0Xbkvu+9AXAAPWGddjoqlPjy0f41pnAcIJN3nP7d59GD04nT7vjHm/fu7noujswenbvms7S2sHWPv2DOrFQ72jhtaQWNZtWO7zdFZoHcHBHnX7dVzbjOHY78+g+idFvPxSDRv8PFnH73puIuIqE3g8XD7N1vMUzjFtzwBvn8Z5jt6niquV1vMGTFNMA87tOR5l2sPAFZcb4PyfvT2sfLfndI58izckYr9mN3t+d5z68BparraTdeNAC453PgYy3mU2kPHMhz91wnBxj5vf5eeNPQ06Z1ysJbxnXrgLn/Pda6fwlc9PMqnrvwsdTPr875294Dr/7fD92+dlnDX2jHWZnEDiLBOtx95g+/56sCViv3qA5TpGfjBtN0Vj6mig5ljvuQNcbx2nwWPAFj2GbovdnFTeP5/sd+LZ9vo2ks1tOB5LJr3aQu7rZWReCl38ro/CEtzGiZO+veCcOKqP+j9n3B+qqKzpmagu9Jt2VmzNJdl0msaT/SftFhEZq2nTpnH48GGmTp3K9OnTL0ogDsB9pJDM+7Mp6fNk6eaTjZwOtmCJGMPGnfvIuz+d3F19ngJ28gSNbiMRUwffuHNXJqlPnib1F1WXdCCuS0DKy93AG8VFFL5c0+fpWK3UvdMCQQMMXRoxF78vL6JoWznH+/QMcdY30NphItw8RGPvo908/rQDbt0wvoG4c/WUPvECx8+bSfpRijewEBTJd6PD4dTvOd5rBhEPDbX1uAxWYm40eeeYujEcTh2hxne5cw42/fhOMouP4wFMnfO7tZ713VQDv28Yp+5kQVZibjLDqSMc7PMEV9fxcrY8X02Tf7Nn9GLoAE93jwUPrvNgMPUeOuc6vhvHR11LDLZu3/T6eXzH6oyD7IWZVFnyqPhFGhZ3Hfl3pFLMCirKs3pN/3HRXaQyGorhps4nVP62iDeOuYj8XmKveQdhmHIaTIDKr2n/C2zfWkjpgLOEu6g/VocLM5GWnho5ljo7rKBIrNcZ4FQddb4XynM1HOk1398Y9+v3fi6CjhaO1/YeJNb0n+/iCorE9o1hhiC6AUOfIYifOth1uBXw+Nf7yd/2ay8Xoc14TQrL7/A+zGFXU5/PLr8CEx7vtE3dXNS/PYIngg7DepMNk6cBx6E+9zif1rD96dLe3zf+bC/a23Y/0qvt7mT3T5dy55rB5scbpzLtZsD6DSt4mvh9r3rspOZY34PshyAriXYrnv98g7LaViK/lzhwj7TR5GMU8ZHxLrP+xjcfw9eJ8S7/PvwuP2/sadCecf9v7HTKa96nvaOdjvYOLguaxIULnp7ecEP1hPMdpkowTF48hhz1ZSD2B3MIP1RNTauB2OyE3r8ZXX454UFQX/MG1V+PIcKagL/TDJtuSWfJ7uOUPp/DlvPp2K0mXE1H2PXLGjw3pJFxy1i/gN3Urk8mvdpM7l7vRbSxKJX059xkvlZBznfGdvd09o9HcRwaZPhSiIX4my3+DVeamsyiObms3JpNcXQBqde7OVGaTclHEX4Pdzp9IJf0rWGs2JJHZpyFsPbTnNhVgsNtIX2WBajzc0siIv6bOnUqhw8fJjg4+KIE4gDMd2WRvjWVvLvSMa7PJH5aCGffKiNvo4PQpBdZ1PnE0+ady1hWavk94ScAACAASURBVGRF+TYWmQHaaKxp5PRn58HVyFmAruv2ZWFYomOwRGeyIqmEZeuTWdaeS9qsCPjoKCUbC6mbmk7egs7fweuLSV1VSdT6feTNM4LLQd5j5Zydk8ciUwOOQw0+KQ4hIiqOqAnvdt3fRS+va24j/QdvkFNVyEM575J0s5UwztJ0rJr9x12Yk5dg77yJ8Pw2h4VP1RP96Ovk3+r9Lb213sHv/+fvwGec/S9vA+Vdxx4uD78MuIJvzU0gMsTKkqUJOJ6q5vE1fyVlXiyRps84+19HeOO3DXBdGku6hqh+spuH7t2Oc24+v8qOBVw4Xi6jwROJPdLJkarqflmIiE4ieph5y1rfcbAn6HIuAz47f5Y/N9fhOFyP0xNO7H0bWBnbdf9iIPrOdKIPF1G6YRP8OAnbP3v401u7ePk3rZiT13VOlN+zXFluDn+/M5Hrg1o5vq+MGo+VtMXeIReR344m/Jd7eGOng+h7owl3t1Czs5SGkPGb/yn6jjRiD22hfEMOLL2dmKuh9f0adr1ajdO6irQRzhVkmGzCgJP6fXtwtJqxzrISbTPgOLGL7b8JJzESnPXV7KoxkTDLxO4T9Rx5q4nwGVbC+60b23frfh7fMWhvpDjNG3jb91oWMUYn5Wmp5H2UTMmBAuxjDi6P3HiX0bCCvE+o3PNqDceDrGTM693Fp38Z9y2nwQSg/DBhz8zgYGMRe3IyaZpt57u2SMJC4LNzLbxb66DmZCvmuRtInzFYfvyvs/6mac78RF4+Vs0LTxTx2cLvYva0UPN6Nc6rw+EU3sZp0Fj36+d+huGs38/ujgF6PF0TS0ps/y86D0CQGU/NJjYFpZN0gwnXB9WUVrRguHEVSdcNfWy+NSMSw/EjlL0SiykuHFfL73ljdz2Rc6Op/3UTv/9dPbG3DtcrdJj2az8Xr81ovWMVKQceYvdhwOBzbnwjGpupmuOvl1LzjXRsl7to+u12dv13OKagYZ4o4ifT7AzSZxxn+44cHnelkxQVDmcbqC4vo+ZvsVz/oxFur7vtvpZN5xYzxwwttbspO2kgesXtgwRBxqtMe5jn3kbsq1twbM3B3Ho735r8V5ocuzn4VzMmnMNvoI9IeyLWX26nHisZ9sHPJ7/zMZb4yDiX2cXOx/B1woRpnMu/L//Kz5vWQYNx06eY+OUD/4vS/2jkk7a/EXnl5Uy60NHZ280n+HbZ9d7A24UO7/xwn7d3zhPXAV/5Zwi7B4K/NsqsDMwQfRv2q6vZ/ZdYEmf3uZRNnsOS1P00VexhW3E9iatjifb3ehVkJe2pzZheKuWNVzdRfc6DYXIktltWsflHKeMwkbKRuI0nOL+x552oVQc5vWqs2wVwU/d0KolPD/KxNYujjQXE+bUtCyteKuP0g9nkpdjINkVhz8hl2yMVxN/T7Ne8bjFrK6hozyVv4yKKTzlxB4diibaTWb6P3JvpfICDiMj4s1gucq+wq5LZdqACy/pCSlbPJ/cMGKdGYc8oo3h9Gl17d3/cwNHaEBZ1dSlud5C3IJVy3xH/m1NJ3AwER5FT20Dedyxk/sJByJO5bNuayfxTbRBqIWZeFhUbc0nuami7mqk7dhTOdP59qpajH0NbUy7z+8VzjNifbebgA5dgNI6LXV4mYlc/w+bIlynbX0PZ83vwdBgIv8ZG4n1Z/Dh16J5oTb8pYstve/deqXmliBqAICvLoxOIDIHwW9fxjGk3pb86iOOXNbR6DJjCI7H9YBXpP0rB5nv/0OHTe6TDyZ+aXdDhwrGjCEe/FBiIfTSR6GuGvgFpObSdokM+a4VHYp21mLQ7vQ3PXq5JIf9pE6Ulu9hVkEOrB0xX24i9dzPLfY/HNSnkF1zG9pd2s//5TZR3mDBfF8vyp1ax+IbOqZqjM9hwbytFvy7kgd96MFxtI/HOVWRZCnngl/D38ZgHakoSG56+grKSMhzPP075+c75tW59mKx7k0Y8sM0wcwnpN9VTemg7RQ2x3B+1gaT/bx0thdvZv3UtewgncuZtLP9ZBtGfmGho3M2egkIMTzxHRr91Y+k3EYu/x3e0gqNY8b/PsqL7DTNp5R+SNtbtjsU4l5E/rPMSsb5WSktUIvY+wer+ZRzL9f5u+GKXH8C0FPKfs7LntV0cPO5g15utuDzeHmdmazSLs5ew5AfW7n2Npc76OyuM6eaV5K+BonIH25/cA+FWEu5YR5aniAdegs86AMLHvF//9jM05+FSth/u/77hlg0DBuO8s8vbyMhJ5I/F23n8lRZcQeFYb84gv+9w2wFEpq4jy1lI6d7Heeg1A+HXxbLkoXwWT2vAU7+J/a9uoihkM5unDb2dIduv/VzENqPBRvoDSTh+Wt27x7jJzqpH/0ThC3vY9JM9YDJjm5tB1n1/JOdf9/P3z8dh30GRLH7iGS5/pZQ9VUU8/ksXhJiJ/PZiNtyfTsJIf8cJspL25GZMO0rZVbENh8t7vt62Zh0ZyYOX7HiVabcpSax74m8UPbeL3VsfpzzEe+w2LPgjOf+6B89IO6RdYyfxxlIa/m8i9umDL+Z3Pn44lvjIOJfZeOej35yPw9cJv/c3ogc4+fCz/AiyMunChQsXhlikt3Mb4LOPeh7M8PlncPlib+CNDrjwOXwlDP75h6NMuZ86Gth+70M4bPnsfHTwCfH+0Tz66KM89dRTgdmZqw2n24j5qp4ztfnpRGwbzZR9VMaicRtHIyIycYa6rgb0mit+UZmICAAflfPAT8oIX72T/B9c7CdxioyDL2n7VUQGN+iccQP6/LPe88N1/B3OvQxtL8FnTjj3Ovyl8uKk1IfzN2Xs/yQSe4ouZBeHk5I0C5a4dAqr62hsaqTu9XxWbjlKxML0XhMdioiIiIgEjoua8jdoMiVy+y0KxMkXg9qvItKXHwMOfVwwQIe7/xxxX/kaXPUoBL0E59++SEl10XS8npb3D1L26nEMt2wgPcBPbf/yMJP5UhVtj+RScm882WcgdGoU8UtK2LcxmUFmpRMRERERuTjOt1B/oomm2l2U/dZD9Jo0Ysd7PjqRcaX2q4gMbmTBuH/6f+D8ic4HNPgE49r/BJ/kwvk/wJTHLk5KO1o4WPw4u8+EY71lFfmrE8bviWPS31VxZL10kKyJToeIiIiIyJkatj9ZSktIJLH35pM1xJxQIpcEtV9FZAgjC8YZvwNf2wpnS+D/1np7yQF85QrvvHFffwkuG+1Md8MIsrH8lQMsvzhbFxERERGRS9W0NJ7bN6GPqhAZGbVfRWQII3uAg0y4Rx99dKKTICLyD2O4hwHomntp0cMbREREROQfgYJxIiIiIiIiIiIiATKyp6mKiIiIiIiIiIjIqCkYJyIiIiIiIiIiEiAKxomIiIiIiIiIiASIgnEiIiIiIiIiIiIBomCciIiIiIiIiIhIgCgYJyIiIiIiIiIiEiAKxomIiIiIiIiIiASIgnEiIiIiIiIiIiIBomCciIiIiIiIiIhIgCgYJyIiIiIiIiIiEiAKxomIiIiIiIiIiASIgnEiIiIiIiIiIiIBomCciIiIiIiIiIhIgCgYJyIiIiIiIiIiEiAKxomIiIiIiIiIiASIgnEiIiIiIiIiIiIBomCciIiIiIiIiIhIgCgYJyIiIiIiIiIiEiAKxomIiIiIiIiIiASIgnEiIiIiIiIiIiIBomCciIiIiIiIiIhIgCgYJyIiIiIiIiIiEiAKxomIiIiIiIiIiASIgnEiIiIiIiIiIiIBomCciIiIiIiIiIhIgCgYJyIiIiIiIiIiEiAKxomIiIiIiIiIiASIgnEiIiIiIiIiIiIBomCciIiIiIiIiIhIgCgYJyIiIiIiIiIiEiAKxomIiIiIiIiIiASIgnEiIiIiIiIiIiIBomCciIiIiIiIiIhIgCgYJyIiIiIiIiIiEiAKxomIiIiIiIiIiASIgnEiIiIiIiIiIiIBomCciIiIiIiIiIhIgCgYJyIiIiIiIiIiEiAKxomIiIiIiIiIiASIgnEiIiIiIiIiIiIBomCciIiIiIiIiIhIgCgYJyIiIiIiIiIiEiAKxomIiIiIiIiIiASIgnEiIiIiIiIiIiIBomCciIiIiIiIiIhIgCgYJyIiIiIiIiIiEiAKxomIiIiIiIiIiASIgnEiIiIiIiIiIiIBomCciIiIiIiIiIhIgCgYJyIiIiIiIiIiEiAKxomIiIiIiIiIiASIgnEiIiIiIiIiIiIBomCciIiIiIiIiIhIgCgYJyIiIiIiIiIiEiDBb7/99kSnQURERERERERE5Eth0oULFy5MdCJERERERERERES+DDRMVUREREREREREJEAUjBMREREREREREQkQBeNEREREREREREQCRME4ERERERERERGRAFEwTkREREREREREJEAUjBMREREREREREQkQBeNEREREREREREQCRME4ERERERERERGRAFEwTkREREREREREJEAUjBMREREREREREQkQBeNEREREREREREQCRME4ERERERERERGRAFEwTkREREREREREJEAUjBMREREREREREQkQBeNEREREREREREQCRME4ERERERERERGRAFEwTkREREREREREJEAUjBMREREREREREQkQBeNEREREREREREQCRME4ERERERERERGRAFEwTkREREREREREJECCz549O9FpEBGRL6EPP/zQr+VMJhOTJ0/mqquuIjg4+CKnSkRERERE5OJSq0ZERC5pLper+/X1r3+dkJCQiU6SiIiIiIjIqGmYqoiIfCGcO3eOjz76iPb29olOioiIiIiIyKgpGCciIl8Yf/3rX/n0008nOhkiIiIiIiKjpmCciIh8ofzlL3+Z6CSIiIiIiIiMmoJxIiLyhfL3v/99opMgIiIiIiIyagrGiYjIF8pnn3020UkQEREREREZNQXjREREREREREREAkTBOBERERERERERkQBRME5ERERERERERCRAFIwTEREREREREREJEAXjREREREREREREAkTBOBERERERERERkQBRME5ERERERERERCRAFIwTEREREREREREJEAXjREREREREREREAkTBOBERERERERERkQBRME5ERERERERERCRAFIwTERERkUtMGyUpIUyaNIlJkyYRMqeQ5olOkvjN8fC13WU3adpKHO0TnaLRq33E1pOXKcuoGre8tFH3ai7p35/JtVNCCLlsEiFXhHGtPZ+6L/DxmjiN5M/yuWbcUY57opMkIjKE4IlOgIiIiIiIyJdHG46H7cx/uq53wMjVRnPzac5OVLJERCRg1DNORERERu7ASiIu6+wtEhJP4XsTnaB/EO1VLJsyqacnTtfxbRrjdutzmXlZ7+2qt5nIBKkvILuodyDOaLYQFR1F1FVGQiYsYSIiEijqGSciIiJyKXPXUvZqI1k/jRr1JmrLKy+doW/vVZK/qxGCLSSvSSPGONEJEr/5WXa2RXlsu76zf5cxCptaHL007q3yOR9DsT9ZRcW6OEInMlGXMr/qXQTJjxQQesb7l3F6HLq0iMilTF+NIiIiXxY12Vw7t5Dm4DgK6o6S9c2JTpD4q668hNp1BcSN5s7N7aBsV+O4p2m06nblkbu+DozJmO9TMO6LxN+yMyeksSIhsGn74nDT+EefPqnmVLLWKBA3FP/qXSgxS1YQE+jEiYiMkoapioiIfEk0v3WU05dK7ygZXrCR0K4WelMlZUdGNx25+1A5FR97/98YOtGRLycnai+dwKCMhMpufLhxu3rOZeNUC5aJPi0vaap3IvKPScE4ERGRLwU3dW816ulyXyihxM/tHGrV3kzFTscoyq+Nqp0VONuB4FDi42ImduiW+wS1daqFX0gqu3Fz3vdHEaNRwymHononIv+gFIwTERH5Mmiv4+hbbROdChmhiDnzu4dkOfeWUTnSIjxTRVl150qhduJmTHCj9uRRjp6Z2CTIKKnsZCKo3onIPygF40RERL4MPj5B3ccTnQgZkXY3TE9m/ozOv89UUfa6c0SbcL5eRlVnLM44J5l4IyPuXeduclDyxErSvx+PzRJBWMgkJl0WQkhYBNfGxDP/3lyKq4foddleS/b1nU9xnZVPY1evIHefJ8dOWUbVYMOoL/PNVC3lTyxjfpyNiCkhhFw2iZCwCGxx81m2voTakR0i3Ke8+Uv9/kyujQgjJGQSk0JCCLPYiE9OJ/vpSur8CQbsXUZYV16uSKey64C4mql6eiWpc7rSG0JYxLXMTF5G7s46+sVX253U7sxlWXJnerryNyeVlZuraHSNIG8TVHaOh6/t+WzaShzDDo9vo/H1YrLvmU98VARhV4R4y2DatcwcSRl0OdNI1XO5LFuUyMyu7V02iZArwoi4fiaJd6wkv9RBc8Bi027K7wjpPCZhLNvbs2N3TTbX+j492dJzvJw75hMyaYRPrW4rZ35I1/ZCiN88wDOTz5T0LHNZBCsP+axeX0n+g6nE33ht53HrrK/fTyf7uZEes1GW66jqXSP5s0J6nhZ9R7kf1zo3jdUl5N6fSmLMtUSEdV5POutJ/KJl5Bb5V/dqH7H17Pv7xXRfhtzNOJ7LJv37PufzFWFce2M8qQ/mU/4Hf39hcdN8qIT81ekkxtm6tzXpshBCplyLLS6R9NX5lBxqVg94kS8IBeNEREQG4d6V2tkQCiGxqBlw0/x6LqmzriUsJISwaTNJfayK5u7GgJvGndndn4dE2Ei8txCHv8GBM3VUPp1NekqfhvMUb6Ah/eFCKuv97xrlfC6xpyFnWYmj6w7dXUt2lE+Dpu/rsghWHvD/OAE9j4RyNVNVlE26fSbXdgYeQqZcy0x7KtlPV9E8gkCCuDlPFMkpXVOSt+F4tYIBmtaDaKbi1a6hrUbsC+YT1j6CZpqrkfIH44mISmTZ+mLKD9TSeMpJmxtod+Nuc9JcX0tVaT4rk21Y5mRTecr/zY9IsJEQwLk3m/gb40lfX0LVsUacZ9y428Hd5qTxWBUlTywj/sZ4sqv9OOnczVQ+koilM3+VB+podrbhdgNuN22nGqmtLqfw4VRmXm8jvai2f+DMl8lIWNd50N7GWRfwcSUr59iY/3AxlTVd6XXT5mymrrqE/HvimXlHSU+wwekgd24U8ffkU1LdmZ6u/NVUUvzIfGbOWUnVcNm7lMpuGO6TJSybZcG2aCWFO6uofc9Jm8vtLYOPm6nrKoOomSwrHW6ofRt1RenYrrcx/8F8Sl53UNe1vXZwu9pwNtXh2FVM7r2J2KLmk39ohNHbfwSmMEK766obtwugDcf6RKJmpZL7XCW1J5s7j1tnfT1QTuGDidhmLaP81PC7GN9yHX/u+hKWxUVgS15G/o5KHPXNONs6ryed9aT29RLyV3ee/08Pff6HXuEz2Pi8m/OA+70S0mfZSHywkPIDPuezq43mk7VUPpdLelwUiZuGubacqiLbbsFmX0ZuUTmOY43d26LdjftMM43HHJQX5bLMbsNin7jzWUT8p6epioiIDMJoDMOItyfReZcb5+uZJN5R3hN8+7iOyk2pNIcc5cRPY2h8ej7xjzho625YN+IozeZoo5ujR3KIGfRb101j6UrSHy6hrt8duRv3GSeNZ6poPFZFeVEBcauKKfv5IiyXzLd4CMZgcNcXk35XNpXv9WlWnWmm7lAzdYcqKX4hjZK9ZaRZJyalXzjtELMgmZiNddS1g/tIGeXvrSDHnyfhvldOWW1nWYQmk77ADD/3d7+NFN9hZ2WvoJaRUGsUUdPCCAuGs58203iyubu+O2sKSU9qo+LQiySbfVYLNhO/ZAVtZ9ycb9xHeU3nNoMt2O+yd09ebzTFYRksPUYj5w9kk5pWSJ0LMIZisVowhxpxO5tpbHL2NObP1FJ4TyZRb+0jc/og23PXUbgouXfQLjgUS/RMYixmjO1tNP/xBHUnO7fb1kj5ajuNzRU4tiQP/OTLy3xn/nLjPlNL7tJ0iuvd3m3PiMJsctPW1EijszsyTvOulWTOiufoKjf5S1LJr2mDYCNmaxSWq4y4P26k8VRbd/7c9cVkro6n7rU0zAzgUiu7Ibj/kM/8pFwcvj2PjKFYplsIDXZz+uNGnF3XxDN1lNwfT7PTwb51A8196KbuiWTs63sHNozmKKKsEYRdAZw9TcPJRpydPwq4T1WRm5LM2T1HKZh7MWduMxI1N5PMUG8pNh8owXGq8yNzHGkLbIR0LRkaT8TFvrYH49MKdHPe3UbdE8mkPtF57ELNRFm9ZdD2cTONH/ccUffJEjKXRhFzKIuoQdI55nK9yPWurSaX5AX51PpWlFALMbNiiDIbwd1G8ztHqXuvref8f9h7/ldtTR74vAs2dt8vuF1u2k5VkpvUFbjsPP/MRnA5aXyv2RsYB2h34lifTvaME7y4YIAry5kqliWlUuL7vWoMxfLNKCxTwjDi5uzpZu822wHcOA8VkjqvjYojL7JowMSKyKXgkrmNFxERueQYwRiMt2fAp1XkvVROs9FC3NwoaHRQ2+QG3NQ9W0zVghgK1ztoM0Vhn2vh/Dtdn4P7D9so2JtF2cKBG3vNpenY76/0TrIP3ob7d+KJuT6CsODznP24kaNH6nC68Q5hezqd+ezj6Bb7wEGBruRPjyN5oXcJ96d1OGo6h68EhxI1N54o02CNzzCipozsQBnPlJC+cCWVHwNGMzFxM72BhDONnKhtpCv24H6vnMwlFiy1ecRp1vJhuduB6HRSowup+4Mb3LVUlNeRszFm2HXryivojsUlpZN8FTT62TOuecdKcn2COea5WRQ/m8uib/apcc5aih/JJHunt2eL+70SVm5Mo+FZu0+wxMKiJ7exCGh+Op7Kms4AV3AUaVteJPMqPxLkdpB7fzl17RaSf1pA3upFxPis526qIu/BTPIPdKb5TBWFL9SS+WTcABtro+rhdJ9AnBHLwly2bckieXrvStlWX07uAysoPtYGuKkryiQzpo6KpQO0cHvdVZ+n7ucrKKs3EpOxjeInM4nrXqWNxp3ZpD9Y4g0s4qb22WIKzx4lr6YNS1Ie27ZmkWztSYuzppDMpdlUner8e+82yprSyBogqH3Jld1g2qrIvssnYBMaQ+bGAnIy7FhMPsdqbzHZq/OoOuWG9jYc69PJvflE/+BZfSGZT/oE4qYnk/fsNrKSLL0Dd+5mHE9ns2xjpXfIpauO4ofzSH8rb4gfTMYu5oFtvNiZp5KUMhynOvusWlPJeyFrVEGl0TN2B/8AnIdyySytpW2qnawnC8i9K6an5xze+rciI5vKJu/f7mMFFB5YwYtJA1zEx6VcL2K9c1ayYqlPIM5oYdH6FylYY+/3VFtnTTFZD2RTfrLzu/65TFbM8uP8dzdQsnob5aeMRN2Vx7aNK7D7nM+4Gqlcn0lmUa03gNbeTNnPS8hZ0LceuKl9MrsnEBdsIXn9NgrWJBNlorczdVRuyfX2QHcDTSVkb0wjudf5LCKXEg1TFRERGVTPLezZvcWUfRxDVvUJju7Zx9G6fWR19U46s4/cBwpxBNspOHKCg5Wdn3fN9dXupPbQ0YF34Swn+5GeQJzxm5mUvXOaD2v3UfGLF3nxpTIq/vcJmhv3kXVzV2PaTeNz2RTXD5360KQ8KiorqKisYN/G5J7eFsFRZG7d1/1Z/9eLrIgeyXE6S+Vj2VR+HErMfS9y4qPTnHDso+K1CvY5Gjj9x4PkzO0JBLjriyl49Us4NGzUokhLi++ujXWvllE73Bxc7bWU7arz/n+wmdS7BunNNeC6jZS/5OgJapjTKHytoH8wB8Acx4qXKshL6DlXmneVdM9TN17cB8op/9hC2ksH2bexdyAOwGhNJq+8mDSfNnJjtYO6AY6T+1ge2Tsau/+23FXCwddy+gXiAEKj09h2oIqc73R+1u6kcn0ejkGGW3dvwV1Lyc46IpaWUPWSbyAOIJSopdsouM+n2X2qmOzNdRjnFrCvMqdXIA7AnJBFycZFPWXorsMx0PDKS7DsBlO3JZeSzuAOwVGseM3Bi6t8AzYAoUQtyKFibx72riy0N1K8qaTfcG3HSyV0P3Qz2MKKFyrI6RuIAzBasK8ro2xVVPdb7pPllBz5ks205dMzzrGjmLrQZLYd2EfB0t6BOPDWv7JnV/T0xm534qge+DttvMt1fLmp/XluzzDbYDPJWw9Ssa5/IA7AnLCCsuqSnt5l7U4qNxb0TPngo9fqTeUU720jZs0+jpZn9Q7EAZiiWLSljDyfgLL7D1VU9Z3Xtb2Oimqfa1XGNip+OkAgDuCqGBY9WcG+jXHdaWneVUKVpoYQuWQpGCciIuIHZ1MzLMwlN6Gz5WCyk76wszHX7qTuWDNRGXmsmGH0+byn99Lp9xoZKPzkfL2Eqq4eBMEWMp/dRto3+7cKjNOTKSjN7ulN5q6j7LW6ccnbmLlrqTrgJmZtBY4XMvsFSphqJ+8XBSR3v99G1V7H0HPkSC+WJWnYuxpgpyopOzR04MB9pKy7FwtTU0mbN4K+Ee1tGKMWkTwvjpgZFqIWprNoqJ4owVGk39MTLKStlqMn/d+dvyxLt1F81xD9h65KJj3JJ+jUdILGfoepjaqtPnO0mReRtzVt6CHfpjhyn8zsWeZUGcV7/ai9oYvIe3LRwEPaMGJfkNxnv1FkPrmCqEGKypyUTHx3I9xNY+MAYYtLtOz6cVdRXFrXPfQ2dEEuufMGDxcbZ6wgZ2lP2buPVPaZE6sNd2gci5LsxEVHYflOGulDDjs1EndPek9PuPbTHD12ccNAl7T2UJKfLGHFAN89XYxzF5E8tefv0ycH+E4b93IdZ64qtr3aE9wy3pzdOyg+kKlp5K32GRZ9qozyA8MEbtuBGSsofnKo3usWUpf49Fprb6Cxsc8i7maauwN0RqLi4ofp5WYk6r5CCtbmkLf1RcpeWnlRe3uKyNjo9BQREfFLKMkLe/cuskRFYaRz4ulgC/YFcb1ulKOiLBjxNkzcn57mdDuY+3zznsZCE7X2KQAAIABJREFUcpKd06dP42xPZtGcIW61v5lG6nfyqK3pnHeo/gROYgZp7AfYjBUUbxyi4TE1lcx52VS96g1iuN85QWN7GnG6E/HP1NT/n717D4uyTB84/kUHnBHUITEBMR3zAJ5WUEtISzErwU6YbMLqL0N3S9Rt1WpXWds8tiZ2UHQ3JUsCa03SVCzZcD2BJYKmNrgiY2oyCsqoqCOM8PsDZhjOIyBge3+uy+ty5j3d7/O88868N8+B0NGzSdhoAJOOTTEJLBwVVE15G0smeihNOHmNC8X/TvopKX2ZtX4Ts+5gE9fu3rgpkkqOacpGl22EhuwcpfAiZGptrfuUaHp4oSSl5DNpMpCdC1i3IslPYlNiWSJN83x4zckq855HhBLUPap0NksDSVuTMI4PqvEM1aNDax6vqYcXGgVlY1B6BhE6qIY9qnvj5QoJpUnWvNzsKgJthnVXlZQEtlsyOWr8n69mHC4LJX4T5zJLoUXZwQ1ntRt+5UJUEzA/loA7iaG7F15KLF2Fs89mA161bPQr5TqW8HG1fJMoeuPtpYTS7rVVfqc1eL02LOPeBKtx7JT4hYTaVONez4/Fe356Sbd/k56kxGR42r+GLZT4TgyrdSgGVy8v3BSlk0CZDGTrK3z2SsehK40enU4H1DJEgdqX8KVVdc8XQjQ38hNYCCGEsIXSCx/v8r+s1S5lEzyg8MK7wq96pYsbagUlXVDzjVXOFuf96lo2vWprEG54aZRQmowjR08eNINknBLfkNoePNR49dOg3FDaakKfTRWpBFEtNUHjA3D9Kg69CfRbY0nIDSKkqkSSIYHYr8wDnnsTFNIID2ZtlOXTN8YGTui4+OFnQ9dpZxdnq1c3S8KwdjjZatB2Jd7DamtpUkrhjb+vK5EZJeVqSE8m3RRUQzJZic/gWvatdi7XHVDt7VftgPglMahxVlvuOBiNJf+rdynf7bqrgvZActlEN0ov/AbX3olaOSiMZYMaMAiFGmcnwDyZw53MNPwroxzsa9XqsjpqnK2ryVj5O61Z1GsNtClpVmOzeuHva+O3Z3df/Fwh5XTJy+z0dHT4Vz/On0KD3zAb0nzme0BpTMaKnz2lF737KuFASUlrV4Qz2zeeZaOb/ltfCFF/kowTQgghbKHQoPGo8J5SWTrBA6BU41bxuUNhNUi2ycjNegehRGk16YLRVDrAf1N/myvc8BlS+4OHs9o6UWIsKbemjv0eohwdxliPOKJOY0m4hUyp/FBm2Bpr6fqsHDSW0Dsa/68qJTOAph3VotPnYcg3Vk5cZKeQV9/D1EDpobFp9mBluXWMlodcM8NJLdmWh3ENmqoGiqp6z2i8NCgpHUj+nBZdPvhWm2tQ4upRW0uj8kkwNw+3WrugKctnzWoLmuZQd1XFpNPqyqJXaNB0vQtH0WtJP6pFdy6bPIMRY8XkkUlH2v9u/q0ct64aG8aUVKJUliWDK2uceq07I7pMq36gSg0aW2f1VvQuuVeYWwWe1qEzUf09SeFW+fdCletVSIRXKlsvwqYGsDK1dFxZQwqRARriRwQRMm4sgaP98e1q82igQohmRn4CCyGEELao0IrFzJJsc3KukAgA7OtwHKMe3TEduuxs9PkVkwk3+SmzGT49Klxxc7NlPZnTrV6UJeMURr2nBYwkrY9FN6Xi7Ht6Nm1IKB2PT4lfSEjdO94ZtMQtX8jKmHhSTjfxdaes+NBaN9l6q/aYJi2RvnZE1mVHpjx0eqg2g6FQlrS6qkm5+4USZZsG/Hw0p7qrxEB2rlVM1dxb68RkICVmIctWxZKQqrcpXSlAqVTVvlKt7mK9NojSbutmLm642vyRU+Ns3QrZkFfSArCGlrHKWlsa2sZ1QjSxJ7MZu6R05lWM6HbFsWhXHItQovb0xn+YP/6jAgkY5YtGcnNC3DOa1S1SCCGEaLasW7lVubw+Ozei/SqSyNWxbNqrxXAPPkFWSkTebYejCJ2T0HwngegbTuzSO5jB1Ea+E4PwXrGIdBMYD8QSd2wWc/tarXB6E3HmyR2c/AkZV8vg5NUwHosm9PlpxDfH5G89GK9V3V38jpkM3GzgWQobKhXX/OvuZvl7nFMt91ZbGVKIDAli9g6Zqblp3KV6bTA3MVo3T1feSXxK1NatAk0G8mrpzd1w567Gf34SaYMjiZi3jLjD1t96RgwZKcRnpBC/ZhEoXfF9OoywN2YTNkiyckI0d5KME0IIIWxxt74xjelETRzL7I06acVxJ/K0pCQmlA1+38woTQF3pz4HhBI6KJL0A0YwpRMbl8LcxWVjwmk3xJJcemD16FDG1mVoIUMSs8eVT+aoB4QQPjWUQF8vvLq6oXaq8BR6OAKfwSVJwnuGQo1mkA+aujw1K1xxa44NPe/FumuQ4+qJm1ohEefqS9iMaQSN8sanqwa1Wln+jwamJKZpRhJ1rtLOREO4l+4FtqjwG6BxE41KNE/PJfbpWUSmJrApPoGEHdtJOqYvGarCzKgnZeMiUr6KJnp6NPFLAypNGiWEaD7k4ymEEEI0GQMJM8YybaPO8o6yqz9hM8JLHyArPzgnzXBj5App+fG/y4ugED8iDiRhpCT5ljTPt2S2VFM6sf8qnUlU4UrA+Lq1zNOujiA6oyyZo5kQy3cfh9g0Zltzp2yjtpp0RUPYmu/Ktyy8x90bdadCbX1by2+A8TT3LWPhxrL7onJAOJt2rCSgtmT0ry1hBNAAo5PWzV2o1walolxv3DuKz1g6uUIphbrC+I2NRYnroCDCBwURvrhkXMTkxAQSEhNI2JGM1txN2KQn5b2xBCiTSF7se5enYxFC1FWLpg5ACCGE+J+VEcXCGKtE3IBZbD/4HSv/FIR/X03lFizwK314rIMRK8kqLKa4uHn+u7kz/K7NcqsZF4K/Oct2zqpbamos8cdK33cNJHR0nVJxJHydXtaqzzWEZR/akMzJMzbfLsNW3DysJhExGcjLabpYGt69Undq3Fys7m35OnT17PKbEh+P1mqWzPAVy2xIxJV2Nfy1qWbm7ruv4eu1Yalxsx4kzpCN3uaCyibb+m9gpTOlNzWlqxf+E2axbP13/HRWR/JH4fhaxrYzkr4igqjMpoxQCFETScYJIYQQTUSfmES6+WFAoSF08UL8XWrawojBcC+kPMRd5TqWMHOizaQnaUcyACnxCZaEhGZcWElruTtl1JJm1bJKPWIsATbk9HTH0stmKW3G1D28ypJTpmy0mb+iVqb3TN2ZZ6YtZdShy6jP/gz8lGE1MYeHPwFDbLj4j6WR3qySRZVVnGnTaEs9lc702fgaul4bmhKvcvFp+cnW+Ew6tCfLPlvKHhp6N4NkXDlKV3ynrCRhfXjZPS4/mQQZQ1GIZkuScUIIIUQT0emsxolTeuM/rJYHSFMyyQd/jU05xJ1REzB+rGUsIF1iAinGdLbv0Ja8ofAiJKSOXZOM5R/4nV3VNuxHS1xc8r0x5mFff7wtCSojyYlJ90SLPpvcQ3XnNcQPN0tSVEfSXm3tGx2LJLBfb3p79aa3lw/TvjLXXB6Ga2WrKV3cyvZdLSMpcVat6ZoppXVfSJOBPBsuVm1KcpMlxhu2Xu9CfIP8ylq0mXSk7NXVuH5ZjCkkW+W0NIP87lrL5/pSjwoiwMP8ykj2WRvPUQjR6CQZJ4QQQjQLylrHoDFsjCb2dEMcy8YWFqLZUo4KYWzX0henk0j6ahMJpa08lANCCR1U1x2XH+Q+z1B7lzd9TAQrU8uvZfP11djXoZM/Y0eXPUYbdkQTbVM3LgMJM0cycuJsImOSysZmak7upbrzDcDfUg1GUtbHklJLsNqtm0g6pkWboUV7Gtx6mLOqKtRtytYzGvIw1BZbRhQR6yokiprhPVHpatUd0pSNVltLKydjCtEfpzRdYrxB67Ua9amnYUFWk9oYSY6LsyEhayQlLrZsghOFFwHPeNcjCFsZSFkTweSQkfj06Ebgmrq1cFO2kRHjhGiuJBknhBBCNBFXN9eylismHbqakgLn4gmfE0e5n+PGPNsfutqoy3UfSkv/1bQH+t+k9Cd0nFfJ/41aYpfGlz4sKvEOCcGrrvtVeNG7e9lLw94Ey+ysVTHsiyBoRjwGT2+8rBNBuXlVrq+yHkHdlI0+t66B1pWSgKlhZbHmJ7FwamRZd/Fq6LfOZvbqJJJiIpk9cSyz72LrnTq7l+pOGUD4JO+ye9KxKGa9W0MS6XQ0ER+WLVcOCiXEMvGGK5rublbrJpFUU/fDcwlMGx9BksIL765lbxtzs5tfK0kvL6vukEaSNm6i+nZOBpLeCCcqg6aboq9B67VEw153/oT9viw+4+FlzF5dc+s94+EoItaUraMcFkb4kHrEYDMleQejid6QRHqmjoSls4i3IR9n3BVPkmWGYDVefev8bSCEuMskGSeEEEI0Ec0wv7KxXYwpRC1PqPJh0HA4mtDRocQZA1j4un/Zg845LT/Z+mDS3QdvJ8seiZ8fRtS+Kn7Z5xvQHU4hYUM86Y2eKBF3wjckFG8FgBHt4dKHRSc/Qsdp6r5ThRcBo60e3jKjmTYjHl3Fp+l8LQlLxuI3ehEpJl8i1kTgZz1weGJCleNWqV2sE9DpxK5KQG8q264xWmwqh8xm2ZSyczQkziZg1GziUqv49OVqiZ8XiF9wNNrSMlAOCidiQjPspHaP1Z33zIWEWpKHBlLmB+A/NZqk01YBmwykb4wgcNS0skSEwouweeFYX+V+owOsxgJMZ9mU2SRVvL2ZDKRviCBw2FiijikJmB9LuHdZqyFjSgIJze2e5xFAwCCrGBMjCJ0Zj7bCpWrITCAyxI/AFemonw4npLv10sZtJ9eQ9Qp34bqbvowwT6UljoQ3Ahm7JKny5wQD2q8iCHx6Nknm8nbyZtbiyjHeHUoCpk7D13zymXGEDhtLxMb0qieeMOlJ3zCbwIlRZa39uocSNkpaxgnRXDW3oSeFEEKI/x1DwgkfEc20xJJf+ro1Y/HThxM2zg8vNRjOaUnetYlNX6WjV2gIi4tmVodlRL+bVPKwnJ/AopcjYIofzko3/Ed7U20HH7U/oeM0xK0pbVeRGc+0YfHMdtGgcVWC0UieIRu9ufud0puFB4PwrnFCCdGk+oYQOmQh6fusBu0fFUKoRw3b2MB7agQh60KJOwdgRLtmLL13eOPv64WbEvLOaUk+mI4+H1C4ErQqlrlDVER7K4neURKLMXE2fsOS8O+hxG30QpaNL3l8Vfr64eMUR1LpwPna1YFoNmrQuEDeuTz81+cR+3z94q+dmoDlsSw7HcDs0sHN9fsiCR0cRXh3L3x6uKHESF62Dm2GDoP1g69HEMtiIsoekJuZe6ru1AGsjFmI7ukIknIBk4GU1ZMZuWYaahc33NSQfU6HwXqSBYUa//mxLKuQYFCOmsWsEbGWe6nhQCQje8TjO8IXjRqMBh3ag+lo9UZAidekaKJf9SbP4I3yq9KWWbnxhPmOZJOvK8quoUTND6j+ftpoNITNDCXqQHRpgtRAyntj6b1ajaa7BlcnMOTq0GUaSs6hewhRq8LQPh1VtovG7n7bgPUKd+O682fZhoVoR5cmbI064ueMJH65Bt/B3mjUSoz5enTpyaSfs/rwKzQEfRjLQlsmB2koA2YRNT8J/zlJGExgzIxnUXA8i5zUaLp7oelQ0mrwZl42ugxtyefazMmbWasW4u9U9a6FEE1PWsYJIYQQTUZD+EfRhPW1dJpBu7WkG1zgM2MJnRpB1MZ09Gpfwtd/x9rnXVEOCSVsQNnDgG7HIiYHBTJ2TtWtWcqoCVi8lllDyj9eGnN1aI9p0WbqyhJx4h6hIXSiVUtJRcnEDvVOILiGELV+brmZfY3n0knYGEd0TBzxu0qTOWpvwj5OInaKBnBl7KuhZa2TMKI/EE9cTBxJmVbXlUcYc6d4lZtYwJhbkvTS5zfi9af0ZlZ8Mpte90dT1n8bQ2Y6STsSSNiRRMph60ScEs2ouWzfG0u4ZzPNxME9V3fKIXPZnriWsEFWV63JiEFfmgi1Ti64eBP2UTLb/+JdeWIKhYbwj2MJt95Pvo6UrXHExcQRvzWlJBGncMX3T5vY/lEQroDXhLDyZZWZRHxMHPEHdE037loF6ueXETvf3zJhCwBGA7pj6aQcSEdbmohT9g1h7dZogjzUKJ3KvlOaYnzQBqtXuDvX3YBZbN8VS/hQqxauuTpSdsQTtyGO+K1J5RJxyu4BLPw6mU2TGrvLpxLv17eTtCqs/B/GSluwJyUmkZSYREpq+UScum8Iy3YksWxU06eThRDVk5ZxQgghRFPqGsTalDQCVkQR/XUSaRk69PmgVLuh8fTGP2AsYZNC8DY/Myi8mbtxEzffWEjcrnR0+aBWu6Hp51o20Hd1XPxZtktLwLplRH+VRMpRHdm5BlCqUbu44eyiRtPDB29vb3wG+eHvebdPXtSX6/OhBLyRQLwBcBlL6OiGefhSj1jId0cDif5wJXGJKaRl6DAYlSjVbnj188ZvVIXrElA/vZLtH6uZvTyW5AwDRic3NP18GTvE2WrPSvyXJrG9cwSLPt5OWqYeo1KN2kVDb28//Hs0SPi2UWoIWvodATNSiI+JZfuuZNK1OnS5BowoUavdcOvuhfdgfwKDQwka4lq3GWob2b1Wd8oBYaw9OJZZX0UT/VUSyQfT0J4zYDCC2qUkDv/RYwmbEIRXTS11PQJYuTeNoDVRpfc3LTqDEaWTK27de+M7LICxL4cR1NfqM+IRRuxWI7PnRbE9RYcBdcm6T/s0g1ZxZmp8//Id2lFxRH0Uy/a9aWjP6Uvq1MUNr36++D8fRvgkc2JZhfUwa8ZrTTMSXoPV69267jxDWLk3iFmJsURvTCDpYDq609no840olWrUHl74DPbDf/RYQsf5lk+GNiol3lPWkjZuFkkb44nflUzaUS26c9kY8o0YUaJUq9F07Y3XYF/8R4cSOtqr9t8DQogmZ3f58uXipjr42bNnmTVrFh06dCAqKqr2DYBvvvmGjz/+mOHDhzN16tS7HOGd+eWXX4iOjubUqVPcvn2bv/71r/Tq1aupwxJCiGYpKyurztsOHDiwASMRQgghhBBCiMZTbc48NDSUwsLCO9rZokWL6NGjMf+k2by8++67nD9/HhcXF7p27Yq9vb3N2xYUFLBr1y5SU1M5c+YM165do0WLFri4uODp6cnjjz9O9+7da9+REEIIIYQQQgghhGi2qk3Gubu7V0rG5efnc/XqVVq1akX79u0rbePg4NDwEd4jLl26xPnz51EoFLzzzju0bdvW5m1PnDjBe++9x+XLlwGwt7fH2dmZGzducP78ec6fP09SUhJjxoxhwoQJ2NnZ3a3TqFZ2djZ//OMfmTlzJkOGNMp83pV88MEHnDlzhsjIyCY5vhBCCCGEEEIIIUR9VZuMe/fddyu9t3nzZuLi4ujTpw9//vOf72pg95r8/JJRM9Vq9R0l4jIzM5k/fz6FhYVoNBpCQkLo06cPCkVJ1eTm5rJjxw62bdvGtm3buHXrFlOmTLkr51CT+nQnayg6nY6WLVs2dRhCCCGEEEIIIYQQdSazqTaQ4uKSoffMSTRbmEwmPvjgAwoLC+nXrx8LFy7kN7/5Tbl9uLi4MGHCBP70pz8B8O9//5vMzMyGDd4GTZ2MMxqNZGdnN2kMQgghhBBCCCGEEPXV4POsHDt2jG+//ZasrCwMBgMKhYJOnToxcuRI/P39q+1iWVRUxObNm9m9eze5ubmoVCr69OnD+PHjcXV1rXKbinJycti8eTNHjhwhLy8PBwcHHnjgAUaOHMmwYcPuqHvn7du3SUpKYs+ePZw9e5aCggLatWuHl5cXzzzzDF27drWsGxYWxrVr1wDQ6/UEBwcD8Ne//pV+/fpVe4zk5GQuXLiASqVi+vTpNY4xN2TIEMaMGUObNm1wdnYut+z69et8/fXXHDx4kIsXLwIlSTwfHx+effZZ2rVrV279yZMnc/XqVb744gsOHTrEli1bOHPmDCaTCQ8PD5555hkeeeQRy/nMmDHDsu3y5csB8Pf355VXXrG8f+LECbZu3cqJEye4fv06jo6O9OrVi6effrrSJBbffvst0dHRvPDCCwQGBvL555+TmprKlStXcHR0ZMCAAfzud7+zxL1ixQr27t0LlEz6YS7f1atX0759e0wmE9988w379+/nl19+wWQy0a5dOx588EFGjx5Nnz59qi1XIYQQQgghhBBCiMbU8s033/ybrStnZGRw9OhR3NzcGDp0aKXlSUlJLF++nF9++YUHHniAnj174uTkxMmTJzl48CDXr1/H29vbsv7Vq1fZuXMn7dq14+eff2bnzp106dKFBx54gNzcXE6dOkVycjKPPPIIrVu3Bkq6daanp9O1a1cGDx5s2VdmZibz5s0jIyODjh074uPjg6OjIydOnCAlJYVLly6VW78mRUVFLF26lO3bt2M0GvH29qZnz56YTCbS0tLYtWsXXbt2xd3dHYBbt27RoUMHfv75ZxwdHXnyySfp2bMn/fr1o02bNtUe51//+hfnz59n+PDhluRXTX7zm9/g5eVlKQuAy5cvExERQWpqKkqlkoEDB9KlSxdycnJIS0tj//79DB48GCcnJ8s2O3bs4ObNm7Rr147169czaNAgBg8ejIuLC4cPHyYlJQWNRoO7uzvFxcUUFRWRl5fHjRs3GDhwIAMHDqRPnz54eHgAkJiYSGRkJOfPn8fT05PevXvTokULjhw5wq5du+jQoUO55OWZM2dITU2lU6dOfPnll5hMJh599FE8PT3JycnhyJEjHD9+nJEjR2JnZ4fJZMLe3p4zZ87Qpk0bnnjiCXr27MlvfvMb7O3tWbp0Kd988w0FBQX07duXbt26UVxczNGjR9m9ezfu7u488MADNtW9EKLx5OXl1Xlb8/1XCCGEEEIIIe41DdYyzmQyERMTQ3FxMa+//nq5xJdOp2POnDl88803jBkzhg4dOpTbNjc3l+PHj/Pee+9Zlt28eZO3336brKws4uPjaxwnzWQy8f7773P9+nWCg4N54YUXLMv0ej0LFixg165d+Pj48PDDD9d6Ljt27CA9PR13d3fmz59fbgy4xMRE1qxZw+rVq4mKiqJVq1YEBwdz+vRpdu/eTZs2bZg4caJNZXby5EkA+vfvb9P6VYmOjubChQs88sgjhIeHW7q4FhUVERUVxd69e4mOjmbOnDmWbVq0KOmdvHHjRpYsWVKuPu677z4+//xzdu7cyaBBgyznc/bsWXJycnjsscfKTeDwyy+/sG7dOuzs7IiIiKBv376WZYcPH2bp0qWsXbuWfv36WSb9MB9/165dPPHEE7z00kuWbZ566immTp1KVlYWp06donv37jzyyCPcf//97Nu3D7VaXa58T506RVpaGvfffz9Lly4tl6jUarXMnz+fDRs24Ofn1yQTXwghhBBCCCGEEEJYa7Ax427fvs306dOZNm1apRZoGo2G7t27U1xczH//+99K2xYWFjJ+/PhySSGVSsW4ceMAOHDgQI3HTk1N5eLFi7i7uxMUFFRumaurKy+++CJQ0j3SFjt37gQgJCSk0mQMo0aNonPnzly9epUffvjBpv1Vpbi4mCtXrgBw//3312kfly5dIjU1lZYtWzJp0qRyY821aNGCiRMnYmdnx5EjR7h06VKl7UeOHFkpMTpgwACgpPWaLb755htMJhMjRowol4gz7+vRRx+loKCAXbt2Vdq2ZcuWljo2U6lUeHp62hxDTk4OUHKNWSfiALy8vPjb3/7Gm2++adO5CCGEEEIIIYQQQtxtDZaMa9WqFT4+Pjz66KNASRfUixcvotfr0ev1KJVKAG7cuFHl9uYkkLXevXsDcO3atSqTSWbHjx+37MPc6sqauWvsiRMnKCoqqvE8rly5YpkooLoWa+akU1WJRVsVFhZaJn0wl82d+u9//0txcTFdu3atcgbXdu3a0blzZ4qLiy2t8KyZk17WzN1qb968aVMM5rK37n5szfy+VquttMzDwwNHR8dqY6juWrHWqVMnANLT09m/f7+lTM169epF586dpVWcEEIIIYQQQgghmoUGncDh8uXLfPHFFxw8eJD8/Hybt3NycqoyKaNSqVCpVNy8eRODwWDp5liRedKCEydOsGrVqirXadGiBYWFhVy+fBkXF5dqYzG3tGrbtm21STLz9jUlCGvj4OCAg4MDBQUFNie+KjKfd8XWbdZcXFw4c+ZMlbHed999ld4zJzNrS1pWjGHXrl2kpqZWWn716lUALly4UGlZdfVpjqFiYq0qnTt3ZsyYMWzbto0PPviATz75hN/85jf079+fAQMGVJmkFEIIIYQQQgghhGgqDZaMu3r1KnPnzuXSpUt4eHgwZswYXFxccHBwAGDr1q1Vts6CklZ11bG3t+fmzZsUFhZWu86tW7eAkvHDTp06VWOctSW+zPuqaWZT8zmZ160rtVrNxYsXOXv2LA8++OAdb19QUFAunqqYlxmNxkrLqmpFeCeKi4stMRw6dKjGdasq94ZqrTZx4kT69evHzp07+fHHH9mzZw979uxBoVDg5+fHpEmTqkz2CiGEEEIIIYQQQjS2BkvGffvtt1y6dIlu3bqxYMGCSsmsPXv2VLutyWSqdpk5CVdTwsncgm3ixImMGTPmTsKudl81Jf/MCai6di818/T05OLFi6SlpTF8+PBa1y8oKOD27duoVCqgLIlpjuduxloVOzs7WrVqxa1bt3jnnXfo1q1bgx/DVt7e3nh7e1NQUEBGRgZpaWns3r2bPXv2cPnyZf76179KV1UhhBBCCCGEEEI0uQYbM87c6m348OFVtir75Zdfqt326tWrVSaUjEajpUVVdV0aATp27AiUzMpaX+Yun1evXq12zDJbuofawjwr6cGDBzl37lyt62/YsIHw8HD2798PlE38UFUXUDNzt9v6xlqdhiz7huDg4ED//v156aWXWL58OW0kLONkAAAgAElEQVTbtuXYsWM2T0ghhBBCCCGEEEIIcTc1WDLO3OqoqhZs6enplkkRqhoHrLi42DIRgLUTJ04AJd0527VrV+2x+/TpA8APP/xQZSu7goIC9u3bZxm/rCZt27bFw8PDEndVsf74449AyWyd9eHj48ODDz7I7du3ef/997l27Vq16yYnJ7Njxw6uX79uGbPO09OTFi1acPr0afLy8iptc+nSJc6dO0fLli3p1atXvWKtjnkyi5SUlCqXnz9/nvT09Bpb792JitfPyZMn2bp1a5Vdhp2dnenatStQv/H9hBBCCCGEEEIIIRpKgyXjzAmsioP4Z2Vl8dFHH1kSV1UljRQKBRs2bCjXEq2wsJBNmzYB8Mgjj9R4bB8fHzp27Ehubi4bN24sl7AxmUysXbuWDz/8kC+++MKmcxk9ejQAX3zxBVeuXCm3bNu2bWRnZ9OhQwcGDhxo0/6q06JFC6ZNm4ZKpeLMmTP85S9/ISUlpVwX2dzcXD799FM++OADioqKeOGFFyyJNbVazZAhQyguLubjjz8ul4g0mUysW7eO4uJifH19a0xm2sLcNdbcKtBs1KhRKBQKUlJSSEtLK7fsypUrvP/++yxZsqTKyR3uhLmbbV5eXrnz3L9/PzExMcTExFRK1On1ejIzM7Gzs6Nz5871Or4QQgghhBBCCCFEQ2iwMeNGjx7NN998Q2pqKhEREWg0GvR6PUePHmX8+PG0bdsWrVbLjh07uHbtGk8//bRlxk53d3c8PDyYMWMGAwYMwMHBgaNHj3LhwgXat2/P888/X/NJKBT88Y9/ZNGiRXz11Vd8//339OzZE6PRSEZGBgaDgS5duvDb3/7WpnN5/PHHOXLkCD/88AOvvfYaPj4+KJVKsrKyOHXqFK1bt+ZPf/oTCkX9i69Tp04sXryYpUuXkp2dzXvvvYdCocDZ2ZmbN29aZqVVKBT89re/5dlnny23/aRJk9DpdHz//ffMnDmTPn36UFRUxLFjx8jJyaFz58689NJL9Y5To9Fw4MABvvjiC3788UfatWvH9OnT6dSpE5MmTWLt2rW88847eHl54erqytWrVzl69CgFBQUMHToUPz+/eh2/Y8eOODo6cv36dV5//XXat2/Pc889x7PPPsuhQ4fYuXMnP/zwAz179kSpVJKXl4dWq8VkMvHss8/etW66QgghhBBCCCGEEHeiwZJxLi4uzJ07lw0bNpCVlcXZs2d54IEHeO211xgyZAiFhYWkpqZy5MgRDh06REBAgKUFmFKpJDw8nPj4ePbt20dubi4qlYphw4YREhJC27Ztaz1+9+7dWbp0KVu2bOHw4cPs27ePVq1acf/99zN69GieeuopS+uu2tjZ2TFz5ky+++47/vOf/5CamkphYSH33Xcfo0aN4rnnnmvQ5E6nTp1499132b17N99//z0///wzly9fpmXLlnTp0oX+/fvzxBNPWMZns9auXTsWL17M119/zQ8//MCePXuws7PDzc2N4OBgAgMDbT7vmjz11FNkZWVx+PBhTp48iY+Pj2XZqFGjeOCBB9i2bRsZGRmcPHkSR0dHevbsyfDhwxk2bFi9j+/g4MCrr77K+vXruXDhArdu3bIkLRcsWMDmzZs5cuQIhw8fxmQy4eTkRJ8+fRg5cqRlbD4hhBBCCCGEEEKIpmZ3+fLlyoO4CSGEEHdZVlZWnbet7zABQgghhBBCCNFUGmzMOCGEEEIIIYQQQgghRM0kGSeEEEIIIYQQQgghRCORZJwQQgghhBBCCCGEEI1EknFCCCGEEEIIIYQQQjQSScYJIYQQQgghhBBCCNFIJBknhBBCCCGEEEIIIUQjkWScEEIIIYQQQgghhBCNRJJxQgghhBBCCCGEEEI0EknGCSGEEEIIIYQQQgjRSCQZJ4QQQgghhBBCCCFEI5FknBBCCCGEEEIIIYQQjUSScUIIIYQQQgghhBBCNBJJxgkhhBBCCCGEEEII0UgkGSeEEEIIIYQQQgghRCORZJwQQgghhBBCCCGEEI1E0dQBCCGEEM3NoUOHmjoEIYQQQgghxK+UJOOEEEKICgYOHNjUIQghhBBCCCF+paSbqhBCCCGEEEIIIYQQjUSScUIIIYQQQgghhBBCNJJfRTJu1apVBAcHEx0d3dShWKxYsYLg4GDWrl1b7TrLly8nODiYzz//vF7HMhgMBAcH85///Kde+2kKr7zySoPX26pVq3jttddqXOfEiRP88Y9/JDQ0tMnLTa/XExwczIEDB5o0DiGEEEIIIYQQQtx990Qy7tChQwQHB3P8+PGmDuWOODg4kJycjMlkqrTsxo0bHDp0CAcHhzve7+XLl3nxxRcbIsRGN2PGDDIyMiyvQ0NDeeSRRxo9js2bN2MymXj77bfx8fFp1GNXrL927doxZcoUNBpNo8YhhBBCCCGEEEKIxndPTOCQnJzc1CHUSbdu3Th16hRpaWk89NBD5ZYdOHCAtm3b1ikZl5mZ2VAhNqrr16+j1+vLvTds2LAmieXq1at06dKF7t27N/qxK9afSqVi1KhRjR6HEEIIIYQQQgghGl+DJuPOnDnD7NmzefbZZzl69CgXLlxgxowZfP/99+zfv5+HHnqI6dOnW9b/z3/+w/bt28nOzsbR0RFvb29+97vf4eTkBEBGRgbz5s2zrP/2229b/j9nzhwGDBhQ7vgtW7Zk//79fP7551y9epV+/frx6quv4ujo2JCnaTOFQoG3tzd79uyplIzbu3cvgwcP5tChQ+Xev3nzJp999hlpaWlcvXqVtm3bMmjQIEJCQlCpVGzcuJGNGzcCEBwcjL+/v6WVVXFxMZ988gl79+7FZDLh6enJ73//e9q3b29Zvn37dhITE8nJycHJyQlfX19CQkJo1aoVAKtXr0av1xMQEEBcXBy5ubl06tSJqVOncvHiRTZs2EBOTg4eHh688sordO3a1bLvbdu2kZSURE5ODkqlkh49ejBhwgTc3d05fvy4pf7mzZuHq6srH374Ia+88gqDBw8mLCwMgGvXrhETE0NaWhq3bt1Co9EQEhKCp6enTeVTm9u3bzN+/HjL6+DgYKZMmcKPP/5ITk4O77zzjmXZpUuXePXVV5k+fTrDhg1jz549rFy5kvfff5/o6GhOnjxJq1atePjhh3nppZdQKBS1nkNV9ffcc88xY8YMZs6cyZAhQwA4ffo0cXFxnDhxApPJhLu7O4GBgQwfPrxcbG+88QapqakcPHiwyjo/deoUGzZsICsri4KCAjp27MhTTz0lyT8hhBBCCCGEEKKJNGg3VXMyIjExkaFDh3Ljxg1WrVpFy5YtcXNzY+/evWRnZwMlLcNWrVrFxYsXeeqpp2jdujVJSUnlxlhr3749Y8aMwd7eHgBfX1/GjBnDmDFjuP/++ysd/+zZs6xZswYnJyeMRiM//PADX375ZUOe4h0pKipi6NChpKWlce3aNcv7ly5d4qeffmLo0KHcvn273Db//Oc/+eGHH/j973/PsmXL+MMf/sAPP/zAp59+CsBzzz1HUFAQLVq0YN26dbz88suWbbdu3YqjoyPz5s0jPDyc48ePExsba1m+ceNGYmNjGTVqFJGRkfzhD3/gwIEDfPDBB5Z1FAoF58+f59ChQyxZsoQVK1Zw8+ZNli9fzt69e5k/fz6rVq2iqKio3Fhv//73v4mJiWH06NEsXbqUP//5z9y8eZO///3vFBcX4+npyZw5c4CSROrf//73SuVVXFzMkiVLyMjI4NVXX+Vvf/sb7du3Z+HChZw/f96m8qlNy5YtWbduHQ8++CDe3t6sW7eOESNG2LytOYaQkBA+/fRTpk+fTmJiomXcudrOoab6M7t06RJvvfUWBQUFREREsHTpUnx8fFi1ahX79u0rF0tMTAz9+/fnn//8J8uWLeP06dN89tlnAJhMJhYvXoyTkxNvvfUWy5Yt4/HHHyc6OprU1FSbzlkIIYQQQgghhBAN6650U3V3d2fMmDF8++23XLhwgXHjxrF9+3ZOnz5NTk4Obm5uXLhwgcGDBzNgwABGjRpF//79WbhwIampqRQXF2NnZ0eHDh2YOHEi//nPfygsLOSJJ56gT58+1R73xIkTLFu2DFdXVzZs2MBXX33FsWPH7sYp2mzgwIG0atWK5ORknnzySaCkVVzHjh3p2bNnpfVDQ0MpLi62JBvd3Nzw8/OzdNW1t7e3JCfNLf5u3LgBQJcuXRg3bpzl/35+fpbx2W7dusXXX3/NY489xpgxYyz7njhxIh988AHnzp3Dw8MDKGnZNWHCBFq3bk3r1q0ZOHAgCQkJzJ07lzZt2gDw0EMPsXnzZkvcDz30EJ6ennTu3Nny3pgxY1i6dCl6vR43NzeUSiUASqWyylZsx44dIzMzk7feestSz1OnTuXDDz/k/PnzuLu711o+tnB0dMTOzg6FQlGnVpOPP/44Dz74IAD9+/enY8eOnDx5kscff9ymc6hYfxUlJiZSWFjIa6+9hlqtBmD8+PEcPXqUbdu2MXToUMu6Xl5e+Pn5AdChQwe8vb0tYyvm5ORw7do1fH196dKlCwCjR4+me/fudOjQ4Y7PWwghhBBCCCGEEPV3V5JxLi4uQEnSxc7ODrVabekGeevWLQCeffZZy/qFhYWWpENBQQE3b96kdevWluXFxcU2HXfAgAG4uroCWJIlBoOhnmdTP/b29vj6+rJ79+5yybjqxkqzt7dn48aNZGRkcO3aNYqLizEajRQVFdV6LHNXTjMnJydLi7yff/6ZgoIC+vXrV24d8+sTJ05YknFqtdqSdIOSpJG9vT0dO3Yst++CggIKCwuxt7fH0dGR7777jlWrVmEwGDCZTJaJK/Lz82uNHcrGUuvRo0e58pg1a1a513Utn4bSrVu3cq9bt27N9evXAdvOoTaZmZm4ublZPhNmvXr14ptvvin3eagqFnN533///XTr1o2PPvqI06dP079/f3r06FEuNiGEEEIIIYQQQjSuu5KMM7f8gbKuq3Z2dkBZYi0zM5P169dbxrKyZmvyrSJnZ2fL/80TI9SUpNFqtSxcuLBOxzILCwvD39+/xnUee+wx/v3vf5Odnc2tW7c4e/Ysr7/+eqX1ioqKeOedd7hx4wYvv/wyHh4eKBQKtmzZws6dO2uNxZzwtGYuS3PruaioKFatWlVpvby8PMv/q5pUwrpOq/LZZ5+RmJhIWFgYffr0oVWrVmRkZLB8+fJa4za7ceMGdnZ21R6rvuXTUKoqH+tyrukcbHHjxg3LuInWHB0duX37drnPS02xtGzZkrfeeott27aRkpLCpk2baN26NU8++STjxo2zfDaFEEIIIYQQQgjReJrkabyoqIi///3vXLlyhREjRjB8+HDy8vJ4//33q1y/rsm52jz44INERkbWax/t2rWrdZ1evXrh6urKvn37uHXrluV1RWfPniUrK4s//elP5SanMLcmrA9zl8iXXnqJvn37VlpeVfLnTuzevZsRI0aUS0xWHA+vNq1bt6a4uJj8/PxyLfPM7mb5mJPF1iomiW1R2znYug/r5KhZfn4+CoUCBwcHbt68adO+VCoV48aNY9y4ceTl5bFnzx42bNiAUqnk+eefr1N8QgghhBBCCCGEqLsmScZdunSJK1euACXjinXu3Jldu3ZZlldM4jg4OHDjxg2bExC2cnBwqDIpdjcMGzaM9PR0bty4QWBgYJXrmFuvWSdxbty4wcGDB+udkOzSpQsODg5cunQJd3d3y/smk4nc3Fzatm1b530XFRVhNBor7cN6UgNr1Z1L9+7dATh+/LhlVtGioiLefvtthg4daulGezfKx9HR0VL+Zjqd7o73U9s52DKLac+ePdm8eTNXrlwpl+zVarV069atysRhVXJycjh16pQlDmdnZ5599lnS0tLqdG5CCCGEEEIIIYSovwadTdVWarXaMoD/Z599xieffMLmzZstg/J/9tln5OTkWNY3j/8WHR3NP//5T95//322bNnS+IHXw6OPPopOp+PixYv4+vpWuc4DDzyAUqnk22+/5dKlS2RmZrJ06VIGDhyIyWQiKyuLwsJCnJycKCoqIjU1lV9++cWm4zs4OBAYGMj27dtJTExEr9eTlZXFihUrmDt3rs3julWlRYsWdO/enf3793Pu3Dmys7P5xz/+YanPU6dOYTQaLa3zfvzxR7Kysirtp2/fvnTr1o1169bx/fffc+rUKVatWsWpU6fo3bu3zeVTFz169ODChQscOXKE4uJidDodiYmJd7yf2s4BqLX+Ro0aRatWrVixYgU6nY7z588TExODTqcrN9ZibfLy8njvvffYuHEjZ8+eRa/Xs2/fPk6dOlXjRChCCCGEEEIIIYS4e5qkZZy9vT2vvfYa69ev59ixY1y9epWZM2eSlZXFJ598QmpqKgEBAZYZH19++WVu376NVqtl165dtGnTxtJK6l7RsWNHevToQdu2bavtEuro6MiMGTOIiYlhxowZuLu7ExISgkajISMjgwULFjB37lyGDBlCUlIS77//Pg899BATJ060KYYXX3wRJycntm3bxrp161CpVHh6ejJ//vx6d1N99dVXWb16NX/+859p27YtTz31FE8//TSXL18mLi6O4uJiAgIC8PPzY+vWrezevbvS2HV2dnbMmTOHmJgYPvroIwoKCujatSsRERF06tQJwKbyqYtHH32UrKwsVq5cidFopEePHkyZMoXXXnvtjrrb2nIOFesvODi43D6cnZ15++23+eyzz3jrrbe4ffs2nTt3ZtasWQwePNjmWHr27MmsWbPYsmUL27Zt4/bt29x///28+OKLlslEhBBCCCGEEEII0bjsLl++fHcGZBNCCCFqUFULWVsNHDiwASMRQgghhBBCiMbTJN1UhRBCCCGEEEIIIYT4XyTJOCGEEEIIIYQQQgghGokk44QQQgghhBBCCCGEaCSSjBNCCCGEEEIIIYQQopFIMk4IIYQQQgghhBBCiEYiyTghhBBCCCGEEEIIIRqJJOOEEEIIIYQQQgghhGgkkowTQgghhBBCCCGEEKKRSDJOCCGEEEIIIYQQQohGIsk4IYQQQgghhBBCCCEayT2XjFuxYgXBwcFs3ry5yuULFiwgMjKyUWJZtWoVr732WqMcqyb79+8nODiYnJycpg7ljun1eoKDgzlw4ECd91FcXMzq1auZOHEiM2bMaMDo6iYpKYng4GCuXr3a1KEIIYQQQgghhBCimbnnknEALVq04MsvvyQ3N7epQ2kS//jHP9i0aVNTh1Ene/fuZcGCBZbX7dq1Y8qUKWg0mjrvU6fTsWvXLsaMGcMbb7zREGHekYr14enpyZQpU1CpVI0eixBCCCGEEEIIIZq3ezIZ16dPH5ydnfn000+bOpS7wmQy1bj81KlTjRSJbWqL11rF2FUqFaNGjaJjx451Pv61a9cAGDx4MB4eHnXeT11VPCd3d3dGjRqFvb19o8cihGgipnQi+tlh12M2KbXdEk0pzO5hh533ItJtv33eE7RL/FDZuzE5sQ4bm8ulX8SvrlyqEz9RhZ1qJFHnalvTQHSACrs2Y4nLb4zIRLNxJ/eWX5GkqW7YqfyIzGjqSO6CY4vwUdnhNiPprh7Gcn85XduaRrTrJuOncUZlr6L3Gyl3Na56aaSyu6v2zaabvR2956TXcQdV1FezKBcbv6eawXf9r/r+0hzV+5q/c/X6PdqIFE0dQF299NJL/P3vf+fw4cMMGDCg2vXCwsJ47LHHmDhxouW9vXv3smLFClavXk379u1ZvXo1er2egIAA4uLiyM3NpVOnTkydOpWLFy+yYcMGcnJy8PDw4JVXXqFr166WfbVo0YK0tDRiY2PJzs7mvvvuY+zYsYwYMcKyzvnz5/nss8/46aefKCwspEuXLowfP55+/foBcOHCBaZPn86sWbPYunUrmZmZxMbG0rJly0rnExwcDMDPP//MF198werVqy3Lrly5QnR0NMePH0epVPLwww/z0ksvoVCUVPPNmzeJi4vj+++/Jz8/nw4dOvDkk08SEBBg2UdRURHx8fHs3r2bS5cu0bp1a/r378+ECRNwdnYGYOXKleTm5jJs2DA+++wznnzySV588cVa9/+3v/2Nn376yXIe06dPp0ePHsyYMYOZM2cyZMgQAA4cOMCmTZs4f/48bdu25ZFHHuG3v/1tlcmtzz//nPj4eADefPNN2rVrx5o1a+6o3p977jliY2PR6/Wo1WqeffZZRo0aZdnu559/JiYmhhMnTuDg4ECfPn34v//7P9q3b19lfRw5coR//OMfrF27lrZt29pUprbGsn//fr7++muys7Oxs7Oja9eu/Pa3v6V3796VykYIUUeGOALdQkkw2rCuwpXwhGxWjqh91TJqvIYFEKDUoL5nv4VFQ3DrF0BAvhcaZVNHIu6MjoT34uHpWQR0b9g9azcuIskljPARrg2742bs133OVVwrag1+owPI83Ju0sgscmOJmBlNitKf8MVBeA+qe2+VBqVPImqdHv/XQ/Ayf1c2t7JrClXVl5RLtQwHoonS9iZ8ki/qpg4mX0vCmmiityaQflSHzgBKtRte/XzxHxdG+CT/hv09UNVnSDQrjVYt5qSFtX/961912ldRUREDBw5k4MCBfPzxx0RGRtarFZJCoeD8+fMcOnSIJUuWYDQaeeutt1i+fDldunRh/vz5FBcXs3DhQqKjo8t1s7x27Rr/+te/+N3vfkebNm34+uuv+cc//oG7uzu9evXiypUrzJs3jw4dOvCXv/wFR0dHduzYweLFi1mwYAHdu3e3JMs2b97M0KFDmThxIi1aVN1ocd26dYSFhfHcc8/x9NNP07p1a8uyTz75hMcff5zQ0FBSU1PZsGEDGo2GkSNHUlxczDvvvMP58+eZPHkyDzzwAEeOHGH9+vUUFxcTGBgIQExMDDt37mTixIn079+f3Nxc1qxZw4IFC1i6dCkKhQKFQkFeXh4pKSnMmjWLjh072rT/P//5z7zzzjsAvP7667Rq1apSV+NDhw7x3nvv8cwzz/DKK69w8eJFPvroI65du8arr75aqTzGjh2LRqMhMjKSt99+u1yi1NZ637lzJ3PmzKFdu3Zs2rSJtWvX0qdPH9zd3bl8+TJvvfUWnp6ezJkzh9u3b7N+/XrL2IQ11YeZrWVaWyynTp3iww8/ZPz48Tz88MMUFhbyzTffsGjRIlatWkW7du1sPnchRA2UXgRNn4WX9V9sTycQ+ZUW9ZAQwnzdrBY443enzy0KL8I+3k5YA4Qq7m2+r29ie1MHIe7cuQQi5yxD07eBk3GmdGIXLyR+dMCvNDFVhV/7OVd1rXiEsDI+pEnDKidTizYfNBPmsvJ1/6aOxsK4N4qIxRA1PQQvp9I3m1vZNYUq60vKpTpp6yNYmDGbkCZOxhmPRRM2bhpxGUaUXb3xHx1GgIsScrUk74oncmoc0R+FEf3VWoK6NtAxq/oMiWblnsyRFhcXAyWt42bOnMmWLVt44YUX6rXPa9euMWHCBFq3bk3r1q0ZOHAgCQkJzJ07lzZt2gDw0EMPVZo44sqVK/zlL3+hW7duAEyfPp0jR46wZ88eevXqxc6dO8nPz2fJkiV06NABgMmTJ3P8+HG+/vprZs6caWkB17FjR0tSrDqOjo4A2NvbW/5v9thjjzF8+HAAOnfuzL///W9OnjzJyJEj+emnn9BqtUyfPp2HH34YADc3N86cOcOWLVsICAjg1q1b7Ny5k8cff5wnn3zSss6kSZNYsmQJR44cYeDAgbRs2ZLs7GzefPNN3N3dATh+/Hit+1cqlZZzrRi72ZYtW/Dy8iI0NBSABx98kFu3bnH8+HGKiooqJSnt7e1p1aoVUNLl9U7Habty5QqTJ0/mvvvuA2DkyJF8+eWXZGZm4u7uTmJiIiaTiZkzZ+Lg4ADAH/7wBzZv3szFixdxc3Ortj4AjEajTWVqSyw6nY7i4mIef/xxnJxK7qgvv/wyQ4cOtZSBEKIBKL0JW+pd/r2vson6SovbiNksW+xdeZv/oe5j/2uMJlDek7+WxN1iTE8nzQQN3n7IkEZ6pi1Ncn9FfuXnfNeulYZkAiOgdGperarSD2ox4NXUYTQ/zbS+micd6UcN0NQjB+XGM+35ycSddsV/fiyxf/HH1fp3hVFHwrxQQt+LJnS8huS9c/FugN8dv+bP0K/lt9k9OWacWceOHXnuuefYvHlzvWcSVavVlqQblCSL7O3ty41l5uTkREFBAYWFhZb3VCqVJREHJUkZDw8Pzp0rGQDmxIkTuLq6WhJxAHZ2dvTr148TJ06Ui6FHjx7lXl+/fr3cP3MSsjqenp7lXrdp04b8/JJO+//9738BLF1jzfr374/BYECv1/Pzzz9TWFiIl1f5D22vXr2AkokSrM/bnIizdf+2OHXqFN27l/8z8/DhwwkPD6+2tWB9tGvXjvbt21temxNq5nI7efIknTt3tiTioCRBOGvWLEsiriZ3Uqa1xdK3b1+cnJx466232L59O2fOnEGhUNC7d2+USunjJESzoAAMKUT9fiS9O6hQqZzpNngsEV+VfdarHjPOiHZDBKHDeuPmrMJOpcJZ40Pg1CiSart9mlKY7WWH6okodJnxRAT54OasQuXshk/wopLtTycQEexHtw6l7wdFkFBpnDID6TGzGVsag6qNM928RzJ5SQK6is/KhnSiZwTS2638OVZ6pDYlMNnNDpXvIrQVlyVOw81ehd+SSksq7ENH0ruTGendDec2JfH39g8lYqO28vEqMRIfXDqGzbl0oqeOLI1ZhVu/QKatScdgtXb8RBV2bUKJP5dExBPdcLZXEba1bLl+XxTTnvEpKUeVCucepXVkKUsdUU/UMA7c6ShGqkrqSk/VY8YZM+KZHeRDN2cVqjZu9A6YRtyxvGrPT/vVIkL9a68zQ2o0s4P86OamQmWvQuXWDb+g2USnGqredaXYE4j8fSA+GmdUKruSenhiMotp0ccAACAASURBVIt2VHGBGrXEzwvFz8ut5A9lnXsz8vdVXMu2rncH14Ct51m38jAQF6RC9Uw0BpOe6CfssLPvxux9Zctt/gxVoHvPD1WHySTkg3aJD3Z2FT4bttxbzFEcjmZ2sB+93ZzLX6e2/BTLiMRPZYfPvHT0iYsI9S0tc7feBL4Rj84Ehl2RhA7rXfb+zPjK52fD9VLrOQOgJ2lJaMn4WCoVzj38CF2SRKVT0acQNSMQnx6l67n1xi+4inpfF4jK3o1piXpSVkxmpFfp+l4jmbZOixED6WumMbKfW+nxRjJ5TXqF68xA+rqyerYrjWvszGjSDWXrVHutVDe+17kkIl8eSe/OJTG5eY0ktIprR78vimnlrt3e+IVEEJ9xp0lNA9HPqLAbFonOZK6D0rhSI+htb0e3mZXHj0uf51P+urf+DtInETmx5LvGrqZr1Ppe2saZbr5jyz7Ppd8bfu9qIT+e0DZ22DmHEm+qvuxqvzeXSHjZueT7wKAjYd7YkuvTvprryqgjYUkoI/t1w7mNHXbWn2eb/gBnIOW9yYz0cit/7RZWs3atn9sa6quKcrmjcwWbP0Nwp99T1VCA8VwCi4Kt9uM/mchd5sisvk9PV7G9PprANnao/COpfIVReg13Y/Y+I8Zds+lmZ4cqIJryZ2Pj/aWev0NSlkYQnQle02PZ/tcKiTgApYaApfFEjffGrwfk1TZHpT6JyKkV7q/W8dT0GYKS794FFa/tQKatSClfPlbfB4bUKCY/0Ru3NnZWdV7pG/gOrnlb7qMlavxtZuvv0Wbqns8nPvfcc+zevZuPP/6YN998s877sU62mNnS9dU6gWemVCq5fv06ADdu3CA7O9vS0susqKioUnLNumXV7du3mTRpUrnl69atq7ZFmfm4FZmPcePGDQDCw8OrXG4wGLh16xaApdWVWevWrbGzs+PmzZuW9yquY8v+a0teFRYWUlhY2KitvKqqdyhfbvWJx1xmtpRpbbG4urqyePFitm7dypYtW/j000/p0KEDL774IsOGDatzjEKIBqTQsTI4FJ1HCGHzgyA7mdgVcSyamI3zwWRmeVa9mT4mFP+XE1CNCGPaYm80TpB9NIHoNdMITMkmKWUhvtXm3JUoFWDMTmDa78F70jLi3wBdfATh70UQasomMDsN5csRxL7hTHbiMmbPW0Sooje6f4WUdtswkjIvgIAl6SiHhTFtqR8aZR4/7Ygmal4g2w+uJTk+rLR1h47olwOYvNX4/+3df3TT9b348Wch4CfQaTphN0EQMgprEHZIAa/N5LsRTz02Fa+kp91oDk4MRaEFJ60cLIFNCDgxhTtoUIGIV0zdlTVs1qZ3dgR3uLflXlnrFIhekfQOuM0VhBws62czg+8faUuTpm1SCsh8P87pUZLPj/f783l/3p/355X3+/1BP99GZY4Wgk14ynNpHMfgNoDCAVwFBhbVKTEWFeNYqUXZFqBhr5OKQgONLT5qn9bT+88REkiA7KdyvgWlvhTHXjtpXxyjeouNiqVGAjRRWxTJmaSQIBzEW15CQ6qZso0aOn9LCdWVYDQ7CYw1UVxeTKYazjd7cb5YQm59M+7GXZhHacnLN1JW78NTE6R4SfSwu0CNhwZZwjg/j7gD8s56KcnJw3VWh3mZA/u0NM77a3HkLyKtRyZlml/IxVjegGZuMWWbM9EqzuM/4Kay85y9aUWrAD6qIC+7jAa1ieIVlejUIJ9qxvuKk0XZzYQa9/daNjvTtSg7F1dQh3mJDatOhRTy433Fic3cwHlvE445HQkM+3GajZTUQ9YCK/alGuSAF/fOEnIb/dQerMSoSma5JMpAovkc8PFQYSyvplJVRsnuVkzrXBRPV6GdGjkfiV9DPWnmVeAOOygu96Cc58CxQIdKp4XOMHaCdYt8wIbxoQ0E0gspLi8hcxS0fliLq7OcHtyFua/RoBIogeAhG5ZDWgrXuin7RiveTcXYXrCyqM0HzecxlbsoG32ehu1llG2xsEh7jP3LtEmVl97zfEXTRhPOU5lYVziwhP34djipKs8jpPZTu7AjI0EPi+ZYcIX0WJc6KMtQ0n6qCc8OJ4vm+PC/1dBVPiVJgrBM0zYrfpWR0p0+7Od9VK604VxqQW7W0HTKgG2rF3u4CXd5Gc7lVtT6JuwzI7vzb8nDuMKHdK+VknWlqFNlgo1uKrctwvgRNHmtaPsqK/EC9ac8WGbnUdWmp7DIRrEGAgfduNbm0vihm4aqQtSA/O82TNkb8I81YV3uQK+WkAM+XC9uIK8xQHWju+/zG0VFbnk11Vkuitd2OwfaTJCTeRHAlXtQWb6bNHMZ7uVaaPVRucLWo4yG6kswmJ0EJpgpXmFFK7XS8KaLDYVGms/6qF1ioPgVN6p1Vire11P6ig2jSkNmL0+tidXNHSlVSBBupXqxhZDagn2PDc2XAbwvFGOLKlchvMvvI3d3O1kLSrCv0JLGeY4diFzPvkAtTTtMfQ579L9gwrSyEeneYuwrDWhopeGNRZgOaGmHqPtWYtdtH+eLnkHTxPNKUtdQcvepPsjNOOa5aJ1mpXijFU76cL/oouyhY8iNDayeqsWywISt3ov7DT/Fz0R3bAjWefC1SRjnW+LXq+kWKt+EDY9swDfByq51ZjSazKhzllD9crXtkHAD7r1+SDVRutLYR3tFTeFrTfQ72FhuxJaTy4YWHYVLbBTrNBAK0Livkg2FPvxyM9UL+rqGgrgKjR1tuGJsy7WowkGaa1y4lhtpamug4ZmOESCd94PDdvLqwLiiEu9GJa3NLmwrnFjyJbTNjq72aTJlPrF6tCMZvbbNrmN79Bq56YNxw4YNY+HChTz//PP84Q9/6PHSg5SUlB7rdAadBkNnEKq7ixcvdg2XHDlyJHfccQdlZWVJbXfIkCH89Kc/jfrsano/dQbx1q9fH3c7o0aNoqWlBaArkNips1devPnQktl+f4YNG4ZCoeh6O+rVGKzzPmLECM6fT/KXnpj1YWDHNB61Wk1RURFFRUWcPHmSt956i23btvGtb32rq7edIAg30BEvgXUN+NZ0NsyKsYwOol3eQHVdgNKMeE3GEL59XoKpZqo9lZi7YvdWLLNKsOwOcqwFsvoKlgB81IRqnR/7vEhTM2umnaZ991Gxz03rDj+1RR0Ny5kOAl4vZQdq8cmFmCXguJPSFxqR77HT8M7qKxP9LrCQqcgk7w0bG+os7MqR4JCTipogqrm78L5m7QgqFWKdpyN31iKIH2YakNA+G7YaGdPWBmqXXDl2hQtNaO/PpGyjHc+Cagr722XYT2BcNf6t5o6GeBZZs5QEdBY8m100LrSTpeho8MkN1MqVNHusV3ISbsSx0ok/1cSu+lqsEzo+n28lb1IuusUubJuLMW/Uo55rxpjqxbevmuCS4m5HI4B3XwOyyoRlbvwEB3bbcbdIZG2qpvrpzgePQizTLOgK5eiWbIuLsnU+0uZX43vNfGU/C6yY1AYML9jYUB85Z4G6ahratFi3V195oAKK8/UsWuqh9cMgZPR+EOWPmjmvNWJeXkn1sisPRNYcDQZ9Ga6dXuxzzEhAaK8NW32IrLXR10Gh9j6mLHdh21lKw9PaxJdLogwkms+rOR7qmSZMOjuS4jyae8yYOt+xlMw1FIc0IQvzbC02gHQj5rkdD0OdPRkSqVvCzVSsrKB5Qin7DzowdtYl8wuxzFaS+ZAL21Yr5o1ZvZ7rzkIWeA9Wf1iJteMl9XqVn+p6G77dTdjfa6B0asfn6a149y3CV+cjtMyKiiTKS2957iQ34j1bSdM7xZGgMlA8J43MWTZ8NT5CCwtRIePbWIbrlB77QR+rp3ce30Ks8zPJ01twrnVSfLC02wN7iOYzBpo8pR3nSY826MOz2Iur3sj+5tUYpcjnermRarMbX70fZuqAAM2fSGRml1L6pgNT55P9Qis6WUveG06q3reyenofZaVHMC6Sh6pTOorfaaCys0wus5BZqMey145jeSGOeyDwYYC0LBO2ddWsvrczr1bytCG0j3lw7gtiXpJ4Hay+x4Q57KMMkLqfg8MJb+KKjxqQd/jZ1RnEQI8u1IDnEW9UGXWsdOJXFVJ9wN0VJCsuMpKmvw/nugq8C3ZhyjHR9CKg0JA514Spt/mukqibgciTr9xIc2otTVs7g2l69OMC1E4ru1Kuwg149gWQ5lTieaVbPb7QinFsHhta/PhlU+8/ksleKjY3EppgpbamsqucFM43smGOAVsYugaZJnHd9nq+jsRJQ6J5TfIaSuo+1ZePfATWNNCwrludNs2C/pEqKrd6Kd1hQjXPSp7ag+tNN81P27sN3QxSu8+HPMqEZV4v5V2lwzjXQJUE0mgdxnmm6KBdQvXLILRDWpppCoI004hxMJpH79fiOSKjX+vGvaZb/VpkQvdIGQ0txwhhRN/bNXS2iUB4CsaFVtw7CruVbSOS3kDFDhe+pysxKqDrfnCwleJuAXX9TD28V0vubi+1RxxkzSS5Mp9EPQp9tM2uY3v0Wrluw1TffPPNHn+DpfNlDrt37+4xlHHkyJE9AmbdhwZerba2NlpbW7v+/Ze//IXTp08zbtw4ACZPnsyZM2e47bbbGDNmTNffsGHD+gxQpaSkcNddd0X9dQ809jdkNdbkyZO70ts9HampqaSmpjJ8+HDGjx/P8OHD8fujhwh0/jt2GG2y208k7RMnTuTo0aNRn7377rvYbLao4cH9Gazznp6ezv/+7/8SCl3pL3vy5ElWrVrFp59+2vVZb3m6mmMa69NPP+16Gy1E5gV84oknSElJ6QqkCoJwg6WaKFkS/QupWq9Ho5AJnuxnjJjspymmy786v5L93l1Y+wvEAaQaycvp9puvQot2nARSJqac7g0SDdpxQFuI8x1VW6DOS7MsYXzEGvPGLRWmBSbUBPHVNQDgP9hAICxhnBfTu2tCHpY5gzk9shwJUioMmLKVBIPBK39n0zDmGJBCPmobE/ntU4UxP6YXwygTpiwJWhpp6Hw47mh8GudbovN2pBbPR6DKsWKZEL1ldb4FowoC9d5IHyZ1HuZsFXKjl9rup7zFi6dRRpWThynu7T+E72AzsqQnLz+6B4BqrpW8mDZlsM5Dg6wiK8cA3Y9NMIQm24iu2zkDJYTP438/ZuhGupVd79TiyO+7wSrdu5rqd/ZHBVYIAxO0aCWQTwaItIRkvPt8hBR68uZHXwfahbvw+Xw489OSWi65MpBoPq/ueMSTzDU0IInULUeqqX5fRjfHyJS2YNTxkqeZMKohUO/rOWQ8DinLTO7Ybh9M0EYeWKfmYu5eH6m0aEcBZ4J0toYTLy/9UKjJW2btelAGYKqezFSgtTWyjc6gydRcjOpQdBkhC1OWCvmwL2aIroTuIXPUeVJPiLzdWptt6gjEdSyp1UaO8ZnOFGsp3F7L/ne6PUAChCV0Oi1SOEDgZCKZ675uA56aAKSbsMyOOsOYN3rZ/44La8cMLrolbvb7arsF4oAwqCbp0ChkWgfxGSdpqSasMdeOapIWbUwZ9R4BdbYluh5MNWLbu5/9+0p77QEXVzJ1cyeFFtOCmPvBBB1TupcriAyjPOmnKWrIoIRxYy37q0r76K0OvO/DdxbU2eZID9+u1fVYCw3R8apBvG57SCSvSV1Dyd2n+iQZsC6OqdPm5mFMhWBjA/4wkGqkMF8LRzy4D3VbMFiL54CMOsfSFdBNWiL1y2C0Q862EgoDGg39T3CUSLoj/2n1NxPsPlxa0lP65n6q1xj7flHFKBP2t/azv3sgDkChRaeVIBgg0Ba9ipRlwRLVDpXQTdIihVsJdF4wyZT5ZOvRXtpm1689eu3c1HPGdffoo49y/vx5Pvjgg6jP09PTaW5u5rPPPiMcDvOf//mfHDkS7+eD5F2+fJlbb72VHTt2cPz4cVpbW3G5XPz1r3/l+9//PgDZ2dkMHz6czZs3c/z4cc6cOcPBgwdZuXIlv/nNbwa039TUVP77v/+blpaWuD3z4tHpdGRkZLBjxw6ampo4c+YMR44cYf369WzZsgWAW265hZycHH73u99x4MABzpw5wwcffMCrr77KxIkTe8wHl+z2IRIkO336NJ9++imff/55j+089NBDnDx5kp07d3L8+HEOHTrE66+/3hXATNRgnffO87dlyxaOHj3K0aNH2b59O7Isc+eddwJ9n4+rOaaxjhw5wqZNmzh48CDBYJDTp0/zq1/9iiFDhohecYLwVaHWoo29/6dKHQ2j9p7LA6DCvKIUvaKZDXO0ZD60CNu2KnxHEpzLq9MoDZqohxhlpAGjUKOJaqxKHT2YZeSOhlzAfwxZoUGn69mSliZpmaKA1pYAIaA1EEBWaND2yKgKXfqgNDUjwn78/hDIXkomadBoov8yV/qQkQm2JPBYr9AyZVLsk5MK7VgVhAO0nopZVhu9rPyJn0BYQqvT9fzRP1WHbizIxwMd8wipyJtnRNUWGaraKVDjoSGsxpRvjt9QDgcInJRB0tLjNEhatDHpP/bhMeRwiKrCnsdGY6ygOQytp4LIgHZ+KZYMGd+KTKbMzqNkvRPPvwciDwgJCtZXdM3JlDIsJfKnzKMqBITljnlq/AQ+CUXyMDZmA6lasuZkoZ+gSmq5ZMpAovkcjOMRK5lraEASqFvkT/z4w+DfltuzTIzLw3UK5FOBhOa7kkalRT/cSBISII1WkxZTz0iKyGTacrftJlRe+qPQotXGXnESUmpkG5Ed+fGfBfmQDUNsnjXfZtG+UOTaiumNplHH1FUKUCKhip1SRRHJd3v3Y9bmp6rcwn3TNKQpU0hJieRvSnkjMr3X9L3qyIOk1cUEcom8dXFOFrquOjxE484y8rKmoPmGsmvfyo55xOSrKMNXbZQGTY/TJXXUmZ1lNIA/LKGdpO1Rl6qnGzHeo0OdxECg5OrmDgo1PWfOkZAkrpQrhZHilUZUx53k6qaQ+1gZFbu9NAcTG/gmBwK0hiW02jj5zIgEfrvnYbCu2x4SyWsy11CS96k+qXXxtzEWOBXomAdOwvhIITr8eKp8XfVGsMaDT9aSt8CUcEe8HhKpXwajHaIY5Hm9Z1opnacm+IYF3bT7sKzYgKumsUcArS/ycQ8bHruvYx7BzjpMw6K6znxHLy+pNT37mElKQO5aNpkyDyRfj8Zpm1239ug1dNMPU+30D//wD/zTP/0Tv/rVr6I+LywsZMeOHTz99NMMHTqUWbNmsWDBAjZt2sSlS5euap/hcBiNRkNOTg5Op5P/+7//4/bbb2fZsmVMnDgRiLwYYt26dbjdbux2O19++SWjR4/GbDbz4IMPDmi/ZrOZf/3Xf2XDhg2sWrUqoXVSUlJYtWoVVVVVvPTSS7S1tXHrrbcyc+ZMCguvjE4vLCxEqVRSXV3Njh07SE1NZcaMGVgslrhDP5Pdfk5ODh9//DHr16/nRz/6EdOnT4/azqxZs/jJT37Cvn37OHDgALfddhs/+MEP+OEPf5jUMRqs83777bfzs5/9jNdff53nnnuO4cOHM3XqVH784x93BQf7Ox8DPaaxHnroIS5dukR1dTVnz55FoVAwbtw4nn76aSZMmJDwdgRB+OqR7rXT8F4mFVtdVNe42VDjYgOgmm6mbJOT1dlX0dVeQb93e7lNBtKIOxuCpIo0rOTIA3Rfy0rfkAbeMO6ZKs63Aakm7H30QlBOSqDBpehoYMeuKymBduT2mGVj9hXJM6TFy7RCQilJED4fCeYoQDU3D+MoD96aWoJFVtSdQ1TVFizZvY5rQm4DJGWcN4QpUcWmSZZBoca8yUXx1F62mTYlcj7UJnYdbMD4ohPXm7W41npwAtLYLCwrK3Asy+rzl/RQXWSOp9axJko32jBO00YCMuEGbDklXJldquOcxc1DdF6TWi7RMpBoPq/yeMRNaRLX0LXSWU51Rbtw5Pd8IAIiQ5YSaf338QDZ3zWeeHnpX7/1SZscmYvonlLc63qbw0uJJj3uF8nvL+ynwmyg7ABkLbTh3GRAOzpS7wWqrORtGUDPtI48ICn72b9MY7kR43PNqLJLsb1iIlObFpkW80MHlsVVye/7OpPbIuFoZerg3CmSrZs79b93Cf1TtTRNdeF80Y1nXwXe3RWgUKHLKca+2YY5vfetyHIkXXHzqZBQxsnDoFy3cXPSj6SuoeTuU31KVdHjfbBd50xGloFUYKYF68wKyvZV4dtkxJTaMUQ1vRjLnKsrR/2vPQjtkI4fSgOBSIDx6t9tqsVa1cyUbAeVb3jwbrNRtQVI1WJcuBrHRiv63oZ1A5yqwjLHgqdNR+EKB/Z7p6D5hgScx7syF1vP6QcTCigmU+YHVI/22ja7Hu3Ra+emC8YtW7as1+8KCgooKCiI+uz222/nmWee6bFs92GyRUVFPb7Pz88nPz8/6rMHHniABx54oOvfTz75ZNf/33333b2m64477mDlypW9fq9SqZIatmsymTCZTF3/njhxIt/73vd6LPfzn/886t8jRoxg0aJFLFq0qNdtp6SkYDabMZvNvS4T73glun2dTsfLL78c9Vls3g0GAwaDoddtxJo+fXqPbQz0vEuS1GNbWq2WNWvW9Lr/eOfDaDR2/XugxzQ2LSkpKcybN4958+b1uh1BEG5eUoaZ1dvNrN4uEzzSgK+misqtLmzmVjjY0DV3xjXZt6qjp1y8KTvlUCSA0NkzprNXXZyoQuh8MsGG/pZUkZYKIKGdbYwe9pC0jgeIGO1t7YAy8gNvH6TUyM7Px8t0WKZdlkFKu/LLr8qEJVuFp8ZD7Vkr1rbIEFXtwsIr8wH13EukQXm2PdK7JaqF1k4o5txIqWlAO2kZJozZ9G+UnsI1uyhcE3lZga++GtdWJ67lJlqlKy+x6ClI9RYXAbKw76tl9dRuX8kBVFG/oEuRcxZs7/HwG5vXxJYbQBlINJ8DPh695CiJa+ha6SynjMrElK3ve+FrJpnyMghSOx7yFBr02cZeX5AxaA46cR4IoZ5fjXdHdC9XqW6A2+zMg9xOiD5mOWrzUrmzGTmjFLfHEV2XfNEjrHENDTyk3FWXtg1OWDrpujm5raPNLsaRXYwjHMJ/yIf3TSeOnRvImyuz/z1Hr/V55/zZ7fHy2SZzPkzXkMUbft0mcw2Fk7tP9SnejxOd50whdQvs6bA8ZsS2tBp3nQNTVi2egzL6pyxkXfNIxiC0Q8Zmop8AviO1eD9aja6vaUdCAfyyBl1/3UMVarKKHGQVOSIvbzjgpXp3Bc5tizCF0vC/1ksPfMC/24HnlArTDh/uou61TZCGqzieyZT5wapHB689euP83QxTFQRBEIS/DxLqqUYKn9mFb4cVtdxMdd2AZotJ2BTdFKRwK80f9ZzXTvb7ORYGTfoUVIBGq4nMExKIHXAX4thHsb9mdrxlT6bHsIfQqda+hwUqtOh0KpCbaWiO17gLJT6sUA5w7JPYbQTxt4QiQ1Um9L26NEmLTiET+NDfs3HX5sffAlK6rtvcMypM+SbUcgPe+lDHEFUt5sI+3qSm0ETm+JMD+GNPg+zHfzx6z1N0WqRwkKbDccpGOESojyEr0lg9poV2quscmFJD+Pb56HVGw3AA/0kZ1Jk9XiIiNzYQNVWOQod2kqojvTHbafPj2enEVR9IYrmrKwOJ5jOp49GLZK6ha0XSTUGngMDhhjjplwmFrsOjSTLlZTB0DHWTP2qiOc4YYDkU58OrEGqJDMWakmWIOZdBGhoHWE+rdehGgexv5lhseT7uw/WiC+8RuWsuJ0lvwBATBPIfaqB1MAOdio5eQ+HYwWIyracSmvEvrr7q0uABF84XPTSfjbtq0tuLXzcPkEKF7l4zpVtr8SzTwXEP3vf7SNe4yFyDgUCgR7r8Hx2L+uyGX7fJXENJ3qf6FPRzLHZ/csdw2AnaqPnV1PMsmFQhvPu8+Guq8IWzsBReh8DlYLRDFFlY8vVIciOOdVV93FuCeFbcx5RJBmzJvEBFpSVrXjEOTy32eySCNdX4+jgNgUDk3mqYFRP2DzXQ8OFVBNqTKPODVY8m1x79ahLBOEEQBEG4kc56KNFryFzu6/VXvLRBGtLTG3WOGUOqTMNrrsikyV2CePbUEkSL2Rxp+OruMaBRyJG3hXZbUj7ixHUgNgcaNGrg1DH8UV8FcL/R0M+vlhLGeSbUBHBvcUfPlxMO4npEh2bSIjwJPWuH8O3xRDeCW6rxNMowNYE3nE3NwzQVQvUu3C3RXwX2uPC1SegeMkUNP5GyLeSOCuGrc+OpaUBON5N3T187UWPI0oHcTPXe6MZoYI+T6pgHVPVcM4ZUaH6lAk/UdzL+LXloNVMo+3cZCOAqnIJm9gZ6PEt0PqCm9jE8TqEiTSVBqJVg92Pd1oh9vYfzEshyRy8JJEzzjKjCzbh3+KLmRwvus2FdWobrsJzUcomXgUTzeZXHo3O5sBzVAyCZa6g/cryf+RORYSZvuoR80Inj36O3IR+yYxynwfDCtQ3sJ1deuqVvoHlWGDDP1cJZD44XYwIyZ72UzNKgMbuSDq72RlKpkJBpPRkdkAq+UYqzubOXRrdUxCkrvebhVDWuvd1TGsK7aRGLllfgC0mg6hjWF/MCDPkjJ2WvBJAU0C4nPWNdfGoNaQpoPR6IPnZnPbjrriLAOTUPUwaE6py4ugfi5UYqVyyiZJ2X1o6LT9l57PoqGgOomxMhH7Bh0E7B8kZsXqWu/8Ydkt6VLgNZKgjWe/DFXAeu1xqjy+mNvm6TuoaSu0/1qc1H1RvRAZNQXTW+NtDONkbPnzjKjHWumlBdJSWvNMBsS/SLZPrTPtBeUoPTDtGvsGPNkAi+YcW0uAp/7I9lcgDPchPW3QHUc4qx9jESonlLLt/W5uJsiflCIUXqG0nZ1RM03jWUpkoDWgm0RoXH8K514AtDbz3N+pVEmU+6Hu1Fcu1RIj0P3/cTSKacXmM33TBVQRAEQfi7MsqIUa/E+WIehqCVvDmRCaxDsWJbKAAAFntJREFUgUaqd7oIqs1UzLvGg68mWHGUuzGutZNraqV4vgEN52mqceKsCaFb6KSs8+19s4spnu2mbF8JRrMfa7YWWpup3tOAJkePtK/1Si84hQ5Tjh77eg+25U6kxQY07QF8ux1UpxrQKnoPQAKo5tmxz/WxaF8J9z3kpzg/E024lYa9TlwHQuiesUa/ias3Ch1TQjaMBcconjuFNPkY1Vsr8MlqClfEvv0y3vp6yjaV4jFXUJKTi3+phcxR7bS+58H5og95ZimOZTGPe6lGzHPVuPbZcbTJ6J/uf0iNbmEZ5u0WPGtzyT1pxaRTEfJ7cNWpMM2WqHqv28JjrTjWejCWu7DMOU/pYhNTVDKBA24q9zTCnEqs90iAFmO2FhbbMM05htVsQDtKQj7rp+FNF96wluKFvc0TBKDD/JAe+yEPtsdstC/IRBlsoHqHh9AjldjIo6zRi3NnJtYcM1n5dux7Gih5MQ9j0EpelgY+8eHa40XOKMa2JHKcVIkul3AZSDSfqqs8HpA2VotEI97NZVS0aNHMLqZwZhLXUG/GatEowLfPTtk4I5oJJkrn9r1KFIWO0k3FVD9UQcU8A63LreSmS5z/0IdrZxXNo8y4869+xqK+JVle4uV5XjJplDCWO7DWW3CtNZIbKKFwthbONuHd4cRzSkvx1rzeh34mSZqTh2lsFVUvWlk0ugyTuh3/AReug1NwbMqj+DEXDbsrqEo1YcrRxy8rPYqBhLHcTmGdharFRkKNFoxaaD3oxlUTQJvvpuxegFzMc1R46x0sWiFhzUrj/Ie1uPb4MW21IxWW4Kl3UfEGmOYaeyY+GWoT5tkSvvoNFL+QRtkcLbQ24NrkRs7SI9UMMCCn0FO2qRiP2UlZ9n00LzChU7bS5HFRdUSFcXMpplQAFWq1CmQfzhUbCOnVGBZYyYq7vSTr5gRIs4wYUiuoWGwg1GjBNE2NhEyw2YNrtx/VHAeWvqaOUJkoKdLjec6FJbud4kIDGlppqHIR0JnRfeTplocbfd0mdw0ldZ+Kqz3SRsgwIL2SS27AinmWBlp8uDZXEVQZqVwe24tcwviYBe2eCnyHVZheyUtwSLoG9ViQ33djWyth0OgwLzH1v1o3g9IOUZlw7KvkfH4JVTstTNlnxzjHEBmOGgrQUO+jOQjaHAfu16x99uTUzzGgXmejbE7k+snSqkAO4q9z4zwE+mesGBTQ2zWkN5vRbavAvcKKNpiHlgANe514U1fjLAqR91wT7s0uNIW5yb2pNokyn2w92qtk2qNA8I1FZC5tQL+xiYZnrvW9MDEiGCcIgiAIN5QK84791E7agNPjwVEXICRLqMbqyMyxU1teiin2jZODTkL/jBffWAf2HVU4lrsIIaHJMGDd6sJWlHXlYVaho/RNL6y04apzYquTUE01Yt1cS0moBO3eQFTjR1/uxtVWhn1vGXl7Im8HNC2twJPTgLnOi9xXtweFFuubDWi3bKCiyoN9eQUhVGinGineUY1toT6xObgUGsxbHUg7bFSsrMAfAnWGkdJXHNjnJ/aYrsp20FCvxbbRhWedFWcbqCboMSzbRXV5vAmTJYz5eWh3Owko9JQUJNAramwh7rp2ysorqN5tx4sK3ew87PvsqDZrqWrs+IW7Yw4b/dO1NKRXYN/mxrXWS1AG9QQDxmeqsa00dwUZtQur8aXasb/ooWqTh0BIRhqlRTfLQuUmG8Vz+n6S0D3txn2+BPueChbVgTrDQN7yatxFekIZVqr9LtxrbUgTTGRN0FH8pg/NJjuOvW7sNSFQaTHMd7BrXemVOXcUiS6XeBlINJ9XezxUc8uw5zdjq3FhP6XDMsFK4UxV4tdQr+ffwupyL4HNPpyb/OgX6imdm9xcYNIcB76DOuwbXXi3l+E5C5JaR+Y8R6QumZDU5gYkqfKSEyfPSQXjALWZXQd86DfacdU5KNkTglQtuiwrlTttFN87iIODVWaceytRPl1BdbkFt6RFn2Olsn41plHNtO71Yau3U4oKfY4eXbyyMinOdscW4j6gYsq6Ctx7HdhCcqSuXFuL/WlTR9lRY32lmuDyMly7y7DslNDNysO6x0fpvdC40kPzJg/2taCZ3ceQ+IRoKd5RTesKG1UbLRjWSminGrGuc2MPlqCtaWWgnfBUOZX46jvK6DYbbllCM93I6tfs2OZfOffGFRVY3yvFvc+Bs9mEal6cYBwDqZsTkGrEUV+LdmMF7rpKynYGkVGhTs/E+LQb28rCfn7Ekcha56VaWYr9NS8VKz2R4fCL3XjmNWOu8RAKX7n33fDrNplrKKn7VHxyGCSNCccrOtwrbGzY7ScQVqGbZaVyo4PiOC9cke7Jw5xeQcVZE9Z5CYbXFXpK1pXiW+rEu82BP6sMY1FywbjBaodIGVbc7xmx7HTi3uej8YAbXwikURr0syzYFxRTnK/vfyqD6avx1quxb3Lh3W3HHQxBqhrtVAPF293Yiq6kJ+41dK+d6h0yJZvc2Bd7kNQ6DPMd1K4zozulpLCmGM/OMuypUzA/lsyBSqLMJ1mP9irJ9uhXUcq5c+cu3+hECIIgCF8/J06cGPC6M2bMGMSUCH/PPI8oydtroNK/n+IJNzo1giAIgiAkrcXJfdNKCCzYz7HtVxtsFoSvBjFnnCAIgiAIgiAIgiAIX0FBqsor8JFFcY8hrIJw8xLDVAVBEARBEARBEARB+Oo47sVV78df58RZ14r+GTfFyby4QRC+4kQwThAEQRAEQRAEQRCErwzZ76FshRt5lA7Tul04n84SveKEvytizjhBEAThhhBzxgmCIAiCIAiC8HV0080Zt23bNgoKCnr927t3LwDbt2/nJz/5yXVJ0xNPPIHL5bou+xosPp+PgoICLly4cKOT0qW/NIVCIQoKCnj33Xevb8L6EAwGKSgo4NChQzc6KYIgCIIgCIIgCIIg3ARuymGqSqWSp556Ku53anWCrzq+CsuXL2fp0qVkZEQGrVssFkaPHn3N9zuYMjIyKCoqQqlUJrzOuXPnWLp0Kb/85S+vS5qu9f4GIjZNt912G0VFRWi12hucMkEQBEEQBEEQBEEQbgY3ZTBOoVAwffr0G7LvixcvEgwGoz6bPXv2DUnL1RgzZgxjxoxJap3jx49fk7RcvnyZS5cu9UjTtdrf1YhNk1KpJDs7+walRhAEQRAEQRAEQRCEm81NGYwbiAsXLuB2u2lqauLixYukpaXxve99j4KCAhSKyGG4fPkyb7/9Nj6fjzNnziBJEpMmTWLBggWMGTOGo0eP8uyzzwKwdu1a1Go1W7du5YknnmDWrFlYrVY+//xzlixZwsqVKzl8+DDvvfce4XCYjIwMFi9ezO233w5AW1sbu3btorm5mSFDhvC9732PGTNm8Nxzz7FlyxbuuOOOuPlYvHgx3//+9xkyZAgHDhygra2N8ePHY7VaSU9P71ru0KFD/PrXv+bkyZMMHTqU9PR05s+fz6RJk4DIkNCXXnqJXbt2ceutt7Js2TJmz57NLbfcwm9/+1suXLjAHXfcwaOPPopOp2Pv3r1dQ4ALCgowGo088cQTcdN4+vRpqqqq+Pjjj2lvb2fUqFHcf//95Obmdi2zZMkS5syZw7lz5zh48CCrVq3izJkzXWn67W9/22N/P/rRj7rO06uvvsrBgwfjHttly5Zx7733kpKSQn19Pe3t7UybNo2SkhLq6uqor69HlmXuuusuli5dSmpqatd2a2trqa+v58yZM6SmppKVlUVhYSG33HJL3GPw8MMPs3z5clasWME999wDwP/8z/+wZ88ePv74Y4YPH85dd93Fj3/84670CYIgCIIgCIIgCILw9XXd5oyLN7/b9XL58mU2btzIBx98wBNPPMHmzZvJz8+nrq4uaq633/3ud+zZs4ecnBw2bdrEqlWraG9v5/nnn+fy5ctkZGRQXl4OQHl5Oc8//3yPfQ0dOhSAPXv28N3vfpeXX34Zh8NBS0sLr7/+etdyL730En/84x9ZunQpzz33HCNGjODVV1+N2kY8CoWCAwcOMHToULZt20ZlZSVKpZLnnnuO9vZ2AN577z02b97M5MmT+fnPf85Pf/pThg8fzrPPPtujV1/3dL/77ru0tbVRUVHBzp07ufXWW9m6dSuXLl3i4Ycfxmw2M2TIEHbv3s1jjz0Wdzt/+9vfsNvtXLhwgZUrV/LCCy/w0EMPsWfPHg4ePNi13LBhw/jDH/4ARAKb3/72t6O209f+ampqGDlyJGvXrqW4uJijR4/idrt75CU1NZXt27ezZs0ampqaWLNmDRCZd3D9+vV88MEH1NTUdK23d+9e3G432dnZVFRU8Pjjj3Po0CF+8Ytf9JumTufOneOnP/0pCoWC8vJynnrqKYLBIOvXr+dvf/tbr+dVEARBEARBEARBEISvh5vuBQ6dZFmO+3fp0qUeyx45coQTJ07w6KOPMmPGDNRqNT/4wQ944IEH+P3vf8/FixcBuPvuu6moqOD+++9nzJgxpKen8+CDD9La2kowGGTo0KFIUuSFypIk9Tnfmk6nw2AwoFAoGD16NHq9vmuI4xdffMF7771HTk4O//iP/4haraawsJBvfetb/eY7JSUFSZLIz8/nlltu4Zvf/CaPPPIIX3zxBU1NTQC89dZbjBs3jscee4xx48YxceJEli1bxuXLl3nnnXd63fawYcMoLCxEqVSiVCr5f//v//H5559z/vx5hg0bxrBhwwAYOXIkw4cP73U7a9asoaysjMmTJzNmzBjuu+8+xo8fT3Nzc9cyQ4YMIRQK8fjjj/Od73yHkSNH9khLb/sbP348+fn5jB8/nrvvvhuDwdBj+Ghqaiomk4lhw4bxne98hzvvvBNZlsnLy2P48OHceeedTJ48mZaWFgD+8pe/8NZbb/H973+fBx98EI1Gw4wZM3jkkUc4fPgwp06dSugY1NfXEw6HWbFiBTqdjqlTp/L4448zbtw4Pvvss16PmSAIgiAIgiAIgiAIXw835TDVL774gkceeSTud2VlZdx9991Rn3UGanQ6XdTnkydP5je/+Q1/+tOf0Ol0jBw5kv3797N9+3ZCoRDhcJhwOAxEhpUmI7an14gRI7q2cfr0aS5fvszEiROjlpk5cyZ//OMf+932xIkTSUlJ6fr32LFju7YL8Omnn3LfffdFrTNy5EjuuOOOruBTPBMmTIja7ogRI4BI3hMdYjl06FDa29v55S9/SUtLC7Isc/nyZS5evMitt97aZz4S1fnijE6pqal88cUXUZ/deeedUf8eOXIkKpUqan8jR47k3LlzQGRo6V//+lemTZsWtV7nvz/++OOu49yXTz75hHHjxkUF6iZOnEhpaWkCORMEQRAEQRAEQRAE4e/dTRmMGzFiBKtWrYr7XbyAyZ///GcAvvGNb0R93jlXWOfwztdff536+nqsVit33XUXt9xyCx999BGbN29OOo3xek1dvnw5an+xvcFuu+22hLYd2yNPoVCgUCiQZZkvv/yScDjcI68QyW/nvuO55ZZb4n7eme5EnD17lnXr1jF58mSWL1/ON7/5TYYMGcKmTZvipmcg4qUzNo2dPdi66+ucdJYRp9PJ9u3beyx3/vz5hNL25z//udfjKAiCIAiCIAiCIAiCcFMG44YOHdqjd1Rfuvfw6h6k6uxN1fn973//e+bMmYPRaOxa5lrM89UZrIkNjMX27upNbC+9zgCcUqnsGkoZryffF1980aN32mD7r//6L9rb2ykpKYkKLl68eLFH8PGrpDNtjz76KFOnTu3xfaKBwxEjRiQcuBMEQRAEQRAEQRAE4evnugXj3nzzzeu1qx463yDq9/ujhrD6/X6GDRvG+PHjuXTpErIs9whWvfvuu0DPnlfJ9BaLpdFoAGhpaUGv13d9fvjw4YTW/+STT7h06RJDhkSm/AsEAsCVoZnp6en4/f6odS5cuMDp06fJzMwccLoT8ec//5mUlJSo4NUnn3xCa2sro0ePvqb7vhrjx49n+PDhfP7554wZM6br83A4zNmzZxMOYqanp/Ob3/yGUCiESqUC4OTJkzidToqKinoMTRYEQRAEQRAEQRAE4evlpn2BQzLuuusuJk+ezL/8y7/w4Ycf8tlnn+Hz+aivr+f+++9HqVQyZMgQ0tPT+Y//+A9OnTpFa2srL730UtdLFT799FNkWe7qQfXBBx9w4sSJAaUnLS0NnU6H1+vl/fff58yZM+zdu5fPP/88ofUvX77Mjh07OH36NCdOnOCVV15BpVJ1BfYefvhh/vSnP7Fnzx5aW1s5ceIEW7duZfjw4dx///0DSjNEeoddunSJw4cPd81PF2vy5MlcvnyZt99+m1AoxOHDh3n11VfR6/V89tlnXXO0Ddb+Bsvw4cPJzc2ltraW+vp6gsEgJ06cYNu2baxevbqrp2F/acrOzmb48OFs2bKFo0ePcvToUbZv344syz3msRMEQRAEQRAEQRAE4evnaxGMS0lJYdWqVUybNo1f/OIXPPnkk/z617/GbDazYMGCruWWLFnCrbfeyqpVq1i/fj1jxoxh0aJFzJgxg6qqKnw+H+PGjcNgMFBTU4PD4RhwmpYtW8b48eN54YUXeOaZZ5BlmXnz5gHx5zvrbtasWYwePZp169Zhs9kYMmQIq1at6poTTa/XU1paytGjRyktLeXZZ59l6NChPPvsswm/iCGee+65B61Wyz//8z9TXV0dd5nvfve7FBQUUFtby7Jly/i3f/s3SkpKePDBB7l48SLl5eVx33g70P0Nph/96Ef88Ic/5O2332bFihVs2LCBcDjMunXrunr69Zem22+/nZ/97GcoFAqee+45KioqGD16NGvWrOn3vAqCIAiCIAiCIAiC8Pcv5dy5cwMfbykMWHt7O19++WXU8Md9+/bxq1/9itdff73Xt4wWFxczffp0ioqKrldSBUEQromB9i4GmDFjxiCmRBAEQRAEQRAE4fq5KV/g8Pdg69atnDhxgsWLF6PRaGhpaeHtt9/GaDT2GogTBEEQBEEQBEEQBEEQbm4iGHeDlJSUsGfPHl5++WUuXrzI7bffTnZ2Nmaz+UYnTRAEQRAEQRAEQRAEQbhGxDBVQRAE4YYQw1QFQRAEQRAEQfg6+lq8wEEQBEEQBEEQBEEQBEEQvgpEME4QBEEQBEEQBEEQBEEQrhMRjBMEQRAEQRAEQRAEQRCE60QE4wRBEARBEARBEARBEAThOhHBOEEQBEEQBEEQBEEQBEG4TkQwThAEQRAEQRAEQRAEQRCuk5suGLdt2zYKCgp6/du7dy8A27dv5yc/+cl1SdMTTzyBy+W6LvsaLD6fj4KCAi5cuHCjkzLortX5GIwyFQwGKSgo4NChQ4OUqr59/PHHPPnkk1gsFt59993rss/eXO+8C4IgCIIgCIIgCMJXkeJGJ2AglEolTz31VNzv1Gr1Nd//8uXLWbp0KRkZGQBYLBZGjx59zfc7mDIyMigqKkKpVCa8zrlz51i6dCm//OUvr2HKrt5X6XzEHrPbbruNoqIitFrtddn/r3/9a8LhMM8++yzf+ta3rss+O93ovAuCIAiCIAiCIAjCV9FNGYxTKBRMnz79huz74sWLBIPBqM9mz559Q9JyNcaMGcOYMWOSWuf48ePXKDWD66t0PmKPmVKpJDs7+7rt/8KFC4wfP5709PTrts9ONzrvgiAIgiAIgiAIgvBV9P8B4dH8TQ3n3gwAAAAASUVORK5CYII=)"
      ],
      "metadata": {
        "id": "x46zMPWVDBKd"
      }
    },
    {
      "cell_type": "code",
      "source": [
        "print(\"\\N{dog}\")"
      ],
      "metadata": {
        "id": "RbSUajTaldrS"
      },
      "execution_count": null,
      "outputs": []
    },
    {
      "cell_type": "code",
      "source": [
        "print(\"Ali\\tgel dedi. ama \\t ben \\n gelmedim.\")"
      ],
      "metadata": {
        "id": "MCFngFcnlruE"
      },
      "execution_count": null,
      "outputs": []
    },
    {
      "cell_type": "markdown",
      "source": [
        "https://www.asciiart.eu/animals/cats"
      ],
      "metadata": {
        "id": "1aexfyBJmsTs"
      }
    },
    {
      "cell_type": "code",
      "source": [
        "kedi = \"\"\"\n",
        " /\\_/\\\\\n",
        "( o o )\n",
        "==_Y_==\n",
        "  `-'\n",
        "\"\"\"\n",
        "print(kedi)"
      ],
      "metadata": {
        "id": "_gEWAqhIl_hI"
      },
      "execution_count": null,
      "outputs": []
    },
    {
      "cell_type": "code",
      "source": [
        "kedi = \" /\\_/\\\\\\n( o o )\\n==_Y_==\\n  `-'...My Cat\"\"\"\n",
        "print(kedi)"
      ],
      "metadata": {
        "id": "07jTshmAmWq0"
      },
      "execution_count": null,
      "outputs": []
    },
    {
      "cell_type": "code",
      "source": [
        "print(\"\"\"\n",
        "      \\\\    /\\\\\n",
        "       )  ( ')\n",
        "      (  /  )\n",
        "jgs    \\(__)|\n",
        "\"\"\")"
      ],
      "metadata": {
        "id": "VN47S-L4m7DG"
      },
      "execution_count": null,
      "outputs": []
    },
    {
      "cell_type": "markdown",
      "source": [
        "https://www.ascii-code.com/"
      ],
      "metadata": {
        "id": "8Qwrxt98nm_V"
      }
    },
    {
      "cell_type": "code",
      "source": [
        "chr(64)  # ascii tablosundaki karakteri verir"
      ],
      "metadata": {
        "id": "3AH3i09mnoy3"
      },
      "execution_count": null,
      "outputs": []
    },
    {
      "cell_type": "code",
      "source": [
        "email=\"bulendhoc\"+chr(64)+\"gmail\"+chr(46)+\"com\"\n",
        "email"
      ],
      "metadata": {
        "id": "gvZXHaZ7nTYf"
      },
      "execution_count": null,
      "outputs": []
    },
    {
      "cell_type": "code",
      "source": [
        "#tersi işlem için ise\n",
        "ord(\"@\")  # ascii kodu verir"
      ],
      "metadata": {
        "id": "t5V96paln9eR"
      },
      "execution_count": null,
      "outputs": []
    },
    {
      "cell_type": "code",
      "source": [
        "num = 10\n",
        "print(\"İkili.:\", bin(num))\n",
        "print(\"Sekizli.:\", oct(num))\n",
        "print(\"Onaltılı.:\", hex(num))"
      ],
      "metadata": {
        "id": "mQHOO3TcoQY4"
      },
      "execution_count": null,
      "outputs": []
    },
    {
      "cell_type": "code",
      "source": [
        "num = 10\n",
        "print(f\"İkili.:{num:0b}\")\n",
        "print(f\"Sekizli.:{num:0o}\")\n",
        "print(f\"Onaltılı.:{num:0x}\")"
      ],
      "metadata": {
        "id": "PPnIxHUloiwS"
      },
      "execution_count": null,
      "outputs": []
    },
    {
      "cell_type": "code",
      "source": [
        "#input() : veri girişi için kullanılır, Varsayılan olarak string türde değer alır\n",
        "num1 = input(\"Sayı1: \")  # str tipinde data alır\n",
        "num2 = input(\"Sayi2: \")\n",
        "toplam= num1+num2\n",
        "print(\"Toplamı= \",toplam)"
      ],
      "metadata": {
        "id": "p49f4KcTpHnR"
      },
      "execution_count": null,
      "outputs": []
    },
    {
      "cell_type": "code",
      "source": [
        "num1 = input(\"Sayı1: \")  # str tipinde data alır\n",
        "num2 = input(\"Sayi2: \")\n",
        "toplam= int(num1)+int(num2)\n",
        "print(\"Toplamı= \",toplam)"
      ],
      "metadata": {
        "id": "u1eGRGS-piHx"
      },
      "execution_count": null,
      "outputs": []
    },
    {
      "cell_type": "code",
      "source": [
        "word = input(\"text\")\n",
        "sep = \"/\"\n",
        "tekrar = 3\n",
        "print((word+sep)*tekrar+\"\\b\", end=\"?\")"
      ],
      "metadata": {
        "id": "eLFFU4WaqFmK"
      },
      "execution_count": null,
      "outputs": []
    },
    {
      "cell_type": "code",
      "source": [
        "word = input(\"Ad..: \")\n",
        "print((word+\"\\n\") * 5)  # girileni 5 kez alt alta yazdı..."
      ],
      "metadata": {
        "id": "Vlhmn5vxqjXF"
      },
      "execution_count": null,
      "outputs": []
    },
    {
      "cell_type": "code",
      "source": [
        "word = input(\"Ad..: \"); print((word+\"\\n\") * 5)  # girileni 5 kez alt alta yazdı..."
      ],
      "metadata": {
        "id": "JIqk5c3aroY0"
      },
      "execution_count": null,
      "outputs": []
    },
    {
      "cell_type": "code",
      "source": [
        "import this  # Bu Python felsefesinin anlatan bir dokuman"
      ],
      "metadata": {
        "id": "TmsTnZd-rD6R"
      },
      "execution_count": null,
      "outputs": []
    },
    {
      "cell_type": "markdown",
      "source": [
        "#PEP8"
      ],
      "metadata": {
        "id": "033KUVGSVOj9"
      }
    },
    {
      "cell_type": "markdown",
      "source": [
        "https://peps.python.org/pep-0008/"
      ],
      "metadata": {
        "id": "GHb2zK_oWYGo"
      }
    },
    {
      "cell_type": "code",
      "source": [
        "# pep 8 kurallarına uymak kod okunabilirliğini artırmak için önemlidir.\n",
        "# ; birden fazla kod satırını yan yana yazmak için kullanılır"
      ],
      "metadata": {
        "id": "oDUbz-GsVQFI"
      },
      "execution_count": null,
      "outputs": []
    },
    {
      "cell_type": "markdown",
      "source": [
        "# Comments(Yorum satırları)"
      ],
      "metadata": {
        "id": "PSpfKvbjXsFZ"
      }
    },
    {
      "cell_type": "code",
      "source": [
        "# Yorum satırları programcı için yazılır.\n",
        "# hash karakter kullanılır, bu karakterden sonrasını python derleyicisi yorumlamaz"
      ],
      "metadata": {
        "id": "XMs_z7ljXwkW"
      },
      "execution_count": null,
      "outputs": []
    },
    {
      "cell_type": "code",
      "source": [
        "print(\"hello\")  # print(\"merhaba\") anlamında"
      ],
      "metadata": {
        "id": "BEZCN3VkYufY"
      },
      "execution_count": null,
      "outputs": []
    },
    {
      "cell_type": "code",
      "source": [
        "# Çok satırlı yorumlar için\n",
        "# alt alta # karakterleri kullanıalbilir\n",
        "# ....."
      ],
      "metadata": {
        "id": "I0oRF_HmZCIZ"
      },
      "execution_count": null,
      "outputs": []
    },
    {
      "cell_type": "code",
      "source": [
        "# Docstring (__doc__) : Bir modül veya fonksiyonun işlevini açıklayan dokuman\n",
        "# \"\"\" ... docstring belgesi 3 tırnak arasında oluştururlur ... \"\"\"\n",
        "import merha"
      ],
      "metadata": {
        "id": "A7ZWRsiy7o6v"
      },
      "execution_count": null,
      "outputs": []
    },
    {
      "cell_type": "code",
      "source": [
        "merha.__doc__"
      ],
      "metadata": {
        "id": "Y1mTi3wh8Cka"
      },
      "execution_count": null,
      "outputs": []
    },
    {
      "cell_type": "code",
      "source": [
        "help(merha)"
      ],
      "metadata": {
        "id": "iBY9La2h8CeJ"
      },
      "execution_count": null,
      "outputs": []
    },
    {
      "cell_type": "code",
      "source": [
        "merha.selam.__doc__"
      ],
      "metadata": {
        "id": "-qJlV6x5-psK"
      },
      "execution_count": null,
      "outputs": []
    },
    {
      "cell_type": "code",
      "source": [
        "print.__doc__"
      ],
      "metadata": {
        "id": "wRSmiD_H8CT6"
      },
      "execution_count": null,
      "outputs": []
    },
    {
      "cell_type": "code",
      "source": [
        "print(input.__doc__)"
      ],
      "metadata": {
        "id": "yptpi8tb_yHp"
      },
      "execution_count": null,
      "outputs": []
    },
    {
      "cell_type": "code",
      "source": [
        "print(sum.__doc__)"
      ],
      "metadata": {
        "id": "VZKV4g_C_6Cr"
      },
      "execution_count": null,
      "outputs": []
    },
    {
      "cell_type": "code",
      "source": [
        "help(sum)"
      ],
      "metadata": {
        "id": "tWOOQPWz__5Z"
      },
      "execution_count": null,
      "outputs": []
    },
    {
      "cell_type": "code",
      "source": [
        "sum([1,2,3,4,5], start=100)"
      ],
      "metadata": {
        "id": "5dZ9TDT2AGCj"
      },
      "execution_count": null,
      "outputs": []
    },
    {
      "cell_type": "code",
      "source": [
        "# docstringler test yazılımlarında kullanılabilir\n",
        "def my_add(a,b):\n",
        "    \"\"\"\n",
        "    >>> my_add(2,4)\n",
        "    6\n",
        "    >>> my_add(3,5)\n",
        "    8\n",
        "    >>> my_add(2,2)\n",
        "    5\n",
        "    \"\"\"\n",
        "    return a+b"
      ],
      "metadata": {
        "id": "bwSC8PITAnZv"
      },
      "execution_count": null,
      "outputs": []
    },
    {
      "cell_type": "code",
      "source": [
        "import doctest\n",
        "doctest.testmod()"
      ],
      "metadata": {
        "id": "HX73E63LBCwa"
      },
      "execution_count": null,
      "outputs": []
    },
    {
      "cell_type": "code",
      "source": [
        "# Sabitler büyük harf ile gösterilir.\n",
        "PI = 3.14\n",
        "PI"
      ],
      "metadata": {
        "id": "dvtcuqq_BiVs"
      },
      "execution_count": null,
      "outputs": []
    },
    {
      "cell_type": "code",
      "source": [
        "# Değişkenlere değer aktarımı tek satırda\n",
        "a, b, c = 2, 5.6, \"Hello\"\n",
        "print(a,\"\\n\", b, \"\\n\", c)"
      ],
      "metadata": {
        "id": "rWzp-JphB7xi"
      },
      "execution_count": null,
      "outputs": []
    },
    {
      "cell_type": "code",
      "source": [
        "a, b = 2, 5.6, \"Hello\"\n",
        "print(a,\"\\n\", b)"
      ],
      "metadata": {
        "id": "APV9SP0WCK5U"
      },
      "execution_count": null,
      "outputs": []
    },
    {
      "cell_type": "code",
      "source": [
        "a, *b = 2, 5.6, \"Hello\"  # ilk değeri a'ya kalanı b'ye aktar\n",
        "print(a,\"\\n\", b)"
      ],
      "metadata": {
        "id": "gnBLpWSjCSBI"
      },
      "execution_count": null,
      "outputs": []
    },
    {
      "cell_type": "code",
      "source": [
        "from keyword import kwlist\n",
        "# keywordler değişken ismi olarak kullanılmaz\n",
        "import keyword\n",
        "keyword.kwlist"
      ],
      "metadata": {
        "id": "GwNuKypuCptc"
      },
      "execution_count": null,
      "outputs": []
    },
    {
      "cell_type": "code",
      "source": [
        "pass = \"ali\"\n",
        "print(pass)"
      ],
      "metadata": {
        "id": "un-AXyv8C36h"
      },
      "execution_count": null,
      "outputs": []
    },
    {
      "cell_type": "code",
      "source": [
        "# keyword listesinde olmasa bile python deyimlerini değişken ismi olarak kullanmayın\n",
        "# print = 4\n",
        "print(print)"
      ],
      "metadata": {
        "id": "_Jo-aXdXDAve"
      },
      "execution_count": null,
      "outputs": []
    },
    {
      "cell_type": "code",
      "source": [
        "print(\"selam\")  # print printlikten çıktı"
      ],
      "metadata": {
        "id": "NUPnHKTADJ3t"
      },
      "execution_count": null,
      "outputs": []
    },
    {
      "cell_type": "code",
      "source": [
        "# Bir değişkjen içeriğini yazdırmanın farklı yolları\n",
        "num = 1234\n",
        "print(\"Sayı..:\", num)\n",
        "print(f\"Sayı..: {num}\")\n",
        "print(\"Sayı..: {0}\".format(num))\n",
        "print(\"Sayı..: \" + str(num))  # java tarzı\n",
        "print(\"Sayı..: %d\" %num)  # C tarzı"
      ],
      "metadata": {
        "id": "8X2wo8iWD6WO"
      },
      "execution_count": null,
      "outputs": []
    },
    {
      "cell_type": "code",
      "source": [
        "# iki değişken içeriğini 3. değişken kullanmadan değiştirebiliriz\n",
        "a, b = 3, \"üç\"\n",
        "print(a, b)\n",
        "a, b = b, a\n",
        "print(a, b)"
      ],
      "metadata": {
        "id": "uk3_mrwvEpVt"
      },
      "execution_count": null,
      "outputs": []
    },
    {
      "cell_type": "code",
      "source": [
        "import sys\n",
        "sys.maxsize  # max int değer"
      ],
      "metadata": {
        "id": "VwLJw_hVFSUA"
      },
      "execution_count": null,
      "outputs": []
    },
    {
      "cell_type": "code",
      "source": [
        "314e-2"
      ],
      "metadata": {
        "id": "uzY9n4xBF6RJ"
      },
      "execution_count": null,
      "outputs": []
    },
    {
      "cell_type": "code",
      "source": [
        "1.8e308  # çık büyük sayı"
      ],
      "metadata": {
        "id": "PhP04EEyGFEv"
      },
      "execution_count": null,
      "outputs": []
    },
    {
      "cell_type": "code",
      "source": [
        "1.79e308"
      ],
      "metadata": {
        "id": "Vdc6Zw0LGLCD"
      },
      "execution_count": null,
      "outputs": []
    },
    {
      "cell_type": "code",
      "source": [
        "a = 2+3j\n",
        "a"
      ],
      "metadata": {
        "id": "yR4kLs2FGYDK"
      },
      "execution_count": null,
      "outputs": []
    },
    {
      "cell_type": "code",
      "source": [
        "a.real"
      ],
      "metadata": {
        "id": "g34FZJMnGjhG"
      },
      "execution_count": null,
      "outputs": []
    },
    {
      "cell_type": "code",
      "source": [
        "a.imag"
      ],
      "metadata": {
        "id": "thIWRNcOGlZS"
      },
      "execution_count": null,
      "outputs": []
    },
    {
      "cell_type": "code",
      "source": [
        "type(2+3j)"
      ],
      "metadata": {
        "id": "f0Tv2l1GGaEU"
      },
      "execution_count": null,
      "outputs": []
    },
    {
      "cell_type": "code",
      "source": [
        "bool(0.3)  # 0 harici True"
      ],
      "metadata": {
        "id": "v5mWrMpLG0oH"
      },
      "execution_count": null,
      "outputs": []
    },
    {
      "cell_type": "code",
      "source": [
        "bool(0)"
      ],
      "metadata": {
        "id": "VK1fzxpSG7eG"
      },
      "execution_count": null,
      "outputs": []
    },
    {
      "cell_type": "code",
      "source": [
        "bool(5) + bool(-3) + bool(0)  # Aritmetik işlemlerde True:1, False:0 kabul edilir"
      ],
      "metadata": {
        "id": "NWpw0LSGG_Lm"
      },
      "execution_count": null,
      "outputs": []
    },
    {
      "cell_type": "code",
      "source": [
        "bool(None)"
      ],
      "metadata": {
        "id": "XZtWSLtAHNdH"
      },
      "execution_count": null,
      "outputs": []
    },
    {
      "cell_type": "code",
      "source": [
        "a = 5.6\n",
        "bool(a)"
      ],
      "metadata": {
        "id": "YTPmRCkeHYZV"
      },
      "execution_count": null,
      "outputs": []
    },
    {
      "cell_type": "code",
      "source": [
        "int(a)"
      ],
      "metadata": {
        "id": "tvJ-7NI_HcTB"
      },
      "execution_count": null,
      "outputs": []
    },
    {
      "cell_type": "code",
      "source": [
        "str(a)"
      ],
      "metadata": {
        "id": "jRmG25aJHfga"
      },
      "execution_count": null,
      "outputs": []
    },
    {
      "cell_type": "code",
      "source": [
        "3 + \"4\""
      ],
      "metadata": {
        "id": "B4rq_E81Ht4A"
      },
      "execution_count": null,
      "outputs": []
    },
    {
      "cell_type": "code",
      "source": [
        "5/3"
      ],
      "metadata": {
        "id": "2dAwA7fzH6qJ"
      },
      "execution_count": null,
      "outputs": []
    },
    {
      "cell_type": "code",
      "source": [
        "5//3  # tam bölme"
      ],
      "metadata": {
        "id": "gHPqDX0eH9DJ"
      },
      "execution_count": null,
      "outputs": []
    },
    {
      "cell_type": "code",
      "source": [
        "5%2  # kalan"
      ],
      "metadata": {
        "id": "F7EqMAR9H_1V"
      },
      "execution_count": null,
      "outputs": []
    },
    {
      "cell_type": "code",
      "source": [
        "# mod almada negatif değerlerde hata alırsanız fmod kullanılmalı\n",
        "8%3"
      ],
      "metadata": {
        "id": "wK6yuuDEIMbv"
      },
      "execution_count": null,
      "outputs": []
    },
    {
      "cell_type": "code",
      "source": [
        "-8%3"
      ],
      "metadata": {
        "id": "CIhWyDErISzJ"
      },
      "execution_count": null,
      "outputs": []
    },
    {
      "cell_type": "code",
      "source": [
        "import math\n",
        "math.fmod(-8,3)"
      ],
      "metadata": {
        "id": "zyFNi8JgIU0q"
      },
      "execution_count": null,
      "outputs": []
    },
    {
      "cell_type": "code",
      "source": [
        "# paradaki onlukları, yüzlükleri, beşlikleri, birlikleri bulalım\n",
        "para = 697\n",
        "yuzluk = para // 100\n",
        "para = para % 100\n",
        "onluk = para // 10\n",
        "para = para % 10\n",
        "beslik = para // 5\n",
        "para = para % 5\n",
        "birlik = para\n",
        "print( \"Yüzlük..: \", yuzluk)\n",
        "print(\"Onluk..:\", onluk)\n",
        "print(\"Beslik..:\", beslik),\n",
        "print(\"Birlik..:\", birlik)"
      ],
      "metadata": {
        "id": "PO_zn6EHIrEH"
      },
      "execution_count": null,
      "outputs": []
    },
    {
      "cell_type": "code",
      "source": [
        "def veznedar(para):\n",
        "    \"\"\"\n",
        "    veznedara para üstü vermede yardımcı olacak fonksiyon\n",
        "    \"\"\"\n",
        "    yuzluk = para // 100\n",
        "    para = para % 100\n",
        "    onluk = para // 10\n",
        "    para = para % 10\n",
        "    beslik = para // 5\n",
        "    para = para % 5\n",
        "    birlik = para\n",
        "    print(yuzluk, \"adet Yüzlük\")\n",
        "    print(onluk, \"adet Onluk\")\n",
        "    print(beslik, \"adet Beslik\")\n",
        "    print(birlik, \"adet Birlik vermelisin...\")\n",
        "\n",
        "# fonksiyonu çağıralım\n",
        "veznedar(766)"
      ],
      "metadata": {
        "id": "ZDJB3oSeMS9n"
      },
      "execution_count": null,
      "outputs": []
    },
    {
      "cell_type": "code",
      "source": [
        "veznedar(867)"
      ],
      "metadata": {
        "id": "ACNDCE3VNLAO"
      },
      "execution_count": null,
      "outputs": []
    },
    {
      "cell_type": "markdown",
      "source": [
        "Operatör önceliği: https://docs.python.org/3/reference/expressions.html"
      ],
      "metadata": {
        "id": "W-bGT7d4NeZ_"
      }
    },
    {
      "cell_type": "code",
      "source": [
        "f\"{4:03}\""
      ],
      "metadata": {
        "id": "F2qH9eUVNhF-"
      },
      "execution_count": null,
      "outputs": []
    },
    {
      "cell_type": "code",
      "source": [
        "a = 3\n",
        "a = a**2\n",
        "print(a)"
      ],
      "metadata": {
        "id": "Ty-dZPh4OM1o"
      },
      "execution_count": null,
      "outputs": []
    },
    {
      "cell_type": "code",
      "source": [
        "a = 3\n",
        "a **= 2\n",
        "print(a)"
      ],
      "metadata": {
        "id": "fIu3QSBBOTg7"
      },
      "execution_count": null,
      "outputs": []
    },
    {
      "cell_type": "code",
      "source": [
        "test = \"{} {} {} {}\".format(\"İyilik\", \"her\", \"kazandırır\", \"zaman\")\n",
        "test"
      ],
      "metadata": {
        "id": "aPeX82D_O854"
      },
      "execution_count": null,
      "outputs": []
    },
    {
      "cell_type": "code",
      "source": [
        "test = \"{0} {1} {3} {2}\".format(\"İyilik\", \"her\", \"kazandırır\", \"zaman\")\n",
        "test"
      ],
      "metadata": {
        "id": "x-MjmlzwPL1c"
      },
      "execution_count": null,
      "outputs": []
    },
    {
      "cell_type": "code",
      "source": [
        "# sayıların okunuşu kolaylaştırmak için _ kullanılabilir\n",
        "bakiye = 100_000 + 2_000_050\n",
        "bakiye"
      ],
      "metadata": {
        "id": "8hISw6c2PTg2"
      },
      "execution_count": null,
      "outputs": []
    },
    {
      "cell_type": "code",
      "source": [
        "# bakiye virgüllü\n",
        "# İlk hali : 210050 , Amaç: 2.100,50\n",
        "virgullu_bakiye = f\"{bakiye:,}\"\n",
        "virgullu_bakiye"
      ],
      "metadata": {
        "id": "lj2rWCL_RCRq"
      },
      "execution_count": null,
      "outputs": []
    },
    {
      "cell_type": "code",
      "source": [
        "# bakiye virgüllü\n",
        "# İlk hali : 210050 , Amaç: 2.100,50\n",
        "virgullu_bakiye = \"{:,}\".format(bakiye)\n",
        "virgullu_bakiye"
      ],
      "metadata": {
        "id": "S1OhxHuFPulv"
      },
      "execution_count": null,
      "outputs": []
    },
    {
      "cell_type": "code",
      "source": [
        "noktali_bakiye = virgullu_bakiye.replace(\",\", \".\", 1)\n",
        "noktali_bakiye"
      ],
      "metadata": {
        "id": "l2OpzI3FQTtu"
      },
      "execution_count": null,
      "outputs": []
    },
    {
      "cell_type": "code",
      "source": [
        "ters_noktali_bakiye = virgullu_bakiye[::-1].replace(\",\", \".\", 1)\n",
        "ters_noktali_bakiye[::-1]"
      ],
      "metadata": {
        "id": "QOBRg0uoQt3t"
      },
      "execution_count": null,
      "outputs": []
    },
    {
      "cell_type": "code",
      "source": [
        "name = \"Bulent\"\n",
        "year = 30\n",
        "mesaj = f\"{name} hoca {year} dır akademidedir.\"\n",
        "print(mesaj)"
      ],
      "metadata": {
        "id": "FsblkkucRSgs"
      },
      "execution_count": null,
      "outputs": []
    },
    {
      "cell_type": "code",
      "source": [
        "name = \"Bulent\"\n",
        "year = 30\n",
        "mesaj = f\"{name} hoca \\\n",
        " {year} dır \\\n",
        " akademidedir.\"\n",
        "print(mesaj)"
      ],
      "metadata": {
        "id": "lQlPZbCmRkZo"
      },
      "execution_count": null,
      "outputs": []
    },
    {
      "cell_type": "code",
      "source": [
        "name = \"Bulent\"\n",
        "year = 30\n",
        "mesaj = f\"\"\"{name} hoca\n",
        " {year} dır\n",
        " akademidedir.\"\"\"\n",
        "print(mesaj)"
      ],
      "metadata": {
        "id": "Ro89wQ0YRquk"
      },
      "execution_count": null,
      "outputs": []
    },
    {
      "cell_type": "code",
      "source": [
        "# DATA'yı tarih-saat formatına dönüşüm\n",
        "import datetime\n",
        "tarih_saat = datetime.datetime(2025, 4, 8, 15, 4, 45)\n",
        "print(f\"{tarih_saat:%d-%m-%Y %H:%M:%S}\")"
      ],
      "metadata": {
        "id": "thrM-fudSRPP"
      },
      "execution_count": null,
      "outputs": []
    },
    {
      "cell_type": "code",
      "source": [
        "import datetime\n",
        "tarih_saat = datetime.datetime(2025, 4, 8, 15, 4, 45)\n",
        "print(\"{:%d-%m-%Y %H:%M:%S}\".format(tarih_saat))"
      ],
      "metadata": {
        "id": "_ALt_QflTFm6"
      },
      "execution_count": null,
      "outputs": []
    },
    {
      "cell_type": "code",
      "source": [
        "import calendar\n",
        "calendar.prmonth(2025,4)"
      ],
      "metadata": {
        "id": "vO9sg9T-TeT1"
      },
      "execution_count": null,
      "outputs": []
    },
    {
      "cell_type": "code",
      "source": [
        "# sayıların basamak sayısını belirleme\n",
        "PI = 3.141567\n",
        "print(f\"{PI:.2f}\")\n",
        "print(f\"{PI:.3f}\")  # virgülden 3 basamak\n",
        "print(f\"{PI:10.3f}\")  # virgülden 3 basamak, ama tamamı 10 karakter olsun"
      ],
      "metadata": {
        "id": "AO-IgBBgT1CA"
      },
      "execution_count": null,
      "outputs": []
    },
    {
      "cell_type": "code",
      "source": [
        "print(f\"{'Sola yanaşma' : <20}\")"
      ],
      "metadata": {
        "id": "Ut7deFM7Ueo_"
      },
      "execution_count": null,
      "outputs": []
    },
    {
      "cell_type": "code",
      "source": [
        "print(f\"{'Sağa yanaşma' : >20}\")"
      ],
      "metadata": {
        "id": "L0yx9BePUwbs"
      },
      "execution_count": null,
      "outputs": []
    },
    {
      "cell_type": "code",
      "source": [
        "print(f\"{'Merkez yanaşma' : ^20}\")"
      ],
      "metadata": {
        "id": "t5ELhL8CU1Bk"
      },
      "execution_count": null,
      "outputs": []
    },
    {
      "cell_type": "code",
      "source": [],
      "metadata": {
        "id": "XafA4iQ6ZfM_"
      },
      "execution_count": null,
      "outputs": []
    },
    {
      "cell_type": "markdown",
      "source": [
        "#String Metotlar\n",
        "\n",
        "https://docs.python.org/3/library/stdtypes.html#string-methods"
      ],
      "metadata": {
        "id": "KeKo9SuKYu6k"
      }
    },
    {
      "cell_type": "code",
      "source": [
        "# ljust : sola yanaştırma, rjust: sağa yanaştırma, center: merkeze alma\n",
        "\"Merkeze yanaşma\".center(20, \"*\")"
      ],
      "metadata": {
        "id": "k4pNZCIGYxdW"
      },
      "execution_count": null,
      "outputs": []
    },
    {
      "cell_type": "code",
      "source": [
        "#Arama işlemleri\n",
        "# str.endswith(suffix[, start[, end]])\n",
        "# str.startswith(prefix[, start[, end]])\n",
        "# \"...\" in / not in str\n",
        "url = \"https://www.fibabanka.com.tr\"\n",
        "print(\"Web sitesi güvenli mi?\", url.startswith(\"https\"))\n",
        "print(\"Web sitesi Türkiyede mi?\", url.endswith(\"tr\"))\n",
        "print(\"Bu bir banka mı?\", \"bank\" in url)\n",
        "print(\"Belirtilen aralık -www- ile mi başlıyor?\", url.startswith(\"www\", 8, 11))"
      ],
      "metadata": {
        "id": "XOts__7PZzqI"
      },
      "execution_count": null,
      "outputs": []
    },
    {
      "cell_type": "code",
      "source": [
        "# Girilen bir kurumsal email adresinin doğru olup olmadığını nasıl tespit ederiz..\n",
        "email = input(\"Mail adresiniz..: \")\n",
        "if email.endswith(\"@fibabanka.com.tr\"):\n",
        "    print(\"Geçerli bir email adresi\")\n",
        "else:\n",
        "    print(\"Geçersiz bir email adresi\")"
      ],
      "metadata": {
        "id": "GY7BiTbgcCby"
      },
      "execution_count": null,
      "outputs": []
    },
    {
      "cell_type": "code",
      "source": [
        "email = input(\"Mail adresiniz..: \")\n",
        "print(email.endswith(\"@fibabanka.com.tr\") and \"Geçerli bir email adresi\" or \"Geçersiz bir email adresi\")"
      ],
      "metadata": {
        "id": "AdJ1dDMSc5rL"
      },
      "execution_count": null,
      "outputs": []
    },
    {
      "cell_type": "code",
      "source": [
        "# str.rfind(sub[, start[, end]])\n",
        "# str.rindex(sub[, start[, end]])  aranan yoksa ValueError üretir\n",
        "# str.find(sub[, start[, end]])\n",
        "# str.index(sub[, start[, end]])\n",
        "email = \"bulendhoc@gmail.com.tr\"\n",
        "email.find(\".\")  # varsa indis numarası (pozisyonu) döndürür"
      ],
      "metadata": {
        "id": "I4ecqmcsdTRc"
      },
      "execution_count": null,
      "outputs": []
    },
    {
      "cell_type": "code",
      "source": [
        "email.rfind(\".\")"
      ],
      "metadata": {
        "id": "H34KVARvd9-9"
      },
      "execution_count": null,
      "outputs": []
    },
    {
      "cell_type": "code",
      "source": [
        "email.index(\"@\")"
      ],
      "metadata": {
        "id": "GjFSp3rcd6uu"
      },
      "execution_count": null,
      "outputs": []
    },
    {
      "cell_type": "code",
      "source": [
        "email.rindex(\"@\")"
      ],
      "metadata": {
        "id": "J4UiYS8BeM4I"
      },
      "execution_count": null,
      "outputs": []
    },
    {
      "cell_type": "code",
      "source": [
        "text = \"merhaba arkadaşlar\"\n",
        "text.upper()"
      ],
      "metadata": {
        "id": "jK4KSopwehf4"
      },
      "execution_count": null,
      "outputs": []
    },
    {
      "cell_type": "code",
      "source": [
        "text.title()"
      ],
      "metadata": {
        "id": "BBbEx2Sbeq0A"
      },
      "execution_count": null,
      "outputs": []
    },
    {
      "cell_type": "code",
      "source": [
        "text.capitalize()"
      ],
      "metadata": {
        "id": "f0oVPZCse0CM"
      },
      "execution_count": null,
      "outputs": []
    },
    {
      "cell_type": "code",
      "source": [
        "text.replace(\"a\", \"o\")"
      ],
      "metadata": {
        "id": "Lctr3_N4e6g6"
      },
      "execution_count": null,
      "outputs": []
    },
    {
      "cell_type": "code",
      "source": [
        "#data seti temizleme\n",
        "text = \"  memleketlime \"\n",
        "temiz_text = text.strip()\n",
        "temiz_text"
      ],
      "metadata": {
        "id": "7Vnn6dkafPZp"
      },
      "execution_count": null,
      "outputs": []
    },
    {
      "cell_type": "code",
      "source": [
        "#data seti temizleme\n",
        "text = \"  memleketlime \"\n",
        "temiz_text = text.strip(\" me\")  # m, e, ' ' karakterleri kaldırır ta ki farklı karaktere denk gelinceye kadar\n",
        "temiz_text"
      ],
      "metadata": {
        "id": "8sHla2YgfdxX"
      },
      "execution_count": null,
      "outputs": []
    },
    {
      "cell_type": "code",
      "source": [
        "#data seti temizleme\n",
        "text = \"  memleketlime \"\n",
        "temiz_text = text.rstrip(\" me\")  # sağdan m, e, ' ' karakterleri kaldırır ta ki farklı karaktere denk gelinceye kadar\n",
        "temiz_text"
      ],
      "metadata": {
        "id": "UkTcPDRcfwRn"
      },
      "execution_count": null,
      "outputs": []
    },
    {
      "cell_type": "code",
      "source": [
        "#data seti temizleme\n",
        "text = \"  memleketlime \"\n",
        "temiz_text = text.lstrip(\" me\")  # SOLDAN m, e, ' ' karakterleri kaldırır ta ki farklı karaktere denk gelinceye kadar\n",
        "temiz_text"
      ],
      "metadata": {
        "id": "CE5zO-24f3VK"
      },
      "execution_count": null,
      "outputs": []
    },
    {
      "cell_type": "code",
      "source": [
        "\"TestTakeCafe\".strip(\"Test\")"
      ],
      "metadata": {
        "id": "ergA_tvhgOpj"
      },
      "execution_count": null,
      "outputs": []
    },
    {
      "cell_type": "code",
      "source": [
        "# sadece baştaki \"Test\" i kaldır, kombinasyonlarını kaldırma\n",
        "\"TestTakeCafe\".removeprefix(\"Test\")"
      ],
      "metadata": {
        "id": "YlqILNXBgbEY"
      },
      "execution_count": null,
      "outputs": []
    },
    {
      "cell_type": "code",
      "source": [
        "#data seti temizleme\n",
        "text = \"  memleketlime \"\n",
        "temiz_text = text.removesuffix(\"me \")  # sağdan/sondan \"me \" kaldırır\n",
        "temiz_text"
      ],
      "metadata": {
        "id": "_QOnSQqAgtVl"
      },
      "execution_count": null,
      "outputs": []
    },
    {
      "cell_type": "code",
      "source": [
        "# split(): string listeye dönüştürür\n",
        "'1,2,3'.split(',')"
      ],
      "metadata": {
        "id": "LFIBz88hhPLo"
      },
      "execution_count": null,
      "outputs": []
    },
    {
      "cell_type": "code",
      "source": [
        "# Bir cümledeki kelime listesini almak\n",
        "text = \"Mr. Green killed. Colonel Mustard in the study with the candlestick. A very nice fellow.\"\n",
        "print(text.split())  # boşluklara göre ayrıştırır. (default)"
      ],
      "metadata": {
        "id": "Wpj_bjoAh1B2"
      },
      "execution_count": null,
      "outputs": []
    },
    {
      "cell_type": "code",
      "source": [
        "# Bir cümledeki kelime listesini almak\n",
        "text = \"Mr. Green killed. Colonel Mustard in the study with the candlestick. A very nice fellow.\"\n",
        "print(text.split(\" \"))"
      ],
      "metadata": {
        "id": "UTaXar0sWrt6"
      },
      "execution_count": null,
      "outputs": []
    },
    {
      "cell_type": "code",
      "source": [
        "#Bir metni belirtilen kalıba göre parçalar/ayrıştırır ve listeye dönüştürülür. Örnek kullanım;\n",
        "import re\n",
        "ara = re.split(\" \", text) #boşluk karakterine göre ayrıştır\n",
        "print (ara)"
      ],
      "metadata": {
        "id": "GdnVd3ay28Go"
      },
      "execution_count": null,
      "outputs": []
    },
    {
      "cell_type": "code",
      "source": [
        "# Bir metindeki kelime sayısını bulma\n",
        "text = \"Mr.Green killed. Colonel Mustard in the study with the candlestick. A very nice fellow.\"\n",
        "print(len(text.split()))  # boşluklara göre ayrıştırır."
      ],
      "metadata": {
        "id": "gf2s4muQh9wB"
      },
      "execution_count": null,
      "outputs": []
    },
    {
      "cell_type": "code",
      "source": [
        "# Bir metindeki kelime  sayısını bulma\n",
        "text = \"Mr.Green killed. Colonel Mustard in the study with the candlestick. A very nice fellow.\"\n",
        "print(text.count(\" \")+1)  # boşlukları say."
      ],
      "metadata": {
        "id": "FRIYHYiniRCi"
      },
      "execution_count": null,
      "outputs": []
    },
    {
      "cell_type": "code",
      "source": [
        "# Bir metindeki cümle sayısını bulma\n",
        "text = \"Mr.Green killed. Colonel Mustard in the study with the candlestick. A very nice fellow.\"\n",
        "print(text.count(\". \")+1)  # boşlukları say. (default)"
      ],
      "metadata": {
        "id": "QrJi_N8uieg_"
      },
      "execution_count": null,
      "outputs": []
    },
    {
      "cell_type": "code",
      "source": [
        "# Bir metindeki cümle sayısını bulma\n",
        "text = \"Mr.Green killed. Colonel Mustard in the study with the candlestick. A very nice fellow.\"\n",
        "print(len(text.split(\". \")))  # boşluklara göre ayrıştırır."
      ],
      "metadata": {
        "id": "3_aCVPjfi1Q-"
      },
      "execution_count": null,
      "outputs": []
    },
    {
      "cell_type": "code",
      "source": [
        "# Tersi işlem: listeyi stringe dönüştürme\n",
        "liste = ['Mr.', 'Green', 'killed.', 'Colonel', 'Mustard', 'in', 'the', 'study', 'with', 'the', 'candlestick.', 'A', 'very', 'nice', 'fellow.']\n",
        "\" \".join(liste)"
      ],
      "metadata": {
        "id": "MA_sawdNjMcg"
      },
      "execution_count": null,
      "outputs": []
    },
    {
      "cell_type": "code",
      "source": [
        "\"n\".join([\"ha\", \"zar\"])"
      ],
      "metadata": {
        "id": "KtEfs_MRjcK5"
      },
      "execution_count": null,
      "outputs": []
    },
    {
      "cell_type": "code",
      "source": [
        "# stringi ters çevirme text[::-1] ya da \"\".join(reversed(text))\n",
        "text = \"adam\"\n",
        "text[::-1]"
      ],
      "metadata": {
        "id": "DAR9gEOQjvKK"
      },
      "execution_count": null,
      "outputs": []
    },
    {
      "cell_type": "code",
      "source": [
        "text = \"adam\"\n",
        "\"\".join(reversed(text))"
      ],
      "metadata": {
        "id": "5W1PgPSMj9IZ"
      },
      "execution_count": null,
      "outputs": []
    },
    {
      "cell_type": "code",
      "source": [
        "'BANANA'.isupper()  # is ile başlayan metotlar True/False değer döndürür\n",
        "# str upper mı?"
      ],
      "metadata": {
        "id": "-96irdbFkWv2"
      },
      "execution_count": null,
      "outputs": []
    },
    {
      "cell_type": "code",
      "source": [
        "# python keywordu mü\n",
        "from keyword import iskeyword\n",
        "iskeyword(\"print\")"
      ],
      "metadata": {
        "id": "YYSAS-Z1kvmy"
      },
      "execution_count": null,
      "outputs": []
    },
    {
      "cell_type": "code",
      "source": [
        "text = \"Merhaba 😃💁\"\n",
        "for i in text:\n",
        "    if i.isalnum() or i.isspace():\n",
        "        print(i, end=\"\")\n",
        ""
      ],
      "metadata": {
        "id": "NCdOCUJel5f7"
      },
      "execution_count": null,
      "outputs": []
    },
    {
      "cell_type": "code",
      "source": [
        "text = \"Merhaba 😃💁\"\n",
        "# emojileri nasıl kaldırırırız?"
      ],
      "metadata": {
        "id": "g1j03uzLlQQM"
      },
      "execution_count": null,
      "outputs": []
    }
  ]
}