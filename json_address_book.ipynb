{
  "nbformat": 4,
  "nbformat_minor": 0,
  "metadata": {
    "colab": {
      "provenance": []
    },
    "kernelspec": {
      "name": "python3",
      "display_name": "Python 3"
    },
    "language_info": {
      "name": "python"
    }
  },
  "cells": [
    {
      "cell_type": "markdown",
      "source": [
        "# Proje: Adres/Telefon defteri (Address book)\n",
        "\n",
        "*Aşağıdaki işlemleri gerçekleştiren dosya tabanlı menülü bir telefon/adres defteri programını yazalım*\n",
        "1.   Kayıt Ekle\n",
        "2.   Kayıt Listele\n",
        "3.   Kayıt Ara\n",
        "4.   Kayıt Sil\n",
        "5.   Kayıt Güncelle\n",
        "6.   Çıkış"
      ],
      "metadata": {
        "id": "-IwbqO5H8282"
      }
    },
    {
      "cell_type": "code",
      "source": [
        "# Kullanılacak kütüphane ve modülleri import edelim\n",
        "import json\n",
        "DOSYAM = \"rehber.json\""
      ],
      "metadata": {
        "id": "a5NagRzg0U__"
      },
      "execution_count": 1,
      "outputs": []
    },
    {
      "cell_type": "code",
      "source": [
        "# Dosya okuma ve yazma fonksiyonları\n",
        "def dosya_read():\n",
        "    try:\n",
        "        with open(DOSYAM) as fr:\n",
        "            okunanlar = json.load(fr)\n",
        "        return okunanlar\n",
        "    except FileNotFoundError:\n",
        "        return {}\n",
        "#dosya yazma\n",
        "def dosya_write(rehber_bilgileri):\n",
        "    with open(DOSYAM, mode=\"w\", encoding=\"utf-8\") as fw:\n",
        "        json.dump(rehber_bilgileri, fw, indent=2)"
      ],
      "metadata": {
        "id": "bbXE8Xl30Zq_"
      },
      "execution_count": 16,
      "outputs": []
    },
    {
      "cell_type": "code",
      "source": [
        "# Kayıt ekle fonksiyonu (Record add function)\n",
        "# ad, telefon, mail\n",
        "def kayit_ekle():\n",
        "    rehber_adi = input(\"Ad..: \")\n",
        "    telefon = input(\"Telefon..: \")\n",
        "    mail = input(\"E-mail..: \")\n",
        "    # mevcut dosyadakileri alalım\n",
        "    rehber_bilgileri = dosya_read()\n",
        "    yeni_rehber = {\n",
        "    \"Telefon\": telefon,\n",
        "    \"Email\": mail\n",
        "    }\n",
        "    rehber_bilgileri[rehber_adi] = yeni_rehber\n",
        "    #yeni kaydı dosyaya yazalım\n",
        "    dosya_write(rehber_bilgileri)\n",
        "    print(\"Kayıt eklendi\")"
      ],
      "metadata": {
        "id": "o7gmhjfo0fQQ"
      },
      "execution_count": 17,
      "outputs": []
    },
    {
      "cell_type": "code",
      "source": [
        "# Kayıt listele fonksiyonu (Record list function)\n",
        "def kayit_listele():\n",
        "    rehber_bilgileri = dosya_read()\n",
        "    for k,v in rehber_bilgileri.items():\n",
        "        print(k,\":\",v)"
      ],
      "metadata": {
        "id": "pAToj3750hsX"
      },
      "execution_count": 18,
      "outputs": []
    },
    {
      "cell_type": "code",
      "source": [
        "# Kayıt ara fonksiyonu (Record find function)\n",
        "def kayit_ara():\n",
        "    rehber_bilgileri = dosya_read()\n",
        "    kisi_adi = input(\"Aranan kişi..: \")\n",
        "    if kisi_adi in rehber_bilgileri:\n",
        "        print(rehber_bilgileri[kisi_adi])\n",
        "    else:\n",
        "        print(\"Kişi bulunamadı\")"
      ],
      "metadata": {
        "id": "spCRMJ3d0mg_"
      },
      "execution_count": 19,
      "outputs": []
    },
    {
      "cell_type": "code",
      "source": [
        "# Kayıt sil fonksiyonu (Delete record function)\n",
        "def kayit_sil():\n",
        "    rehber_bilgileri = dosya_read()\n",
        "    sil_kisi_adi = input(\"Silinecek kişi adı..: \")\n",
        "    if sil_kisi_adi in rehber_bilgileri:\n",
        "        del rehber_bilgileri[sil_kisi_adi]\n",
        "        dosya_write(rehber_bilgileri)\n",
        "        print(\"Kayıt silindi\")\n",
        "    else:\n",
        "        print(\"Kişi bulunamadı\")"
      ],
      "metadata": {
        "id": "zn3kMZVx0pBu"
      },
      "execution_count": 20,
      "outputs": []
    },
    {
      "cell_type": "code",
      "source": [
        "# Kayıt güncelle fonksiyonu (Update record function)\n",
        "def kayit_guncelle():\n",
        "    rehber_bilgileri = dosya_read()\n",
        "    update_kisi = input(\"Güncellenecek kişi adı..: \")\n",
        "    if update_kisi in rehber_bilgileri:\n",
        "        kisi = rehber_bilgileri[update_kisi]\n",
        "        print(f\"Mevcut Bilgileri.: {kisi}\")\n",
        "\n",
        "        kisi['Telefon'] = input(\"Yeni Telefonu.: \") or kisi['Telefon']\n",
        "        kisi['Email'] = input('Yeni Emaili..: ') or kisi['Email']\n",
        "    else:\n",
        "        print(\"Kişi bulunamadı\")\n",
        "    # güncellenmiş rehberi dosyaya yaz\n",
        "    dosya_write(rehber_bilgileri)\n",
        "    print(\"Kayıt güncellendi...\")\n"
      ],
      "metadata": {
        "id": "Mmpoqt1W0sVX"
      },
      "execution_count": 21,
      "outputs": []
    },
    {
      "cell_type": "code",
      "source": [
        "# Menü  ve tüm fonksiyonları çağıran ana program\n",
        "while True:\n",
        "    print(\"1- Kayıt Ekle\")\n",
        "    print(\"2- Kayıt Listele\")\n",
        "    print(\"3- Kayıt Ara\")\n",
        "    print(\"4- Kayıt Sil\")\n",
        "    print(\"5- Kayıt Güncelle\")\n",
        "    print(\"6- Çıkış\")\n",
        "    secim = input(\"Lütfen[1-6 arası] seçiminizi yapınız\")\n",
        "    if secim==\"1\":\n",
        "        kayit_ekle()\n",
        "    elif secim==\"2\":\n",
        "        kayit_listele()\n",
        "    elif secim==\"3\":\n",
        "        kayit_ara()\n",
        "    elif secim==\"4\":\n",
        "        kayit_sil()\n",
        "    elif secim==\"5\":\n",
        "        kayit_guncelle()\n",
        "    elif secim==\"6\":\n",
        "        print(\"Programdan çıkılıyor...\")\n",
        "        break\n",
        "    else:\n",
        "        print(\"Geçersiz seçenek, lütfen 1-6 arası değer giriniz..\")"
      ],
      "metadata": {
        "colab": {
          "base_uri": "https://localhost:8080/"
        },
        "id": "rpBJee720dBH",
        "outputId": "907c1277-3f7c-4952-c434-92afa2388642"
      },
      "execution_count": 22,
      "outputs": [
        {
          "output_type": "stream",
          "name": "stdout",
          "text": [
            "1- Kayıt Ekle\n",
            "2- Kayıt Listele\n",
            "3- Kayıt Ara\n",
            "4- Kayıt Sil\n",
            "5- Kayıt Güncelle\n",
            "6- Çıkış\n",
            "Lütfen[1-6 arası] seçiminizi yapınız2\n",
            "ali : {'Telefon': '5453456789', 'Email': 'ali@gmail.com'}\n",
            "veli : {'Telefon': '987654', 'Email': 'veli@gmail.com'}\n",
            "1- Kayıt Ekle\n",
            "2- Kayıt Listele\n",
            "3- Kayıt Ara\n",
            "4- Kayıt Sil\n",
            "5- Kayıt Güncelle\n",
            "6- Çıkış\n",
            "Lütfen[1-6 arası] seçiminizi yapınız1\n",
            "Ad..: seda\n",
            "Telefon..: 45768\n",
            "E-mail..: seda@yahoo.com\n",
            "Kayıt eklendi\n",
            "1- Kayıt Ekle\n",
            "2- Kayıt Listele\n",
            "3- Kayıt Ara\n",
            "4- Kayıt Sil\n",
            "5- Kayıt Güncelle\n",
            "6- Çıkış\n",
            "Lütfen[1-6 arası] seçiminizi yapınız6\n",
            "Programdan çıkılıyor...\n"
          ]
        }
      ]
    }
  ]
}