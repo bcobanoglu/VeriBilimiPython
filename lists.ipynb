{
  "nbformat": 4,
  "nbformat_minor": 0,
  "metadata": {
    "colab": {
      "provenance": []
    },
    "kernelspec": {
      "name": "python3",
      "display_name": "Python 3"
    },
    "language_info": {
      "name": "python"
    }
  },
  "cells": [
    {
      "cell_type": "markdown",
      "source": [
        "#Listeler"
      ],
      "metadata": {
        "id": "znBP7xo3Bh90"
      }
    },
    {
      "cell_type": "code",
      "execution_count": 1,
      "metadata": {
        "id": "x1-mwIRzBUsQ"
      },
      "outputs": [],
      "source": [
        "# liste oluşturma:\n",
        "bos_liste1 = list()\n",
        "bos_liste2 = []"
      ]
    },
    {
      "cell_type": "code",
      "source": [
        "type(bos_liste1)"
      ],
      "metadata": {
        "colab": {
          "base_uri": "https://localhost:8080/"
        },
        "id": "exf4EZN_Fcjl",
        "outputId": "ca63c0e0-f656-49cf-b3b1-b43530336aa8"
      },
      "execution_count": 2,
      "outputs": [
        {
          "output_type": "execute_result",
          "data": {
            "text/plain": [
              "list"
            ]
          },
          "metadata": {},
          "execution_count": 2
        }
      ]
    },
    {
      "cell_type": "code",
      "source": [
        "type(bos_liste2)"
      ],
      "metadata": {
        "colab": {
          "base_uri": "https://localhost:8080/"
        },
        "id": "57U0GEugFkY9",
        "outputId": "055e3085-0758-4059-8e9d-a470f63730eb"
      },
      "execution_count": 3,
      "outputs": [
        {
          "output_type": "execute_result",
          "data": {
            "text/plain": [
              "list"
            ]
          },
          "metadata": {},
          "execution_count": 3
        }
      ]
    },
    {
      "cell_type": "code",
      "source": [
        "liste1 = ['h','a','p','p','y']\n",
        "print(liste1)\n",
        "word = \"happy\"\n",
        "liste2 = list(word)\n",
        "print(liste2)"
      ],
      "metadata": {
        "colab": {
          "base_uri": "https://localhost:8080/"
        },
        "id": "bZshd_2DF2Pz",
        "outputId": "1ae6d5cc-9cd3-4a01-b4a6-2d30635c2e75"
      },
      "execution_count": 5,
      "outputs": [
        {
          "output_type": "stream",
          "name": "stdout",
          "text": [
            "['h', 'a', 'p', 'p', 'y']\n",
            "['h', 'a', 'p', 'p', 'y']\n"
          ]
        }
      ]
    },
    {
      "cell_type": "code",
      "source": [
        "ulkeler = [\"Almanya\", \"Fransa\", \"Arjantin\", \"Japonya\"]\n",
        "print(ulkeler)"
      ],
      "metadata": {
        "colab": {
          "base_uri": "https://localhost:8080/"
        },
        "id": "L9N7ZrQ0GQvl",
        "outputId": "6701f78c-a068-40b2-f295-42fc43ae0caf"
      },
      "execution_count": 6,
      "outputs": [
        {
          "output_type": "stream",
          "name": "stdout",
          "text": [
            "['Almanya', 'Fransa', 'Arjantin', 'Japonya']\n"
          ]
        }
      ]
    },
    {
      "cell_type": "code",
      "source": [
        "nums = [1, 2, 3, 4, 5]\n",
        "print(nums)"
      ],
      "metadata": {
        "colab": {
          "base_uri": "https://localhost:8080/"
        },
        "id": "8kxRGm-EGa2m",
        "outputId": "e14197a4-e3ab-49b5-e4ef-62d664e56976"
      },
      "execution_count": 7,
      "outputs": [
        {
          "output_type": "stream",
          "name": "stdout",
          "text": [
            "[1, 2, 3, 4, 5]\n"
          ]
        }
      ]
    },
    {
      "cell_type": "code",
      "source": [
        "mix_liste = ['Almanya', 'Fransa', 2, 3, 4, 'Arjantin', 'Japonya']\n",
        "print(mix_liste)"
      ],
      "metadata": {
        "colab": {
          "base_uri": "https://localhost:8080/"
        },
        "id": "SerDw8DjGiIT",
        "outputId": "dd0a8047-f42a-42d4-f91a-1f435a11fece"
      },
      "execution_count": 8,
      "outputs": [
        {
          "output_type": "stream",
          "name": "stdout",
          "text": [
            "['Almanya', 'Fransa', 2, 3, 4, 'Arjantin', 'Japonya']\n"
          ]
        }
      ]
    },
    {
      "cell_type": "code",
      "source": [
        "nums = [1, 2, 3, 4, 5]\n",
        "nums2 = [5, 2, 3, 4, 1]\n",
        "nums == nums2 # mi? Çünkü: listeler ordered(sıralı) veri yapılarıdır..."
      ],
      "metadata": {
        "colab": {
          "base_uri": "https://localhost:8080/"
        },
        "id": "NaR5878fHH7D",
        "outputId": "10704600-ab81-4150-e7be-b2859b0954ae"
      },
      "execution_count": 9,
      "outputs": [
        {
          "output_type": "execute_result",
          "data": {
            "text/plain": [
              "False"
            ]
          },
          "metadata": {},
          "execution_count": 9
        }
      ]
    },
    {
      "cell_type": "code",
      "source": [
        "word = \"h a p p y\"\n",
        "liste2 = list(word)\n",
        "liste3 = [\"happy\"]\n",
        "liste4 = word.split() # listeye dönüştürür....\n",
        "print(liste2)\n",
        "print(liste3)\n",
        "print(liste4)"
      ],
      "metadata": {
        "colab": {
          "base_uri": "https://localhost:8080/"
        },
        "id": "llDxuRvWH6El",
        "outputId": "d471bd98-0042-4b9b-d3c9-bc4c7e1d52bd"
      },
      "execution_count": 17,
      "outputs": [
        {
          "output_type": "stream",
          "name": "stdout",
          "text": [
            "['h', ' ', 'a', ' ', 'p', ' ', 'p', ' ', 'y']\n",
            "['happy']\n",
            "['h', 'a', 'p', 'p', 'y']\n"
          ]
        }
      ]
    },
    {
      "cell_type": "code",
      "source": [
        "type(liste3)"
      ],
      "metadata": {
        "colab": {
          "base_uri": "https://localhost:8080/"
        },
        "id": "tvqN1H_qIC-h",
        "outputId": "dcae0804-c73a-4205-c747-5bd13d960d4d"
      },
      "execution_count": 12,
      "outputs": [
        {
          "output_type": "execute_result",
          "data": {
            "text/plain": [
              "list"
            ]
          },
          "metadata": {},
          "execution_count": 12
        }
      ]
    },
    {
      "cell_type": "code",
      "source": [
        "print(f\"liste2 nin eleman sayısı.: {len(liste2)}\")\n",
        "print(f\"liste3 ün eleman sayısı.: {len(liste3)}\")\n",
        "print(f\"liste4 ün eleman sayısı.: {len(liste4)}\")"
      ],
      "metadata": {
        "colab": {
          "base_uri": "https://localhost:8080/"
        },
        "id": "OOdXawr6IIq4",
        "outputId": "6864c590-2736-412f-879d-c1eb5b293d98"
      },
      "execution_count": 18,
      "outputs": [
        {
          "output_type": "stream",
          "name": "stdout",
          "text": [
            "liste2 nin eleman sayısı.: 9\n",
            "liste3 ün eleman sayısı.: 1\n",
            "liste4 ün eleman sayısı.: 5\n"
          ]
        }
      ]
    },
    {
      "cell_type": "code",
      "source": [
        "type(liste4)"
      ],
      "metadata": {
        "colab": {
          "base_uri": "https://localhost:8080/"
        },
        "id": "qpgdSPQFJA29",
        "outputId": "5fea3759-f550-4478-c246-14dd65649416"
      },
      "execution_count": 19,
      "outputs": [
        {
          "output_type": "execute_result",
          "data": {
            "text/plain": [
              "list"
            ]
          },
          "metadata": {},
          "execution_count": 19
        }
      ]
    },
    {
      "cell_type": "code",
      "source": [
        "mix_liste = ['Almanya', 'Fransa', 2, 3, 4, 'Arjantin', 'Japonya', True, None, [3, 'a', 5]]\n",
        "print(mix_liste)\n",
        "print(len(mix_liste))"
      ],
      "metadata": {
        "colab": {
          "base_uri": "https://localhost:8080/"
        },
        "id": "4AT8KQdwJR2r",
        "outputId": "0ad9d56e-3ca2-443e-c672-b5797edccda4"
      },
      "execution_count": 21,
      "outputs": [
        {
          "output_type": "stream",
          "name": "stdout",
          "text": [
            "['Almanya', 'Fransa', 2, 3, 4, 'Arjantin', 'Japonya', True, None, [3, 'a', 5]]\n",
            "10\n"
          ]
        }
      ]
    },
    {
      "cell_type": "code",
      "source": [
        "my_list = [\"joseph\", \"clarus\", 2023]\n",
        "new_list1 = list(my_list)  # içerdekileri alıp koyma\n",
        "print(new_list1)\n",
        "print(len(new_list1))\n",
        "\n",
        "new_list2 = [my_list]  # kabı ile beraber koyma\n",
        "print(new_list2)\n",
        "print(len(new_list2))"
      ],
      "metadata": {
        "colab": {
          "base_uri": "https://localhost:8080/"
        },
        "id": "buvgdUYwKWeQ",
        "outputId": "e3b68f98-704b-4de3-df84-1c7402a07549"
      },
      "execution_count": 24,
      "outputs": [
        {
          "output_type": "stream",
          "name": "stdout",
          "text": [
            "['joseph', 'clarus', 2023]\n",
            "3\n",
            "[['joseph', 'clarus', 2023]]\n",
            "1\n"
          ]
        }
      ]
    },
    {
      "cell_type": "code",
      "source": [
        "text = \"2020's hard.\"\n",
        "new_text1 = list(text)\n",
        "new_text2 = [text]\n",
        "print(new_text1)\n",
        "print(new_text2)"
      ],
      "metadata": {
        "colab": {
          "base_uri": "https://localhost:8080/"
        },
        "id": "mV57qWfjLNNT",
        "outputId": "c4569ca0-57cf-4782-f064-4979cf223966"
      },
      "execution_count": 25,
      "outputs": [
        {
          "output_type": "stream",
          "name": "stdout",
          "text": [
            "['2', '0', '2', '0', \"'\", 's', ' ', 'h', 'a', 'r', 'd', '.']\n",
            "[\"2020's hard.\"]\n"
          ]
        }
      ]
    },
    {
      "cell_type": "markdown",
      "source": [
        "#liste Metotları\n",
        "https://docs.python.org/3/library/stdtypes.html#typesseq-list"
      ],
      "metadata": {
        "id": "D82sZ2gMP9_H"
      }
    },
    {
      "cell_type": "code",
      "source": [
        "dir(list)[-11:] # listelere özgü metotlar/fonksiyonlar"
      ],
      "metadata": {
        "colab": {
          "base_uri": "https://localhost:8080/"
        },
        "id": "kz71MWefQDzg",
        "outputId": "d6d85de5-b8d0-4ddc-9272-7e6d5267c8ef"
      },
      "execution_count": 27,
      "outputs": [
        {
          "output_type": "execute_result",
          "data": {
            "text/plain": [
              "['append',\n",
              " 'clear',\n",
              " 'copy',\n",
              " 'count',\n",
              " 'extend',\n",
              " 'index',\n",
              " 'insert',\n",
              " 'pop',\n",
              " 'remove',\n",
              " 'reverse',\n",
              " 'sort']"
            ]
          },
          "metadata": {},
          "execution_count": 27
        }
      ]
    },
    {
      "cell_type": "code",
      "source": [
        "# listeler mutable, string'ler immutable\n",
        "text = \"1,4,7\"\n",
        "text.replace(\"4\", \"5\")\n",
        "print(text)"
      ],
      "metadata": {
        "colab": {
          "base_uri": "https://localhost:8080/"
        },
        "id": "4HnL_V9SQ5kR",
        "outputId": "c6794802-fcb7-4bd3-b7a7-287ae7c17b7d"
      },
      "execution_count": 30,
      "outputs": [
        {
          "output_type": "stream",
          "name": "stdout",
          "text": [
            "1,4,7\n"
          ]
        }
      ]
    },
    {
      "cell_type": "code",
      "source": [
        "text = \"1,4,7\"\n",
        "text = text.replace(\"4\", \"5\")\n",
        "print(text)"
      ],
      "metadata": {
        "colab": {
          "base_uri": "https://localhost:8080/"
        },
        "id": "kX7cNmwhRaSY",
        "outputId": "b9ad405a-53e4-4d5e-b74d-5782b0c1f48b"
      },
      "execution_count": 31,
      "outputs": [
        {
          "output_type": "stream",
          "name": "stdout",
          "text": [
            "1,5,7\n"
          ]
        }
      ]
    },
    {
      "cell_type": "code",
      "source": [
        "# append(): listenin sonuna yeni bir eleman ekler\n",
        "nums = [1, 4, 7]\n",
        "nums.append(9)\n",
        "nums.append('9')\n",
        "print(nums)"
      ],
      "metadata": {
        "colab": {
          "base_uri": "https://localhost:8080/"
        },
        "id": "V-ne95rBQmzN",
        "outputId": "5d83b52c-1c53-415d-f327-ff1511ad95d7"
      },
      "execution_count": 29,
      "outputs": [
        {
          "output_type": "stream",
          "name": "stdout",
          "text": [
            "[1, 4, 7, 9, '9']\n"
          ]
        }
      ]
    },
    {
      "cell_type": "code",
      "source": [
        "empty_list = []\n",
        "empty_list.append(6666)\n",
        "empty_list.append(\"Multiverse\")\n",
        "empty_list.append([0])\n",
        "print(empty_list)"
      ],
      "metadata": {
        "colab": {
          "base_uri": "https://localhost:8080/"
        },
        "id": "w6DiIllfSI3f",
        "outputId": "9fbf690d-b032-4f6c-b9c5-7513b0209e21"
      },
      "execution_count": 35,
      "outputs": [
        {
          "output_type": "stream",
          "name": "stdout",
          "text": [
            "[6666, 'Multiverse', [0]]\n"
          ]
        }
      ]
    },
    {
      "cell_type": "code",
      "source": [
        "city = [\"New York\", \"Istanbul\", \"Berlin\", \"Seoul\"]\n",
        "city.append(\"Addis Ababa\")\n",
        "print(city)"
      ],
      "metadata": {
        "colab": {
          "base_uri": "https://localhost:8080/"
        },
        "id": "iWAaZj_6Smyj",
        "outputId": "89525e04-8707-483f-f0e4-e9743fb486bf"
      },
      "execution_count": 37,
      "outputs": [
        {
          "output_type": "stream",
          "name": "stdout",
          "text": [
            "['New York', 'Istanbul', 'Berlin', 'Seoul', 'Addis Ababa']\n"
          ]
        }
      ]
    },
    {
      "cell_type": "markdown",
      "source": [
        "# indis Kavramı:\n",
        "pozitif indisler : 0 dan soldan sağa doğru başlayan tamsayılardır;\n",
        "negatif indisler: -1 den sağdan sola doğru başlayan tamsayılardır."
      ],
      "metadata": {
        "id": "VlDe0ZJVS1dJ"
      }
    },
    {
      "cell_type": "code",
      "source": [
        "#poz.indis   0          1          2        3\n",
        "#neg. indis -4          -3        -2       -1\n",
        "city = [\"New York\", \"Istanbul\", \"Berlin\", \"Seoul\"]\n",
        "city.append(\"Addis Ababa\")\n",
        "print(city[-1])"
      ],
      "metadata": {
        "colab": {
          "base_uri": "https://localhost:8080/"
        },
        "id": "sShif2GsTHXB",
        "outputId": "c56b789d-a3c1-4e68-cd8e-de9a60c5f456"
      },
      "execution_count": 38,
      "outputs": [
        {
          "output_type": "stream",
          "name": "stdout",
          "text": [
            "Addis Ababa\n"
          ]
        }
      ]
    },
    {
      "cell_type": "code",
      "source": [
        "city[4]"
      ],
      "metadata": {
        "colab": {
          "base_uri": "https://localhost:8080/",
          "height": 35
        },
        "id": "dBMG70IkTi5S",
        "outputId": "0078b1e5-2b56-442a-af70-48fdb1d171b3"
      },
      "execution_count": 39,
      "outputs": [
        {
          "output_type": "execute_result",
          "data": {
            "text/plain": [
              "'Addis Ababa'"
            ],
            "application/vnd.google.colaboratory.intrinsic+json": {
              "type": "string"
            }
          },
          "metadata": {},
          "execution_count": 39
        }
      ]
    },
    {
      "cell_type": "code",
      "source": [
        "liste = []\n",
        "liste.append(1)\n",
        "liste.append(2)\n",
        "liste.append(3)\n",
        "liste.append(4)\n",
        "print(liste)"
      ],
      "metadata": {
        "colab": {
          "base_uri": "https://localhost:8080/"
        },
        "id": "LPP_KyBBUYo2",
        "outputId": "a6780c31-ee55-42b1-dd8f-42e72637ec17"
      },
      "execution_count": 40,
      "outputs": [
        {
          "output_type": "stream",
          "name": "stdout",
          "text": [
            "[1, 2, 3, 4]\n"
          ]
        }
      ]
    },
    {
      "cell_type": "code",
      "source": [
        "my_list = []\n",
        "my_list.append(1,2,3,4)\n",
        "print(my_list)"
      ],
      "metadata": {
        "colab": {
          "base_uri": "https://localhost:8080/",
          "height": 216
        },
        "id": "FtYdHUbLUzYE",
        "outputId": "af1ad015-d59c-4480-80c9-4702437465ca"
      },
      "execution_count": 41,
      "outputs": [
        {
          "output_type": "error",
          "ename": "TypeError",
          "evalue": "ignored",
          "traceback": [
            "\u001b[0;31m---------------------------------------------------------------------------\u001b[0m",
            "\u001b[0;31mTypeError\u001b[0m                                 Traceback (most recent call last)",
            "\u001b[0;32m<ipython-input-41-0749ebdaabd4>\u001b[0m in \u001b[0;36m<cell line: 2>\u001b[0;34m()\u001b[0m\n\u001b[1;32m      1\u001b[0m \u001b[0mmy_list\u001b[0m \u001b[0;34m=\u001b[0m \u001b[0;34m[\u001b[0m\u001b[0;34m]\u001b[0m\u001b[0;34m\u001b[0m\u001b[0;34m\u001b[0m\u001b[0m\n\u001b[0;32m----> 2\u001b[0;31m \u001b[0mmy_list\u001b[0m\u001b[0;34m.\u001b[0m\u001b[0mappend\u001b[0m\u001b[0;34m(\u001b[0m\u001b[0;36m1\u001b[0m\u001b[0;34m,\u001b[0m\u001b[0;36m2\u001b[0m\u001b[0;34m,\u001b[0m\u001b[0;36m3\u001b[0m\u001b[0;34m,\u001b[0m\u001b[0;36m4\u001b[0m\u001b[0;34m)\u001b[0m\u001b[0;34m\u001b[0m\u001b[0;34m\u001b[0m\u001b[0m\n\u001b[0m\u001b[1;32m      3\u001b[0m \u001b[0mprint\u001b[0m\u001b[0;34m(\u001b[0m\u001b[0mmy_list\u001b[0m\u001b[0;34m)\u001b[0m\u001b[0;34m\u001b[0m\u001b[0;34m\u001b[0m\u001b[0m\n",
            "\u001b[0;31mTypeError\u001b[0m: list.append() takes exactly one argument (4 given)"
          ]
        }
      ]
    },
    {
      "cell_type": "code",
      "source": [
        "my_list = []\n",
        "my_list.append([1,2,3,4])  # tek bir item istiyor....\n",
        "print(my_list)"
      ],
      "metadata": {
        "colab": {
          "base_uri": "https://localhost:8080/"
        },
        "id": "HENzENXYVBoq",
        "outputId": "7a00362c-fcef-4689-f614-5c75dab8cae5"
      },
      "execution_count": 42,
      "outputs": [
        {
          "output_type": "stream",
          "name": "stdout",
          "text": [
            "[[1, 2, 3, 4]]\n"
          ]
        }
      ]
    },
    {
      "cell_type": "code",
      "source": [
        "help(list.insert)"
      ],
      "metadata": {
        "colab": {
          "base_uri": "https://localhost:8080/"
        },
        "id": "Xtc5QVEaVUvV",
        "outputId": "b428c7fd-9fc9-4054-fb40-3c7dcea6c62a"
      },
      "execution_count": 44,
      "outputs": [
        {
          "output_type": "stream",
          "name": "stdout",
          "text": [
            "Help on method_descriptor:\n",
            "\n",
            "insert(self, index, object, /)\n",
            "    Insert object before index.\n",
            "\n"
          ]
        }
      ]
    },
    {
      "cell_type": "code",
      "source": [
        "# insert : belirtilen indis'e elemanı ekler ve diğerlerini sağa doğru kaydırır...\n",
        "numbers = [1, 4, 7]\n",
        "numbers.insert(2,9)\n",
        "numbers.insert(2,6)\n",
        "print(numbers)"
      ],
      "metadata": {
        "colab": {
          "base_uri": "https://localhost:8080/"
        },
        "id": "EPqknzWtWC_z",
        "outputId": "ac2a41f3-05a5-48e4-9d19-aaae73de2667"
      },
      "execution_count": 46,
      "outputs": [
        {
          "output_type": "stream",
          "name": "stdout",
          "text": [
            "[1, 4, 6, 9, 7]\n"
          ]
        }
      ]
    },
    {
      "cell_type": "code",
      "source": [
        "#poz.indis   0          1          2        3\n",
        "#neg. indis -4          -3        -2       -1\n",
        "city = [\"New York\", \"Istanbul\", \"Berlin\", \"Seoul\"]\n",
        "city.insert(2, \"Addis Ababa\")\n",
        "print(city)"
      ],
      "metadata": {
        "colab": {
          "base_uri": "https://localhost:8080/"
        },
        "id": "XnWA3laYWx75",
        "outputId": "a995acf3-fd18-405e-d4e0-712dbf2b4d91"
      },
      "execution_count": 47,
      "outputs": [
        {
          "output_type": "stream",
          "name": "stdout",
          "text": [
            "['New York', 'Istanbul', 'Addis Ababa', 'Berlin', 'Seoul']\n"
          ]
        }
      ]
    },
    {
      "cell_type": "code",
      "source": [
        "city.index(\"Addis Ababa\")  # indisi verir"
      ],
      "metadata": {
        "colab": {
          "base_uri": "https://localhost:8080/"
        },
        "id": "RmEG44PSW_Mm",
        "outputId": "d9932cfc-35f3-42bc-d216-5bc5624ac0b1"
      },
      "execution_count": 52,
      "outputs": [
        {
          "output_type": "execute_result",
          "data": {
            "text/plain": [
              "2"
            ]
          },
          "metadata": {},
          "execution_count": 52
        }
      ]
    },
    {
      "cell_type": "code",
      "source": [
        "numbers = [4,5,9,1,3,6]\n",
        "min(numbers)  # minimum'u alır ama hepsi aynı tip olmalı"
      ],
      "metadata": {
        "colab": {
          "base_uri": "https://localhost:8080/"
        },
        "id": "Ld9qZR-fXdjb",
        "outputId": "b73ae16e-7d57-4da9-85ca-9a1992a0bdf3"
      },
      "execution_count": 51,
      "outputs": [
        {
          "output_type": "execute_result",
          "data": {
            "text/plain": [
              "1"
            ]
          },
          "metadata": {},
          "execution_count": 51
        }
      ]
    },
    {
      "cell_type": "code",
      "source": [
        "numbers = [4,5,9,1,3,6]\n",
        "max(numbers)  # maximum'u alır ama hepsi aynı tip olmalı"
      ],
      "metadata": {
        "colab": {
          "base_uri": "https://localhost:8080/"
        },
        "id": "3v8WD25nX1XR",
        "outputId": "8263a502-da58-4364-c2e3-0dd5835ad38f"
      },
      "execution_count": 53,
      "outputs": [
        {
          "output_type": "execute_result",
          "data": {
            "text/plain": [
              "9"
            ]
          },
          "metadata": {},
          "execution_count": 53
        }
      ]
    },
    {
      "cell_type": "code",
      "source": [
        "help(list.extend)"
      ],
      "metadata": {
        "colab": {
          "base_uri": "https://localhost:8080/"
        },
        "id": "Ipa8VkWpX82G",
        "outputId": "64148c29-b8d5-437f-f3c1-9fcc86fad1f2"
      },
      "execution_count": 54,
      "outputs": [
        {
          "output_type": "stream",
          "name": "stdout",
          "text": [
            "Help on method_descriptor:\n",
            "\n",
            "extend(self, iterable, /)\n",
            "    Extend list by appending elements from the iterable.\n",
            "\n"
          ]
        }
      ]
    },
    {
      "cell_type": "code",
      "source": [
        "a = [1,2,3]\n",
        "b = [4,5,6]\n",
        "a.append(b)\n",
        "print(a)\n",
        "print(len(a))"
      ],
      "metadata": {
        "colab": {
          "base_uri": "https://localhost:8080/"
        },
        "id": "hcC4-_sTYHhY",
        "outputId": "322edd9a-a3b6-4282-e158-13a9019facd8"
      },
      "execution_count": 56,
      "outputs": [
        {
          "output_type": "stream",
          "name": "stdout",
          "text": [
            "[1, 2, 3, [4, 5, 6]]\n",
            "4\n"
          ]
        }
      ]
    },
    {
      "cell_type": "code",
      "source": [
        "a = [1,2,3]\n",
        "b = [4,5,6]\n",
        "a.extend(b)\n",
        "print(a)\n",
        "print(len(a))"
      ],
      "metadata": {
        "colab": {
          "base_uri": "https://localhost:8080/"
        },
        "id": "UqOmz7U9YUvg",
        "outputId": "4f2db9fe-bc26-41da-e00b-b3df0fca79bf"
      },
      "execution_count": 57,
      "outputs": [
        {
          "output_type": "stream",
          "name": "stdout",
          "text": [
            "[1, 2, 3, 4, 5, 6]\n",
            "6\n"
          ]
        }
      ]
    },
    {
      "cell_type": "code",
      "source": [
        "a = [1,2,3]\n",
        "b = [4,5,6]\n",
        "a += b #a = a + b  # extend işlevi :\n",
        "print(a)\n",
        "print(len(a))"
      ],
      "metadata": {
        "colab": {
          "base_uri": "https://localhost:8080/"
        },
        "id": "AZpOufyku0S9",
        "outputId": "a16c307a-4ab5-489a-e7f0-405aa6360b4b"
      },
      "execution_count": 144,
      "outputs": [
        {
          "output_type": "stream",
          "name": "stdout",
          "text": [
            "[1, 2, 3, 4, 5, 6]\n",
            "6\n"
          ]
        }
      ]
    },
    {
      "cell_type": "code",
      "source": [
        "# listenin sonuna insert ile yeni eleman ekleme\n",
        "#inds      0  1  2  3\n",
        "my_list = [1, 2, 3, 4]\n",
        "my_list.insert(4, 5)\n",
        "print(my_list)"
      ],
      "metadata": {
        "colab": {
          "base_uri": "https://localhost:8080/"
        },
        "id": "X837S900ZU39",
        "outputId": "fee4b4c2-21ee-41cc-e4a3-e34d115e0182"
      },
      "execution_count": 58,
      "outputs": [
        {
          "output_type": "stream",
          "name": "stdout",
          "text": [
            "[1, 2, 3, 4, 5]\n"
          ]
        }
      ]
    },
    {
      "cell_type": "code",
      "source": [
        "my_list = [1, 2, 3, 4]\n",
        "my_list.insert(len(my_list), 5)\n",
        "print(my_list)"
      ],
      "metadata": {
        "colab": {
          "base_uri": "https://localhost:8080/"
        },
        "id": "uolWe0qZZhHx",
        "outputId": "601e8953-b767-4b9b-c0ff-c06a271b4dc8"
      },
      "execution_count": 59,
      "outputs": [
        {
          "output_type": "stream",
          "name": "stdout",
          "text": [
            "[1, 2, 3, 4, 5]\n"
          ]
        }
      ]
    },
    {
      "cell_type": "code",
      "source": [
        "#inds      0  1  2  3\n",
        "#indis    -4 -3 -2 -1\n",
        "my_list = [1, 2, 3, 4]\n",
        "my_list.insert(-1, 5)  # sondan bir öncekine yerleştirir....\n",
        "print(my_list)"
      ],
      "metadata": {
        "colab": {
          "base_uri": "https://localhost:8080/"
        },
        "id": "aqz6C3fPZvcD",
        "outputId": "b5c1fc57-2035-45b1-ac38-742c4fadf9e1"
      },
      "execution_count": 63,
      "outputs": [
        {
          "output_type": "stream",
          "name": "stdout",
          "text": [
            "[1, 2, 3, 5, 4]\n"
          ]
        }
      ]
    },
    {
      "cell_type": "code",
      "source": [
        "#inds      0  1  2  3\n",
        "#indis    -4 -3 -2 -1\n",
        "my_list = [1, 2, 3, 4]\n",
        "my_list.insert(3, 5)  # sondan bir öncekine yerleştirir....\n",
        "print(my_list)"
      ],
      "metadata": {
        "colab": {
          "base_uri": "https://localhost:8080/"
        },
        "id": "_2_BYJQ9c1CG",
        "outputId": "76c69504-9fc7-4664-c95d-ff7a18ff2631"
      },
      "execution_count": 64,
      "outputs": [
        {
          "output_type": "stream",
          "name": "stdout",
          "text": [
            "[1, 2, 3, 5, 4]\n"
          ]
        }
      ]
    },
    {
      "cell_type": "code",
      "source": [
        "help(list.remove)"
      ],
      "metadata": {
        "colab": {
          "base_uri": "https://localhost:8080/"
        },
        "id": "BremUNj6dRHX",
        "outputId": "9f568f4c-400f-4622-e75e-29e6ef295be1"
      },
      "execution_count": 65,
      "outputs": [
        {
          "output_type": "stream",
          "name": "stdout",
          "text": [
            "Help on method_descriptor:\n",
            "\n",
            "remove(self, value, /)\n",
            "    Remove first occurrence of value.\n",
            "    \n",
            "    Raises ValueError if the value is not present.\n",
            "\n"
          ]
        }
      ]
    },
    {
      "cell_type": "code",
      "source": [
        "numbers = [1, 4, 7, 9]\n",
        "numbers.remove(7)  # elemanın kendisi yazılır\n",
        "print(numbers)"
      ],
      "metadata": {
        "colab": {
          "base_uri": "https://localhost:8080/"
        },
        "id": "JZoUNamedb4w",
        "outputId": "20329659-c14f-4b48-8704-f67c6c479e8b"
      },
      "execution_count": 66,
      "outputs": [
        {
          "output_type": "stream",
          "name": "stdout",
          "text": [
            "[1, 4, 9]\n"
          ]
        }
      ]
    },
    {
      "cell_type": "code",
      "source": [
        "city = [\"New York\", \"Istanbul\", \"Berlin\", \"Seoul\"]\n",
        "city.remove(\"Berlin\")\n",
        "print(city)"
      ],
      "metadata": {
        "colab": {
          "base_uri": "https://localhost:8080/"
        },
        "id": "E8oXVJ-PduEu",
        "outputId": "8937b9ac-147d-4697-c2c3-8afb726d7874"
      },
      "execution_count": 67,
      "outputs": [
        {
          "output_type": "stream",
          "name": "stdout",
          "text": [
            "['New York', 'Istanbul', 'Seoul']\n"
          ]
        }
      ]
    },
    {
      "cell_type": "code",
      "source": [
        "city.remove(\"Berlin\")  # ValueError hatası verir eğer eleman yoksa\n",
        "print(city)"
      ],
      "metadata": {
        "colab": {
          "base_uri": "https://localhost:8080/",
          "height": 198
        },
        "id": "yCbZ1jcFd2-R",
        "outputId": "7f39f275-d522-4e0c-c393-522bc2419835"
      },
      "execution_count": 68,
      "outputs": [
        {
          "output_type": "error",
          "ename": "ValueError",
          "evalue": "ignored",
          "traceback": [
            "\u001b[0;31m---------------------------------------------------------------------------\u001b[0m",
            "\u001b[0;31mValueError\u001b[0m                                Traceback (most recent call last)",
            "\u001b[0;32m<ipython-input-68-8a3cecfc13ea>\u001b[0m in \u001b[0;36m<cell line: 1>\u001b[0;34m()\u001b[0m\n\u001b[0;32m----> 1\u001b[0;31m \u001b[0mcity\u001b[0m\u001b[0;34m.\u001b[0m\u001b[0mremove\u001b[0m\u001b[0;34m(\u001b[0m\u001b[0;34m\"Berlin\"\u001b[0m\u001b[0;34m)\u001b[0m\u001b[0;34m\u001b[0m\u001b[0;34m\u001b[0m\u001b[0m\n\u001b[0m\u001b[1;32m      2\u001b[0m \u001b[0mprint\u001b[0m\u001b[0;34m(\u001b[0m\u001b[0mcity\u001b[0m\u001b[0;34m)\u001b[0m\u001b[0;34m\u001b[0m\u001b[0;34m\u001b[0m\u001b[0m\n",
            "\u001b[0;31mValueError\u001b[0m: list.remove(x): x not in list"
          ]
        }
      ]
    },
    {
      "cell_type": "code",
      "source": [
        "list.clear.__doc__"
      ],
      "metadata": {
        "colab": {
          "base_uri": "https://localhost:8080/",
          "height": 35
        },
        "id": "j7QR-l1VeNdk",
        "outputId": "477aaa5b-1139-46e8-d494-4fd5df504492"
      },
      "execution_count": 69,
      "outputs": [
        {
          "output_type": "execute_result",
          "data": {
            "text/plain": [
              "'Remove all items from list.'"
            ],
            "application/vnd.google.colaboratory.intrinsic+json": {
              "type": "string"
            }
          },
          "metadata": {},
          "execution_count": 69
        }
      ]
    },
    {
      "cell_type": "code",
      "source": [
        "# clear : listeyi boşaltır\n",
        "city = [\"New York\", \"Istanbul\", \"Berlin\", \"Seoul\"]\n",
        "city.clear()  # Tüm listeyi boşlatır... boş liste döndürür....\n",
        "print(city)"
      ],
      "metadata": {
        "colab": {
          "base_uri": "https://localhost:8080/"
        },
        "id": "6Fafy45ZeGNX",
        "outputId": "ac9d427d-a607-4efe-df64-b05b72b5bf30"
      },
      "execution_count": 70,
      "outputs": [
        {
          "output_type": "stream",
          "name": "stdout",
          "text": [
            "[]\n"
          ]
        }
      ]
    },
    {
      "cell_type": "code",
      "source": [
        "# clear : listeyi boşaltır\n",
        "city = [\"New York\", \"Istanbul\", \"Berlin\", \"Seoul\"]\n",
        "city = []  # Tüm listeyi boşlatır... boş liste döndürür....\n",
        "print(city)"
      ],
      "metadata": {
        "colab": {
          "base_uri": "https://localhost:8080/"
        },
        "id": "XEPxuA14ediQ",
        "outputId": "835fb22d-7ad2-4c07-c802-583a4b3b1a44"
      },
      "execution_count": 71,
      "outputs": [
        {
          "output_type": "stream",
          "name": "stdout",
          "text": [
            "[]\n"
          ]
        }
      ]
    },
    {
      "cell_type": "code",
      "source": [
        "city = [\"New York\", \"Istanbul\", \"Berlin\", \"Seoul\"]\n",
        "del city[:]  # listenin tamamını boşaltır\n",
        "print(city)"
      ],
      "metadata": {
        "colab": {
          "base_uri": "https://localhost:8080/"
        },
        "id": "gfIWwNZweshV",
        "outputId": "63d59ea0-2964-4b9a-987c-e1c7ec572286"
      },
      "execution_count": 73,
      "outputs": [
        {
          "output_type": "stream",
          "name": "stdout",
          "text": [
            "[]\n"
          ]
        }
      ]
    },
    {
      "cell_type": "code",
      "source": [
        "city = [\"New York\", \"Istanbul\", \"Berlin\", \"Seoul\"]\n",
        "del city[1:3]  # 1-3 arasını boşaltır\n",
        "print(city)"
      ],
      "metadata": {
        "colab": {
          "base_uri": "https://localhost:8080/"
        },
        "id": "dM1V48fje51j",
        "outputId": "3ff6b74c-16a8-4bf7-f2a3-5b877559cb16"
      },
      "execution_count": 76,
      "outputs": [
        {
          "output_type": "stream",
          "name": "stdout",
          "text": [
            "['New York', 'Seoul']\n"
          ]
        }
      ]
    },
    {
      "cell_type": "code",
      "source": [
        "help(list.pop)"
      ],
      "metadata": {
        "colab": {
          "base_uri": "https://localhost:8080/"
        },
        "id": "in-0ufoQfHCf",
        "outputId": "8af1baad-a535-4e0f-cc7a-7e7e16bf655d"
      },
      "execution_count": 75,
      "outputs": [
        {
          "output_type": "stream",
          "name": "stdout",
          "text": [
            "Help on method_descriptor:\n",
            "\n",
            "pop(self, index=-1, /)\n",
            "    Remove and return item at index (default last).\n",
            "    \n",
            "    Raises IndexError if list is empty or index is out of range.\n",
            "\n"
          ]
        }
      ]
    },
    {
      "cell_type": "code",
      "source": [
        "city = [\"New York\", \"Istanbul\", \"Berlin\", \"Seoul\"]\n",
        "city.pop()  # en sondaki elemanı siler\n",
        "print(city)"
      ],
      "metadata": {
        "colab": {
          "base_uri": "https://localhost:8080/"
        },
        "id": "rLg2_g3zfRsr",
        "outputId": "c0b10491-8c50-4783-aa96-22ed74220c3b"
      },
      "execution_count": 78,
      "outputs": [
        {
          "output_type": "stream",
          "name": "stdout",
          "text": [
            "['New York', 'Istanbul', 'Berlin']\n"
          ]
        }
      ]
    },
    {
      "cell_type": "code",
      "source": [
        "city = [\"New York\", \"Istanbul\", \"Berlin\", \"Seoul\"]\n",
        "city.pop(0)  # en baştaki elemanı siler\n",
        "print(city)"
      ],
      "metadata": {
        "colab": {
          "base_uri": "https://localhost:8080/"
        },
        "id": "5OXXw616faZd",
        "outputId": "a381538b-f173-4bb4-d12e-58bbe3ac7ca1"
      },
      "execution_count": 79,
      "outputs": [
        {
          "output_type": "stream",
          "name": "stdout",
          "text": [
            "['Istanbul', 'Berlin', 'Seoul']\n"
          ]
        }
      ]
    },
    {
      "cell_type": "code",
      "source": [
        "city = [\"New York\", \"Istanbul\", \"Berlin\", \"Seoul\"]\n",
        "city.pop([1:3])  # tek bir index istiyor....\n",
        "print(city)"
      ],
      "metadata": {
        "colab": {
          "base_uri": "https://localhost:8080/",
          "height": 145
        },
        "id": "DtMtZ0_ofldv",
        "outputId": "b8e78b07-0cda-47a2-8816-35c23d31c561"
      },
      "execution_count": 80,
      "outputs": [
        {
          "output_type": "error",
          "ename": "SyntaxError",
          "evalue": "ignored",
          "traceback": [
            "\u001b[0;36m  File \u001b[0;32m\"<ipython-input-80-e83b8309ccc5>\"\u001b[0;36m, line \u001b[0;32m2\u001b[0m\n\u001b[0;31m    city.pop([1:3])  # en baştaki elemanı siler\u001b[0m\n\u001b[0m               ^\u001b[0m\n\u001b[0;31mSyntaxError\u001b[0m\u001b[0;31m:\u001b[0m invalid syntax\n"
          ]
        }
      ]
    },
    {
      "cell_type": "code",
      "source": [
        "city = [\"New York\", \"Istanbul\", \"Berlin\", \"Seoul\"]\n",
        "print(\"silinen..:\", city.pop())"
      ],
      "metadata": {
        "colab": {
          "base_uri": "https://localhost:8080/"
        },
        "id": "_6-IjON7f4Wg",
        "outputId": "d8ae037c-bdd0-4964-b8c0-3e8c8b12b4b1"
      },
      "execution_count": 81,
      "outputs": [
        {
          "output_type": "stream",
          "name": "stdout",
          "text": [
            "silinen..: Seoul\n"
          ]
        }
      ]
    },
    {
      "cell_type": "code",
      "source": [
        "print(list.sort.__doc__)"
      ],
      "metadata": {
        "colab": {
          "base_uri": "https://localhost:8080/"
        },
        "id": "FzrwMim9gRpr",
        "outputId": "48d8c26c-be17-4753-c8f1-1a7b5481c130"
      },
      "execution_count": 83,
      "outputs": [
        {
          "output_type": "stream",
          "name": "stdout",
          "text": [
            "Sort the list in ascending order and return None.\n",
            "\n",
            "The sort is in-place (i.e. the list itself is modified) and stable (i.e. the\n",
            "order of two equal elements is maintained).\n",
            "\n",
            "If a key function is given, apply it once to each list item and sort them,\n",
            "ascending or descending, according to their function values.\n",
            "\n",
            "The reverse flag can be set to sort in descending order.\n"
          ]
        }
      ]
    },
    {
      "cell_type": "code",
      "source": [
        "numbers = [7,1,4,6,5]\n",
        "numbers.sort()\n",
        "print(numbers)"
      ],
      "metadata": {
        "colab": {
          "base_uri": "https://localhost:8080/"
        },
        "id": "Ow_TYmtVgldu",
        "outputId": "421f8a6f-bf1f-45b2-d2b6-9d78dd410cf0"
      },
      "execution_count": 88,
      "outputs": [
        {
          "output_type": "stream",
          "name": "stdout",
          "text": [
            "[1, 4, 5, 6, 7]\n"
          ]
        }
      ]
    },
    {
      "cell_type": "code",
      "source": [
        "numbers = [7,1,4,6,5]\n",
        "sorted_numbers = numbers.sort()  # başka bir değişkene sıralı sonuç aktarılmaz\n",
        "print(sorted_numbers)"
      ],
      "metadata": {
        "colab": {
          "base_uri": "https://localhost:8080/"
        },
        "id": "IE_bixMtg4GS",
        "outputId": "87516870-8356-4eca-85d7-da71ca47cd50"
      },
      "execution_count": 86,
      "outputs": [
        {
          "output_type": "stream",
          "name": "stdout",
          "text": [
            "None\n"
          ]
        }
      ]
    },
    {
      "cell_type": "code",
      "source": [
        "numbers = [7,1,4,6,5]\n",
        "sorted_numbers = sorted(numbers)  # başka bir değişkene aktarıldı\n",
        "print(sorted_numbers)"
      ],
      "metadata": {
        "colab": {
          "base_uri": "https://localhost:8080/"
        },
        "id": "J7sWN1h9hNoF",
        "outputId": "27c7a058-ecb9-456d-c26f-a27a60920d6e"
      },
      "execution_count": 87,
      "outputs": [
        {
          "output_type": "stream",
          "name": "stdout",
          "text": [
            "[1, 4, 5, 6, 7]\n"
          ]
        }
      ]
    },
    {
      "cell_type": "code",
      "source": [
        "# büyükten küçüğe sıralama yapmak için\n",
        "numbers = [7,1,4,6,5]\n",
        "numbers.sort(reverse=True) # büyükten küçüğe sıralama yaptık\n",
        "print(numbers)"
      ],
      "metadata": {
        "colab": {
          "base_uri": "https://localhost:8080/"
        },
        "id": "uDVotCl2hm5I",
        "outputId": "63bdbafe-30e1-42ad-ad2b-3a1472780780"
      },
      "execution_count": 89,
      "outputs": [
        {
          "output_type": "stream",
          "name": "stdout",
          "text": [
            "[7, 6, 5, 4, 1]\n"
          ]
        }
      ]
    },
    {
      "cell_type": "code",
      "source": [
        "# harf sıralaması\n",
        "harf = ['a','z', 'O', 'k', 'i', 'e', 'C', 'B']\n",
        "harf.sort()  # ASCII kod tablosuna göre sıralar\n",
        "print(harf)"
      ],
      "metadata": {
        "colab": {
          "base_uri": "https://localhost:8080/"
        },
        "id": "9HNpVNQ7hz-d",
        "outputId": "33ae0af3-e886-4983-9617-0b361c957261"
      },
      "execution_count": 92,
      "outputs": [
        {
          "output_type": "stream",
          "name": "stdout",
          "text": [
            "['B', 'C', 'O', 'a', 'e', 'i', 'k', 'z']\n"
          ]
        }
      ]
    },
    {
      "cell_type": "code",
      "source": [
        "# harf sıralaması\n",
        "harf = ['a','z', 'O', 'k', 'i', 'e', 'C', 'B']\n",
        "harf.sort(key=str.lower)  # ASCII kod tablosuna göre sıralar\n",
        "print(harf)"
      ],
      "metadata": {
        "colab": {
          "base_uri": "https://localhost:8080/"
        },
        "id": "sXVLSGLxiTOG",
        "outputId": "f14b7fe6-a9d4-4daf-fee2-027927c6c3f9"
      },
      "execution_count": 93,
      "outputs": [
        {
          "output_type": "stream",
          "name": "stdout",
          "text": [
            "['a', 'B', 'C', 'e', 'i', 'k', 'O', 'z']\n"
          ]
        }
      ]
    },
    {
      "cell_type": "code",
      "source": [
        "help(list.reverse)"
      ],
      "metadata": {
        "colab": {
          "base_uri": "https://localhost:8080/"
        },
        "id": "crPK1GdgiqXx",
        "outputId": "e862345d-9d3e-4086-dc5e-4e948f53a26b"
      },
      "execution_count": 94,
      "outputs": [
        {
          "output_type": "stream",
          "name": "stdout",
          "text": [
            "Help on method_descriptor:\n",
            "\n",
            "reverse(self, /)\n",
            "    Reverse *IN PLACE*.\n",
            "\n"
          ]
        }
      ]
    },
    {
      "cell_type": "code",
      "source": [
        "# tersçevirme\n",
        "numbers = [7,1,4,6,5]\n",
        "numbers.reverse()  # listeyi ters çevirir... (in-place)\n",
        "print(numbers)"
      ],
      "metadata": {
        "colab": {
          "base_uri": "https://localhost:8080/"
        },
        "id": "vKSqz6DUiwIz",
        "outputId": "387fc0b3-9efa-4673-859d-4136bcef0d22"
      },
      "execution_count": 95,
      "outputs": [
        {
          "output_type": "stream",
          "name": "stdout",
          "text": [
            "[5, 6, 4, 1, 7]\n"
          ]
        }
      ]
    },
    {
      "cell_type": "code",
      "source": [
        "# tersçevirme\n",
        "numbers = [7,1,4,6,5]\n",
        "tersi_liste = numbers[::-1]  # listeyi ters çevirir...\n",
        "print(tersi_liste)"
      ],
      "metadata": {
        "colab": {
          "base_uri": "https://localhost:8080/"
        },
        "id": "eO8zgVdPi96V",
        "outputId": "0b5fb4ab-53b2-4f2b-fd77-0e057754b5e6"
      },
      "execution_count": 97,
      "outputs": [
        {
          "output_type": "stream",
          "name": "stdout",
          "text": [
            "[5, 6, 4, 1, 7]\n"
          ]
        }
      ]
    },
    {
      "cell_type": "code",
      "source": [
        "city = [\"New York\", \"Sydney\", \"Istanbul\", \"Berlin\", \"Seoul\"]\n",
        "city.sort()\n",
        "print(city)"
      ],
      "metadata": {
        "colab": {
          "base_uri": "https://localhost:8080/"
        },
        "id": "qTAAxIqWjmIZ",
        "outputId": "db4e8ed1-8418-4dec-d0c2-56c004501a9b"
      },
      "execution_count": 98,
      "outputs": [
        {
          "output_type": "stream",
          "name": "stdout",
          "text": [
            "['Berlin', 'Istanbul', 'New York', 'Seoul', 'Sydney']\n"
          ]
        }
      ]
    },
    {
      "cell_type": "code",
      "source": [
        "mix_list = [\"d\", 1, \"a\", 3, \"z\"]\n",
        "mix_list.sort()\n",
        "print(mix_list)"
      ],
      "metadata": {
        "colab": {
          "base_uri": "https://localhost:8080/",
          "height": 216
        },
        "id": "SwVWuIvPj8Qq",
        "outputId": "82d5e5c4-f04c-420b-82be-4316c5e99e5b"
      },
      "execution_count": 99,
      "outputs": [
        {
          "output_type": "error",
          "ename": "TypeError",
          "evalue": "ignored",
          "traceback": [
            "\u001b[0;31m---------------------------------------------------------------------------\u001b[0m",
            "\u001b[0;31mTypeError\u001b[0m                                 Traceback (most recent call last)",
            "\u001b[0;32m<ipython-input-99-ba504fdc3c0f>\u001b[0m in \u001b[0;36m<cell line: 2>\u001b[0;34m()\u001b[0m\n\u001b[1;32m      1\u001b[0m \u001b[0mmix_list\u001b[0m \u001b[0;34m=\u001b[0m \u001b[0;34m[\u001b[0m\u001b[0;34m\"d\"\u001b[0m\u001b[0;34m,\u001b[0m \u001b[0;36m1\u001b[0m\u001b[0;34m,\u001b[0m \u001b[0;34m\"a\"\u001b[0m\u001b[0;34m,\u001b[0m \u001b[0;36m3\u001b[0m\u001b[0;34m,\u001b[0m \u001b[0;34m\"z\"\u001b[0m\u001b[0;34m]\u001b[0m\u001b[0;34m\u001b[0m\u001b[0;34m\u001b[0m\u001b[0m\n\u001b[0;32m----> 2\u001b[0;31m \u001b[0mmix_list\u001b[0m\u001b[0;34m.\u001b[0m\u001b[0msort\u001b[0m\u001b[0;34m(\u001b[0m\u001b[0;34m)\u001b[0m\u001b[0;34m\u001b[0m\u001b[0;34m\u001b[0m\u001b[0m\n\u001b[0m\u001b[1;32m      3\u001b[0m \u001b[0mprint\u001b[0m\u001b[0;34m(\u001b[0m\u001b[0mmix_list\u001b[0m\u001b[0;34m)\u001b[0m\u001b[0;34m\u001b[0m\u001b[0;34m\u001b[0m\u001b[0m\n",
            "\u001b[0;31mTypeError\u001b[0m: '<' not supported between instances of 'int' and 'str'"
          ]
        }
      ]
    },
    {
      "cell_type": "code",
      "source": [
        "\"a\" < 65  # sort(), min(), max() karşılaştırma işlemi yaparken '<' operatörünü kullanır..."
      ],
      "metadata": {
        "colab": {
          "base_uri": "https://localhost:8080/",
          "height": 181
        },
        "id": "Y7f-yia8kIKP",
        "outputId": "9eaaed1e-56cc-4834-b707-66eabd827451"
      },
      "execution_count": 101,
      "outputs": [
        {
          "output_type": "error",
          "ename": "TypeError",
          "evalue": "ignored",
          "traceback": [
            "\u001b[0;31m---------------------------------------------------------------------------\u001b[0m",
            "\u001b[0;31mTypeError\u001b[0m                                 Traceback (most recent call last)",
            "\u001b[0;32m<ipython-input-101-af3a0274b29f>\u001b[0m in \u001b[0;36m<cell line: 1>\u001b[0;34m()\u001b[0m\n\u001b[0;32m----> 1\u001b[0;31m \u001b[0;34m\"a\"\u001b[0m \u001b[0;34m<\u001b[0m \u001b[0;36m65\u001b[0m  \u001b[0;31m# sort(), min(), max() karşılaştırma işlemi yaparken '<' operatörünü kullanır...\u001b[0m\u001b[0;34m\u001b[0m\u001b[0;34m\u001b[0m\u001b[0m\n\u001b[0m",
            "\u001b[0;31mTypeError\u001b[0m: '<' not supported between instances of 'str' and 'int'"
          ]
        }
      ]
    },
    {
      "cell_type": "code",
      "source": [
        "ord(\"a\") < 65"
      ],
      "metadata": {
        "colab": {
          "base_uri": "https://localhost:8080/"
        },
        "id": "4oGZZdIRkV49",
        "outputId": "fb988a95-e2b8-4504-92d1-0b0ca681e3c7"
      },
      "execution_count": 102,
      "outputs": [
        {
          "output_type": "execute_result",
          "data": {
            "text/plain": [
              "False"
            ]
          },
          "metadata": {},
          "execution_count": 102
        }
      ]
    },
    {
      "cell_type": "code",
      "source": [
        "liste1 = [\"one\", \"nine\", \"four\"]\n",
        "liste1.sort()\n",
        "print(liste1)"
      ],
      "metadata": {
        "colab": {
          "base_uri": "https://localhost:8080/"
        },
        "id": "KTpAlRi8ld7C",
        "outputId": "4ced3b38-2a97-4110-9962-91da37cc70e3"
      },
      "execution_count": 103,
      "outputs": [
        {
          "output_type": "stream",
          "name": "stdout",
          "text": [
            "['four', 'nine', 'one']\n"
          ]
        }
      ]
    },
    {
      "cell_type": "code",
      "source": [
        "liste1 = [\"*-\", \"$\", \"four\"]\n",
        "liste1.sort()\n",
        "print(liste1)"
      ],
      "metadata": {
        "colab": {
          "base_uri": "https://localhost:8080/"
        },
        "id": "2k1MtiudlmZP",
        "outputId": "dabdcfd9-e2b8-4a9b-86bb-9851e3e69575"
      },
      "execution_count": 104,
      "outputs": [
        {
          "output_type": "stream",
          "name": "stdout",
          "text": [
            "['$', '*-', 'four']\n"
          ]
        }
      ]
    },
    {
      "cell_type": "code",
      "source": [
        "liste1 = [True, False, 1, True]  # Çünkü True/False int tipi altında yer alır True:1, False:0\n",
        "liste1.sort()\n",
        "print(liste1)"
      ],
      "metadata": {
        "colab": {
          "base_uri": "https://localhost:8080/"
        },
        "id": "qo_1gAJ3l2ht",
        "outputId": "100a4baa-2877-4d36-914e-ece5920ce063"
      },
      "execution_count": 106,
      "outputs": [
        {
          "output_type": "stream",
          "name": "stdout",
          "text": [
            "[False, True, 1, True]\n"
          ]
        }
      ]
    },
    {
      "cell_type": "code",
      "source": [
        "liste1 = [[10], [9], [456]]\n",
        "liste1.sort()\n",
        "print(liste1)"
      ],
      "metadata": {
        "colab": {
          "base_uri": "https://localhost:8080/"
        },
        "id": "4dhuhe1JmGHq",
        "outputId": "1e4f5330-ab65-4602-a26a-6f12bfab5bf9"
      },
      "execution_count": 107,
      "outputs": [
        {
          "output_type": "stream",
          "name": "stdout",
          "text": [
            "[[9], [10], [456]]\n"
          ]
        }
      ]
    },
    {
      "cell_type": "code",
      "source": [
        "liste1 = [[10, 9, 8], [9,3], [10,456,567,900]]  # listenin ilk elemanına bakarak sıralar...\n",
        "liste1.sort()\n",
        "print(liste1)"
      ],
      "metadata": {
        "colab": {
          "base_uri": "https://localhost:8080/"
        },
        "id": "Tu-bNgozmOtL",
        "outputId": "4d84a821-0876-402c-dc1d-d6d249980f92"
      },
      "execution_count": 108,
      "outputs": [
        {
          "output_type": "stream",
          "name": "stdout",
          "text": [
            "[[9, 3], [10, 9, 8], [10, 456, 567, 900]]\n"
          ]
        }
      ]
    },
    {
      "cell_type": "code",
      "source": [
        "# len() : listenin eleman sayısını verir..\n",
        "liste1 = [[10, 9, 8], [9,3], [10,456,567,900]]\n",
        "print(len(liste1))"
      ],
      "metadata": {
        "colab": {
          "base_uri": "https://localhost:8080/"
        },
        "id": "PjEsdpC0paEK",
        "outputId": "fbbac737-08a8-402a-9e48-edbd16e70d77"
      },
      "execution_count": 109,
      "outputs": [
        {
          "output_type": "stream",
          "name": "stdout",
          "text": [
            "3\n"
          ]
        }
      ]
    },
    {
      "cell_type": "code",
      "source": [
        "help(list.copy)"
      ],
      "metadata": {
        "colab": {
          "base_uri": "https://localhost:8080/"
        },
        "id": "iVIATcBvqNxo",
        "outputId": "2c9b307b-325b-4152-b27b-16b15effdaaf"
      },
      "execution_count": 110,
      "outputs": [
        {
          "output_type": "stream",
          "name": "stdout",
          "text": [
            "Help on method_descriptor:\n",
            "\n",
            "copy(self, /)\n",
            "    Return a shallow copy of the list.\n",
            "\n"
          ]
        }
      ]
    },
    {
      "cell_type": "code",
      "source": [
        "city = [\"New York\", \"Istanbul\", \"Berlin\", \"Seoul\"]\n",
        "new_city = city.copy() # farklı bir nesne oluşturur\n",
        "print(new_city)"
      ],
      "metadata": {
        "colab": {
          "base_uri": "https://localhost:8080/"
        },
        "id": "WLuFniEqqSf-",
        "outputId": "0536d6cf-9d33-404f-aec2-b116cd8a83a2"
      },
      "execution_count": 123,
      "outputs": [
        {
          "output_type": "stream",
          "name": "stdout",
          "text": [
            "['New York', 'Istanbul', 'Berlin', 'Seoul']\n"
          ]
        }
      ]
    },
    {
      "cell_type": "code",
      "source": [
        "id(city)"
      ],
      "metadata": {
        "colab": {
          "base_uri": "https://localhost:8080/"
        },
        "id": "aWff62HzqbGP",
        "outputId": "7ecc1c06-d587-4d8a-b821-eb316d2e0e8d"
      },
      "execution_count": 124,
      "outputs": [
        {
          "output_type": "execute_result",
          "data": {
            "text/plain": [
              "140292695984320"
            ]
          },
          "metadata": {},
          "execution_count": 124
        }
      ]
    },
    {
      "cell_type": "code",
      "source": [
        "id(new_city)"
      ],
      "metadata": {
        "colab": {
          "base_uri": "https://localhost:8080/"
        },
        "id": "QsVGhU2TqeQS",
        "outputId": "6486e7d4-fac6-4060-a0d2-dc889b62ee83"
      },
      "execution_count": 125,
      "outputs": [
        {
          "output_type": "execute_result",
          "data": {
            "text/plain": [
              "140292697734464"
            ]
          },
          "metadata": {},
          "execution_count": 125
        }
      ]
    },
    {
      "cell_type": "code",
      "source": [
        "new_city.append(\"Izmir\")\n",
        "print(new_city)"
      ],
      "metadata": {
        "colab": {
          "base_uri": "https://localhost:8080/"
        },
        "id": "wDTxygljrl9v",
        "outputId": "ae475792-67b3-4b10-8eab-50ddbb136a45"
      },
      "execution_count": 126,
      "outputs": [
        {
          "output_type": "stream",
          "name": "stdout",
          "text": [
            "['New York', 'Istanbul', 'Berlin', 'Seoul', 'Izmir']\n"
          ]
        }
      ]
    },
    {
      "cell_type": "code",
      "source": [
        "print(city)"
      ],
      "metadata": {
        "colab": {
          "base_uri": "https://localhost:8080/"
        },
        "id": "LdmD9raSrr2m",
        "outputId": "c8c492ff-f60b-435f-abf9-46f3fe3862d6"
      },
      "execution_count": 127,
      "outputs": [
        {
          "output_type": "stream",
          "name": "stdout",
          "text": [
            "['New York', 'Istanbul', 'Berlin', 'Seoul']\n"
          ]
        }
      ]
    },
    {
      "cell_type": "code",
      "source": [
        "city = [\"New York\", \"Istanbul\", \"Berlin\", \"Seoul\"]\n",
        "new_city2 = city[:] # farklı bir nesne oluşturur\n",
        "print(new_city2)"
      ],
      "metadata": {
        "colab": {
          "base_uri": "https://localhost:8080/"
        },
        "id": "O9jVVJihqk9i",
        "outputId": "df20e4df-8c1f-42d0-ba9a-b06786c46195"
      },
      "execution_count": 122,
      "outputs": [
        {
          "output_type": "stream",
          "name": "stdout",
          "text": [
            "['New York', 'Istanbul', 'Berlin', 'Seoul']\n"
          ]
        }
      ]
    },
    {
      "cell_type": "code",
      "source": [
        "id(city)"
      ],
      "metadata": {
        "colab": {
          "base_uri": "https://localhost:8080/"
        },
        "id": "Aos9OvTdqpsT",
        "outputId": "be1c5a52-4f4d-4d67-976c-d3e64a592bda"
      },
      "execution_count": 115,
      "outputs": [
        {
          "output_type": "execute_result",
          "data": {
            "text/plain": [
              "140292696998912"
            ]
          },
          "metadata": {},
          "execution_count": 115
        }
      ]
    },
    {
      "cell_type": "code",
      "source": [
        "id(new_city2)"
      ],
      "metadata": {
        "colab": {
          "base_uri": "https://localhost:8080/"
        },
        "id": "d6725AyzqsMQ",
        "outputId": "55d7a69a-6e99-4382-d36e-b3daca6ca32d"
      },
      "execution_count": 116,
      "outputs": [
        {
          "output_type": "execute_result",
          "data": {
            "text/plain": [
              "140292697005760"
            ]
          },
          "metadata": {},
          "execution_count": 116
        }
      ]
    },
    {
      "cell_type": "code",
      "source": [
        "city = [\"New York\", \"Istanbul\", \"Berlin\", \"Seoul\"]\n",
        "new_city3 = city  # id'leri aynı olduğundan kopyalama /yedek işleminde dikkat!!!\n",
        "print(new_city3)"
      ],
      "metadata": {
        "colab": {
          "base_uri": "https://localhost:8080/"
        },
        "id": "h3FqdyLsqy41",
        "outputId": "5d1df925-3611-4053-8656-7ee96c95e6ab"
      },
      "execution_count": 117,
      "outputs": [
        {
          "output_type": "stream",
          "name": "stdout",
          "text": [
            "['New York', 'Istanbul', 'Berlin', 'Seoul']\n"
          ]
        }
      ]
    },
    {
      "cell_type": "code",
      "source": [
        "id(city)"
      ],
      "metadata": {
        "colab": {
          "base_uri": "https://localhost:8080/"
        },
        "id": "5s38ehCpq4ZW",
        "outputId": "878ee7e9-f560-4370-f223-3af2e2e8ea0e"
      },
      "execution_count": 118,
      "outputs": [
        {
          "output_type": "execute_result",
          "data": {
            "text/plain": [
              "140292696019136"
            ]
          },
          "metadata": {},
          "execution_count": 118
        }
      ]
    },
    {
      "cell_type": "code",
      "source": [
        "id(new_city3)"
      ],
      "metadata": {
        "colab": {
          "base_uri": "https://localhost:8080/"
        },
        "id": "EtjAE-vMq6kZ",
        "outputId": "8c5592dc-4278-4571-d33d-e7ec69f3eae7"
      },
      "execution_count": 119,
      "outputs": [
        {
          "output_type": "execute_result",
          "data": {
            "text/plain": [
              "140292696019136"
            ]
          },
          "metadata": {},
          "execution_count": 119
        }
      ]
    },
    {
      "cell_type": "code",
      "source": [
        "new_city3.append(\"Ankara\")\n",
        "print(new_city3)"
      ],
      "metadata": {
        "colab": {
          "base_uri": "https://localhost:8080/"
        },
        "id": "VrYA_x5lrKvk",
        "outputId": "328f9241-28b0-4f5b-aa61-fae494e56e86"
      },
      "execution_count": 120,
      "outputs": [
        {
          "output_type": "stream",
          "name": "stdout",
          "text": [
            "['New York', 'Istanbul', 'Berlin', 'Seoul', 'Ankara']\n"
          ]
        }
      ]
    },
    {
      "cell_type": "code",
      "source": [
        "print(city)"
      ],
      "metadata": {
        "colab": {
          "base_uri": "https://localhost:8080/"
        },
        "id": "41MpwmARrRYo",
        "outputId": "ddf1fe6f-3ab4-4bf1-c473-c94f2040e726"
      },
      "execution_count": 121,
      "outputs": [
        {
          "output_type": "stream",
          "name": "stdout",
          "text": [
            "['New York', 'Istanbul', 'Berlin', 'Seoul', 'Ankara']\n"
          ]
        }
      ]
    },
    {
      "cell_type": "code",
      "source": [
        "help(list.count)"
      ],
      "metadata": {
        "colab": {
          "base_uri": "https://localhost:8080/"
        },
        "id": "3OcPqVeDr9Cl",
        "outputId": "aac4410f-c160-4fd3-c7a2-c29eb9cd9320"
      },
      "execution_count": 128,
      "outputs": [
        {
          "output_type": "stream",
          "name": "stdout",
          "text": [
            "Help on method_descriptor:\n",
            "\n",
            "count(self, value, /)\n",
            "    Return number of occurrences of value.\n",
            "\n"
          ]
        }
      ]
    },
    {
      "cell_type": "code",
      "source": [
        "\"bakambu\".count(\"a\")  # string içerisindeki 'a' sayısını döndürür."
      ],
      "metadata": {
        "colab": {
          "base_uri": "https://localhost:8080/"
        },
        "id": "erwqHpwlsCaY",
        "outputId": "17e6f090-2f99-4c38-8fbf-b6ec70798b71"
      },
      "execution_count": 129,
      "outputs": [
        {
          "output_type": "execute_result",
          "data": {
            "text/plain": [
              "2"
            ]
          },
          "metadata": {},
          "execution_count": 129
        }
      ]
    },
    {
      "cell_type": "code",
      "source": [
        "city = [\"New York\", \"Istanbul\", \"Berlin\", \"Seoul\", \"Berlin\"]\n",
        "city.count(\"Berlin\")  # liste içerisinde kaç tane aranan eleman var?"
      ],
      "metadata": {
        "colab": {
          "base_uri": "https://localhost:8080/"
        },
        "id": "-AYDQCOssPOi",
        "outputId": "8ae472ce-5ea4-45c2-f4aa-cc04d178ad92"
      },
      "execution_count": 130,
      "outputs": [
        {
          "output_type": "execute_result",
          "data": {
            "text/plain": [
              "2"
            ]
          },
          "metadata": {},
          "execution_count": 130
        }
      ]
    },
    {
      "cell_type": "code",
      "source": [
        "'def'.isidentifier()"
      ],
      "metadata": {
        "colab": {
          "base_uri": "https://localhost:8080/"
        },
        "id": "kCNHR59PtLb7",
        "outputId": "6d1e5a34-258f-4288-c967-4d299629ff8e"
      },
      "execution_count": 131,
      "outputs": [
        {
          "output_type": "execute_result",
          "data": {
            "text/plain": [
              "True"
            ]
          },
          "metadata": {},
          "execution_count": 131
        }
      ]
    },
    {
      "cell_type": "code",
      "source": [
        "print(\"PYTHON DERSI\".center(20,\"*\"))"
      ],
      "metadata": {
        "colab": {
          "base_uri": "https://localhost:8080/"
        },
        "id": "ZuJ7m-BYtS-e",
        "outputId": "7cf079a2-c9a5-4ea5-ecd0-cc968da17d39"
      },
      "execution_count": 135,
      "outputs": [
        {
          "output_type": "stream",
          "name": "stdout",
          "text": [
            "****PYTHON DERSI****\n"
          ]
        }
      ]
    },
    {
      "cell_type": "code",
      "source": [
        "print(\"PYTHON DERSI\".ljust(20,\"*\"))"
      ],
      "metadata": {
        "colab": {
          "base_uri": "https://localhost:8080/"
        },
        "id": "VukeJVIZtps6",
        "outputId": "d7b66f72-2e99-4010-ef9d-52d35f30c46f"
      },
      "execution_count": 136,
      "outputs": [
        {
          "output_type": "stream",
          "name": "stdout",
          "text": [
            "PYTHON DERSI********\n"
          ]
        }
      ]
    },
    {
      "cell_type": "code",
      "source": [
        "print(\"PYTHON DERSI\".rjust(20,\"*\"))"
      ],
      "metadata": {
        "colab": {
          "base_uri": "https://localhost:8080/"
        },
        "id": "EN6OweEjtvOb",
        "outputId": "29fbe985-15f6-41a1-d44a-1766d9171076"
      },
      "execution_count": 137,
      "outputs": [
        {
          "output_type": "stream",
          "name": "stdout",
          "text": [
            "********PYTHON DERSI\n"
          ]
        }
      ]
    },
    {
      "cell_type": "code",
      "source": [
        "print(\"SQL\\tDERSİ\".expandtabs(20))\n",
        "print(\"PYTHON\\tDERSI\".expandtabs(20))"
      ],
      "metadata": {
        "colab": {
          "base_uri": "https://localhost:8080/"
        },
        "id": "fBLRa7fLt0Kx",
        "outputId": "26601410-e07f-4925-e7be-748b443dfd07"
      },
      "execution_count": 141,
      "outputs": [
        {
          "output_type": "stream",
          "name": "stdout",
          "text": [
            "SQL                 DERSİ\n",
            "PYTHON              DERSI\n"
          ]
        }
      ]
    },
    {
      "cell_type": "code",
      "source": [
        "lists = [[]] * 3  # extend işlemi\n",
        "lists\n"
      ],
      "metadata": {
        "colab": {
          "base_uri": "https://localhost:8080/"
        },
        "id": "-ncrodpaum9U",
        "outputId": "5153c01c-505f-4c4d-c134-79d0921d52a4"
      },
      "execution_count": 142,
      "outputs": [
        {
          "output_type": "execute_result",
          "data": {
            "text/plain": [
              "[[], [], []]"
            ]
          },
          "metadata": {},
          "execution_count": 142
        }
      ]
    },
    {
      "cell_type": "code",
      "source": [
        "# bir sınıftaki öğrencilerin yaşları var;\n",
        "yas = [34, 23, 37, 25, 29, 22, 19, 33, 36]\n",
        "# küçükten büyüğe sıralama\n",
        "sorted_yas = sorted(yas)\n",
        "print(sorted_yas)\n",
        "\n",
        "# yaş sınıf ortalamasını nasıl alırım\n",
        "ortalama = sum(yas)/len(yas)\n",
        "print(\"Sınıfın ortalama yaşı..:\", ortalama)\n",
        "# listeyi ters çeviririm.\n",
        "yas_ters_liste = list(reversed(yas)) # yas_ters_liste = [::-1]\n",
        "print(yas_ters_liste)\n",
        "# öğrenci sayısı\n",
        "print(\"Eleman sayısı.:\",len(yas))"
      ],
      "metadata": {
        "colab": {
          "base_uri": "https://localhost:8080/"
        },
        "id": "hIb7-3iMuuyq",
        "outputId": "4a1f5391-19b1-4161-a48b-e78c5fa62e5e"
      },
      "execution_count": 156,
      "outputs": [
        {
          "output_type": "stream",
          "name": "stdout",
          "text": [
            "[19, 22, 23, 25, 29, 33, 34, 36, 37]\n",
            "Sınıfın ortalama yaşı..: 28.666666666666668\n",
            "[36, 33, 19, 22, 29, 25, 37, 23, 34]\n",
            "Eleman sayısı.: 9\n"
          ]
        }
      ]
    },
    {
      "cell_type": "code",
      "source": [
        "# bir sınıftaki öğrencilerin yaşları var;\n",
        "yas = [34, 23, 37, 25, 29, 22, 19, 33, 36]\n",
        "# küçükten büyüğe sıralama\n",
        "copy_yas = yas.copy()\n",
        "copy_yas.sort()\n",
        "print(copy_yas)\n",
        "copy_ters_liste = yas[:]\n",
        "copy_ters_liste.reverse()\n",
        "print(copy_ters_liste)\n",
        "print(yas)\n",
        "print(sum(yas))"
      ],
      "metadata": {
        "colab": {
          "base_uri": "https://localhost:8080/"
        },
        "id": "AnTZ7LvZwJBv",
        "outputId": "c53b48bb-9229-419f-8457-a58dd016de57"
      },
      "execution_count": 155,
      "outputs": [
        {
          "output_type": "stream",
          "name": "stdout",
          "text": [
            "[19, 22, 23, 25, 29, 33, 34, 36, 37]\n",
            "[36, 33, 19, 22, 29, 25, 37, 23, 34]\n",
            "[34, 23, 37, 25, 29, 22, 19, 33, 36]\n",
            "258\n"
          ]
        }
      ]
    }
  ]
}