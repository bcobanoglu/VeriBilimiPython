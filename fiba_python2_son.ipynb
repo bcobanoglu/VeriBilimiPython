{
  "cells": [
    {
      "cell_type": "code",
      "source": [
        "# Emojileri temizleme\n",
        "text = \"Merhaba 😃💁\"\n",
        "clean_text = text.encode('ascii', 'ignore').decode()\n",
        "print(clean_text)"
      ],
      "metadata": {
        "id": "Aa7E7WU5cEqV"
      },
      "execution_count": null,
      "outputs": []
    },
    {
      "cell_type": "code",
      "source": [
        "text = \"Merhaba 😃💁\"\n",
        "# emojileri nasıl kaldırırırız?\n",
        "for i in text:\n",
        "    if i.isascii():\n",
        "        print(i, end=\"\")"
      ],
      "metadata": {
        "id": "D2oSZXNOyj2T"
      },
      "execution_count": null,
      "outputs": []
    },
    {
      "cell_type": "markdown",
      "source": [
        "# Karşılaştırma operatörleri\n",
        "\n",
        "comp_operator ::= \"<\" | \">\" | \"==\" | \">=\" | \"<=\" | \"!=\"\n",
        "                  | \"is\" [\"not\"] | [\"not\"] \"in\"\n",
        "\n",
        "\n",
        "**x < y <= z** eşdeğeri : **x < y and y <= z** dir."
      ],
      "metadata": {
        "id": "Sz501xl48bjg"
      }
    },
    {
      "cell_type": "code",
      "source": [
        "import operator\n",
        "operator.eq(3,3)"
      ],
      "metadata": {
        "id": "RiDsJE0s8hFK"
      },
      "execution_count": null,
      "outputs": []
    },
    {
      "cell_type": "code",
      "source": [
        "print(3==3)  # eşdeğeri"
      ],
      "metadata": {
        "id": "I0bE2f4BRwD1"
      },
      "execution_count": null,
      "outputs": []
    },
    {
      "cell_type": "code",
      "source": [
        "x = 20\n",
        "print(3<x<=20)\n",
        "print(3<x and x<=20)   # diğer diller"
      ],
      "metadata": {
        "id": "wXe8-jtU_bLB"
      },
      "execution_count": null,
      "outputs": []
    },
    {
      "cell_type": "code",
      "source": [
        "'C' < 'C#' < 'Java' < 'Pascal' < 'Python'  # ASCII tablo sıra numarasına göre karşılaştırır"
      ],
      "metadata": {
        "id": "RGsgRGr5B0wX"
      },
      "execution_count": null,
      "outputs": []
    },
    {
      "cell_type": "code",
      "source": [
        "# is → kimlik karşılaştırması yapar\n",
        "# == → değer karşılaştırması yapar\n",
        "a = [1, 2, 3]\n",
        "b = a          # id 'ler aynı → bellekte aynı yeri işaret ediyorlar.\n",
        "print(a is b)  # True → çünkü aynı nesneye referans veriyorlar"
      ],
      "metadata": {
        "id": "0hMM0N2o-Ic-"
      },
      "execution_count": null,
      "outputs": []
    },
    {
      "cell_type": "code",
      "source": [
        "print(\"a id:\", id(a))\n",
        "print(\"b id:\", id(b))"
      ],
      "metadata": {
        "id": "6W5haII2-uIO"
      },
      "execution_count": null,
      "outputs": []
    },
    {
      "cell_type": "code",
      "source": [
        "a = [1, 2, 3]\n",
        "b = [1, 2, 3]\n",
        "print(a is not b)   # True → içeriği aynı ama farklı nesneler\n",
        "print(a is b)       # False → içeriği aynı ama farklı nesneler\n",
        "print(a == b)       # True → içeriği aynı"
      ],
      "metadata": {
        "id": "XtKAfg50-EgN"
      },
      "execution_count": null,
      "outputs": []
    },
    {
      "cell_type": "code",
      "source": [
        "print(\"a id:\", id(a)) # id'ler farklı\n",
        "print(\"b id:\", id(b))"
      ],
      "metadata": {
        "id": "aKOUmaCk-yZw"
      },
      "execution_count": null,
      "outputs": []
    },
    {
      "cell_type": "code",
      "source": [
        "# Python hızlı erişim için küçük ölçekli value'ları aynı bellek bölgesinde tutar\n",
        "a = 34\n",
        "b = 34\n",
        "print(id(a))\n",
        "print(id(b))"
      ],
      "metadata": {
        "id": "mjXwXZR5TEgF"
      },
      "execution_count": null,
      "outputs": []
    },
    {
      "cell_type": "code",
      "source": [
        "a = \"34\"\n",
        "b = \"34\"\n",
        "print(id(a))\n",
        "print(id(b))"
      ],
      "metadata": {
        "id": "JtNSTtJQTVbY"
      },
      "execution_count": null,
      "outputs": []
    },
    {
      "cell_type": "code",
      "source": [
        "a = \"34 45\"\n",
        "b = \"34 45\"\n",
        "print(id(a))\n",
        "print(id(b))"
      ],
      "metadata": {
        "id": "kSzPDLIUTYh6"
      },
      "execution_count": null,
      "outputs": []
    },
    {
      "cell_type": "markdown",
      "source": [
        "\n",
        "```\n",
        "*   None\n",
        "*   Sıfır değeri: 0, 0.0, 0j\n",
        "*  İçi boş string ve koleksiyonlar: \"\", [], {}, ()\n",
        "```\n",
        "\n",
        "Yukarıdakiler haricindeki her şey **True** kabul edilir.\n"
      ],
      "metadata": {
        "id": "CcYeaQPTCYtl"
      }
    },
    {
      "cell_type": "code",
      "source": [
        "# Hepsi True ise\n",
        "print(3 and \"depar\")\n",
        "print(3 or \"depar\")"
      ],
      "metadata": {
        "id": "nKHyGYVEUZwn"
      },
      "execution_count": null,
      "outputs": []
    },
    {
      "cell_type": "code",
      "source": [
        "# Hepsi False ise\n",
        "print(0 and \"\")\n",
        "print(None or [])"
      ],
      "metadata": {
        "id": "V93CQUJkUgvT"
      },
      "execution_count": null,
      "outputs": []
    },
    {
      "cell_type": "code",
      "source": [
        "# and or not ?\n",
        "print(3 and \"ali\" and \"veli\")  # hepsi True ise en sondakinin değeri"
      ],
      "metadata": {
        "id": "amqD8TKnAKRT"
      },
      "execution_count": null,
      "outputs": []
    },
    {
      "cell_type": "code",
      "source": [
        "# and or not ?\n",
        "print(3 or \"ali\" or \"veli\")  # hepsi False ise en baştakinin değeri"
      ],
      "metadata": {
        "id": "oxAHy3vYAPJo"
      },
      "execution_count": null,
      "outputs": []
    },
    {
      "cell_type": "code",
      "source": [
        "# and or not ? and önceliklidir\n",
        "print(3 and \"ali\" or \"veli\")\n",
        "# \"ali\" or \"veli\"\n",
        "# \"ali\""
      ],
      "metadata": {
        "id": "LbTRwR1T__oH"
      },
      "execution_count": null,
      "outputs": []
    },
    {
      "cell_type": "code",
      "source": [
        "print(0 and \"depar\")"
      ],
      "metadata": {
        "id": "Ovw_DNMGBhV-"
      },
      "execution_count": null,
      "outputs": []
    },
    {
      "cell_type": "code",
      "source": [
        "# bir sayının çift mi tek mi olduğunu bulalım ve \"çift\", \"tek\" mesajı yazdıralım\n",
        "# Alt seviyede if else sorgusu\n",
        "sayi = 24\n",
        "print(sayi%2==0 and \"çift\" or \"tek\")\n",
        "# True and \"çift\" or \"tek\"\n",
        "# \"çift\" or \"tek\"\n",
        "# çift"
      ],
      "metadata": {
        "id": "aiXh_e5kVFrx"
      },
      "execution_count": null,
      "outputs": []
    },
    {
      "cell_type": "code",
      "source": [
        "sayi = 23\n",
        "print(sayi%2==0 and \"çift\" or \"tek\")\n",
        "# False and \"çift\" or \"tek\"\n",
        "# False or \"tek\"\n",
        "# \"tek\""
      ],
      "metadata": {
        "id": "gGtIGyxWVhDZ"
      },
      "execution_count": null,
      "outputs": []
    },
    {
      "cell_type": "code",
      "source": [
        "not(\"ali\")  # her zaman True yada False döndürür"
      ],
      "metadata": {
        "id": "rTmdazqoV5Or"
      },
      "execution_count": null,
      "outputs": []
    },
    {
      "cell_type": "code",
      "source": [
        "not(0)"
      ],
      "metadata": {
        "id": "mqQPiL6QV7jQ"
      },
      "execution_count": null,
      "outputs": []
    },
    {
      "cell_type": "code",
      "source": [
        "print(any([False, False, False]))\n",
        "#??\n",
        "\n",
        "print(any([False, False, True])) # herhangi biri True mu?\n",
        "#??\n",
        "\n",
        "print(all([False, True, True]))  # hepsi True mu?\n",
        "#??\n",
        "\n",
        "print(all([\"False\", 5.6, (1,2,3)]))\n",
        "#??"
      ],
      "metadata": {
        "id": "nZENzl9cC_vl"
      },
      "execution_count": null,
      "outputs": []
    },
    {
      "cell_type": "markdown",
      "source": [
        "#string modülü;\n",
        "https://docs.python.org/3/library/string.html\n",
        "\n",
        "\n",
        "# random  modulü\n",
        "https://docs.python.org/3/library/random.html\n",
        "\n",
        " random.**random()** : ‘0 - 1’ arasında float tipinde rastgele bir sayı üretir.\n",
        "\n",
        "random.**randint(s1,s2)**: ‘s1 - s2’ arasında int tipinde rastgele bir sayı üretir. (s2 dahil).\n",
        "\n",
        "random.r**andrange(s1,s2,adım)**: ‘s1-s2’ değerleri arasında adım miktarına dikkat edilerek float tipinde rasgele bir sayı üretir, adım belirtilmezse 1 kabul edilir. (s2 dahil değil)\n",
        "\n",
        "random.**uniform(s1,s2**): ‘s1 - s2’ arasında float tipinde rasgele bir sayı üretir\n",
        "\n",
        "random.**choice(**[Liste]) : Listeden rastgele bir eleman seçer.\n",
        "\n",
        "random.**shuffle**([Liste]) : Listeyi rastgele sıralar.\n",
        "\n",
        "random.**sample**([Liste], a) :Listeden rastgele a adet eleman seçer.\n"
      ],
      "metadata": {
        "id": "GeTswU1QDe0B"
      }
    },
    {
      "cell_type": "code",
      "source": [
        "# Çözüm-1:\n",
        "import string\n",
        "import random\n",
        "random.seed(11) # programın çalıştırıldığında hep aynı değeri üretmesi için\n",
        "buyuk_harf = random.sample(string.ascii_uppercase,2)\n",
        "ozel_karakter = random.sample(string.punctuation,2)\n",
        "rakam = random.sample(string.digits,2)\n",
        "kucuk_harf = random.sample(string.ascii_lowercase,2)\n",
        "pas_list = kucuk_harf + buyuk_harf + ozel_karakter + rakam\n",
        "#şimdi listeyi karıştıralım\n",
        "random.shuffle(pas_list)\n",
        "print(\"Üretilen password..:\" , \"\".join(pas_list))"
      ],
      "metadata": {
        "id": "6YulDS-HFzpL"
      },
      "execution_count": null,
      "outputs": []
    },
    {
      "cell_type": "code",
      "source": [
        "# Sayısal LOTO : 1-49\n",
        "import random\n",
        "listem = list(range(1,50))\n",
        "random.sample(listem,6)"
      ],
      "metadata": {
        "id": "KbjF-HktE8kW"
      },
      "execution_count": null,
      "outputs": []
    },
    {
      "cell_type": "markdown",
      "metadata": {
        "id": "UhDRV-wUbrg_"
      },
      "source": [
        "# if-else, elif, match -case yapıları"
      ]
    },
    {
      "cell_type": "code",
      "source": [
        "# Python’da None kontrolü yaparken genellikle is kullanılır:\n",
        "x = None\n",
        "if x is None:\n",
        "    print(\"x boş\")"
      ],
      "metadata": {
        "id": "vNwaY92V8Q6H"
      },
      "execution_count": null,
      "outputs": []
    },
    {
      "cell_type": "code",
      "source": [
        "if 10:\n",
        "    print(\"x 10\")\n",
        "  print(\"x 34\")    # blok içi girintileri aynı hizada olmalı...."
      ],
      "metadata": {
        "id": "brl7lxPvaR4e"
      },
      "execution_count": null,
      "outputs": []
    },
    {
      "cell_type": "code",
      "source": [
        "if 0:\n",
        "    print(\"x 10\")"
      ],
      "metadata": {
        "id": "T45x4ULbaW57"
      },
      "execution_count": null,
      "outputs": []
    },
    {
      "cell_type": "code",
      "source": [
        "# if(koşul): koşul her zaman olmak zorunda değil...\n",
        "if(0):      # Her zaman YANLIŞ (False)\n",
        "if(10):     # Her zaman DOĞRU (True)\n",
        "if -10:     # Her zaman DOĞRU (True)\n",
        "if(a):      # a sıfır ise False, değilse True\n",
        "if(\"A\"):\t# Her zaman DOĞRU (True)"
      ],
      "metadata": {
        "id": "whKHVplO70uw"
      },
      "execution_count": null,
      "outputs": []
    },
    {
      "cell_type": "code",
      "execution_count": null,
      "metadata": {
        "id": "yrFoIsyGbieW"
      },
      "outputs": [],
      "source": [
        "if (): # içi boş ise False\n",
        "    print(\"foo\")\n",
        "else:\n",
        "    print(\"baz\")"
      ]
    },
    {
      "cell_type": "code",
      "execution_count": null,
      "metadata": {
        "id": "C8mHnHVdhIBw"
      },
      "outputs": [],
      "source": [
        "if \"()\": # içi dolu ise True\n",
        "    print(\"foo\")\n",
        "else:\n",
        "    print(\"baz\")"
      ]
    },
    {
      "cell_type": "code",
      "source": [
        "# if else tek satıra indirgeme\n",
        "print(\"foo\") if \"()\" else print(\"baz\")"
      ],
      "metadata": {
        "id": "eZSq22USddjS"
      },
      "execution_count": null,
      "outputs": []
    },
    {
      "cell_type": "code",
      "execution_count": null,
      "metadata": {
        "id": "opbyYimwtrJb"
      },
      "outputs": [],
      "source": [
        "text = (\"foo\" if \"()\" else \"baz\")\n",
        "print(text)"
      ]
    },
    {
      "cell_type": "code",
      "execution_count": null,
      "metadata": {
        "id": "z2iNHKCgia4r"
      },
      "outputs": [],
      "source": [
        "condition = (3>1) and (-5<1)\n",
        "if not condition:\n",
        "    print(\"True: It is works\")\n",
        "else:\n",
        "    print(\"False ise else çalışır\")"
      ]
    },
    {
      "cell_type": "code",
      "execution_count": null,
      "metadata": {
        "id": "9mI6GpigkdHG"
      },
      "outputs": [],
      "source": [
        "\"2200\" <= 2200"
      ]
    },
    {
      "cell_type": "code",
      "execution_count": null,
      "metadata": {
        "id": "mClDEw0jlCGD"
      },
      "outputs": [],
      "source": [
        "\"2100\" <= \"2200\" # ascii kod tablosuna bakarak karar verir"
      ]
    },
    {
      "cell_type": "code",
      "execution_count": null,
      "metadata": {
        "id": "m9dgheZelzHb"
      },
      "outputs": [],
      "source": [
        "if \"bar\" in {\"foo\":1, \"bar\":2, \"qux\":3}:  # \"bar\" key'ler arasında mı?\n",
        "    print(1)\n",
        "    print(2)\n",
        "    if 'a' in \"qux\":\n",
        "        print(3)\n",
        "print(4)"
      ]
    },
    {
      "cell_type": "code",
      "source": [
        "FILE = \"dosyam.ipynb\"\n",
        "if FILE.endswith(\".py\") or FILE.endswith(\".ipynb\"):\n",
        "    print(\"Python dosyası\")\n",
        "else:\n",
        "    print(\"Python dosyası değil\")"
      ],
      "metadata": {
        "id": "Nw41DKecejrF"
      },
      "execution_count": null,
      "outputs": []
    },
    {
      "cell_type": "code",
      "source": [
        "FILE = \"dosyam.ipynb\"\n",
        "if FILE.endswith(\".py\"):\n",
        "    print(\"Python dosyası\")\n",
        "elif FILE.endswith(\".ipynb\"):\n",
        "    print(\"Jupyter / Colab notebook dosyası\")\n",
        "else:\n",
        "    print(\"Python dosyası değil\")"
      ],
      "metadata": {
        "id": "VmQZJEhLe5Vd"
      },
      "execution_count": null,
      "outputs": []
    },
    {
      "cell_type": "code",
      "execution_count": null,
      "metadata": {
        "id": "R_1fDbWfndER"
      },
      "outputs": [],
      "source": [
        "test = 155  # 200 den küçük olmalı ama 100 den küçük olmamalı\n",
        "if test <= 200:\n",
        "    if test<100:\n",
        "        if test <= 0:\n",
        "            print( \"Ali\")\n",
        "        else:\n",
        "            print(\"Burak\")\n",
        "    else:\n",
        "        print(\"Selin\")\n",
        "else:\n",
        "    print(\"Demet\")"
      ]
    },
    {
      "cell_type": "code",
      "source": [
        "def http_error(status):\n",
        "    match status:\n",
        "        case 400:\n",
        "            return \"Bad request\"\n",
        "        case 401 | 403 | 404:\n",
        "            return \"Not allowed\"\n",
        "        case 404:\n",
        "            return \"Not found\"\n",
        "        case 418:\n",
        "            return \"I'm a teapot\"\n",
        "        case _:\n",
        "            return \"Something's wrong with the internet\"\n",
        "\n",
        "http_error(404)"
      ],
      "metadata": {
        "id": "eyBN6SPFgP7k"
      },
      "execution_count": null,
      "outputs": []
    },
    {
      "cell_type": "code",
      "execution_count": null,
      "metadata": {
        "id": "6d6GdM8Jb1Xc"
      },
      "outputs": [],
      "source": [
        "status = int(input(\"Web page status number..:\"))\n",
        "match status:\n",
        "    case 400:\n",
        "        print(\"Bad request\")\n",
        "    case 404:\n",
        "        print(\"Not found\")\n",
        "    case 401 | 403:  # 401 veya 403 ise\n",
        "        print(\"Not allowed\")\n",
        "    case 418:\n",
        "        print(\"I'm a teapot\")\n",
        "    case _:  # else\n",
        "        print(\"Something's wrong with the internet\")\n"
      ]
    },
    {
      "cell_type": "code",
      "execution_count": null,
      "metadata": {
        "id": "lcHlfnFAn3su"
      },
      "outputs": [],
      "source": [
        "# Notu harfe dönüştürme\n",
        "score = int (input(\"Enter your score :\"))\n",
        "\n",
        "if score >= 90:\n",
        "    if score >= 95:\n",
        "        Score_letter=\"A+\"\n",
        "    else:\n",
        "        Score_letter=\"A\"\n",
        "if score >= 80:\n",
        "    if score >= 85:\n",
        "        Score_letter=\"B+\"\n",
        "    else:\n",
        "        Score_letter=\"B\"\n",
        "else:\n",
        "    Score_letter=\"below B\"\n",
        "\n",
        "print (f\"Your degree: {Score_letter}\")"
      ]
    },
    {
      "cell_type": "code",
      "execution_count": null,
      "metadata": {
        "id": "enPaeZS1oNLl"
      },
      "outputs": [],
      "source": [
        "score = int (input(\"Enter your score :\"))\n",
        "\n",
        "if score >= 95 and score <=100:\n",
        "    Score_letter=\"A+\"\n",
        "elif score >= 90 and score < 95:\n",
        "    Score_letter=\"A\"\n",
        "elif score >= 85 and score<90:\n",
        "    Score_letter=\"B+\"\n",
        "elif score >= 80 and score<85:\n",
        "    Score_letter=\"B\"\n",
        "else:\n",
        "    Score_letter=\"below B\"\n",
        "\n",
        "print (f\"Your degree: {Score_letter}\")"
      ]
    },
    {
      "cell_type": "code",
      "source": [
        "score = int (input(\"Enter your score :\"))\n",
        "\n",
        "if 95<=score<=100:  # score >= 95 and score <=100:\n",
        "    Score_letter=\"A+\"\n",
        "elif 90<=score<95:   # score >= 90 and score < 95:\n",
        "    Score_letter=\"A\"\n",
        "elif 85<=score<90:   # score >= 85 and score<90:\n",
        "    Score_letter=\"B+\"\n",
        "elif 80<=score<85:   # score >= 80 and score<85:\n",
        "    Score_letter=\"B\"\n",
        "else:\n",
        "    Score_letter=\"below B\"\n",
        "\n",
        "print (f\"Your degree: {Score_letter}\")"
      ],
      "metadata": {
        "id": "Nj8PKivMg3WU"
      },
      "execution_count": null,
      "outputs": []
    },
    {
      "cell_type": "markdown",
      "metadata": {
        "id": "8KtahW8Dbv3_"
      },
      "source": [
        "#match-case yapısı"
      ]
    },
    {
      "cell_type": "code",
      "execution_count": null,
      "metadata": {
        "id": "91T8hYoBskd5"
      },
      "outputs": [],
      "source": [
        "score = int (input(\"Enter your score :\"))\n",
        "match score:\n",
        "    case 95|96|97|98|99|100:\n",
        "        Score_letter=\"A+\"\n",
        "    case 90|91|92|93|94:\n",
        "        Score_letter=\"A\"\n",
        "    case 85|86|87|88|89:\n",
        "        Score_letter=\"B+\"\n",
        "    case 80|81|82|83|84:\n",
        "        Score_letter=\"B\"\n",
        "    case _: #else:\n",
        "        Score_letter=\"below B\"\n",
        "\n",
        "print (f\"Your degree: {Score_letter}\")"
      ]
    },
    {
      "cell_type": "code",
      "source": [
        "def banka_chatbot():\n",
        "    print(\"Merhaba! Banka chatbot'una hoş geldiniz.\")\n",
        "\n",
        "    while True:\n",
        "        islem = input(\"Lütfen yapmak istediğiniz işlemi seçin:\\n\"\n",
        "                       \"Hesap bakiyesi sorgulama için 'bakiye' yazın\\n\"\n",
        "                       \"Para yatırma için 'yatır' yazın\\n\"\n",
        "                       \"Para çekme için 'çek' yazın\\n\"\n",
        "                       \"Çıkış için 'çıkış' yazın\\n\"\n",
        "                       \"Seçiminiz: \").lower()  # Küçük harfe çevirme\n",
        "\n",
        "        match islem:\n",
        "            case \"bakiye\":\n",
        "                print(\"Hesap bakiyeniz: 1000 TL\")  # Örnek bakiye\n",
        "            case \"yatır\":\n",
        "                miktar = int(input(\"Yatırmak istediğiniz miktarı girin: \"))\n",
        "                print(f\"{miktar} TL hesabınıza yatırıldı.\")\n",
        "            case \"çek\":\n",
        "                miktar = int(input(\"Çekmek istediğiniz miktarı girin: \"))\n",
        "                print(f\"{miktar} TL hesabınızdan çekildi.\")\n",
        "            case \"çıkış\":\n",
        "                print(\"Teşekkürler, iyi günler dileriz!\")\n",
        "                break\n",
        "            case _:\n",
        "                print(\"Geçersiz işlem seçimi. Lütfen tekrar deneyin.\")\n",
        "\n",
        "banka_chatbot()"
      ],
      "metadata": {
        "id": "byUZPdMKiM-8"
      },
      "execution_count": null,
      "outputs": []
    },
    {
      "cell_type": "markdown",
      "metadata": {
        "id": "GH3MeR-LbyD3"
      },
      "source": [
        "# LOOPS"
      ]
    },
    {
      "cell_type": "code",
      "execution_count": null,
      "metadata": {
        "id": "0BCsU2x7b2IJ"
      },
      "outputs": [],
      "source": [
        "# Niçin döngü kullanırız?"
      ]
    },
    {
      "cell_type": "code",
      "execution_count": null,
      "metadata": {
        "id": "5JOQTFDywfgv"
      },
      "outputs": [],
      "source": [
        "!pip install ColabTurtle"
      ]
    },
    {
      "cell_type": "code",
      "execution_count": null,
      "metadata": {
        "id": "igIJekEPxDU4"
      },
      "outputs": [],
      "source": [
        "#from turtle import *\n",
        "from ColabTurtle.Turtle import *\n",
        "initializeTurtle()\n",
        "for _ in range(4):\n",
        "    forward(100)\n",
        "    right(90)"
      ]
    },
    {
      "cell_type": "code",
      "source": [
        "# A-Z arası karakterleri yaz\n",
        "k = 65\n",
        "while k<=90:\n",
        "    print(chr(k), end=\" \")\n",
        "    k += 1"
      ],
      "metadata": {
        "id": "tIr5PT0Hjd8k"
      },
      "execution_count": null,
      "outputs": []
    },
    {
      "cell_type": "code",
      "source": [
        "k = 65\n",
        "while True:\n",
        "    print(chr(k), end=\" \")\n",
        "    k += 1\n",
        "    if k==90:\n",
        "        break  # Döngüyü kır ve çık\n"
      ],
      "metadata": {
        "id": "rdJrp_IAj9TG"
      },
      "execution_count": null,
      "outputs": []
    },
    {
      "cell_type": "code",
      "execution_count": null,
      "metadata": {
        "id": "02LKuiVK0KxG"
      },
      "outputs": [],
      "source": [
        "my_list = [\"a\", \"b\", \"c\", \"d\", \"e\"]\n",
        "\n",
        "a = 0\n",
        "\n",
        "while a < len(my_list):\n",
        "   print('square of {} is : {}'.format(a, a**2))\n",
        "   a += 1 # a++"
      ]
    },
    {
      "cell_type": "code",
      "execution_count": null,
      "metadata": {
        "id": "-MqkIxi518rz"
      },
      "outputs": [],
      "source": [
        "age = input(\"Yaşınızı giriniz..:\")\n",
        "while not age.isdigit():\n",
        "    print(\"Lütfen rakam giriniz\")\n",
        "    age = input(\"Yaşınızı giriniz..:\")\n",
        "\n",
        "print(\"Tebrikler!, yaşınızı doğru girdiniz..:\", age)\n"
      ]
    },
    {
      "cell_type": "code",
      "execution_count": null,
      "metadata": {
        "id": "9fHgOxPu2gfh"
      },
      "outputs": [],
      "source": [
        "# login sayfası...\n",
        "# Kullanıcıdan doğru şifre girişini bekleyen bir ekran\n",
        "password = \"python\"\n",
        "user_sifre = input(\"Şifrenizi giriniz..:\")\n",
        "while user_sifre != password:\n",
        "    print(\"Lütfen doğru şifre giriniz\")\n",
        "    user_sifre = input(\"Şifrenizi giriniz..:\")\n",
        "\n",
        "# döngüden çıkınca\n",
        "print(\"Hoşgeldiniz...\")"
      ]
    },
    {
      "cell_type": "code",
      "source": [
        "# Parantez içi atama operatörü\n",
        "(x := 5)\n",
        "x"
      ],
      "metadata": {
        "id": "QgGJsDaJnlMG"
      },
      "execution_count": null,
      "outputs": []
    },
    {
      "cell_type": "code",
      "execution_count": null,
      "metadata": {
        "id": "gK11GnIK59aD"
      },
      "outputs": [],
      "source": [
        "# walrus operatörü (:=) 3.8 sonrası new operator\n",
        "# Parantez içi atama operatörü\n",
        "password = \"python\"\n",
        "while (user_sifre := input(\"Şifrenizi giriniz..:\")) != password:\n",
        "    print(\"Lütfen doğru şifre giriniz\")\n",
        "\n",
        "# döngüden çıkınca\n",
        "print(\"Hoşgeldiniz...\")"
      ]
    },
    {
      "cell_type": "code",
      "execution_count": null,
      "metadata": {
        "id": "ve01A2LL7gYD"
      },
      "outputs": [],
      "source": [
        "number = 0\n",
        "while True: # sonsuz döngü\n",
        "    print(number)\n",
        "    number += 1\n",
        "    if number >= 5:\n",
        "        break # döngüden çık"
      ]
    },
    {
      "cell_type": "code",
      "source": [
        "for i in \"iterable\":\n",
        "    ..."
      ],
      "metadata": {
        "id": "HWaqNr9YlZ5V"
      },
      "execution_count": null,
      "outputs": []
    },
    {
      "cell_type": "code",
      "source": [
        "# Neler iterable ?\n",
        "# string, range, liste, tuple, set, dict, ...."
      ],
      "metadata": {
        "id": "zLQrgEkwlikD"
      },
      "execution_count": null,
      "outputs": []
    },
    {
      "cell_type": "code",
      "source": [
        "for i in [1,2,3,4]:\n",
        "    print(i)"
      ],
      "metadata": {
        "id": "upWG_bgClsjO"
      },
      "execution_count": null,
      "outputs": []
    },
    {
      "cell_type": "code",
      "source": [
        "for i in range(1,5):\n",
        "    print(i)"
      ],
      "metadata": {
        "id": "FoWjc4VxmOdp"
      },
      "execution_count": null,
      "outputs": []
    },
    {
      "cell_type": "code",
      "source": [
        "# range(5) : 0-5 arası (5 dahil değil)\n",
        "# range(1,5): 1-5 arası (1 dahil ama 5 dahil değil)\n",
        "# range(1,7,2) # 1,3, 5 (1-7 arası 2 şer 2 şer git)"
      ],
      "metadata": {
        "id": "HnP4Hg7Vl5sB"
      },
      "execution_count": null,
      "outputs": []
    },
    {
      "cell_type": "code",
      "source": [
        "for i in [1,2,3,4,5]:\n",
        "    print(i)\n",
        "    if i==3:\n",
        "        break"
      ],
      "metadata": {
        "id": "kK_-ngwHmfSW"
      },
      "execution_count": null,
      "outputs": []
    },
    {
      "cell_type": "code",
      "source": [
        "for i in range(0,20):\n",
        "    if i%2==0:\n",
        "        continue  # sayı çift ise döngü başı yapar\n",
        "    print(i)"
      ],
      "metadata": {
        "id": "qfv05AFTmwHC"
      },
      "execution_count": null,
      "outputs": []
    },
    {
      "cell_type": "code",
      "execution_count": null,
      "metadata": {
        "id": "I-DNaHyy9OnW"
      },
      "outputs": [],
      "source": [
        "import random\n",
        "random.randint(1,100)"
      ]
    },
    {
      "cell_type": "markdown",
      "source": [
        "sayı tahmin oyunu"
      ],
      "metadata": {
        "id": "yFQrRulDNQKG"
      }
    },
    {
      "cell_type": "code",
      "execution_count": null,
      "metadata": {
        "id": "xKTrS5i990So"
      },
      "outputs": [],
      "source": [
        "import random\n",
        "tutulan_sayi = random.randint(1,100)\n",
        "puan = 100\n",
        "sayac = 0\n",
        "while sayac<10:\n",
        "    tahmin = int(input(\"1-100 arsı bir sayı giriniz..:\"))\n",
        "    sayac += 1\n",
        "    if tahmin<tutulan_sayi:\n",
        "        print(\"Daha büyük sayı giriniz..\")\n",
        "        puan = puan - 10\n",
        "    elif tahmin>tutulan_sayi:\n",
        "        print(\"Daha küçük bir sayı giriniz..\")\n",
        "        puan = puan - 10\n",
        "    else: # eşit olma durumu\n",
        "        print(f\"Bravo! {tutulan_sayi} sayısını bildiniz. Puanınız.: {puan}\")\n",
        "        break # döngüden çık\n",
        "else:  # while else : yazılmasa ekstra bir if sorgusu gerekecekti\n",
        "    print(\"Hakkınız doldu\")"
      ]
    },
    {
      "cell_type": "code",
      "source": [
        "#iç içe döngü örneği\n",
        "for i in range(1,10):\n",
        "    for j in range(1,10):\n",
        "        print(i,\"*\",j,\"=\", i*j)\n",
        "    print()"
      ],
      "metadata": {
        "id": "cuot9e2XrJxR"
      },
      "execution_count": null,
      "outputs": []
    },
    {
      "cell_type": "code",
      "source": [
        "# indis kavramı\n",
        "# pozitif indis : soldan sağa 0 ....\n",
        "# negatfi indis: sağdan sola ..... -1\n",
        "ad = \"Bulent\"\n",
        "ad[0] # ilk elemanı"
      ],
      "metadata": {
        "id": "-0vT5eHarvxC"
      },
      "execution_count": null,
      "outputs": []
    },
    {
      "cell_type": "code",
      "source": [
        "ad[-1] # son eleman"
      ],
      "metadata": {
        "id": "TNrGzU7Qr8Sb"
      },
      "execution_count": null,
      "outputs": []
    },
    {
      "cell_type": "code",
      "source": [
        "# Bir sayı listesindeki en büyük 2. eleman\n",
        "listem = range(34)  # 0-33\n",
        "listem[-2]"
      ],
      "metadata": {
        "id": "65MM5PR-sBo_"
      },
      "execution_count": null,
      "outputs": []
    },
    {
      "cell_type": "markdown",
      "source": [
        "#max, min de key parametresi"
      ],
      "metadata": {
        "id": "0ugcJMg4NYg1"
      }
    },
    {
      "cell_type": "code",
      "source": [
        "listem = [1,3,-5,4,33,2,23]\n",
        "max(listem)  # en büyük eleman"
      ],
      "metadata": {
        "id": "nuO7pv5ZsaPN"
      },
      "execution_count": null,
      "outputs": []
    },
    {
      "cell_type": "code",
      "source": [
        "min(listem)  # en küçük eleman"
      ],
      "metadata": {
        "id": "7S4RF96wsfuK"
      },
      "execution_count": null,
      "outputs": []
    },
    {
      "cell_type": "code",
      "source": [
        "cumle = \"Ali topu attım.\"  # ascii kod tablosuna en dondaki değeri döndürür\n",
        "max(cumle)"
      ],
      "metadata": {
        "id": "iYyqYxXBsynz"
      },
      "execution_count": null,
      "outputs": []
    },
    {
      "cell_type": "code",
      "execution_count": null,
      "metadata": {
        "id": "dLOEuZq2_bk0"
      },
      "outputs": [],
      "source": [
        "# Bir cümledeki en uzun kelimeyi bulunuz...\n",
        "cumle = \"Ali  topunu attım.\"\n",
        "max(cumle.split(), key=len)"
      ]
    },
    {
      "cell_type": "code",
      "source": [
        "# indis no öğrenme\n",
        "email = \"bulendhoc@gmail.com\"\n",
        "email.index(\"@\")"
      ],
      "metadata": {
        "id": "1cSTI6-ztaF_"
      },
      "execution_count": null,
      "outputs": []
    },
    {
      "cell_type": "code",
      "source": [
        "# slicing(dilimleme)\n",
        "#    012345\n",
        "s = \"python\"\n",
        "s[:]"
      ],
      "metadata": {
        "id": "QSVMJT4_uNpv"
      },
      "execution_count": null,
      "outputs": []
    },
    {
      "cell_type": "code",
      "source": [
        "s[::-1] # ters çevirir"
      ],
      "metadata": {
        "id": "XpKzupD0uTaK"
      },
      "execution_count": null,
      "outputs": []
    },
    {
      "cell_type": "code",
      "source": [
        "s[1::2]"
      ],
      "metadata": {
        "id": "jufy6WIruXcM"
      },
      "execution_count": null,
      "outputs": []
    },
    {
      "cell_type": "markdown",
      "metadata": {
        "id": "Gnk5_o0vHGlw"
      },
      "source": [
        "for döngüsü: tekrar sayısı baştan belli"
      ]
    },
    {
      "cell_type": "code",
      "execution_count": null,
      "metadata": {
        "id": "uZggcWCjHLhJ"
      },
      "outputs": [],
      "source": [
        "for i in [1,2,3,4,5]: # iterable: dolaşılabilir nesne\n",
        "    print(i)"
      ]
    },
    {
      "cell_type": "code",
      "execution_count": null,
      "metadata": {
        "id": "8Ppnsk6WHThI"
      },
      "outputs": [],
      "source": [
        "for i in range(1,6): # iterable: dolaşılabilir nesne\n",
        "    print(i)"
      ]
    },
    {
      "cell_type": "code",
      "execution_count": null,
      "metadata": {
        "id": "iWVS5zPOH6JX"
      },
      "outputs": [],
      "source": [
        "seasons = [\"İlkbahar\", \"Yaz\", \"Sonbahar\", \"Kış\"]\n",
        "for d in seasons:\n",
        "    print(d)"
      ]
    },
    {
      "cell_type": "code",
      "source": [
        "metin = \"ATATÜRK\"\n",
        "for i in range(1,len(metin)):\n",
        "    print(metin[:i])\n",
        "print(metin)"
      ],
      "metadata": {
        "id": "1SGEa7rTvH2T"
      },
      "execution_count": null,
      "outputs": []
    },
    {
      "cell_type": "code",
      "source": [
        "metin = \"ATATÜRK\"\n",
        "print(metin)\n",
        "for i in range(1,len(metin)):\n",
        "    print(metin[:-i])"
      ],
      "metadata": {
        "id": "2DGK2WQEvQgw"
      },
      "execution_count": null,
      "outputs": []
    },
    {
      "cell_type": "code",
      "source": [
        "# stringler immutable(doğrudan değiştirilemez)\n",
        "# listeler mutable\n",
        "listem = ['p','y','t','h','o','n']\n",
        "listem[1] = \"i\"\n",
        "listem"
      ],
      "metadata": {
        "id": "5bNLZKMnvozD"
      },
      "execution_count": null,
      "outputs": []
    },
    {
      "cell_type": "code",
      "source": [
        "# listeler mutable\n",
        "str_list = 'python'\n",
        "str_list[1] = \"i\"\n",
        "str_list"
      ],
      "metadata": {
        "id": "T9JQylv8v5N6"
      },
      "execution_count": null,
      "outputs": []
    },
    {
      "cell_type": "code",
      "source": [
        "# Soru: \"python\" nın 3. indisli elemanı ('h') kaldır\n",
        "text = \"python\"\n",
        "new_text = text.replace(\"h\",\"\")\n",
        "new_text"
      ],
      "metadata": {
        "id": "u9Pn08UXwTWS"
      },
      "execution_count": null,
      "outputs": []
    },
    {
      "cell_type": "code",
      "source": [
        "# Soru: \"python\" nın 3. indisli elemanı ('h') kaldır\n",
        "text = \"python\"\n",
        "bas_text = text[:3]\n",
        "son_text = text[4:]\n",
        "new_text = bas_text + son_text\n",
        "new_text"
      ],
      "metadata": {
        "id": "5qGpGvNHwo6W"
      },
      "execution_count": null,
      "outputs": []
    },
    {
      "cell_type": "code",
      "source": [
        "# Soru: \"python\" nın 3. indisli elemanı ('h') kaldır\n",
        "text = \"python\"\n",
        "list_text = list(text)\n",
        "list_text[3] = \"\"\n",
        "new_text = \"\".join(list_text)\n",
        "new_text"
      ],
      "metadata": {
        "id": "QtC4TtMhw6qe"
      },
      "execution_count": null,
      "outputs": []
    },
    {
      "cell_type": "code",
      "source": [
        "# Palindrom uygulaması\n",
        "text = input(\"Kelime..: \")\n",
        "if text == text[::-1]:\n",
        "    print(f\"{text} palindrom\")\n",
        "else:\n",
        "    print(f\"{text} palindrom değil\")"
      ],
      "metadata": {
        "id": "tvoiv9MRxZ6Q"
      },
      "execution_count": null,
      "outputs": []
    },
    {
      "cell_type": "code",
      "source": [
        "# Peki palindrom değilse palindroma nasıl dönüştürülür\n",
        "# listeye çevirir tersten listeye ekleriz..."
      ],
      "metadata": {
        "id": "JfnVhsN_yCo8"
      },
      "execution_count": null,
      "outputs": []
    },
    {
      "cell_type": "code",
      "execution_count": null,
      "metadata": {
        "id": "HRbdeofLI2lp"
      },
      "outputs": [],
      "source": [
        "# range() nesnesi iterable\n",
        "\"\"\"\n",
        "Boş listeyi döngü ile doldurma\n",
        "\"\"\"\n",
        "numbers = []\n",
        "for i in range(1,6):\n",
        "    numbers.append(i)"
      ]
    },
    {
      "cell_type": "code",
      "source": [
        "numbers"
      ],
      "metadata": {
        "id": "w1q3NsHJyN1a"
      },
      "execution_count": null,
      "outputs": []
    },
    {
      "cell_type": "code",
      "source": [
        "numbers2 = list(range(1,6))\n",
        "numbers2"
      ],
      "metadata": {
        "id": "ht65DPegyP8S"
      },
      "execution_count": null,
      "outputs": []
    },
    {
      "cell_type": "code",
      "source": [
        "x = ['a','b','c']\n",
        "for i in range(len(x)):\n",
        "    x.append(i)\n",
        "print(x)"
      ],
      "metadata": {
        "id": "6TtQxhp23Pcw"
      },
      "execution_count": null,
      "outputs": []
    },
    {
      "cell_type": "markdown",
      "source": [
        "# List Yapısı"
      ],
      "metadata": {
        "id": "qy_hNIijOel9"
      }
    },
    {
      "cell_type": "code",
      "source": [
        "# boş liste\n",
        "# list() yada []\n",
        "text = \"Merhaba 2025\"\n",
        "list_text1 = list(text)  # tam bir listeye dönüştürme : 12 elemanlı bir liste\n",
        "list_text2 = [text]  # kalıp olarak listeye dönüştürür : 1 elemanlı bir liste\n",
        "print(list_text1)\n",
        "print(list_text2)"
      ],
      "metadata": {
        "id": "eMGYGIKey-WY"
      },
      "execution_count": null,
      "outputs": []
    },
    {
      "cell_type": "code",
      "source": [
        "# Array ile List Farkı\n",
        "# Listeler farklı tip elemanlardan oluşabilirken Array'ler aynı tip elemanlardan oluşur\n",
        "import numpy as np\n",
        "dizi = np.array([1,2,3,4])\n",
        "dizi"
      ],
      "metadata": {
        "id": "gs9DMadhzyO_"
      },
      "execution_count": null,
      "outputs": []
    },
    {
      "cell_type": "code",
      "source": [
        "liste = [1, 2, 3, 4]\n",
        "liste"
      ],
      "metadata": {
        "id": "MV_D07SC0EFz"
      },
      "execution_count": null,
      "outputs": []
    },
    {
      "cell_type": "code",
      "source": [
        "# eleman ekleme\n",
        "# append() sona ekler\n",
        "liste = [2,3]\n",
        "liste.append(4) # out: [2,3,4]"
      ],
      "metadata": {
        "id": "jvTglny4O5iW"
      },
      "execution_count": null,
      "outputs": []
    },
    {
      "cell_type": "code",
      "source": [
        "# eleman ekleme\n",
        "# extend() ile başka bir liste eklenir\n",
        "liste = [2,3]\n",
        "ek_liste = [4,5]\n",
        "liste.append(ek_liste) # out: [2,3,[4,5]]\n",
        "liste"
      ],
      "metadata": {
        "id": "by0Bi36Y1j5R"
      },
      "execution_count": null,
      "outputs": []
    },
    {
      "cell_type": "code",
      "source": [
        "# eleman ekleme\n",
        "# extend() ile başka bir liste eklenir\n",
        "liste = [2,3]\n",
        "ek_liste = [4,5]\n",
        "liste.extend(ek_liste) # out: [2,3,4,5]\n",
        "liste"
      ],
      "metadata": {
        "id": "YBYoIld710eP"
      },
      "execution_count": null,
      "outputs": []
    },
    {
      "cell_type": "code",
      "source": [
        "# eleman ekleme\n",
        "# extend() ile başka bir liste eklenir\n",
        "liste = [2,3]\n",
        "ek_liste = [4,5]\n",
        "liste += ek_liste # out: [2,3,4,5]\n",
        "liste"
      ],
      "metadata": {
        "id": "PpX5Md-417jO"
      },
      "execution_count": null,
      "outputs": []
    },
    {
      "cell_type": "code",
      "source": [
        "# eleman ekleme\n",
        "# insert() ile araya ekleme yapabiliriz\n",
        "liste = [2,3]\n",
        "liste.insert(0,4) # out: [4,2,3]  0.indise 4 ü ekle\n",
        "liste"
      ],
      "metadata": {
        "id": "bv1BhaJM2Ei3"
      },
      "execution_count": null,
      "outputs": []
    },
    {
      "cell_type": "code",
      "source": [
        "liste = [2,3]\n",
        "liste.insert(1,4) # out: [2,4,3]  1.indise 4 ü ekle\n",
        "liste"
      ],
      "metadata": {
        "id": "_7HIIzcR2XyN"
      },
      "execution_count": null,
      "outputs": []
    },
    {
      "cell_type": "code",
      "source": [
        "liste = [2,3]\n",
        "liste.insert(1,4) # out: [2,4,3]  1.indise 4 ü ekle\n",
        "print(liste)\n",
        "liste.insert(2,[5,6])\n",
        "print(liste)"
      ],
      "metadata": {
        "id": "mHB_2cpP4G1g"
      },
      "execution_count": null,
      "outputs": []
    },
    {
      "cell_type": "code",
      "source": [
        "# Liste Kopyalama :Yanlışı\n",
        "listem = [1,2,3,4]\n",
        "copy_list = listem  # id'ler aynı\n",
        "copy_list.append(7)\n",
        "print(copy_list)\n",
        "print(listem)"
      ],
      "metadata": {
        "id": "2vp7a-v90udc"
      },
      "execution_count": null,
      "outputs": []
    },
    {
      "cell_type": "code",
      "source": [
        "# Liste Kopyalama: Doğrusu\n",
        "listem = [1,2,3,4]\n",
        "copy_list = listem.copy()  # id'ler farklı\n",
        "copy_list.append(7)\n",
        "print(copy_list)\n",
        "print(listem)"
      ],
      "metadata": {
        "id": "y3wMgXHs09gE"
      },
      "execution_count": null,
      "outputs": []
    },
    {
      "cell_type": "code",
      "source": [
        "# Liste Kopyalama: Doğrusu\n",
        "listem = [1,2,3,4]\n",
        "copy_list = listem[:]  # id'ler farklı\n",
        "copy_list.append(7)\n",
        "print(copy_list)\n",
        "print(listem)"
      ],
      "metadata": {
        "id": "evfOlBfi1JQH"
      },
      "execution_count": null,
      "outputs": []
    },
    {
      "cell_type": "code",
      "source": [
        "# liste sonuna insert ile eleman ekleme\n",
        "numbers  = [1,2,3,4]\n",
        "numbers.insert(len(numbers),5)\n",
        "numbers"
      ],
      "metadata": {
        "id": "4ID_m0MaGGaS"
      },
      "execution_count": null,
      "outputs": []
    },
    {
      "cell_type": "code",
      "source": [
        "# liste sonuna eleman ekleme\n",
        "numbers  = [1,2,3,4]\n",
        "numbers[len(numbers):] = [5,6,7]\n",
        "numbers"
      ],
      "metadata": {
        "id": "WogKLCQkHObr"
      },
      "execution_count": null,
      "outputs": []
    },
    {
      "cell_type": "code",
      "source": [
        "(x:=[1,2,3]).extend(x)\n",
        "print(x)"
      ],
      "metadata": {
        "id": "8M90s7UpHp8V"
      },
      "execution_count": null,
      "outputs": []
    },
    {
      "cell_type": "code",
      "source": [
        "# Listeden eleman silme\n",
        "#1. list.remove(eleman)\n",
        "#2. del list[indis]\n",
        "#3. list.pop(indis)\n",
        "#4. list.clear()\n",
        "cumle = \"Ali topu at\"\n",
        "# sesli harfleri listeye dönüştürüp çıkaralım\n",
        "list_cumle = list(cumle)\n",
        "sesli_harfler = [\"a\",\"e\",\"ı\",\"i\",\"o\",\"ö\",\"u\",\"ü\", \" \"]\n",
        "for harf in cumle:\n",
        "    if harf in sesli_harfler:\n",
        "        list_cumle.remove(harf)\n",
        "print(list_cumle)\n",
        "temiz_cumle= \"\".join(list_cumle)\n",
        "print(temiz_cumle)"
      ],
      "metadata": {
        "id": "b4DoRGY0ILP8"
      },
      "execution_count": null,
      "outputs": []
    },
    {
      "cell_type": "code",
      "source": [
        "# liste sıralama : sort()\n",
        "listem = [2,3,1,6,7,8,9,23]\n",
        "listem.sort()\n",
        "print(listem)"
      ],
      "metadata": {
        "id": "45-VJyLuJgGv"
      },
      "execution_count": null,
      "outputs": []
    },
    {
      "cell_type": "code",
      "source": [
        "# ters sırada sırala\n",
        "listem = [2,3,1,6,7,8,9,23]\n",
        "listem.sort(reverse=True)\n",
        "print(listem)"
      ],
      "metadata": {
        "id": "gl3YtRQhJry5"
      },
      "execution_count": null,
      "outputs": []
    },
    {
      "cell_type": "code",
      "source": [
        "# sıralanacak liste elemanları aynı tipte olmalı\n",
        "listem = [2,\"3\",1,6,\"7\",8,9,23]\n",
        "listem.sort()\n",
        "print(listem)"
      ],
      "metadata": {
        "id": "IV84OapEJ3nl"
      },
      "execution_count": null,
      "outputs": []
    },
    {
      "cell_type": "code",
      "source": [
        "# Sıralı listeyi başka değişkene aktarma için\n",
        "listem = [2,3,1,6,7,8,9,23]\n",
        "listem = listem.sort()\n",
        "print(listem)"
      ],
      "metadata": {
        "id": "UVCn_gYlKI2U"
      },
      "execution_count": null,
      "outputs": []
    },
    {
      "cell_type": "code",
      "source": [
        "# Sıralı listeyi başka değişkene aktarma için\n",
        "listem = [2,3,1,6,7,8,9,23]\n",
        "sorted_list = sorted(listem)\n",
        "print(listem)\n",
        "print(sorted_list)"
      ],
      "metadata": {
        "id": "CazDkeGnKUjU"
      },
      "execution_count": null,
      "outputs": []
    },
    {
      "cell_type": "code",
      "source": [
        "# Listeyi ters çevirme\n",
        "listem = [2,3,1,6,7,8,9,23]\n",
        "tersi_list = list(reversed(listem))\n",
        "print(listem)\n",
        "print(tersi_list)"
      ],
      "metadata": {
        "id": "NBYsp7MqKpU5"
      },
      "execution_count": null,
      "outputs": []
    },
    {
      "cell_type": "code",
      "source": [
        "# Listeyi ters çevirme\n",
        "listem = [2,3,1,6,7,8,9,23]\n",
        "tersi_list = listem[::-1]\n",
        "print(listem)\n",
        "print(tersi_list)"
      ],
      "metadata": {
        "id": "PdPYGJMLLLnX"
      },
      "execution_count": null,
      "outputs": []
    },
    {
      "cell_type": "code",
      "source": [
        "# Listeyi ters çevirme\n",
        "listem = [2,3,1,6,7,8,9,23]\n",
        "listem.reverse()  # orjinal liste üzerinde reverse yapar\n",
        "print(listem)"
      ],
      "metadata": {
        "id": "m2PmltBSK-Qx"
      },
      "execution_count": null,
      "outputs": []
    },
    {
      "cell_type": "code",
      "source": [
        "data_seti = [2,\"3\",1,None,\"7\",8,9,23, \"ali\", None]\n",
        "# Eleman sayısı\n",
        "print(len(data_seti))"
      ],
      "metadata": {
        "id": "D9GZg3xVLV6y"
      },
      "execution_count": null,
      "outputs": []
    },
    {
      "cell_type": "code",
      "source": [
        "# data_setindeki None değerlerinin sayısını öğrenelim\n",
        "print(data_seti.count(None))"
      ],
      "metadata": {
        "id": "H9N_ONVRLjwr"
      },
      "execution_count": null,
      "outputs": []
    },
    {
      "cell_type": "code",
      "source": [
        "list1 = list(range(1,11))\n",
        "print(list1)\n",
        "list2 = [range(1,11)]\n",
        "print(list2)"
      ],
      "metadata": {
        "id": "N-GW-SftO2SO"
      },
      "execution_count": null,
      "outputs": []
    },
    {
      "cell_type": "code",
      "source": [
        "list1 = list(range(1,11))\n",
        "print(list1)\n",
        "list2 = [*range(1,11)]\n",
        "print(list2)"
      ],
      "metadata": {
        "id": "7wOl4icPPCEP"
      },
      "execution_count": null,
      "outputs": []
    },
    {
      "cell_type": "code",
      "source": [
        "list1 = list(range(1,11))\n",
        "tek_list = list1[::2]\n",
        "print(list1)\n",
        "print(tek_list)"
      ],
      "metadata": {
        "id": "rii_iq5hPV6u"
      },
      "execution_count": null,
      "outputs": []
    },
    {
      "cell_type": "code",
      "source": [
        "#çift sayılar için\n",
        "list1[1::2]"
      ],
      "metadata": {
        "id": "84I5xP4TPgQo"
      },
      "execution_count": null,
      "outputs": []
    },
    {
      "cell_type": "code",
      "source": [
        "# VEri Ayıklama\n",
        "mix = [1, [1,\"one\", 2, \"two\", 3, \"three\", 4, \"four\",5], 5, 6, 7]\n",
        "# string değerleri alalım\n",
        "str_list = mix[1][1::2]\n",
        "print(str_list)"
      ],
      "metadata": {
        "id": "AiaEHhImQCIM"
      },
      "execution_count": null,
      "outputs": []
    },
    {
      "cell_type": "markdown",
      "source": [
        "#Stack ve Queue (Yığın ve Kuyruk) Tasarım"
      ],
      "metadata": {
        "id": "FPBSp8ScN0-Q"
      }
    },
    {
      "cell_type": "code",
      "source": [
        "# Stack Yapısı Tasarımı : LIFO\n",
        "listem = [3,4,5]\n",
        "# stack eleman ekleme\n",
        "listem.append(6)\n",
        "listem.append(7)\n",
        "print(listem)\n",
        "# stack ten eleman çıkarma\n",
        "listem.pop()\n",
        "print(listem)\n",
        "# Yığının en tepesindeki elemanı öğrenme\n",
        "en_tepesi = listem[-1]\n",
        "print(en_tepesi)"
      ],
      "metadata": {
        "id": "QKAoBCTuMTZd"
      },
      "execution_count": null,
      "outputs": []
    },
    {
      "cell_type": "code",
      "source": [
        "# Kuyruk Tasarımı : FIFO\n",
        "listem = [\"rapor.pdf\",\"gorsel.png\",\"sunum.pptx\"]\n",
        "# kuyruğa eleman ekleme\n",
        "listem.append(\"6.gif\")\n",
        "listem.append(\"7.png\")\n",
        "print(listem)\n",
        "# Kuyruktan  eleman çıkarma\n",
        "listem.pop(0)  # ilk elemanı çıkar\n",
        "print(listem)\n",
        "# Kuyruk başındaki elemanı öğrenme\n",
        "en_bas = listem[0]\n",
        "print(en_bas)"
      ],
      "metadata": {
        "id": "Nnm8x00-NT8I"
      },
      "execution_count": null,
      "outputs": []
    },
    {
      "cell_type": "code",
      "source": [
        "# Yazıcı kuyruğu\n",
        "from collections import deque\n",
        "import time\n",
        "\n",
        "# Kuyruk oluştur\n",
        "kuyruk = deque()\n",
        "\n",
        "# Belge ekleme\n",
        "def belge_ekle(belge):\n",
        "    kuyruk.append(belge)\n",
        "    print(f\"Belge eklendi: {belge}\")\n",
        "\n",
        "# Yazdırma işlemi\n",
        "def yazdir():\n",
        "    if kuyruk:\n",
        "        belge = kuyruk.popleft()\n",
        "        print(f\"Yazdırılıyor: {belge}\")\n",
        "        time.sleep(1)  # 1 sn bekle\n",
        "        print(f\"Yazdırma tamamlandı: {belge}\")\n",
        "    else:\n",
        "        print(\"Yazıcı kuyruğu boş.\")\n",
        "\n",
        "# Kuyruğu gösterme\n",
        "def kuyrugu_goster():\n",
        "    print(\"Kuyruk İçeriği:\")\n",
        "    for belge in kuyruk:\n",
        "        print(belge)\n",
        "\n",
        "# Örnek kullanım\n",
        "belge_ekle(\"rapor.pdf\")\n",
        "belge_ekle(\"gorsel.png\")\n",
        "belge_ekle(\"sunum.pptx\")\n",
        "\n",
        "kuyrugu_goster()\n",
        "print()\n",
        "\n",
        "yazdir()\n",
        "yazdir()\n",
        "yazdir()\n",
        "yazdir()  # Boş kuyruğu test et\n"
      ],
      "metadata": {
        "id": "ZyuY4Z47bTH4"
      },
      "execution_count": null,
      "outputs": []
    },
    {
      "cell_type": "markdown",
      "source": [
        "# Tuple"
      ],
      "metadata": {
        "id": "7cW54jOKPC9M"
      }
    },
    {
      "cell_type": "code",
      "source": [
        "tuple1 = (1,2,3)\n",
        "tuple2 = 1,2,3    # virgüllerle ayrılmış değerler topluluğu\n",
        "tuple3 = tuple(\"ali\")\n",
        "print(tuple1)\n",
        "print(tuple2)\n",
        "print(tuple3)"
      ],
      "metadata": {
        "id": "hb4h4MnzPLXP"
      },
      "execution_count": null,
      "outputs": []
    },
    {
      "cell_type": "code",
      "source": [
        "tuple1 = (3)   # tuple değil!!!!\n",
        "tuple2 = 3,    # virgüllerle ayrılmış değerler topluluğu\n",
        "tuple3 = (3,)\n",
        "print(type(tuple1))\n",
        "print(type(tuple2))\n",
        "print(type(tuple3))"
      ],
      "metadata": {
        "id": "_9rvSvOMRSwD"
      },
      "execution_count": null,
      "outputs": []
    },
    {
      "cell_type": "code",
      "source": [
        "# list-tuple hız testi\n",
        "import timeit\n",
        "start = timeit.default_timer()\n",
        "listem = [3,4,5, [\"ali\", \"veli\", \"dfgdg\"], \"dfhg\"]\n",
        "stop = timeit.default_timer()\n",
        "print((stop-start)*100)"
      ],
      "metadata": {
        "id": "5wBqOw4mSEZX"
      },
      "execution_count": null,
      "outputs": []
    },
    {
      "cell_type": "code",
      "source": [
        "import timeit\n",
        "start2 = timeit.default_timer()\n",
        "tuplem = (3,4,5, (\"ali\", \"veli\"), \"ddfgh\")\n",
        "stop2 = timeit.default_timer()\n",
        "print((stop2-start2)*100)"
      ],
      "metadata": {
        "id": "hnnwmapuVC50"
      },
      "execution_count": null,
      "outputs": []
    },
    {
      "cell_type": "code",
      "source": [
        "import sys\n",
        "sys.getsizeof(listem)  # byte cinssinden kapladığı alan"
      ],
      "metadata": {
        "id": "3JwynCzBWc88"
      },
      "execution_count": null,
      "outputs": []
    },
    {
      "cell_type": "code",
      "source": [
        "import sys\n",
        "sys.getsizeof(tuplem)"
      ],
      "metadata": {
        "id": "GG1pLTZqWh-Y"
      },
      "execution_count": null,
      "outputs": []
    },
    {
      "cell_type": "code",
      "source": [
        "# tuple elemanları immutable, doğrudan değiştirilemez\n",
        "tuplem = (1,2,3)\n",
        "tuplem[1] = 4"
      ],
      "metadata": {
        "id": "KXG3QW9YW2_Y"
      },
      "execution_count": null,
      "outputs": []
    },
    {
      "cell_type": "code",
      "source": [
        "dir(list)[-11:]  # liste metotları"
      ],
      "metadata": {
        "id": "YwL4vmLhW_Wb"
      },
      "execution_count": null,
      "outputs": []
    },
    {
      "cell_type": "code",
      "source": [
        "dir(tuple)[-2:]  # tuple metotları"
      ],
      "metadata": {
        "id": "TdQX4KtYXSGQ"
      },
      "execution_count": null,
      "outputs": []
    },
    {
      "cell_type": "code",
      "source": [
        "# tuple son elemanına erişim\n",
        "mix_tuple = (1,2,3,4,\"ali\", \"veli\", [3,4])\n",
        "mix_tuple[-1]"
      ],
      "metadata": {
        "id": "HnnNW4X_Xlh3"
      },
      "execution_count": null,
      "outputs": []
    },
    {
      "cell_type": "code",
      "source": [
        "#unpacking\n",
        "tuple1 = (1,2,3)\n",
        "a,b,c = tuple1\n",
        "print(a)\n",
        "print(b)\n",
        "print(c)"
      ],
      "metadata": {
        "id": "0BbDREr5X_oG"
      },
      "execution_count": null,
      "outputs": []
    },
    {
      "cell_type": "code",
      "source": [
        "tuple1 = (1,2,3,4,5,6)\n",
        "a,*b,c = tuple1\n",
        "print(a)\n",
        "print(b)  # liste olarak açılır\n",
        "print(c)"
      ],
      "metadata": {
        "id": "RC5b7iwHYWOP"
      },
      "execution_count": null,
      "outputs": []
    },
    {
      "cell_type": "markdown",
      "source": [
        "#Dict Yapısı"
      ],
      "metadata": {
        "id": "3G7nAfKoPH-m"
      }
    },
    {
      "cell_type": "code",
      "source": [
        "bos_sozluk  = {}\n",
        "bos_sozluk2 = dict()\n",
        "print(bos_sozluk)\n",
        "print(bos_sozluk2)"
      ],
      "metadata": {
        "id": "KYORIIqTZTiI"
      },
      "execution_count": null,
      "outputs": []
    },
    {
      "cell_type": "code",
      "source": [
        "dolu_sozluk  = {\"a\":1, \"b\":2}  # key:value\n",
        "dolu_sozluk2 = dict(a=1, b=2)  # key isimlerinde değişken tanımlama kurallarına uymalıyız\n",
        "print(dolu_sozluk)\n",
        "print(dolu_sozluk2)"
      ],
      "metadata": {
        "id": "7ZEQdprlZZXH"
      },
      "execution_count": null,
      "outputs": []
    },
    {
      "cell_type": "code",
      "source": [
        "dolu_sozluk  = {\"elif\":1, \"bade\":2}  # key:value\n",
        "dolu_sozluk2 = dict(elif=1, bade=2)  # key isimlerinde değişken tanımlama kurallarına uymalıyız\n",
        "print(dolu_sozluk)\n",
        "print(dolu_sozluk2)"
      ],
      "metadata": {
        "id": "nkVUjT1zaLNI"
      },
      "execution_count": null,
      "outputs": []
    },
    {
      "cell_type": "code",
      "source": [
        "# dict yapısında elemanlara erişim key kullanılır, indis kullanılmaz\n",
        "sozluk = {\"a\":1, \"b\":2}\n",
        "print(sozluk[\"a\"])"
      ],
      "metadata": {
        "id": "GqyqgpyxZ6hr"
      },
      "execution_count": null,
      "outputs": []
    },
    {
      "cell_type": "code",
      "source": [
        "# dict unordered veri yapısıdır. hepside aynıdır\n",
        "a = dict(one=1, two=2, three=3)\n",
        "b = {'one': 1, 'two': 2, 'three': 3}\n",
        "c = dict(zip(['one', 'two', 'three'], [1, 2, 3]))\n",
        "d = dict([('two', 2), ('one', 1), ('three', 3)])\n",
        "e = dict({'three': 3, 'one': 1, 'two': 2})\n",
        "f = dict({'one': 1, 'three': 3}, two=2)\n",
        "a == b == c == d == e == f"
      ],
      "metadata": {
        "id": "DX00su_0aiWO"
      },
      "execution_count": null,
      "outputs": []
    },
    {
      "cell_type": "markdown",
      "source": [
        "# Sözlük yapısında döngü kullanımı"
      ],
      "metadata": {
        "id": "v_gAoZDfN1nM"
      }
    },
    {
      "cell_type": "code",
      "execution_count": null,
      "metadata": {
        "id": "NyXxTR-UL-X2"
      },
      "outputs": [],
      "source": [
        "user = {\n",
        "\t'name':'Daniel',\n",
        "\t'surname':'Smith',\n",
        "\t'age':35\n",
        "}\n",
        "\n",
        "for attribute in user:  # key'lere erişiriz...\n",
        "\tprint(attribute)"
      ]
    },
    {
      "cell_type": "code",
      "execution_count": null,
      "metadata": {
        "id": "5YKZxFlwMf4Y"
      },
      "outputs": [],
      "source": [
        "user = {\n",
        "\t'name':'Daniel',\n",
        "\t'surname':'Smith',\n",
        "\t'age':35\n",
        "}\n",
        "\n",
        "for attribute in user.values():  # value lere erişiriz...\n",
        "\tprint(attribute, end=\" \")"
      ]
    },
    {
      "cell_type": "code",
      "execution_count": null,
      "metadata": {
        "id": "4ClO6m7KMCU3"
      },
      "outputs": [],
      "source": [
        "user = {\n",
        "\t'name':'Daniel',\n",
        "\t'surname':'Smith',\n",
        "\t'age':35\n",
        "}\n",
        "\n",
        "for k, v in user.items():  # key:value'lara erişiriz...\n",
        "\tprint(k,\"->\",v)"
      ]
    },
    {
      "cell_type": "code",
      "execution_count": null,
      "metadata": {
        "id": "IOaFvTCBM2xJ"
      },
      "outputs": [],
      "source": [
        "user = {\n",
        "\t'name':'Daniel',\n",
        "\t'surname':'Smith',\n",
        "\t'age':35\n",
        "}\n",
        "\n",
        "for k, v in user.items():  # key:value'lara erişiriz...\n",
        "\tprint(v,\"->\",k)"
      ]
    },
    {
      "cell_type": "code",
      "source": [
        "user = {\n",
        "\t'name':'Daniel',\n",
        "\t'surname':'Smith',\n",
        "\t'age':35\n",
        "}\n",
        "print(user)\n",
        "# sozluğu reverse etme\n",
        "tersi = dict(reversed(user.items()))\n",
        "print(tersi)"
      ],
      "metadata": {
        "id": "B0eo4vfmbH84"
      },
      "execution_count": null,
      "outputs": []
    },
    {
      "cell_type": "code",
      "source": [
        "# bir sözlük [tr:en] oluşturalım, arama, silme gibi işlemler yapalım\n",
        "tr_en = {\"kitap\":\"book\", \"bilgisayar\":\"computer\", \"kalem\":\"pen\"}\n",
        "print(tr_en)\n",
        "# sözlükte arama işlemi\n",
        "aranan = input(\"Türkçe Kelime..: \")\n",
        "print(tr_en.get(aranan, \"Bu kelime sözlükte yok\"))"
      ],
      "metadata": {
        "id": "NCO3rQc_cHSd"
      },
      "execution_count": null,
      "outputs": []
    },
    {
      "cell_type": "code",
      "source": [
        "# Silme işlemi\n",
        "# sözlükte arama işlemi\n",
        "silinen = input(\"Silmek iistediğiniz Kelime..: \")\n",
        "print(tr_en.pop(silinen, \"Bu kelime sözlükte yok\"))\n",
        "print(tr_en)\n"
      ],
      "metadata": {
        "id": "hIqTlMyHcrLD"
      },
      "execution_count": null,
      "outputs": []
    },
    {
      "cell_type": "code",
      "source": [
        "# sözlükten çoklu değer silme\n",
        "tr_en = {\"kitap\":\"book\", \"bilgisayar\":\"computer\", \"kalem\":\"pen\"}\n",
        "print(tr_en)\n",
        "del tr_en[\"kitap\"], tr_en[\"bilgisayar\"]\n",
        "print(tr_en)"
      ],
      "metadata": {
        "id": "mjWpzMLJdOuI"
      },
      "execution_count": null,
      "outputs": []
    },
    {
      "cell_type": "code",
      "source": [
        "# Sözlüğü tabloya dönüştürme: 1\n",
        "personel = {\n",
        "    \"ad\" : [\"ali\", \"veli\", \"seda\"],\n",
        "    \"yas\": [23,45, 34],\n",
        "    \"bolum\": [\"pazarlama\", \"IT\", \"satış\"]\n",
        "}\n",
        "print(personel)\n",
        "import pandas as pd\n",
        "df = pd.DataFrame(personel)\n",
        "print(df)"
      ],
      "metadata": {
        "id": "u96CyV-Ydkx5"
      },
      "execution_count": null,
      "outputs": []
    },
    {
      "cell_type": "code",
      "source": [
        "df"
      ],
      "metadata": {
        "id": "SeoIJfALeNYo"
      },
      "execution_count": null,
      "outputs": []
    },
    {
      "cell_type": "code",
      "source": [
        "# Sözlüğü tabloya dönüştürme: 2\n",
        "personel = {\n",
        "    \"ad\" : [\"ali\", \"veli\", \"seda\"],\n",
        "    \"yas\": [23,45, 34],\n",
        "    \"bolum\": [\"pazarlama\", \"IT\", \"satış\"]\n",
        "}\n",
        "#print(personel)\n",
        "import tabulate as tb\n",
        "tablo = tb.tabulate(personel, headers=\"keys\")\n",
        "print(tablo)"
      ],
      "metadata": {
        "id": "TkQ-AVwweaxp"
      },
      "execution_count": null,
      "outputs": []
    },
    {
      "cell_type": "code",
      "source": [
        "# nested dict yapısı\n",
        "yakinim = {\n",
        "    'arkadas': {\n",
        "        'arkadas1': {'ad':'ali', 'yas':23},\n",
        "        'arkadas2': {'ad':'veli', 'yas':45}\n",
        "    },\n",
        "    'aile': {\n",
        "        'aile1': {'ad':'seda', 'yas':33},\n",
        "        'aile2': {'ad':'selma', 'yas':44}\n",
        "    }\n",
        "}\n",
        "# selma'nın yaşına nasıl erişirim?\n",
        "print(yakinim[\"aile\"][\"aile2\"][\"yas\"])"
      ],
      "metadata": {
        "id": "euh9Lf6yh1Bg"
      },
      "execution_count": null,
      "outputs": []
    },
    {
      "cell_type": "code",
      "source": [
        "# Sözlükte min-max işlemleri\n",
        "sozluk = {\"a\":10, \"b\":20, \"c\":30, \"d\":40, 'e':5}\n",
        "print(\"En yüksek nota sahip kişi:\", max(sozluk, key=sozluk.get))\n",
        "print(\"En düşük nota sahip kişi:\", min(sozluk, key=sozluk.get))"
      ],
      "metadata": {
        "id": "Rdu_52lwjCPs"
      },
      "execution_count": null,
      "outputs": []
    },
    {
      "cell_type": "code",
      "source": [
        "# Sözlükte min-max işlemleri\n",
        "sozluk = {\"a\":10, \"b\":20, \"c\":30, \"d\":40, 'e':5}\n",
        "print(\"En yüksek nota sahip kişi:\", max(sozluk.values()))\n",
        "print(\"En düşük nota sahip kişi:\", min(sozluk.values()))"
      ],
      "metadata": {
        "id": "6NW1xy0bjaW3"
      },
      "execution_count": null,
      "outputs": []
    },
    {
      "cell_type": "markdown",
      "source": [
        "#Set (Küme)"
      ],
      "metadata": {
        "id": "wPCmgOBjj7ty"
      }
    },
    {
      "cell_type": "code",
      "source": [
        "bos_kume = set()\n",
        "bos_kume"
      ],
      "metadata": {
        "id": "VNCvATCqj-Hz"
      },
      "execution_count": null,
      "outputs": []
    },
    {
      "cell_type": "code",
      "source": [
        "kume = {1,2,3,4,5,6,2,3,4}\n",
        "kume"
      ],
      "metadata": {
        "id": "ILCphAZskCUM"
      },
      "execution_count": null,
      "outputs": []
    },
    {
      "cell_type": "code",
      "source": [
        "kume1 = set(\"mecidiye\")\n",
        "kume2 = set(\"selimiye\")\n",
        "birlesimi = kume1.union(kume2)\n",
        "print(birlesimi)"
      ],
      "metadata": {
        "id": "rl54_8Y4kmdY"
      },
      "execution_count": null,
      "outputs": []
    },
    {
      "cell_type": "code",
      "source": [
        "farki = kume1.difference(kume2) # küme1 de olup küme2 de olmayanlar\n",
        "print(farki)"
      ],
      "metadata": {
        "id": "TAHlMO_Mkx5z"
      },
      "execution_count": null,
      "outputs": []
    },
    {
      "cell_type": "code",
      "source": [
        "kesisim = kume1.intersection(kume2)\n",
        "print(kesisim)"
      ],
      "metadata": {
        "id": "p0r6zW8Zk8U2"
      },
      "execution_count": null,
      "outputs": []
    },
    {
      "cell_type": "code",
      "source": [
        "# Bir datasetindeki kayıp datayı/veriyi nasıl bulabiliriz\n",
        "data_seti = [2,1,3,5,4,6,8,10,9]\n",
        "sirali_data = sorted(data_seti)\n",
        "print(sirali_data)\n",
        "kayip_data = set(range(1,11)).difference(sirali_data)\n",
        "print(kayip_data)"
      ],
      "metadata": {
        "id": "73u8zgnllVOc"
      },
      "execution_count": null,
      "outputs": []
    },
    {
      "cell_type": "code",
      "source": [
        "my_set = {1,2,3}\n",
        "my_set.add(4)  # set: mutable\n",
        "my_set"
      ],
      "metadata": {
        "id": "rduvXkzkl0ci"
      },
      "execution_count": null,
      "outputs": []
    },
    {
      "cell_type": "code",
      "source": [
        "my_set = {1,2,3}\n",
        "dondurulmus_kume = frozenset(my_set)  # frozenset: immutable\n",
        "dondurulmus_kume.add(4)"
      ],
      "metadata": {
        "id": "98RIc2kdl32S"
      },
      "execution_count": null,
      "outputs": []
    },
    {
      "cell_type": "code",
      "source": [
        "# filter()\n",
        "name_list = [\"ad\", \"do\", \"ali\", \"veli\", \"ahmet\", \"if\", \"elif\"]\n",
        "import keyword\n",
        "filter(keyword.iskeyword, name_list)"
      ],
      "metadata": {
        "id": "O70KYr5vmq0T"
      },
      "execution_count": null,
      "outputs": []
    },
    {
      "cell_type": "code",
      "source": [
        "# filter()\n",
        "name_list = [\"ad\", \"do\", \"ali\", \"veli\", \"ahmet\", \"if\", \"elif\"]\n",
        "import keyword\n",
        "list(filter(keyword.iskeyword, name_list))"
      ],
      "metadata": {
        "id": "_3MI1pMtnDFF"
      },
      "execution_count": null,
      "outputs": []
    },
    {
      "cell_type": "code",
      "source": [
        "listem = [0,1,\"0.0\", (), [], None, \"ali\", 555]\n",
        "# Falsy değerleri kaldıralım listeden\n",
        "list(filter(None, listem))"
      ],
      "metadata": {
        "id": "74z-wZLAnaNn"
      },
      "execution_count": null,
      "outputs": []
    },
    {
      "cell_type": "code",
      "source": [
        "# map : birebir eşlem yapar ve girdi sayısı kadar çıktı üretir.\n",
        "listem = [(1,3,4,0), \"ali\", {'a':1, 'b':3}, [1,2,3,4,6]]\n",
        "list(map(len,listem))"
      ],
      "metadata": {
        "id": "-i7E97R6oJso"
      },
      "execution_count": null,
      "outputs": []
    },
    {
      "cell_type": "code",
      "source": [
        "# reduce(): bir iterable dan tek br değer/sonuç üretmek istendiğinde kullanılır\n",
        "def carp(a,b):\n",
        "    return a*b\n",
        "from functools import reduce\n",
        "listem = [1,2,3,4,5]\n",
        "reduce(carp, listem)"
      ],
      "metadata": {
        "id": "dMrfyDbxpAjJ"
      },
      "execution_count": null,
      "outputs": []
    },
    {
      "cell_type": "code",
      "source": [
        "# reduce(): bir iterable dan tek br değer/sonuç üretmek istendiğinde kullanılır\n",
        "from functools import reduce\n",
        "listem = [1,2,3,4,5]\n",
        "reduce(lambda a,b: a*b, listem)"
      ],
      "metadata": {
        "id": "-woYWX9lor9S"
      },
      "execution_count": null,
      "outputs": []
    },
    {
      "cell_type": "markdown",
      "source": [
        "# enumerate (numaralandırma)"
      ],
      "metadata": {
        "id": "4JfM8foqN7R-"
      }
    },
    {
      "cell_type": "code",
      "execution_count": null,
      "metadata": {
        "id": "QBMH0j_lNDh3"
      },
      "outputs": [],
      "source": [
        "print(help(enumerate))"
      ]
    },
    {
      "cell_type": "code",
      "execution_count": null,
      "metadata": {
        "id": "DZ3jyqfCNV2a"
      },
      "outputs": [],
      "source": [
        "listem = [\"Pazartesi\", \"Salı\", \"Çarşamba\", \"Perşembe\", \"Cuma\", \"Cumartesi\", \"Pazar\"]\n",
        "list(enumerate(listem, start=1))"
      ]
    },
    {
      "cell_type": "code",
      "execution_count": null,
      "metadata": {
        "id": "rkpZrQpRN0dt"
      },
      "outputs": [],
      "source": [
        "listem = [\"Pazartesi\", \"Salı\", \"Çarşamba\", \"Perşembe\", \"Cuma\",\"Cumartesi\", \"Pazar\"]\n",
        "for i, gun in list(enumerate(listem, start=1)):\n",
        "    print(f\"{i}.gün.: {gun}\")"
      ]
    },
    {
      "cell_type": "code",
      "source": [
        "listem = [\"Ali\", \"Sali\", \"bade\", \"Pembe\", \"Cuma\", \"Pazar\"]\n",
        "for i, gun in list(enumerate(listem, start=10)):\n",
        "    print(f\"CSE{i}: {gun}\")"
      ],
      "metadata": {
        "id": "pJzEj0M9pugh"
      },
      "execution_count": null,
      "outputs": []
    },
    {
      "cell_type": "code",
      "source": [
        "# zip() :: iki farklı veri yapısını birleştirir\n",
        "liste1 = [1,2,3,4,5]\n",
        "liste2 = [\"a\", \"b\", \"c\", \"d\", \"e\"]\n",
        "list(zip(liste1, liste2))"
      ],
      "metadata": {
        "id": "nk1IO70jqCMF"
      },
      "execution_count": null,
      "outputs": []
    },
    {
      "cell_type": "code",
      "source": [
        "dict(zip(liste1, liste2))"
      ],
      "metadata": {
        "id": "S-_KAAhdqJwF"
      },
      "execution_count": null,
      "outputs": []
    },
    {
      "cell_type": "markdown",
      "source": [
        "# Lambda ifadeleri:\n",
        "Anonim fonksiyonlar oluşturmak için kullanılır"
      ],
      "metadata": {
        "id": "KylzZo2hqRug"
      }
    },
    {
      "cell_type": "code",
      "source": [
        "def carp(a,b):\n",
        "    return a*b\n",
        "\n",
        "# çağıralım\n",
        "carp(3,5)"
      ],
      "metadata": {
        "id": "IorzzIPlqZ-o"
      },
      "execution_count": null,
      "outputs": []
    },
    {
      "cell_type": "code",
      "source": [
        "(lambda a,b: a*b) (3,5)"
      ],
      "metadata": {
        "id": "bteyuTCjqnP0"
      },
      "execution_count": null,
      "outputs": []
    },
    {
      "cell_type": "code",
      "source": [
        "def tek_cift(i):\n",
        "    if i%2:\n",
        "        return \"tek\"\n",
        "    else:\n",
        "        return \"çift\"\n",
        "#çağırma\n",
        "tek_cift(4)"
      ],
      "metadata": {
        "id": "PSJrkIAgrIbS"
      },
      "execution_count": null,
      "outputs": []
    },
    {
      "cell_type": "code",
      "source": [
        "tek_cift(41)"
      ],
      "metadata": {
        "id": "lJZxWqOPrYCW"
      },
      "execution_count": null,
      "outputs": []
    },
    {
      "cell_type": "code",
      "source": [
        "(lambda i: \"tek\" if i%2 else \"çift\") (4)"
      ],
      "metadata": {
        "id": "aBzDl1RmrbMt"
      },
      "execution_count": null,
      "outputs": []
    },
    {
      "cell_type": "code",
      "source": [
        "# 1-7 arası sayıların karesini alma\n",
        "list(map(lambda a: a**2, range(1,7)))"
      ],
      "metadata": {
        "id": "uPn_Mnshr4Iz"
      },
      "execution_count": null,
      "outputs": []
    },
    {
      "cell_type": "code",
      "source": [
        "# 1-7 arası sayılardan çiftleri filtrele\n",
        "list(filter(lambda a: a%2==0, range(1,7)))"
      ],
      "metadata": {
        "id": "nqAdoOl4sMT9"
      },
      "execution_count": null,
      "outputs": []
    },
    {
      "cell_type": "markdown",
      "source": [
        "# Liste üreteçleri"
      ],
      "metadata": {
        "id": "piR_42AZskc2"
      }
    },
    {
      "cell_type": "code",
      "source": [
        "listem = [i for i in range(10)]\n",
        "listem"
      ],
      "metadata": {
        "id": "DYLTJUEZsmTN"
      },
      "execution_count": null,
      "outputs": []
    },
    {
      "cell_type": "code",
      "source": [
        "cift_listem = [i for i in range(10) if i%2==0]\n",
        "cift_listem"
      ],
      "metadata": {
        "id": "Ljg3yXe5s3Oo"
      },
      "execution_count": null,
      "outputs": []
    },
    {
      "cell_type": "code",
      "source": [
        "[i for i in range(100,0,-10)]"
      ],
      "metadata": {
        "id": "5fFxZRZLtNGv"
      },
      "execution_count": null,
      "outputs": []
    },
    {
      "cell_type": "code",
      "source": [
        "cumle = \"Ali topu at\"\n",
        "# sesli harfleri listeye dönüştürüp çıkaralım\n",
        "list_cumle = list(cumle)\n",
        "sesli_harfler = \"aeıioöuü \"\n",
        "for harf in cumle:\n",
        "    if harf in sesli_harfler:\n",
        "        list_cumle.remove(harf)\n",
        "print(list_cumle)\n",
        "temiz_cumle= \"\".join(list_cumle)\n",
        "print(temiz_cumle)"
      ],
      "metadata": {
        "id": "jtGuFsPDtb12"
      },
      "execution_count": null,
      "outputs": []
    },
    {
      "cell_type": "code",
      "source": [
        "sessiz_harfler = [i for i in cumle if i not in sesli_harfler]\n",
        "\"\".join(sessiz_harfler)"
      ],
      "metadata": {
        "id": "EFdziyGntmI2"
      },
      "execution_count": null,
      "outputs": []
    },
    {
      "cell_type": "code",
      "source": [
        "# dict üreteci\n",
        "ciftler = {'bay': [\"joe\", \"eric\", \"robert\"],\n",
        "           'bayan': [\"julia\", \"maria\", \"linda\"]}\n",
        "evli_ciftler = {k:v for k,v in zip(ciftler['bay'], ciftler['bayan'])}\n",
        "evli_ciftler\n"
      ],
      "metadata": {
        "id": "eRdcgtl5uHSI"
      },
      "execution_count": null,
      "outputs": []
    },
    {
      "cell_type": "code",
      "source": [
        "# küme üreteci\n",
        "{i for i in \"abracadabra\" if i not in \"abc\"}"
      ],
      "metadata": {
        "id": "k9uwRFCovDql"
      },
      "execution_count": null,
      "outputs": []
    }
  ],
  "metadata": {
    "colab": {
      "private_outputs": true,
      "provenance": []
    },
    "kernelspec": {
      "display_name": "Python 3",
      "name": "python3"
    },
    "language_info": {
      "codemirror_mode": {
        "name": "ipython",
        "version": 3
      },
      "file_extension": ".py",
      "mimetype": "text/x-python",
      "name": "python",
      "nbconvert_exporter": "python",
      "pygments_lexer": "ipython3",
      "version": "3.12.3"
    }
  },
  "nbformat": 4,
  "nbformat_minor": 0
}